{
 "cells": [
  {
   "cell_type": "code",
   "execution_count": 1,
   "metadata": {},
   "outputs": [],
   "source": [
    "import awkward as ak\n",
    "import numpy as np\n",
    "import pickle as pkl\n",
    "import hist \n",
    "import matplotlib.pyplot as plt\n",
    "import mplhep as hep\n",
    "import uproot\n",
    "\n",
    "import os\n",
    "from numba import njit\n",
    "\n",
    "hep.style.use('CMS')"
   ]
  },
  {
   "cell_type": "code",
   "execution_count": 31,
   "metadata": {},
   "outputs": [],
   "source": [
    "import fastjet as fj\n",
    "import awkward as ak\n",
    "import pickle as pkl\n",
    "import numpy as np\n",
    "import vector\n",
    "import matplotlib.pyplot as plt\n",
    "import hist\n",
    "import mplhep as hep\n",
    "\n",
    "import os\n",
    "\n",
    "vector.register_awkward()"
   ]
  },
  {
   "cell_type": "markdown",
   "metadata": {},
   "source": [
    "in addition to cross sections store whether event contains Z and b and c\n",
    "\n",
    "add compress option to pythia function\n",
    "\n",
    "add substructure observables"
   ]
  },
  {
   "cell_type": "code",
   "execution_count": null,
   "metadata": {},
   "outputs": [],
   "source": [
    "class PythiaAnalyzer:\n",
    "    # analyze events\n",
    "    # cluster jets\n",
    "    # find events with b quarks, get event nums? for tagging\n",
    "    # have work on a batch and then have separate multiproc set up\n",
    "    # make kinematic plots?"
   ]
  },
  {
   "cell_type": "code",
   "execution_count": null,
   "metadata": {},
   "outputs": [],
   "source": [
    "def cluster_jets(particles, radius=0.4, min_pt=2.5, cluster_algo=fj.antikt_algorithm):\n",
    "    '''\n",
    "    particles: \n",
    "    radius: \n",
    "    min_pt: \n",
    "    cluster_algo: \n",
    "    '''\n",
    "    \n",
    "    jet_def = fj.JetDefinition(cluster_algo, radius)\n",
    "    cluster = fj.ClusterSequence(particles, jet_def)\n",
    "\n",
    "    jets = cluster.inclusive_jets(min_pt=min_pt)\n",
    "    constituents = cluster.constituents(min_pt=min_pt)\n",
    "    \n",
    "    return jets, constituents"
   ]
  },
  {
   "cell_type": "code",
   "execution_count": null,
   "metadata": {},
   "outputs": [],
   "source": [
    "pairs = ak.cartesian((jets, constituents), axis=2)\n",
    "jet_axes, _ = ak.unzip(pairs)\n",
    "\n",
    "delta_phi = jet_axes.phi - constituents.phi\n",
    "delta_eta = jet_axes.eta - constituents.eta\n",
    "\n",
    "delta_R = np.sqrt(delta_phi**2 + delta_eta**2)\n",
    "girth = ak.sum(constituents.pt * delta_R, axis=2) / jets.pt"
   ]
  },
  {
   "cell_type": "code",
   "execution_count": null,
   "metadata": {},
   "outputs": [],
   "source": [
    "descending_pt = ak.argsort(constituents.pt, axis=2, ascending=False)\n",
    "\n",
    "masked_con = ak.mask(constituents[descending_pt], ak.num(constituents, axis=2) > 1)\n",
    "ls =masked_con[:, :, :1].pt - masked_con[:, :, 1:2].pt\n",
    "jets['lesub'] = ls"
   ]
  },
  {
   "cell_type": "code",
   "execution_count": 33,
   "metadata": {},
   "outputs": [
    {
     "data": {
      "text/plain": [
       "'te'"
      ]
     },
     "execution_count": 33,
     "metadata": {},
     "output_type": "execute_result"
    }
   ],
   "source": [
    "x = 'test'\n",
    "x[:-2]"
   ]
  },
  {
   "cell_type": "code",
   "execution_count": 38,
   "metadata": {},
   "outputs": [],
   "source": [
    "NUM_RUNS = 4\n",
    "RAW_DATA_DIRS = [f'/Users/ravikoka/repos/z_plus_hf/feasibility/data/multi/run{i}/' for i in range(NUM_RUNS)]\n",
    "\n",
    "for i, dir in enumerate(RAW_DATA_DIRS):\n",
    "    for file in os.listdir(dir):\n",
    "    \n",
    "        with open(dir + file, 'rb') as in_file:\n",
    "            events, sig, err = pkl.load(in_file)\n",
    "            \n",
    "            ak.to_parquet(events, f'/Users/ravikoka/repos/z_plus_hf/feasibility/parquet_test/run{i}/'+file[:-3] + 'parquet')"
   ]
  },
  {
   "cell_type": "code",
   "execution_count": 44,
   "metadata": {},
   "outputs": [],
   "source": [
    "NUM_RUNS = 4\n",
    "RAW_DATA_DIRS = [f'/Users/ravikoka/repos/z_plus_hf/feasibility/parquet_test/run{i}/' for i in range(NUM_RUNS)]\n",
    "\n",
    "for i, dir in enumerate(RAW_DATA_DIRS):\n",
    "    for file in os.listdir(dir):\n",
    "        events = ak.from_parquet(f'/Users/ravikoka/repos/z_plus_hf/feasibility/parquet_test/run{i}/'+file)\n",
    "        #with open(dir + file, 'rb') as in_file:\n",
    "            #events, sig, err = pkl.load(in_file)"
   ]
  },
  {
   "cell_type": "code",
   "execution_count": 46,
   "metadata": {},
   "outputs": [],
   "source": [
    "NUM_RUNS = 4\n",
    "RAW_DATA_DIRS = [f'/Users/ravikoka/repos/z_plus_hf/feasibility/data/multi/run{i}/' for i in range(NUM_RUNS)]\n",
    "\n",
    "for i, dir in enumerate(RAW_DATA_DIRS):\n",
    "    for file in os.listdir(dir):\n",
    "    \n",
    "        with open(dir + file, 'rb') as in_file:\n",
    "            events, _, _ = pkl.load(in_file)"
   ]
  },
  {
   "cell_type": "code",
   "execution_count": 45,
   "metadata": {},
   "outputs": [
    {
     "data": {
      "text/html": [
       "<pre>[{px: [0, 0, 0, ..., 0.0557, 0.0627], py: [0, ...], pz: [...], E: [...], ...},\n",
       " {px: [0, 0, 0, ..., -0.0736, -0.0277], py: [0, ...], pz: [...], E: [...], ...},\n",
       " {px: [0, 0, 0, ..., 11.5, 3.44, 8.04], py: [0, ..., 0.537], pz: [...], ...},\n",
       " {px: [0, 0, 0, ..., 0.0554, 0.227], py: [0, ..., -0.244], pz: [...], ...},\n",
       " {px: [0, 0, 0, ..., 0.0376, 0.708], py: [0, ..., 0.378], pz: [...], ...},\n",
       " {px: [0, 0, 0, ..., 0.00295, -0.0815], py: [0, ..., 0.102], pz: [...], ...},\n",
       " {px: [0, 0, 0, ..., -0.212, -0.0326], py: [0, ...], pz: [...], E: [...], ...},\n",
       " {px: [0, 0, 0, ..., -1.78, -0.308], py: [0, ..., 0.0704], pz: [...], ...},\n",
       " {px: [0, 0, 0, ..., -0.0828, -0.0391], py: [0, ...], pz: [...], E: [...], ...},\n",
       " {px: [0, 0, 0, ..., 0.143, 0.249], py: [0, ..., 0.532], pz: [...], ...},\n",
       " ...,\n",
       " {px: [0, 0, 0, ..., 0.244, 0.0494], py: [0, ...], pz: [...], E: [...], ...},\n",
       " {px: [0, 0, 0, ..., 0.076, 0.0771], py: [0, ..., 0.0617], pz: [...], ...},\n",
       " {px: [0, 0, 0, ..., -0.000722, -0.0244], py: [0, ...], pz: [...], E: ..., ...},\n",
       " {px: [0, 0, 0, ..., 9.95, 0.234, 0.179], py: [0, ...], pz: [...], E: ..., ...},\n",
       " {px: [0, 0, 0, ..., 0.0789, 0.104], py: [0, ..., 0.0253], pz: [...], ...},\n",
       " {px: [0, 0, 0, ..., -4.74, -10.3], py: [0, ..., -7.05], pz: [...], ...},\n",
       " {px: [0, 0, 0, ..., 0.0451, 0.0431], py: [0, ...], pz: [...], E: [...], ...},\n",
       " {px: [0, 0, 0, ..., -0.137, -0.0831], py: [0, ...], pz: [...], E: [...], ...},\n",
       " {px: [0, 0, 0, ..., 1.32, 0.478, 0.556], py: [0, ...], pz: [...], E: ..., ...}]\n",
       "----------------------------------------------------------------------------------------------------------------------------------------------------------------------------------------------------------------------------------------------------------------\n",
       "backend: cpu\n",
       "nbytes: 46.1 MB\n",
       "type: 500 * {\n",
       "    px: var * float64,\n",
       "    py: var * float64,\n",
       "    pz: var * float64,\n",
       "    E: var * float64,\n",
       "    pdg: var * int64,\n",
       "    gen_status: var * int64,\n",
       "    mother_list: var * var * int64,\n",
       "    daughter_list: var * var * int64,\n",
       "    is_final: var * bool\n",
       "}</pre>"
      ],
      "text/plain": [
       "<Array [{px: [0, ...], py: [...], ...}, ...] type='500 * {px: var * float64...'>"
      ]
     },
     "execution_count": 45,
     "metadata": {},
     "output_type": "execute_result"
    }
   ],
   "source": [
    "events"
   ]
  },
  {
   "cell_type": "code",
   "execution_count": 41,
   "metadata": {},
   "outputs": [],
   "source": [
    "NUM_RUNS = 4\n",
    "RAW_DATA_DIRS = [f'/Users/ravikoka/repos/z_plus_hf/feasibility/data/multi/run{i}/' for i in range(NUM_RUNS)]\n",
    "\n",
    "for i, dir in enumerate(RAW_DATA_DIRS):\n",
    "    for file in os.listdir(dir):\n",
    "    \n",
    "        with open(dir + file, 'rb') as in_file:\n",
    "            events, sig, err = pkl.load(in_file)\n",
    "        \n",
    "        with open(f'/Users/ravikoka/repos/z_plus_hf/feasibility/pickle_test/run{i}/'+file, 'wb') as out_file:\n",
    "            pkl.dump(events, out_file)\n",
    "            #ak.to_parquet(events, f'/Users/ravikoka/repos/z_plus_hf/feasibility/parquet_test/run{i}/'+file[:-3] + 'parquet')"
   ]
  },
  {
   "cell_type": "code",
   "execution_count": 11,
   "metadata": {},
   "outputs": [],
   "source": [
    "with open('../RaviTest.pkl', 'rb') as f:\n",
    "    ak_particle_list = pkl.load(f)"
   ]
  },
  {
   "cell_type": "code",
   "execution_count": 13,
   "metadata": {},
   "outputs": [],
   "source": [
    "def fastjet_antikt_clustering(particle_list):\n",
    "    jetdef = fastjet.JetDefinition(fastjet.antikt_algorithm, 0.4) # Anti-kT Clustering with R = 0.1\n",
    "    vector.register_awkward()\n",
    "    jpt=[];jpx=[];jpy=[];jpz=[];jE=[];jeta=[];jphi=[];cpt=[];ceta=[];cphi=[];cpx=[];cpy=[];cpz=[];cmass=[];ccharge=[];cmother=[]\n",
    "    # delr=[];\n",
    "    pdg=[]; Event_counter = []\n",
    "    num_events = len(particle_list)\n",
    "    batches = ak.Array([i for i in range(num_events) if i%1000==0])\n",
    "    batches = ak.concatenate([batches,num_events])\n",
    "    for i in range(len(batches)):\n",
    "        if i+1 < len(batches):\n",
    "            partial_list=ak.Array(particle_list[batches[i]:batches[i+1]],with_name=\"Momentum4D\")\n",
    "            partial_cluster=fastjet.ClusterSequence(partial_list, jetdef)\n",
    "            jpt_cut=10\n",
    "            jet_output=partial_cluster.inclusive_jets(min_pt=jpt_cut)\n",
    "            jpx.append(ak.Array(jet_output,with_name=\"Momentum4D\").px)\n",
    "            jpy.append(ak.Array(jet_output,with_name=\"Momentum4D\").py)\n",
    "            jpz.append(ak.Array(jet_output,with_name=\"Momentum4D\").pz)\n",
    "            jE.append(ak.Array(jet_output,with_name=\"Momentum4D\").E)\n",
    "            jpt.append(ak.Array(jet_output,with_name=\"Momentum4D\").pt)\n",
    "            jeta.append(ak.Array(jet_output,with_name=\"Momentum4D\").eta) #PSEUDORAPIDITY\n",
    "            jphi.append(ak.Array(jet_output,with_name=\"Momentum4D\").phi)\n",
    "            \n",
    "            constituent_output=partial_cluster.constituents(min_pt=jpt_cut)\n",
    "            cpt_cut=0.2 ##\n",
    "\n",
    "            cpt.append(([constituent_output[i][\"pt\"][constituent_output[i][\"pt\"]>cpt_cut] for i in range(len(constituent_output))]))\n",
    "            ceta.append([constituent_output[i][\"eta\"][constituent_output[i][\"pt\"]>cpt_cut] for i in range(len(constituent_output))])\n",
    "            cphi.append([constituent_output[i][\"phi\"][constituent_output[i][\"pt\"]>cpt_cut] for i in range(len(constituent_output))])\n",
    "            ccharge.append([constituent_output[i][\"charge\"][constituent_output[i][\"pt\"]>cpt_cut] for i in range(len(constituent_output))])\n",
    "            cmother.append([constituent_output[i][\"mp\"][constituent_output[i][\"pt\"]>cpt_cut] for i in range(len(constituent_output))])\n",
    "            # Event_counter.append([constituent_output[i][\"Event_Count\"][constituent_output[i][\"pt\"]>cpt_cut] for i in range(len(constituent_output))])\n",
    "            pdg.append([constituent_output[i][\"pdg\"][constituent_output[i][\"pt\"]>cpt_cut] for i in range(len(constituent_output))])\n",
    "    return ak.concatenate(jpt),ak.concatenate(jeta),ak.concatenate(jphi),ak.concatenate(cpt),ak.concatenate(ceta),ak.concatenate(cphi),ak.concatenate(ccharge),ak.concatenate(cmother),ak.concatenate(pdg)"
   ]
  },
  {
   "cell_type": "code",
   "execution_count": 14,
   "metadata": {},
   "outputs": [
    {
     "name": "stdout",
     "output_type": "stream",
     "text": [
      "#--------------------------------------------------------------------------\n",
      "#                         FastJet release 3.4.3\n",
      "#                 M. Cacciari, G.P. Salam and G. Soyez                  \n",
      "#     A software package for jet finding and analysis at colliders      \n",
      "#                           http://fastjet.fr                           \n",
      "#\t                                                                      \n",
      "# Please cite EPJC72(2012)1896 [arXiv:1111.6097] if you use this package\n",
      "# for scientific work and optionally PLB641(2006)57 [hep-ph/0512210].   \n",
      "#                                                                       \n",
      "# FastJet is provided without warranty under the GNU GPL v2 or higher.  \n",
      "# It uses T. Chan's closest pair algorithm, S. Fortune's Voronoi code,\n",
      "# CGAL and 3rd party plugin jet algorithms. See COPYING file for details.\n",
      "#--------------------------------------------------------------------------\n"
     ]
    },
    {
     "data": {
      "text/plain": [
       "(<Array [[], [11.7], [], [], ..., [], [], [], []] type='9999 * var * float64'>,\n",
       " <Array [[], [0.862], [], [], ..., [], [], [], []] type='9999 * var * float64'>,\n",
       " <Array [[], [1.24], [], [], ..., [], [], [], []] type='9999 * var * float64'>,\n",
       " <Array [[], [[2.08, ..., 0.707]], ..., [], []] type='9999 * var * var * flo...'>,\n",
       " <Array [[], [[0.89, ..., 0.736]], ..., [], []] type='9999 * var * var * flo...'>,\n",
       " <Array [[], [[1.24, 1.13, ..., 1.16]], ..., []] type='9999 * var * var * fl...'>,\n",
       " <Array [[], [[1, 1, -1, ..., 0, 0]], ..., []] type='9999 * var * var * float64'>,\n",
       " <Array [[], [[2, 2, 2, ..., 2, 2, 2]], ..., []] type='9999 * var * var * int64'>,\n",
       " <Array [[], [[211, 211, ..., 22, 22]], ..., []] type='9999 * var * var * int64'>)"
      ]
     },
     "execution_count": 14,
     "metadata": {},
     "output_type": "execute_result"
    }
   ],
   "source": [
    "fastjet_antikt_clustering(ak_particle_list)"
   ]
  },
  {
   "cell_type": "code",
   "execution_count": null,
   "metadata": {},
   "outputs": [],
   "source": [
    "fj.JetDefinition('')"
   ]
  },
  {
   "cell_type": "code",
   "execution_count": 15,
   "metadata": {},
   "outputs": [],
   "source": [
    "# https://arxiv.org/pdf/2007.03577 circlular histogram"
   ]
  },
  {
   "cell_type": "code",
   "execution_count": null,
   "metadata": {},
   "outputs": [],
   "source": [
    "#def read_pythia(dir):\n",
    "    "
   ]
  },
  {
   "cell_type": "code",
   "execution_count": 86,
   "metadata": {},
   "outputs": [],
   "source": [
    "RAW_DATA_DIR = '/Users/ravikoka/repos/z_plus_hf/feasibility/data/multi_test/run0/'"
   ]
  },
  {
   "cell_type": "code",
   "execution_count": 55,
   "metadata": {},
   "outputs": [],
   "source": [
    "SAMPLE_FILE = '/Users/ravikoka/repos/z_plus_hf/feasibility/data/multi_test/run0/pp_Z_production_13600_0.pkl'\n",
    "with open(SAMPLE_FILE, 'rb') as in_file:\n",
    "    events, sig, err = pkl.load(in_file)"
   ]
  },
  {
   "cell_type": "code",
   "execution_count": 17,
   "metadata": {},
   "outputs": [],
   "source": [
    "SAMPLE_FILE2 = '/Users/ravikoka/repos/z_plus_hf/feasibility/data/multi_test/run0/pp_Z_production_13600_0.pkl'\n",
    "with open(SAMPLE_FILE2, 'rb') as in_file:\n",
    "    events2, _, _ = pkl.load(in_file)"
   ]
  },
  {
   "cell_type": "code",
   "execution_count": 28,
   "metadata": {},
   "outputs": [],
   "source": [
    "def func():\n",
    "    SAMPLE_FILE2 = '/Users/ravikoka/repos/z_plus_hf/feasibility/data/multi_test/run0/pp_Z_production_13600_0.pkl'\n",
    "    with open(SAMPLE_FILE2, 'rb') as in_file:\n",
    "        events2, _, _ = pkl.load(in_file)\n",
    "    return events2 "
   ]
  },
  {
   "cell_type": "code",
   "execution_count": 19,
   "metadata": {},
   "outputs": [
    {
     "data": {
      "text/plain": [
       "<pyarrow._parquet.FileMetaData object at 0x1289ec4a0>\n",
       "  created_by: parquet-cpp-arrow version 19.0.1\n",
       "  num_columns: 9\n",
       "  num_rows: 500\n",
       "  num_row_groups: 1\n",
       "  format_version: 2.6\n",
       "  serialized_size: 0"
      ]
     },
     "execution_count": 19,
     "metadata": {},
     "output_type": "execute_result"
    }
   ],
   "source": [
    "ak.to_parquet(events2, \"arr_event_test2.parquet\")"
   ]
  },
  {
   "cell_type": "code",
   "execution_count": 25,
   "metadata": {},
   "outputs": [
    {
     "name": "stdout",
     "output_type": "stream",
     "text": [
      "36.4 ms ± 2.17 ms per loop (mean ± std. dev. of 7 runs, 10 loops each)\n"
     ]
    }
   ],
   "source": [
    "%timeit events = ak.from_parquet(\"/Users/ravikoka/repos/z_plus_hf/feasibility/arr_event_test2.parquet\")"
   ]
  },
  {
   "cell_type": "code",
   "execution_count": 29,
   "metadata": {},
   "outputs": [
    {
     "name": "stdout",
     "output_type": "stream",
     "text": [
      "11.7 ms ± 1.12 ms per loop (mean ± std. dev. of 7 runs, 100 loops each)\n"
     ]
    }
   ],
   "source": [
    "%timeit func()"
   ]
  },
  {
   "cell_type": "code",
   "execution_count": 20,
   "metadata": {},
   "outputs": [
    {
     "data": {
      "text/plain": [
       "<pyarrow._parquet.FileMetaData object at 0x11f341800>\n",
       "  created_by: parquet-cpp-arrow version 19.0.1\n",
       "  num_columns: 9\n",
       "  num_rows: 500\n",
       "  num_row_groups: 1\n",
       "  format_version: 2.6\n",
       "  serialized_size: 0"
      ]
     },
     "execution_count": 20,
     "metadata": {},
     "output_type": "execute_result"
    }
   ],
   "source": [
    "ak.to_parquet(events, \"arr_event_test.parquet\")"
   ]
  },
  {
   "cell_type": "code",
   "execution_count": 16,
   "metadata": {},
   "outputs": [],
   "source": [
    "eee = ak.from_parquet(\"/Users/ravikoka/repos/z_plus_hf/feasibility/arr_event_test.parquet\")"
   ]
  },
  {
   "cell_type": "code",
   "execution_count": 18,
   "metadata": {},
   "outputs": [
    {
     "data": {
      "text/html": [
       "<pre>[{px: -0.728, py: 2.43, pz: 6.88, E: 7.39, pdg: 2112, is_final: True, ...},\n",
       " {px: -0.934, py: -0.383, pz: 3.05, E: 3.22, pdg: 211, is_final: True, ...},\n",
       " {px: 1.37, py: 0.622, pz: 3.48, E: 3.79, pdg: -211, is_final: True, ...},\n",
       " {px: 0.371, py: 0.256, pz: 4.88, E: 4.9, pdg: 211, is_final: True, ...},\n",
       " {px: -0.0682, py: 0.464, pz: 5.08, E: 5.11, pdg: -211, is_final: True, ...},\n",
       " {px: 3.16, py: -1.32, pz: 16.2, E: 16.6, pdg: -211, is_final: True, ...},\n",
       " {px: 6.66, py: -1.83, pz: 37.8, E: 38.5, pdg: 321, is_final: True, ...},\n",
       " {px: 0.269, py: -0.634, pz: 5.37, E: 5.41, pdg: -211, is_final: True, ...},\n",
       " {px: 1.87, py: -0.398, pz: 7.61, E: 7.85, pdg: 211, is_final: True, ...},\n",
       " {px: -0.327, py: -0.256, pz: 1.36, E: 1.43, pdg: 211, is_final: True, ...},\n",
       " ...,\n",
       " {px: -0.109, py: -0.0597, pz: -0.666, E: 0.678, pdg: 22, is_final: True, ...},\n",
       " {px: 0.0173, py: 0.0272, pz: -0.394, E: 0.396, pdg: 22, is_final: True, ...},\n",
       " {px: 0.116, py: 0.178, pz: -0.567, E: 0.605, pdg: 22, is_final: True, ...},\n",
       " {px: -0.221, py: -0.145, pz: 0.558, E: 0.617, pdg: 22, is_final: True, ...},\n",
       " {px: -0.0978, py: -0.0175, pz: 0.0852, E: 0.131, pdg: 22, is_final: True, ...},\n",
       " {px: -0.146, py: -0.0528, pz: 0.0319, E: 0.158, pdg: 22, is_final: True, ...},\n",
       " {px: -0.531, py: -0.133, pz: 0.383, E: 0.668, pdg: 22, is_final: True, ...},\n",
       " {px: -0.00998, py: 0.0709, pz: -0.502, E: 0.507, pdg: 22, is_final: True, ...},\n",
       " {px: 0.0222, py: -0.0603, pz: -0.42, E: 0.425, pdg: 22, is_final: True, ...}]\n",
       "-------------------------------------------------------------------------------------------------------------------------------------------------------------\n",
       "backend: cpu\n",
       "nbytes: 29.3 MB\n",
       "type: 222 * Momentum4D[\n",
       "    px: float64,\n",
       "    py: float64,\n",
       "    pz: float64,\n",
       "    E: float64,\n",
       "    pdg: int64,\n",
       "    is_final: bool,\n",
       "    mother_list: var * int64\n",
       "]</pre>"
      ],
      "text/plain": [
       "<MomentumArray4D [{px: -0.728, py: 2.43, ...}, ...] type='222 * Momentum4D[...'>"
      ]
     },
     "execution_count": 18,
     "metadata": {},
     "output_type": "execute_result"
    }
   ],
   "source": [
    "inclusive_particles[0]"
   ]
  },
  {
   "cell_type": "code",
   "execution_count": 32,
   "metadata": {},
   "outputs": [
    {
     "ename": "ValueError",
     "evalue": "the truth value of an array whose length is not 1 is ambiguous; use ak.any() or ak.all()",
     "output_type": "error",
     "traceback": [
      "\u001b[31m---------------------------------------------------------------------------\u001b[39m",
      "\u001b[31mValueError\u001b[39m                                Traceback (most recent call last)",
      "\u001b[36mCell\u001b[39m\u001b[36m \u001b[39m\u001b[32mIn[32]\u001b[39m\u001b[32m, line 1\u001b[39m\n\u001b[32m----> \u001b[39m\u001b[32m1\u001b[39m \u001b[43minclusive_particles\u001b[49m\u001b[43m[\u001b[49m\u001b[33;43m'\u001b[39;49m\u001b[33;43mis_final\u001b[39;49m\u001b[33;43m'\u001b[39;49m\u001b[43m]\u001b[49m\u001b[43m \u001b[49m\u001b[38;5;129;43;01mand\u001b[39;49;00m\u001b[43m \u001b[49m\u001b[43mnp\u001b[49m\u001b[43m.\u001b[49m\u001b[43mabs\u001b[49m\u001b[43m(\u001b[49m\u001b[43minclusive_particles\u001b[49m\u001b[43m.\u001b[49m\u001b[43meta\u001b[49m\u001b[43m)\u001b[49m\u001b[43m \u001b[49m\u001b[43m<\u001b[49m\u001b[43m \u001b[49m\u001b[32;43m0.8\u001b[39;49m\n",
      "\u001b[36mFile \u001b[39m\u001b[32m~/repos/z_plus_hf/.venv/lib/python3.12/site-packages/awkward/highlevel.py:1742\u001b[39m, in \u001b[36mArray.__bool__\u001b[39m\u001b[34m(self)\u001b[39m\n\u001b[32m   1740\u001b[39m     \u001b[38;5;28;01mreturn\u001b[39;00m \u001b[38;5;28mbool\u001b[39m(\u001b[38;5;28mself\u001b[39m[\u001b[32m0\u001b[39m])\n\u001b[32m   1741\u001b[39m \u001b[38;5;28;01melse\u001b[39;00m:\n\u001b[32m-> \u001b[39m\u001b[32m1742\u001b[39m     \u001b[38;5;28;01mraise\u001b[39;00m \u001b[38;5;167;01mValueError\u001b[39;00m(\n\u001b[32m   1743\u001b[39m         \u001b[33m\"\u001b[39m\u001b[33mthe truth value of an array whose length is not 1 is ambiguous; \u001b[39m\u001b[33m\"\u001b[39m\n\u001b[32m   1744\u001b[39m         \u001b[33m\"\u001b[39m\u001b[33muse ak.any() or ak.all()\u001b[39m\u001b[33m\"\u001b[39m\n\u001b[32m   1745\u001b[39m     )\n",
      "\u001b[31mValueError\u001b[39m: the truth value of an array whose length is not 1 is ambiguous; use ak.any() or ak.all()"
     ]
    }
   ],
   "source": [
    "inclusive_particles['is_final'] and np.abs(inclusive_particles.eta) < 0.8"
   ]
  },
  {
   "cell_type": "code",
   "execution_count": 56,
   "metadata": {},
   "outputs": [],
   "source": [
    "inclusive_particles = ak.zip(\n",
    "                {\n",
    "                    'px': events['px'],\n",
    "                    'py': events['py'],\n",
    "                    'pz': events['pz'],\n",
    "                    'E': events['E'],\n",
    "                    'pdg': events['pdg'],\n",
    "                    'is_final': events['is_final'],\n",
    "                    'mother_list': events['mother_list'],\n",
    "                }, \n",
    "                depth_limit=2,\n",
    "                with_name = 'Momentum4D',\n",
    "            )\n",
    "#inclusive_particles = events_zipped[events_zipped['is_final']]\n",
    "\n",
    "pt_cut = 2.5\n",
    "eta_cut = 0.8\n",
    "cut = inclusive_particles.is_final & (inclusive_particles.pt >= pt_cut) & (np.abs(inclusive_particles.eta) <= eta_cut)\n",
    "particles = inclusive_particles[cut]"
   ]
  },
  {
   "cell_type": "code",
   "execution_count": 2,
   "metadata": {},
   "outputs": [
    {
     "data": {
      "text/plain": [
       "<pyarrow._parquet.FileMetaData object at 0x11e967ec0>\n",
       "  created_by: parquet-cpp-arrow version 19.0.1\n",
       "  num_columns: 1\n",
       "  num_rows: 6\n",
       "  num_row_groups: 1\n",
       "  format_version: 2.6\n",
       "  serialized_size: 0"
      ]
     },
     "execution_count": 2,
     "metadata": {},
     "output_type": "execute_result"
    }
   ],
   "source": [
    "array1 = ak.Array([[1, 2, 3], [], [4, 5], [], [], [6, 7, 8, 9]])\n",
    "ak.to_parquet(array1, \"array1.parquet\")"
   ]
  },
  {
   "cell_type": "code",
   "execution_count": 6,
   "metadata": {},
   "outputs": [
    {
     "data": {
      "text/plain": [
       "<pyarrow._parquet.FileMetaData object at 0x11e8e1c60>\n",
       "  created_by: parquet-cpp-arrow version 19.0.1\n",
       "  num_columns: 7\n",
       "  num_rows: 500\n",
       "  num_row_groups: 1\n",
       "  format_version: 2.6\n",
       "  serialized_size: 0"
      ]
     },
     "execution_count": 6,
     "metadata": {},
     "output_type": "execute_result"
    }
   ],
   "source": [
    "ak.to_parquet(particles, \"array_test.parquet\")"
   ]
  },
  {
   "cell_type": "code",
   "execution_count": 7,
   "metadata": {},
   "outputs": [],
   "source": [
    "with open(f'array_test.pkl', 'wb') as out_file:\n",
    "    pkl.dump(particles, out_file)"
   ]
  },
  {
   "cell_type": "code",
   "execution_count": 75,
   "metadata": {},
   "outputs": [
    {
     "data": {
      "text/plain": [
       "404110"
      ]
     },
     "execution_count": 75,
     "metadata": {},
     "output_type": "execute_result"
    }
   ],
   "source": [
    "len(ak.flatten(inclusive_particles))"
   ]
  },
  {
   "cell_type": "code",
   "execution_count": 97,
   "metadata": {},
   "outputs": [
    {
     "data": {
      "text/plain": [
       "916"
      ]
     },
     "execution_count": 97,
     "metadata": {},
     "output_type": "execute_result"
    }
   ],
   "source": [
    "len(ak.flatten(particles))"
   ]
  },
  {
   "cell_type": "code",
   "execution_count": 125,
   "metadata": {},
   "outputs": [
    {
     "data": {
      "text/html": [
       "<pre>[{px: 0.357, py: -3.54, pz: -1.66, E: 3.93, pdg: 211, is_final: True, ...},\n",
       " {px: -0.139, py: -4.77, pz: -3.64, E: 6.01, pdg: 211, is_final: True, ...},\n",
       " {px: -1.83, py: 5.98, pz: -5.34, E: 8.22, pdg: -211, is_final: True, ...},\n",
       " {px: -1.52, py: 7.19, pz: -6.24, E: 9.64, pdg: 211, is_final: True, ...},\n",
       " {px: -0.58, py: -4.84, pz: -3.27, E: 5.87, pdg: 211, is_final: True, ...},\n",
       " {px: 0.0504, py: -4.05, pz: -3.18, E: 5.15, pdg: -211, is_final: True, ...},\n",
       " {px: 0.0205, py: -3.84, pz: -2.35, E: 4.5, pdg: 22, is_final: True, ...},\n",
       " {px: -0.0949, py: -5.52, pz: -3.6, E: 6.59, pdg: -211, is_final: True, ...},\n",
       " {px: -1.98, py: 6.43, pz: -5.96, E: 8.99, pdg: 22, is_final: True, ...},\n",
       " {px: 2.62, py: 1.06, pz: -1.15, E: 3.05, pdg: -211, is_final: True, ...},\n",
       " ...,\n",
       " {px: -34.3, py: 7.52, pz: -27.4, E: 44.5, pdg: 16, is_final: True, ...},\n",
       " {px: 37, py: -0.317, pz: 26.6, E: 45.6, pdg: -16, is_final: True, ...},\n",
       " {px: 3.09, py: -2.29, pz: 0.483, E: 3.91, pdg: -321, is_final: True, ...},\n",
       " {px: 5.11, py: -3.1, pz: 0.704, E: 6.02, pdg: -211, is_final: True, ...},\n",
       " {px: 3.56, py: -2.32, pz: 0.412, E: 4.29, pdg: 321, is_final: True, ...},\n",
       " {px: 3.96, py: -2.3, pz: 0.199, E: 4.61, pdg: 130, is_final: True, ...},\n",
       " {px: -2.53, py: -1.71, pz: 0.89, E: 3.19, pdg: -211, is_final: True, ...},\n",
       " {px: -2.74, py: -2.01, pz: 0.237, E: 3.41, pdg: 22, is_final: True, ...},\n",
       " {px: 0.82, py: 3.98, pz: 2.1, E: 4.57, pdg: 11, is_final: True, ...}]\n",
       "-------------------------------------------------------------------------------------------------------------------------------------------------------------\n",
       "backend: cpu\n",
       "nbytes: 29.3 MB\n",
       "type: 916 * Momentum4D[\n",
       "    px: float64,\n",
       "    py: float64,\n",
       "    pz: float64,\n",
       "    E: float64,\n",
       "    pdg: int64,\n",
       "    is_final: bool,\n",
       "    mother_list: var * int64\n",
       "]</pre>"
      ],
      "text/plain": [
       "<MomentumArray4D [{px: 0.357, py: -3.54, ...}, ...] type='916 * Momentum4D[...'>"
      ]
     },
     "execution_count": 125,
     "metadata": {},
     "output_type": "execute_result"
    }
   ],
   "source": [
    "ak.flatten(particles)"
   ]
  },
  {
   "cell_type": "code",
   "execution_count": 98,
   "metadata": {},
   "outputs": [
    {
     "data": {
      "text/plain": [
       "286"
      ]
     },
     "execution_count": 98,
     "metadata": {},
     "output_type": "execute_result"
    }
   ],
   "source": [
    "len(ak.flatten(constituents))"
   ]
  },
  {
   "cell_type": "code",
   "execution_count": 61,
   "metadata": {},
   "outputs": [
    {
     "data": {
      "text/plain": [
       "np.int64(0)"
      ]
     },
     "execution_count": 61,
     "metadata": {},
     "output_type": "execute_result"
    }
   ],
   "source": [
    "ak.sum(~particles.is_final)"
   ]
  },
  {
   "cell_type": "code",
   "execution_count": 55,
   "metadata": {},
   "outputs": [
    {
     "name": "stderr",
     "output_type": "stream",
     "text": [
      "/Users/ravikoka/repos/z_plus_hf/.venv/lib/python3.12/site-packages/mplhep/utils.py:577: UserWarning: Integer weights indicate poissonian data. Will calculate Garwood interval if ``scipy`` is installed. Otherwise errors will be set to ``sqrt(w2)``.\n",
      "  self.errors()\n"
     ]
    },
    {
     "data": {
      "text/plain": [
       "[StairsArtists(stairs=<matplotlib.patches.StepPatch object at 0x1188b3c80>, errorbar=<ErrorbarContainer object of 3 artists>, legend_artist=<ErrorbarContainer object of 3 artists>)]"
      ]
     },
     "execution_count": 55,
     "metadata": {},
     "output_type": "execute_result"
    },
    {
     "data": {
      "image/png": "[encoded data removed]",
      "text/plain": [
       "<Figure size 640x480 with 1 Axes>"
      ]
     },
     "metadata": {},
     "output_type": "display_data"
    }
   ],
   "source": [
    "pt = hist.Hist(hist.axis.Regular(110, 0, 10, name='pt'))\n",
    "pt.fill(ak.flatten(particles.pt))\n",
    "\n",
    "hep.histplot(pt)"
   ]
  },
  {
   "cell_type": "code",
   "execution_count": 56,
   "metadata": {},
   "outputs": [
    {
     "name": "stderr",
     "output_type": "stream",
     "text": [
      "/Users/ravikoka/repos/z_plus_hf/.venv/lib/python3.12/site-packages/mplhep/utils.py:577: UserWarning: Integer weights indicate poissonian data. Will calculate Garwood interval if ``scipy`` is installed. Otherwise errors will be set to ``sqrt(w2)``.\n",
      "  self.errors()\n"
     ]
    },
    {
     "data": {
      "text/plain": [
       "[StairsArtists(stairs=<matplotlib.patches.StepPatch object at 0x11890db20>, errorbar=<ErrorbarContainer object of 3 artists>, legend_artist=<ErrorbarContainer object of 3 artists>)]"
      ]
     },
     "execution_count": 56,
     "metadata": {},
     "output_type": "execute_result"
    },
    {
     "data": {
      "image/png": "[encoded data removed]",
      "text/plain": [
       "<Figure size 640x480 with 1 Axes>"
      ]
     },
     "metadata": {},
     "output_type": "display_data"
    }
   ],
   "source": [
    "eta = hist.Hist(hist.axis.Regular(110, -1, 1, name='eta'))\n",
    "eta.fill(ak.flatten(particles.eta))\n",
    "\n",
    "hep.histplot(eta)"
   ]
  },
  {
   "cell_type": "code",
   "execution_count": 96,
   "metadata": {},
   "outputs": [
    {
     "data": {
      "text/html": [
       "<pre>[[],\n",
       " [{px: 0.357, py: -3.54, pz: -1.66, E: 3.93, pdg: 211, ...}, {...}, ..., {...}],\n",
       " [{px: 2.62, py: 1.06, pz: -1.15, E: 3.05, pdg: -211, is_final: ..., ...}, ...],\n",
       " [{px: -2.8, py: -4.92, pz: -2.6, E: 6.23, pdg: 14, is_final: True, ...}],\n",
       " [{px: 4.22, py: -0.063, pz: 0.891, E: 4.42, pdg: -2212, ...}, {...}],\n",
       " [{px: -3.2, py: -2.66, pz: 0.925, E: 4.27, pdg: 211, is_final: ..., ...}, ...],\n",
       " [{px: -10.3, py: -10, pz: -12.7, E: 19.2, pdg: -211, is_final: True, ...}],\n",
       " [],\n",
       " [{px: 4, py: 2.1, pz: 2.22, E: 5.03, pdg: -13, is_final: True, ...}],\n",
       " [],\n",
       " ...,\n",
       " [{px: 1.59, py: -2.14, pz: -0.524, E: 2.72, pdg: 22, is_final: ..., ...}, ...],\n",
       " [{px: -12.5, py: -0.189, pz: -1.09, E: 12.6, pdg: -211, ...}, ..., {...}],\n",
       " [],\n",
       " [{px: 2.76, py: 1.15, pz: -2.65, E: 4, pdg: 211, is_final: True, ...}],\n",
       " [{px: -2.35, py: 2.29, pz: 0.69, E: 3.48, pdg: 2112, is_final: True, ...}],\n",
       " [],\n",
       " [{px: -34.3, py: 7.52, pz: -27.4, E: 44.5, pdg: 16, is_final: True, ...}, ...],\n",
       " [{px: 3.09, py: -2.29, pz: 0.483, E: 3.91, pdg: -321, ...}, {...}, ..., {...}],\n",
       " [{px: 0.82, py: 3.98, pz: 2.1, E: 4.57, pdg: 11, is_final: True, ...}]]\n",
       "-------------------------------------------------------------------------------------------------------------------------------------------------------------------\n",
       "backend: cpu\n",
       "nbytes: 29.3 MB\n",
       "type: 500 * var * Momentum4D[\n",
       "    px: float64,\n",
       "    py: float64,\n",
       "    pz: float64,\n",
       "    E: float64,\n",
       "    pdg: int64,\n",
       "    is_final: bool,\n",
       "    mother_list: var * int64\n",
       "]</pre>"
      ],
      "text/plain": [
       "<MomentumArray4D [[], ..., [{px: 0.82, py: 3.98, ...}]] type='500 * var * M...'>"
      ]
     },
     "execution_count": 96,
     "metadata": {},
     "output_type": "execute_result"
    }
   ],
   "source": [
    "particles"
   ]
  },
  {
   "cell_type": "code",
   "execution_count": 146,
   "metadata": {},
   "outputs": [],
   "source": [
    "R = 0.4\n",
    "min_pt = 0\n",
    "jet_def = fj.JetDefinition(fj.antikt_algorithm, R)\n",
    "cluster = fj.ClusterSequence(particles, jet_def)\n",
    "\n",
    "jets = cluster.inclusive_jets(min_pt=min_pt)\n",
    "constituents = cluster.constituents(min_pt=min_pt)"
   ]
  },
  {
   "cell_type": "code",
   "execution_count": 147,
   "metadata": {},
   "outputs": [
    {
     "data": {
      "text/html": [
       "<pre>[{px: -5.33, py: 19.6, pz: -17.5, E: 26.9},\n",
       " {px: -0.386, py: -26.6, pz: -17.7, E: 32.1}]\n",
       "-----------------------------------------------------------------------------------------\n",
       "backend: cpu\n",
       "nbytes: 64 B\n",
       "type: 2 * Momentum4D[\n",
       "    px: float64,\n",
       "    py: float64,\n",
       "    pz: float64,\n",
       "    E: float64\n",
       "]</pre>"
      ],
      "text/plain": [
       "<MomentumArray4D [{px: -5.33, py: 19.6, ...}, {...}] type='2 * Momentum4D[p...'>"
      ]
     },
     "execution_count": 147,
     "metadata": {},
     "output_type": "execute_result"
    }
   ],
   "source": [
    "jets[1]"
   ]
  },
  {
   "cell_type": "code",
   "execution_count": 148,
   "metadata": {},
   "outputs": [
    {
     "data": {
      "text/html": [
       "<pre>[[{px: -1.83, py: 5.98, pz: -5.34, E: 8.22, pdg: -211, ...}, {...}, {...}],\n",
       " [{px: 0.357, py: -3.54, pz: -1.66, E: 3.93, pdg: 211, ...}, {...}, ..., {...}]]\n",
       "-----------------------------------------------------------------------------------------------------------------------------------------------------------------\n",
       "backend: cpu\n",
       "nbytes: 29.3 MB\n",
       "type: 2 * var * Momentum4D[\n",
       "    px: float64,\n",
       "    py: float64,\n",
       "    pz: float64,\n",
       "    E: float64,\n",
       "    pdg: int64,\n",
       "    is_final: bool,\n",
       "    mother_list: var * int64\n",
       "]</pre>"
      ],
      "text/plain": [
       "<MomentumArray4D [[{px: -1.83, py: 5.98, ...}, ...], ...] type='2 * var * M...'>"
      ]
     },
     "execution_count": 148,
     "metadata": {},
     "output_type": "execute_result"
    }
   ],
   "source": [
    "constituents[1]"
   ]
  },
  {
   "cell_type": "code",
   "execution_count": 149,
   "metadata": {},
   "outputs": [
    {
     "data": {
      "text/html": [
       "<pre>[[],\n",
       " [[2, 3, 8], [0, 1, 4, 5, 6, 7]],\n",
       " [[0], [2, 3, 6], [1, 4, 5]],\n",
       " [[0]],\n",
       " [[1], [0]],\n",
       " [[4], [0, 2, 7], [1, 3, 5, 6, 8]],\n",
       " [[0]],\n",
       " [],\n",
       " [[0]],\n",
       " [],\n",
       " ...,\n",
       " [[0, 1, 2, 3]],\n",
       " [[12], [4], [3], [2, 8, 9, 11], [0, 1, 5, 6, 7, 10]],\n",
       " [],\n",
       " [[0]],\n",
       " [[0]],\n",
       " [],\n",
       " [[0], [1]],\n",
       " [[4, 5], [0, 1, 2, 3]],\n",
       " [[0]]]\n",
       "------------------------------------------------------\n",
       "backend: cpu\n",
       "nbytes: 11.4 kB\n",
       "type: 500 * var * var * int32</pre>"
      ],
      "text/plain": [
       "<Array [[], [[2, 3, 8], [...]], ..., [[0]]] type='500 * var * var * int32'>"
      ]
     },
     "execution_count": 149,
     "metadata": {},
     "output_type": "execute_result"
    }
   ],
   "source": [
    "cluster.constituent_index(min_pt=min_pt)"
   ]
  },
  {
   "cell_type": "code",
   "execution_count": 150,
   "metadata": {},
   "outputs": [
    {
     "data": {
      "text/html": [
       "<pre>[[],\n",
       " [[{px: -1.83, py: 5.98, pz: -5.34, E: 8.22, pdg: -211, ...}, ..., {...}], ...],\n",
       " [[{px: 2.62, py: 1.06, pz: -1.15, E: 3.05, pdg: -211, ...}], ..., [...]],\n",
       " [[{px: -2.8, py: -4.92, pz: -2.6, E: 6.23, pdg: 14, is_final: True, ...}]],\n",
       " [[{px: -3.39, py: -0.417, pz: -1.34, E: 3.67, pdg: -211, ...}], [{...}]],\n",
       " [[{px: -2.97, py: -2.5, pz: 1.63, E: 4.22, pdg: 211, ...}], ..., [{...}, ...]],\n",
       " [[{px: -10.3, py: -10, pz: -12.7, E: 19.2, pdg: -211, is_final: True, ...}]],\n",
       " [],\n",
       " [[{px: 4, py: 2.1, pz: 2.22, E: 5.03, pdg: -13, is_final: True, ...}]],\n",
       " [],\n",
       " ...,\n",
       " [[{px: 1.59, py: -2.14, pz: -0.524, E: 2.72, pdg: 22, ...}, ..., {...}]],\n",
       " [[{px: -1.22, py: -2.52, pz: -0.649, E: 2.87, pdg: -211, ...}], ..., [...]],\n",
       " [],\n",
       " [[{px: 2.76, py: 1.15, pz: -2.65, E: 4, pdg: 211, is_final: True, ...}]],\n",
       " [[{px: -2.35, py: 2.29, pz: 0.69, E: 3.48, pdg: 2112, is_final: True, ...}]],\n",
       " [],\n",
       " [[{px: -34.3, py: 7.52, pz: -27.4, E: 44.5, pdg: 16, ...}], [{...}]],\n",
       " [[{px: -2.53, py: -1.71, pz: 0.89, E: 3.19, pdg: -211, ...}, {...}], ...],\n",
       " [[{px: 0.82, py: 3.98, pz: 2.1, E: 4.57, pdg: 11, is_final: True, ...}]]]\n",
       "-------------------------------------------------------------------------------------------------------------------------------------------------------------------------\n",
       "backend: cpu\n",
       "nbytes: 29.3 MB\n",
       "type: 500 * var * var * Momentum4D[\n",
       "    px: float64,\n",
       "    py: float64,\n",
       "    pz: float64,\n",
       "    E: float64,\n",
       "    pdg: int64,\n",
       "    is_final: bool,\n",
       "    mother_list: var * int64\n",
       "]</pre>"
      ],
      "text/plain": [
       "<MomentumArray4D [[], ..., [[{px: 0.82, py: 3.98, ...}]]] type='500 * var *...'>"
      ]
     },
     "execution_count": 150,
     "metadata": {},
     "output_type": "execute_result"
    }
   ],
   "source": [
    "constituents"
   ]
  },
  {
   "cell_type": "code",
   "execution_count": 109,
   "metadata": {},
   "outputs": [
    {
     "data": {
      "text/plain": [
       "(<Array [[], [-5.72], [-26.5], ..., [10.4], [0.82]] type='500 * var * float64'>,\n",
       " <Array [[], [-6.97], [-5.95], ..., [-13.7], [3.98]] type='500 * var * float64'>,\n",
       " <Array [[], [-35.2], [-6.6], ..., [2.92], [2.1]] type='500 * var * float64'>,\n",
       " <Array [[], [58.9], [40], ..., [25.4], [4.57]] type='500 * var * float64'>)"
      ]
     },
     "execution_count": 109,
     "metadata": {},
     "output_type": "execute_result"
    }
   ],
   "source": []
  },
  {
   "cell_type": "code",
   "execution_count": 151,
   "metadata": {},
   "outputs": [
    {
     "data": {
      "text/html": [
       "<pre>[[],\n",
       " [3, 6],\n",
       " [1, 3, 3],\n",
       " [1],\n",
       " [1, 1],\n",
       " [1, 3, 5],\n",
       " [1],\n",
       " [],\n",
       " [1],\n",
       " [],\n",
       " ...,\n",
       " [4],\n",
       " [1, 1, 1, 4, 6],\n",
       " [],\n",
       " [1],\n",
       " [1],\n",
       " [],\n",
       " [1, 1],\n",
       " [2, 4],\n",
       " [1]]\n",
       "-----------------------\n",
       "backend: cpu\n",
       "nbytes: 7.7 kB\n",
       "type: 500 * var * int64</pre>"
      ],
      "text/plain": [
       "<Array [[], [3, 6], [1, 3, 3], ..., [2, 4], [1]] type='500 * var * int64'>"
      ]
     },
     "execution_count": 151,
     "metadata": {},
     "output_type": "execute_result"
    }
   ],
   "source": [
    "num_constituents = ak.num(constituents, axis=2)\n",
    "num_constituents"
   ]
  },
  {
   "cell_type": "code",
   "execution_count": 152,
   "metadata": {},
   "outputs": [
    {
     "data": {
      "text/html": [
       "<pre>[[],\n",
       " [{px: -5.33, py: 19.6, pz: -17.5, E: 26.9}, {px: -0.386, py: -26.6, ...}],\n",
       " [{px: 2.62, py: 1.06, pz: -1.15, E: 3.05}, ..., {px: -14.6, py: -12.3, ...}],\n",
       " [{px: -2.8, py: -4.92, pz: -2.6, E: 6.23}],\n",
       " [{px: -3.39, py: -0.417, pz: -1.34, E: 3.67}, {px: 4.22, py: ..., ...}],\n",
       " [{px: -2.97, py: -2.5, pz: 1.63, E: 4.22}, ..., {px: 24.1, py: 25.9, ...}],\n",
       " [{px: -10.3, py: -10, pz: -12.7, E: 19.2}],\n",
       " [],\n",
       " [{px: 4, py: 2.1, pz: 2.22, E: 5.03}],\n",
       " [],\n",
       " ...,\n",
       " [{px: 9.19, py: -12.7, pz: -3.61, E: 16.1}],\n",
       " [{px: -1.22, py: -2.52, pz: -0.649, E: 2.87}, ..., {px: -48.4, py: ..., ...}],\n",
       " [],\n",
       " [{px: 2.76, py: 1.15, pz: -2.65, E: 4}],\n",
       " [{px: -2.35, py: 2.29, pz: 0.69, E: 3.48}],\n",
       " [],\n",
       " [{px: -34.3, py: 7.52, pz: -27.4, E: 44.5}, {px: 37, py: -0.317, ...}],\n",
       " [{px: -5.27, py: -3.73, pz: 1.13, E: 6.59}, {px: 15.7, py: -10, ...}],\n",
       " [{px: 0.82, py: 3.98, pz: 2.1, E: 4.57}]]\n",
       "-------------------------------------------------------------------------------------------------\n",
       "backend: cpu\n",
       "nbytes: 18.9 kB\n",
       "type: 500 * var * Momentum4D[\n",
       "    px: float64,\n",
       "    py: float64,\n",
       "    pz: float64,\n",
       "    E: float64\n",
       "]</pre>"
      ],
      "text/plain": [
       "<MomentumArray4D [[], ..., [{px: 0.82, py: 3.98, ...}]] type='500 * var * M...'>"
      ]
     },
     "execution_count": 152,
     "metadata": {},
     "output_type": "execute_result"
    }
   ],
   "source": [
    "jets"
   ]
  },
  {
   "cell_type": "code",
   "execution_count": 392,
   "metadata": {},
   "outputs": [],
   "source": [
    "def get_delta_R(left_particles, right_particles):\n",
    "    \n",
    "    return np.sqrt((left_particles.eta - right_particles.eta)**2 + (left_particles.phi - right_particles.phi)**2)"
   ]
  },
  {
   "cell_type": "code",
   "execution_count": 393,
   "metadata": {},
   "outputs": [
    {
     "data": {
      "text/html": [
       "<pre>[[],\n",
       " [[0.0317, 0.0582, 0.0377], [0.209, 0.0792, 0.105, ..., 0.0499, 0.012]],\n",
       " [[0], [0.0968, 0.0288, 0.182], [0.0572, 0.032, 0.049]],\n",
       " [[0]],\n",
       " [[0], [0]],\n",
       " [[0], [0.233, ..., 0.0212], [0.0723, 0.188, 0.0257, 0.0165, 0.113]],\n",
       " [[0]],\n",
       " [],\n",
       " [[0]],\n",
       " [],\n",
       " ...,\n",
       " [[0.0353, 0.0343, 0.0845, 0.0626]],\n",
       " [[0], [0], [0], [0.163, ...], [0.0322, 0.0564, 6.23, 6.24, 0.155, 0.134]],\n",
       " [],\n",
       " [[0]],\n",
       " [[0]],\n",
       " [],\n",
       " [[0], [0]],\n",
       " [[0.115, 0.106], [0.0772, 0.0301, 0.00973, 0.0671]],\n",
       " [[0]]]\n",
       "---------------------------------------------------------------------------\n",
       "backend: cpu\n",
       "nbytes: 15.1 kB\n",
       "type: 500 * var * var * float64</pre>"
      ],
      "text/plain": [
       "<Array [[], [[0.0317, ...], ...], ..., [[0]]] type='500 * var * var * float64'>"
      ]
     },
     "execution_count": 393,
     "metadata": {},
     "output_type": "execute_result"
    }
   ],
   "source": [
    "get_delta_R(jet_axes, constituents)"
   ]
  },
  {
   "cell_type": "code",
   "execution_count": 233,
   "metadata": {},
   "outputs": [
    {
     "data": {
      "text/html": [
       "<pre>[[],\n",
       " [[0.0317, 0.0582, 0.0377], [0.209, 0.0792, 0.105, ..., 0.0499, 0.012]],\n",
       " [[0], [0.0968, 0.0288, 0.182], [0.0572, 0.032, 0.049]],\n",
       " [[0]],\n",
       " [[0], [0]],\n",
       " [[0], [0.233, ..., 0.0212], [0.0723, 0.188, 0.0257, 0.0165, 0.113]],\n",
       " [[0]],\n",
       " [],\n",
       " [[0]],\n",
       " [],\n",
       " ...,\n",
       " [[0.0353, 0.0343, 0.0845, 0.0626]],\n",
       " [[0], [0], [0], [0.163, ...], [0.0322, 0.0564, 6.23, 6.24, 0.155, 0.134]],\n",
       " [],\n",
       " [[0]],\n",
       " [[0]],\n",
       " [],\n",
       " [[0], [0]],\n",
       " [[0.115, 0.106], [0.0772, 0.0301, 0.00973, 0.0671]],\n",
       " [[0]]]\n",
       "---------------------------------------------------------------------------\n",
       "backend: cpu\n",
       "nbytes: 15.1 kB\n",
       "type: 500 * var * var * float64</pre>"
      ],
      "text/plain": [
       "<Array [[], [[0.0317, ...], ...], ..., [[0]]] type='500 * var * var * float64'>"
      ]
     },
     "execution_count": 233,
     "metadata": {},
     "output_type": "execute_result"
    }
   ],
   "source": [
    "pairs = ak.cartesian((jets, constituents), axis=2)\n",
    "jet_axes, _ = ak.unzip(pairs)\n",
    "\n",
    "delta_phi = jet_axes.phi - constituents.phi\n",
    "delta_eta = jet_axes.eta - constituents.eta\n",
    "\n",
    "delta_R = np.sqrt(delta_phi**2 + delta_eta**2)\n",
    "delta_R"
   ]
  },
  {
   "cell_type": "code",
   "execution_count": 237,
   "metadata": {},
   "outputs": [],
   "source": [
    "girth = constituents.pt * delta_R"
   ]
  },
  {
   "cell_type": "code",
   "execution_count": 241,
   "metadata": {},
   "outputs": [
    {
     "data": {
      "text/html": [
       "<pre>[[],\n",
       " [20.3, 26.6],\n",
       " [2.82, 15.4, 19.1],\n",
       " [5.66],\n",
       " [3.41, 4.23],\n",
       " [3.89, 19.2, 35.3],\n",
       " [14.4],\n",
       " [],\n",
       " [4.52],\n",
       " [],\n",
       " ...,\n",
       " [15.7],\n",
       " [2.8, 4.1, 4.87, 22.4, 48.4],\n",
       " [],\n",
       " [3],\n",
       " [3.28],\n",
       " [],\n",
       " [35.1, 37],\n",
       " [6.46, 18.6],\n",
       " [4.06]]\n",
       "------------------------------\n",
       "backend: cpu\n",
       "nbytes: 7.7 kB\n",
       "type: 500 * var * float64</pre>"
      ],
      "text/plain": [
       "<Array [[], [20.3, 26.6], ..., [6.46, ...], [4.06]] type='500 * var * float64'>"
      ]
     },
     "execution_count": 241,
     "metadata": {},
     "output_type": "execute_result"
    }
   ],
   "source": [
    "jets.pt"
   ]
  },
  {
   "cell_type": "code",
   "execution_count": 303,
   "metadata": {},
   "outputs": [
    {
     "data": {
      "text/html": [
       "<pre>[[],\n",
       " [0.0433, 0.0866],\n",
       " [0, 0.0689, 0.0503],\n",
       " [0],\n",
       " [0, 0],\n",
       " [0, 0.105, 0.0681],\n",
       " [0],\n",
       " [],\n",
       " [0],\n",
       " [],\n",
       " ...,\n",
       " [0.0578],\n",
       " [0, 0, 0, 0.0604, 2.92],\n",
       " [],\n",
       " [0],\n",
       " [0],\n",
       " [],\n",
       " [0, 0],\n",
       " [0.11, 0.0443],\n",
       " [0]]\n",
       "-------------------------\n",
       "backend: cpu\n",
       "nbytes: 7.7 kB\n",
       "type: 500 * var * float64</pre>"
      ],
      "text/plain": [
       "<Array [[], [0.0433, 0.0866], ..., [0.11, ...], [0]] type='500 * var * float64'>"
      ]
     },
     "execution_count": 303,
     "metadata": {},
     "output_type": "execute_result"
    }
   ],
   "source": [
    "girth = ak.sum(constituents.pt * delta_R, axis=2) / jets.pt\n",
    "girth"
   ]
  },
  {
   "cell_type": "code",
   "execution_count": 245,
   "metadata": {},
   "outputs": [
    {
     "data": {
      "text/html": [
       "<pre>[[],\n",
       " [20.3, 26.6],\n",
       " [2.82, 15.4, 19.1],\n",
       " [5.66],\n",
       " [3.41, 4.23],\n",
       " [3.89, 19.2, 35.3],\n",
       " [14.4],\n",
       " [],\n",
       " [4.52],\n",
       " [],\n",
       " ...,\n",
       " [15.7],\n",
       " [2.8, 4.1, 4.87, 22.4, 48.4],\n",
       " [],\n",
       " [3],\n",
       " [3.28],\n",
       " [],\n",
       " [35.1, 37],\n",
       " [6.46, 18.6],\n",
       " [4.06]]\n",
       "------------------------------\n",
       "backend: cpu\n",
       "nbytes: 7.7 kB\n",
       "type: 500 * var * float64</pre>"
      ],
      "text/plain": [
       "<Array [[], [20.3, 26.6], ..., [6.46, ...], [4.06]] type='500 * var * float64'>"
      ]
     },
     "execution_count": 245,
     "metadata": {},
     "output_type": "execute_result"
    }
   ],
   "source": [
    "jets.pt"
   ]
  },
  {
   "cell_type": "markdown",
   "metadata": {},
   "source": [
    "https://indico.cern.ch/event/1071399/contributions/4505115/attachments/2305850/3922853/fastjet%20%285%29.pdf"
   ]
  },
  {
   "cell_type": "code",
   "execution_count": 264,
   "metadata": {},
   "outputs": [],
   "source": [
    "descending_pt = ak.argsort(jets.pt, axis=1, ascending=False)"
   ]
  },
  {
   "cell_type": "code",
   "execution_count": 259,
   "metadata": {},
   "outputs": [
    {
     "data": {
      "text/html": [
       "<pre>[26.6,\n",
       " 20.3]\n",
       "-----------------\n",
       "backend: cpu\n",
       "nbytes: 16 B\n",
       "type: 2 * float64</pre>"
      ],
      "text/plain": [
       "<Array [26.6, 20.3] type='2 * float64'>"
      ]
     },
     "execution_count": 259,
     "metadata": {},
     "output_type": "execute_result"
    }
   ],
   "source": [
    "ak.sum(constituents[chonkiest_jet][1].pt, axis=1)"
   ]
  },
  {
   "cell_type": "code",
   "execution_count": 276,
   "metadata": {},
   "outputs": [
    {
     "data": {
      "text/html": [
       "<pre>[0,\n",
       " 2,\n",
       " 3,\n",
       " 1,\n",
       " 2,\n",
       " 3,\n",
       " 1,\n",
       " 0,\n",
       " 1,\n",
       " 0,\n",
       " ...,\n",
       " 1,\n",
       " 5,\n",
       " 0,\n",
       " 1,\n",
       " 1,\n",
       " 0,\n",
       " 2,\n",
       " 2,\n",
       " 1]\n",
       "-----------------\n",
       "backend: cpu\n",
       "nbytes: 4.0 kB\n",
       "type: 500 * int64</pre>"
      ],
      "text/plain": [
       "<Array [0, 2, 3, 1, 2, 3, 1, 0, ..., 5, 0, 1, 1, 0, 2, 2, 1] type='500 * int64'>"
      ]
     },
     "execution_count": 276,
     "metadata": {},
     "output_type": "execute_result"
    }
   ],
   "source": [
    "ak.num(jets) "
   ]
  },
  {
   "cell_type": "code",
   "execution_count": 313,
   "metadata": {},
   "outputs": [],
   "source": [
    "#jets_descending_pt = jets[descending_pt]\n",
    "leading = jets[descending_pt][:, :1]\n",
    "subleading = jets[descending_pt][:, 1:2]\n",
    "\n",
    "lesub = leading.pt[ak.num(jets) > 1] - subleading.pt[ak.num(jets) > 1]"
   ]
  },
  {
   "cell_type": "code",
   "execution_count": 322,
   "metadata": {},
   "outputs": [],
   "source": [
    "descending_pt = ak.argsort(constituents.pt, axis=2, ascending=False)"
   ]
  },
  {
   "cell_type": "code",
   "execution_count": 323,
   "metadata": {},
   "outputs": [
    {
     "data": {
      "text/html": [
       "<pre>[[],\n",
       " [[6.25, 7.35, 6.73], [3.56, 4.78, 4.87, 4.05, 3.84, 5.52]],\n",
       " [[2.82], [2.97, 9.78, 2.73], [8.35, 2.61, 8.09]],\n",
       " [[5.66]],\n",
       " [[3.41], [4.23]],\n",
       " [[3.89], [4.17, 7.17, 7.9], [10.5, 5.33, 7.7, 9.28, 2.62]],\n",
       " [[14.4]],\n",
       " [],\n",
       " [[4.52]],\n",
       " [],\n",
       " ...,\n",
       " [[2.67, 2.98, 3.73, 6.31]],\n",
       " [[2.8], [4.1], ..., [3.11, ..., 7.15], [12.6, 4.47, 7.09, 15.3, 3.23, 5.93]],\n",
       " [],\n",
       " [[3]],\n",
       " [[3.28]],\n",
       " [],\n",
       " [[35.1], [37]],\n",
       " [[3.06, 3.4], [3.85, 5.98, 4.25, 4.58]],\n",
       " [[4.06]]]\n",
       "------------------------------------------------------------------------------\n",
       "backend: cpu\n",
       "nbytes: 15.1 kB\n",
       "type: 500 * var * var * float64</pre>"
      ],
      "text/plain": [
       "<Array [[], [[6.25, ...], ...], ..., [[4.06]]] type='500 * var * var * float64'>"
      ]
     },
     "execution_count": 323,
     "metadata": {},
     "output_type": "execute_result"
    }
   ],
   "source": [
    "constituents.pt"
   ]
  },
  {
   "cell_type": "code",
   "execution_count": 326,
   "metadata": {},
   "outputs": [
    {
     "data": {
      "text/html": [
       "<pre>[[],\n",
       " [[7.35], [5.52]],\n",
       " [[2.82], [9.78], [8.35]],\n",
       " [[5.66]],\n",
       " [[3.41], [4.23]],\n",
       " [[3.89], [7.9], [10.5]],\n",
       " [[14.4]],\n",
       " [],\n",
       " [[4.52]],\n",
       " [],\n",
       " ...,\n",
       " [[6.31]],\n",
       " [[2.8], [4.1], [4.87], [8.49], [15.3]],\n",
       " [],\n",
       " [[3]],\n",
       " [[3.28]],\n",
       " [],\n",
       " [[35.1], [37]],\n",
       " [[3.4], [5.98]],\n",
       " [[4.06]]]\n",
       "----------------------------------------\n",
       "backend: cpu\n",
       "nbytes: 11.5 kB\n",
       "type: 500 * var * var * float64</pre>"
      ],
      "text/plain": [
       "<Array [[], [[7.35], ...], ..., [[4.06]]] type='500 * var * var * float64'>"
      ]
     },
     "execution_count": 326,
     "metadata": {},
     "output_type": "execute_result"
    }
   ],
   "source": [
    "constituents.pt[descending_pt][:, :, :1]"
   ]
  },
  {
   "cell_type": "code",
   "execution_count": 327,
   "metadata": {},
   "outputs": [
    {
     "data": {
      "text/html": [
       "<pre>[[],\n",
       " [[6.73], [4.87]],\n",
       " [[], [2.97], [8.09]],\n",
       " [[]],\n",
       " [[], []],\n",
       " [[], [7.17], [9.28]],\n",
       " [[]],\n",
       " [],\n",
       " [[]],\n",
       " [],\n",
       " ...,\n",
       " [[3.73]],\n",
       " [[], [], [], [7.15], [12.6]],\n",
       " [],\n",
       " [[]],\n",
       " [[]],\n",
       " [],\n",
       " [[], []],\n",
       " [[3.06], [4.58]],\n",
       " [[]]]\n",
       "-------------------------------\n",
       "backend: cpu\n",
       "nbytes: 9.2 kB\n",
       "type: 500 * var * var * float64</pre>"
      ],
      "text/plain": [
       "<Array [[], [[6.73], [4.87]], ..., [...], [[]]] type='500 * var * var * flo...'>"
      ]
     },
     "execution_count": 327,
     "metadata": {},
     "output_type": "execute_result"
    }
   ],
   "source": [
    "constituents.pt[descending_pt][:, :, 1:2]"
   ]
  },
  {
   "cell_type": "code",
   "execution_count": 353,
   "metadata": {},
   "outputs": [],
   "source": [
    "#jets_descending_pt = jets[descending_pt]\n",
    "descending_pt = ak.argsort(constituents.pt, axis=2, ascending=False)\n",
    "leading = constituents[descending_pt][:, :, :1]\n",
    "subleading = constituents[descending_pt][:, :, 1:2]\n",
    "\n",
    "#lesub = leading.pt[ak.num(jets) > 1] - subleading.pt[ak.num(jets) > 1]\n",
    "#lesub = ak.pad_none(leading.pt, 1, axis=1) - ak.pad_none(subleading.pt, 1, axis=1) "
   ]
  },
  {
   "cell_type": "code",
   "execution_count": 373,
   "metadata": {},
   "outputs": [
    {
     "data": {
      "text/html": [
       "<pre>[[],\n",
       " [True, True],\n",
       " [False, True, True],\n",
       " [False],\n",
       " [False, False],\n",
       " [False, True, True],\n",
       " [False],\n",
       " [],\n",
       " [False],\n",
       " [],\n",
       " ...,\n",
       " [True],\n",
       " [False, False, False, True, True],\n",
       " [],\n",
       " [False],\n",
       " [False],\n",
       " [],\n",
       " [False, False],\n",
       " [True, True],\n",
       " [False]]\n",
       "-----------------------------------\n",
       "backend: cpu\n",
       "nbytes: 4.5 kB\n",
       "type: 500 * var * bool</pre>"
      ],
      "text/plain": [
       "<Array [[], [True, True], ..., [True, ...], [False]] type='500 * var * bool'>"
      ]
     },
     "execution_count": 373,
     "metadata": {},
     "output_type": "execute_result"
    }
   ],
   "source": [
    "ak.num(constituents, axis=2) > 1"
   ]
  },
  {
   "cell_type": "code",
   "execution_count": 375,
   "metadata": {},
   "outputs": [
    {
     "ename": "ValueError",
     "evalue": "cannot convert to RegularArray because subarray lengths are not regular (in compiled code: https://github.com/scikit-hep/awkward/blob/awkward-cpp-45/awkward-cpp/src/cpu-kernels/awkward_ListOffsetArray_toRegularArray.cpp#L22)",
     "output_type": "error",
     "traceback": [
      "\u001b[31m---------------------------------------------------------------------------\u001b[39m",
      "\u001b[31mValueError\u001b[39m                                Traceback (most recent call last)",
      "\u001b[36mCell\u001b[39m\u001b[36m \u001b[39m\u001b[32mIn[375]\u001b[39m\u001b[32m, line 1\u001b[39m\n\u001b[32m----> \u001b[39m\u001b[32m1\u001b[39m \u001b[43mak\u001b[49m\u001b[43m.\u001b[49m\u001b[43mwhere\u001b[49m\u001b[43m(\u001b[49m\u001b[43m(\u001b[49m\u001b[43mak\u001b[49m\u001b[43m.\u001b[49m\u001b[43mnum\u001b[49m\u001b[43m(\u001b[49m\u001b[43mconstituents\u001b[49m\u001b[43m,\u001b[49m\u001b[43m \u001b[49m\u001b[43maxis\u001b[49m\u001b[43m=\u001b[49m\u001b[32;43m2\u001b[39;49m\u001b[43m)\u001b[49m\u001b[43m>\u001b[49m\u001b[32;43m1\u001b[39;49m\u001b[43m)\u001b[49m\u001b[43m)\u001b[49m\n",
      "\u001b[36mFile \u001b[39m\u001b[32m~/repos/z_plus_hf/.venv/lib/python3.12/site-packages/awkward/_dispatch.py:38\u001b[39m, in \u001b[36mnamed_high_level_function.<locals>.dispatch\u001b[39m\u001b[34m(*args, **kwargs)\u001b[39m\n\u001b[32m     35\u001b[39m \u001b[38;5;129m@wraps\u001b[39m(func)\n\u001b[32m     36\u001b[39m \u001b[38;5;28;01mdef\u001b[39;00m\u001b[38;5;250m \u001b[39m\u001b[34mdispatch\u001b[39m(*args, **kwargs):\n\u001b[32m     37\u001b[39m     \u001b[38;5;66;03m# NOTE: this decorator assumes that the operation is exposed under `ak.`\u001b[39;00m\n\u001b[32m---> \u001b[39m\u001b[32m38\u001b[39m     \u001b[38;5;28;01mwith\u001b[39;00m OperationErrorContext(name, args, kwargs):\n\u001b[32m     39\u001b[39m         gen_or_result = func(*args, **kwargs)\n\u001b[32m     40\u001b[39m         \u001b[38;5;28;01mif\u001b[39;00m isgenerator(gen_or_result):\n",
      "\u001b[36mFile \u001b[39m\u001b[32m~/repos/z_plus_hf/.venv/lib/python3.12/site-packages/awkward/_errors.py:80\u001b[39m, in \u001b[36mErrorContext.__exit__\u001b[39m\u001b[34m(self, exception_type, exception_value, traceback)\u001b[39m\n\u001b[32m     78\u001b[39m     \u001b[38;5;28mself\u001b[39m._slate.\u001b[34m__dict__\u001b[39m.clear()\n\u001b[32m     79\u001b[39m     \u001b[38;5;66;03m# Handle caught exception\u001b[39;00m\n\u001b[32m---> \u001b[39m\u001b[32m80\u001b[39m     \u001b[38;5;28;01mraise\u001b[39;00m \u001b[38;5;28mself\u001b[39m.decorate_exception(exception_type, exception_value)\n\u001b[32m     81\u001b[39m \u001b[38;5;28;01melse\u001b[39;00m:\n\u001b[32m     82\u001b[39m     \u001b[38;5;66;03m# Step out of the way so that another ErrorContext can become primary.\u001b[39;00m\n\u001b[32m     83\u001b[39m     \u001b[38;5;28;01mif\u001b[39;00m \u001b[38;5;28mself\u001b[39m.primary() \u001b[38;5;129;01mis\u001b[39;00m \u001b[38;5;28mself\u001b[39m:\n",
      "\u001b[36mFile \u001b[39m\u001b[32m~/repos/z_plus_hf/.venv/lib/python3.12/site-packages/awkward/_dispatch.py:64\u001b[39m, in \u001b[36mnamed_high_level_function.<locals>.dispatch\u001b[39m\u001b[34m(*args, **kwargs)\u001b[39m\n\u001b[32m     62\u001b[39m \u001b[38;5;66;03m# Failed to find a custom overload, so resume the original function\u001b[39;00m\n\u001b[32m     63\u001b[39m \u001b[38;5;28;01mtry\u001b[39;00m:\n\u001b[32m---> \u001b[39m\u001b[32m64\u001b[39m     \u001b[38;5;28;43mnext\u001b[39;49m\u001b[43m(\u001b[49m\u001b[43mgen_or_result\u001b[49m\u001b[43m)\u001b[49m\n\u001b[32m     65\u001b[39m \u001b[38;5;28;01mexcept\u001b[39;00m \u001b[38;5;167;01mStopIteration\u001b[39;00m \u001b[38;5;28;01mas\u001b[39;00m err:\n\u001b[32m     66\u001b[39m     \u001b[38;5;28;01mreturn\u001b[39;00m err.value\n",
      "\u001b[36mFile \u001b[39m\u001b[32m~/repos/z_plus_hf/.venv/lib/python3.12/site-packages/awkward/operations/ak_where.py:58\u001b[39m, in \u001b[36mwhere\u001b[39m\u001b[34m(condition, mergebool, highlevel, behavior, attrs, *args)\u001b[39m\n\u001b[32m     56\u001b[39m \u001b[38;5;66;03m# Implementation\u001b[39;00m\n\u001b[32m     57\u001b[39m \u001b[38;5;28;01mif\u001b[39;00m \u001b[38;5;28mlen\u001b[39m(args) == \u001b[32m0\u001b[39m:\n\u001b[32m---> \u001b[39m\u001b[32m58\u001b[39m     \u001b[38;5;28;01mreturn\u001b[39;00m \u001b[43m_impl1\u001b[49m\u001b[43m(\u001b[49m\u001b[43mcondition\u001b[49m\u001b[43m,\u001b[49m\u001b[43m \u001b[49m\u001b[43mmergebool\u001b[49m\u001b[43m,\u001b[49m\u001b[43m \u001b[49m\u001b[43mhighlevel\u001b[49m\u001b[43m,\u001b[49m\u001b[43m \u001b[49m\u001b[43mbehavior\u001b[49m\u001b[43m,\u001b[49m\u001b[43m \u001b[49m\u001b[43mattrs\u001b[49m\u001b[43m)\u001b[49m\n\u001b[32m     60\u001b[39m \u001b[38;5;28;01melif\u001b[39;00m \u001b[38;5;28mlen\u001b[39m(args) == \u001b[32m1\u001b[39m:\n\u001b[32m     61\u001b[39m     \u001b[38;5;28;01mraise\u001b[39;00m \u001b[38;5;167;01mValueError\u001b[39;00m(\u001b[33m\"\u001b[39m\u001b[33meither both or neither of x and y should be given\u001b[39m\u001b[33m\"\u001b[39m)\n",
      "\u001b[36mFile \u001b[39m\u001b[32m~/repos/z_plus_hf/.venv/lib/python3.12/site-packages/awkward/operations/ak_where.py:77\u001b[39m, in \u001b[36m_impl1\u001b[39m\u001b[34m(condition, mergebool, highlevel, behavior, attrs)\u001b[39m\n\u001b[32m     75\u001b[39m \u001b[38;5;28;01mwith\u001b[39;00m HighLevelContext(behavior=behavior, attrs=attrs) \u001b[38;5;28;01mas\u001b[39;00m ctx:\n\u001b[32m     76\u001b[39m     layout = ctx.unwrap(condition, allow_record=\u001b[38;5;28;01mFalse\u001b[39;00m, primitive_policy=\u001b[33m\"\u001b[39m\u001b[33merror\u001b[39m\u001b[33m\"\u001b[39m)\n\u001b[32m---> \u001b[39m\u001b[32m77\u001b[39m out = layout.backend.nplike.nonzero(\u001b[43mlayout\u001b[49m\u001b[43m.\u001b[49m\u001b[43mto_backend_array\u001b[49m\u001b[43m(\u001b[49m\u001b[43mallow_missing\u001b[49m\u001b[43m=\u001b[49m\u001b[38;5;28;43;01mFalse\u001b[39;49;00m\u001b[43m)\u001b[49m)\n\u001b[32m     79\u001b[39m \u001b[38;5;28;01mreturn\u001b[39;00m \u001b[38;5;28mtuple\u001b[39m(\n\u001b[32m     80\u001b[39m     ctx.wrap(ak.contents.NumpyArray(x, backend=layout.backend), highlevel=highlevel)\n\u001b[32m     81\u001b[39m     \u001b[38;5;28;01mfor\u001b[39;00m x \u001b[38;5;129;01min\u001b[39;00m out\n\u001b[32m     82\u001b[39m )\n",
      "\u001b[36mFile \u001b[39m\u001b[32m~/repos/z_plus_hf/.venv/lib/python3.12/site-packages/awkward/contents/content.py:1121\u001b[39m, in \u001b[36mContent.to_backend_array\u001b[39m\u001b[34m(self, allow_missing, backend)\u001b[39m\n\u001b[32m   1119\u001b[39m \u001b[38;5;28;01melse\u001b[39;00m:\n\u001b[32m   1120\u001b[39m     backend = regularize_backend(backend)\n\u001b[32m-> \u001b[39m\u001b[32m1121\u001b[39m \u001b[38;5;28;01mreturn\u001b[39;00m \u001b[38;5;28;43mself\u001b[39;49m\u001b[43m.\u001b[49m\u001b[43m_to_backend_array\u001b[49m\u001b[43m(\u001b[49m\u001b[43mallow_missing\u001b[49m\u001b[43m,\u001b[49m\u001b[43m \u001b[49m\u001b[43mbackend\u001b[49m\u001b[43m)\u001b[49m\n",
      "\u001b[36mFile \u001b[39m\u001b[32m~/repos/z_plus_hf/.venv/lib/python3.12/site-packages/awkward/contents/listoffsetarray.py:2142\u001b[39m, in \u001b[36mListOffsetArray._to_backend_array\u001b[39m\u001b[34m(self, allow_missing, backend)\u001b[39m\n\u001b[32m   2140\u001b[39m     \u001b[38;5;28;01mreturn\u001b[39;00m buffer.view(np.dtype((\u001b[33m\"\u001b[39m\u001b[33mS\u001b[39m\u001b[33m\"\u001b[39m, max_count)))\n\u001b[32m   2141\u001b[39m \u001b[38;5;28;01melse\u001b[39;00m:\n\u001b[32m-> \u001b[39m\u001b[32m2142\u001b[39m     \u001b[38;5;28;01mreturn\u001b[39;00m \u001b[38;5;28;43mself\u001b[39;49m\u001b[43m.\u001b[49m\u001b[43mto_RegularArray\u001b[49m\u001b[43m(\u001b[49m\u001b[43m)\u001b[49m._to_backend_array(allow_missing, backend)\n",
      "\u001b[36mFile \u001b[39m\u001b[32m~/repos/z_plus_hf/.venv/lib/python3.12/site-packages/awkward/contents/listoffsetarray.py:293\u001b[39m, in \u001b[36mListOffsetArray.to_RegularArray\u001b[39m\u001b[34m(self)\u001b[39m\n\u001b[32m    288\u001b[39m _size = Index64.empty(\u001b[32m1\u001b[39m, \u001b[38;5;28mself\u001b[39m._backend.index_nplike)\n\u001b[32m    289\u001b[39m \u001b[38;5;28;01massert\u001b[39;00m (\n\u001b[32m    290\u001b[39m     _size.nplike \u001b[38;5;129;01mis\u001b[39;00m \u001b[38;5;28mself\u001b[39m._backend.index_nplike\n\u001b[32m    291\u001b[39m     \u001b[38;5;129;01mand\u001b[39;00m \u001b[38;5;28mself\u001b[39m._offsets.nplike \u001b[38;5;129;01mis\u001b[39;00m \u001b[38;5;28mself\u001b[39m._backend.index_nplike\n\u001b[32m    292\u001b[39m )\n\u001b[32m--> \u001b[39m\u001b[32m293\u001b[39m \u001b[38;5;28;43mself\u001b[39;49m\u001b[43m.\u001b[49m\u001b[43m_backend\u001b[49m\u001b[43m.\u001b[49m\u001b[43mmaybe_kernel_error\u001b[49m\u001b[43m(\u001b[49m\n\u001b[32m    294\u001b[39m \u001b[43m    \u001b[49m\u001b[38;5;28;43mself\u001b[39;49m\u001b[43m.\u001b[49m\u001b[43m_backend\u001b[49m\u001b[43m[\u001b[49m\n\u001b[32m    295\u001b[39m \u001b[43m        \u001b[49m\u001b[33;43m\"\u001b[39;49m\u001b[33;43mawkward_ListOffsetArray_toRegularArray\u001b[39;49m\u001b[33;43m\"\u001b[39;49m\u001b[43m,\u001b[49m\n\u001b[32m    296\u001b[39m \u001b[43m        \u001b[49m\u001b[43m_size\u001b[49m\u001b[43m.\u001b[49m\u001b[43mdtype\u001b[49m\u001b[43m.\u001b[49m\u001b[43mtype\u001b[49m\u001b[43m,\u001b[49m\n\u001b[32m    297\u001b[39m \u001b[43m        \u001b[49m\u001b[38;5;28;43mself\u001b[39;49m\u001b[43m.\u001b[49m\u001b[43m_offsets\u001b[49m\u001b[43m.\u001b[49m\u001b[43mdtype\u001b[49m\u001b[43m.\u001b[49m\u001b[43mtype\u001b[49m\u001b[43m,\u001b[49m\n\u001b[32m    298\u001b[39m \u001b[43m    \u001b[49m\u001b[43m]\u001b[49m\u001b[43m(\u001b[49m\n\u001b[32m    299\u001b[39m \u001b[43m        \u001b[49m\u001b[43m_size\u001b[49m\u001b[43m.\u001b[49m\u001b[43mdata\u001b[49m\u001b[43m,\u001b[49m\n\u001b[32m    300\u001b[39m \u001b[43m        \u001b[49m\u001b[38;5;28;43mself\u001b[39;49m\u001b[43m.\u001b[49m\u001b[43m_offsets\u001b[49m\u001b[43m.\u001b[49m\u001b[43mdata\u001b[49m\u001b[43m,\u001b[49m\n\u001b[32m    301\u001b[39m \u001b[43m        \u001b[49m\u001b[38;5;28;43mself\u001b[39;49m\u001b[43m.\u001b[49m\u001b[43m_offsets\u001b[49m\u001b[43m.\u001b[49m\u001b[43mlength\u001b[49m\u001b[43m,\u001b[49m\n\u001b[32m    302\u001b[39m \u001b[43m    \u001b[49m\u001b[43m)\u001b[49m\n\u001b[32m    303\u001b[39m \u001b[43m\u001b[49m\u001b[43m)\u001b[49m\n\u001b[32m    304\u001b[39m size = \u001b[38;5;28mself\u001b[39m._backend.index_nplike.index_as_shape_item(_size[\u001b[32m0\u001b[39m])\n\u001b[32m    305\u001b[39m length = \u001b[38;5;28mself\u001b[39m._offsets.length - \u001b[32m1\u001b[39m\n",
      "\u001b[36mFile \u001b[39m\u001b[32m~/repos/z_plus_hf/.venv/lib/python3.12/site-packages/awkward/_backends/backend.py:67\u001b[39m, in \u001b[36mBackend.maybe_kernel_error\u001b[39m\u001b[34m(self, error)\u001b[39m\n\u001b[32m     65\u001b[39m     \u001b[38;5;28;01mreturn\u001b[39;00m\n\u001b[32m     66\u001b[39m \u001b[38;5;28;01melse\u001b[39;00m:\n\u001b[32m---> \u001b[39m\u001b[32m67\u001b[39m     \u001b[38;5;28;01mraise\u001b[39;00m \u001b[38;5;167;01mValueError\u001b[39;00m(\u001b[38;5;28mself\u001b[39m.format_kernel_error(error))\n",
      "\u001b[31mValueError\u001b[39m: cannot convert to RegularArray because subarray lengths are not regular (in compiled code: https://github.com/scikit-hep/awkward/blob/awkward-cpp-45/awkward-cpp/src/cpu-kernels/awkward_ListOffsetArray_toRegularArray.cpp#L22)",
      "\nThis error occurred while calling\n\n    ak.where(\n        <Array [[], [True, True], ..., [...], [False]] type='500 * var * bool'>\n    )"
     ]
    }
   ],
   "source": [
    "ak.where((ak.num(constituents, axis=2)>1))"
   ]
  },
  {
   "cell_type": "code",
   "execution_count": 390,
   "metadata": {},
   "outputs": [
    {
     "data": {
      "text/html": [
       "<pre>[[],\n",
       " [[6.25, 7.35, 6.73], [3.56, 4.78, 4.87, 4.05, 3.84, 5.52]],\n",
       " [[2.82], [2.97, 9.78, 2.73], [8.35, 2.61, 8.09]],\n",
       " [[5.66]],\n",
       " [[3.41], [4.23]],\n",
       " [[3.89], [4.17, 7.17, 7.9], [10.5, 5.33, 7.7, 9.28, 2.62]],\n",
       " [[14.4]],\n",
       " [],\n",
       " [[4.52]],\n",
       " [],\n",
       " ...,\n",
       " [[2.67, 2.98, 3.73, 6.31]],\n",
       " [[2.8], [4.1], ..., [3.11, ..., 7.15], [12.6, 4.47, 7.09, 15.3, 3.23, 5.93]],\n",
       " [],\n",
       " [[3]],\n",
       " [[3.28]],\n",
       " [],\n",
       " [[35.1], [37]],\n",
       " [[3.06, 3.4], [3.85, 5.98, 4.25, 4.58]],\n",
       " [[4.06]]]\n",
       "------------------------------------------------------------------------------\n",
       "backend: cpu\n",
       "nbytes: 15.1 kB\n",
       "type: 500 * var * var * float64</pre>"
      ],
      "text/plain": [
       "<Array [[], [[6.25, ...], ...], ..., [[4.06]]] type='500 * var * var * float64'>"
      ]
     },
     "execution_count": 390,
     "metadata": {},
     "output_type": "execute_result"
    }
   ],
   "source": [
    "constituents.pt"
   ]
  },
  {
   "cell_type": "code",
   "execution_count": 378,
   "metadata": {},
   "outputs": [],
   "source": [
    "descending_pt = ak.argsort(constituents.pt, axis=2, ascending=False)\n",
    "\n",
    "masked_con = ak.mask(constituents[descending_pt], ak.num(constituents, axis=2) > 1)"
   ]
  },
  {
   "cell_type": "code",
   "execution_count": null,
   "metadata": {},
   "outputs": [],
   "source": []
  },
  {
   "cell_type": "code",
   "execution_count": 379,
   "metadata": {},
   "outputs": [
    {
     "data": {
      "text/html": [
       "<pre>[[],\n",
       " [[7.35, 6.73, 6.25], [5.52, 4.87, 4.78, 4.05, 3.84, 3.56]],\n",
       " [None, [9.78, 2.97, 2.73], [8.35, 8.09, 2.61]],\n",
       " [None],\n",
       " [None, None],\n",
       " [None, [7.9, 7.17, 4.17], [10.5, 9.28, 7.7, 5.33, 2.62]],\n",
       " [None],\n",
       " [],\n",
       " [None],\n",
       " [],\n",
       " ...,\n",
       " [[6.31, 3.73, 2.98, 2.67]],\n",
       " [None, None, ..., [8.49, ..., 3.11], [15.3, 12.6, 7.09, 5.93, 4.47, 3.23]],\n",
       " [],\n",
       " [None],\n",
       " [None],\n",
       " [],\n",
       " [None, None],\n",
       " [[3.4, 3.06], [5.98, 4.58, 4.25, 3.85]],\n",
       " [None]]\n",
       "----------------------------------------------------------------------------\n",
       "backend: cpu\n",
       "nbytes: 14.3 kB\n",
       "type: 500 * var * option[var * float64]</pre>"
      ],
      "text/plain": [
       "<Array [[], [[7.35, ...], ...], ..., [None]] type='500 * var * option[var *...'>"
      ]
     },
     "execution_count": 379,
     "metadata": {},
     "output_type": "execute_result"
    }
   ],
   "source": [
    "masked_con.pt"
   ]
  },
  {
   "cell_type": "code",
   "execution_count": 383,
   "metadata": {},
   "outputs": [],
   "source": [
    "ls =masked_con[:, :, :1].pt - masked_con[:, :, 1:2].pt"
   ]
  },
  {
   "cell_type": "code",
   "execution_count": 384,
   "metadata": {},
   "outputs": [],
   "source": [
    "jets['lesub'] = ls"
   ]
  },
  {
   "cell_type": "code",
   "execution_count": 391,
   "metadata": {},
   "outputs": [
    {
     "data": {
      "text/html": [
       "<pre>{px: 2.62,\n",
       " py: 1.06,\n",
       " pz: -1.15,\n",
       " E: 3.05,\n",
       " n: 1,\n",
       " num_con: 1,\n",
       " girth: 0,\n",
       " lesub: None}\n",
       "-----------------------------------------------------------------------------------------------------------------------------------------------------------------------------\n",
       "backend: cpu\n",
       "nbytes: 3.1 kB\n",
       "type: Momentum4D[\n",
       "    px: float64,\n",
       "    py: float64,\n",
       "    pz: float64,\n",
       "    E: float64,\n",
       "    n: int64,\n",
       "    num_con: int64,\n",
       "    girth: float64,\n",
       "    lesub: option[var * float64]\n",
       "]</pre>"
      ],
      "text/plain": [
       "<MomentumRecord4D {px: 2.62, py: 1.06, pz: -1.15, ...} type='Momentum4D[px:...'>"
      ]
     },
     "execution_count": 391,
     "metadata": {},
     "output_type": "execute_result"
    }
   ],
   "source": [
    "jets[2][0]"
   ]
  },
  {
   "cell_type": "code",
   "execution_count": 372,
   "metadata": {},
   "outputs": [
    {
     "data": {
      "text/html": [
       "<pre>[[],\n",
       " [[1, 2, 0], [5, 2, 1, 3, 4, 0]],\n",
       " [None, [1, 0, 2], [0, 2, 1]],\n",
       " [None],\n",
       " [None, None],\n",
       " [None, None, None],\n",
       " [None],\n",
       " [],\n",
       " [None],\n",
       " [],\n",
       " ...,\n",
       " [None],\n",
       " [None, None, None, [1, 3, 0, 2], None],\n",
       " [],\n",
       " [None],\n",
       " [None],\n",
       " [],\n",
       " [None, None],\n",
       " [[0, 1], None],\n",
       " [None]]\n",
       "----------------------------------------\n",
       "backend: cpu\n",
       "nbytes: 14.3 kB\n",
       "type: 500 * var * option[var * int64]</pre>"
      ],
      "text/plain": [
       "<Array [[], [[1, 2, 0], ...], ..., [None]] type='500 * var * option[var * i...'>"
      ]
     },
     "execution_count": 372,
     "metadata": {},
     "output_type": "execute_result"
    }
   ],
   "source": [
    "descending_pt"
   ]
  },
  {
   "cell_type": "code",
   "execution_count": 371,
   "metadata": {},
   "outputs": [
    {
     "ename": "IndexError",
     "evalue": "cannot slice ListArray (of length 81) with [[1, 2, 0], [5, 2, 1, 3, 4, 0], [1, 0, 2], ..., [0, ...], [1, 3, 0, 2], [0, 1]]: index out of range while attempting to get index 3 (in compiled code: https://github.com/scikit-hep/awkward/blob/awkward-cpp-45/awkward-cpp/src/cpu-kernels/awkward_ListArray_getitem_jagged_apply.cpp#L43)",
     "output_type": "error",
     "traceback": [
      "\u001b[31m---------------------------------------------------------------------------\u001b[39m",
      "\u001b[31mIndexError\u001b[39m                                Traceback (most recent call last)",
      "\u001b[36mCell\u001b[39m\u001b[36m \u001b[39m\u001b[32mIn[371]\u001b[39m\u001b[32m, line 1\u001b[39m\n\u001b[32m----> \u001b[39m\u001b[32m1\u001b[39m \u001b[43mmasked_con\u001b[49m\u001b[43m[\u001b[49m\u001b[43mdescending_pt\u001b[49m\u001b[43m]\u001b[49m\n",
      "\u001b[36mFile \u001b[39m\u001b[32m~/repos/z_plus_hf/.venv/lib/python3.12/site-packages/awkward/highlevel.py:1105\u001b[39m, in \u001b[36mArray.__getitem__\u001b[39m\u001b[34m(self, where)\u001b[39m\n\u001b[32m    676\u001b[39m \u001b[38;5;28;01mdef\u001b[39;00m\u001b[38;5;250m \u001b[39m\u001b[34m__getitem__\u001b[39m(\u001b[38;5;28mself\u001b[39m, where):\n\u001b[32m    677\u001b[39m \u001b[38;5;250m    \u001b[39m\u001b[33;03m\"\"\"\u001b[39;00m\n\u001b[32m    678\u001b[39m \u001b[33;03m    Args:\u001b[39;00m\n\u001b[32m    679\u001b[39m \u001b[33;03m        where (many types supported; see below): Index of positions to\u001b[39;00m\n\u001b[32m   (...)\u001b[39m\u001b[32m   1103\u001b[39m \u001b[33;03m    have the same dimension as the array being indexed.\u001b[39;00m\n\u001b[32m   1104\u001b[39m \u001b[33;03m    \"\"\"\u001b[39;00m\n\u001b[32m-> \u001b[39m\u001b[32m1105\u001b[39m     \u001b[38;5;28;01mwith\u001b[39;00m ak._errors.SlicingErrorContext(\u001b[38;5;28mself\u001b[39m, where):\n\u001b[32m   1106\u001b[39m         \u001b[38;5;66;03m# Handle named axis\u001b[39;00m\n\u001b[32m   1107\u001b[39m         (_, ndim) = \u001b[38;5;28mself\u001b[39m._layout.minmax_depth\n\u001b[32m   1108\u001b[39m         named_axis = _get_named_axis(\u001b[38;5;28mself\u001b[39m)\n",
      "\u001b[36mFile \u001b[39m\u001b[32m~/repos/z_plus_hf/.venv/lib/python3.12/site-packages/awkward/_errors.py:80\u001b[39m, in \u001b[36mErrorContext.__exit__\u001b[39m\u001b[34m(self, exception_type, exception_value, traceback)\u001b[39m\n\u001b[32m     78\u001b[39m     \u001b[38;5;28mself\u001b[39m._slate.\u001b[34m__dict__\u001b[39m.clear()\n\u001b[32m     79\u001b[39m     \u001b[38;5;66;03m# Handle caught exception\u001b[39;00m\n\u001b[32m---> \u001b[39m\u001b[32m80\u001b[39m     \u001b[38;5;28;01mraise\u001b[39;00m \u001b[38;5;28mself\u001b[39m.decorate_exception(exception_type, exception_value)\n\u001b[32m     81\u001b[39m \u001b[38;5;28;01melse\u001b[39;00m:\n\u001b[32m     82\u001b[39m     \u001b[38;5;66;03m# Step out of the way so that another ErrorContext can become primary.\u001b[39;00m\n\u001b[32m     83\u001b[39m     \u001b[38;5;28;01mif\u001b[39;00m \u001b[38;5;28mself\u001b[39m.primary() \u001b[38;5;129;01mis\u001b[39;00m \u001b[38;5;28mself\u001b[39m:\n",
      "\u001b[36mFile \u001b[39m\u001b[32m~/repos/z_plus_hf/.venv/lib/python3.12/site-packages/awkward/highlevel.py:1113\u001b[39m, in \u001b[36mArray.__getitem__\u001b[39m\u001b[34m(self, where)\u001b[39m\n\u001b[32m   1109\u001b[39m where = _normalize_named_slice(named_axis, where, ndim)\n\u001b[32m   1111\u001b[39m NamedAxis.mapping = named_axis\n\u001b[32m-> \u001b[39m\u001b[32m1113\u001b[39m indexed_layout = prepare_layout(\u001b[38;5;28;43mself\u001b[39;49m\u001b[43m.\u001b[49m\u001b[43m_layout\u001b[49m\u001b[43m.\u001b[49m\u001b[43m_getitem\u001b[49m\u001b[43m(\u001b[49m\u001b[43mwhere\u001b[49m\u001b[43m,\u001b[49m\u001b[43m \u001b[49m\u001b[43mNamedAxis\u001b[49m\u001b[43m)\u001b[49m)\n\u001b[32m   1115\u001b[39m \u001b[38;5;28;01mif\u001b[39;00m NamedAxis.mapping:\n\u001b[32m   1116\u001b[39m     \u001b[38;5;28;01mreturn\u001b[39;00m ak.operations.ak_with_named_axis._impl(\n\u001b[32m   1117\u001b[39m         indexed_layout,\n\u001b[32m   1118\u001b[39m         named_axis=NamedAxis.mapping,\n\u001b[32m   (...)\u001b[39m\u001b[32m   1121\u001b[39m         attrs=\u001b[38;5;28mself\u001b[39m._attrs,\n\u001b[32m   1122\u001b[39m     )\n",
      "\u001b[36mFile \u001b[39m\u001b[32m~/repos/z_plus_hf/.venv/lib/python3.12/site-packages/awkward/contents/content.py:657\u001b[39m, in \u001b[36mContent._getitem\u001b[39m\u001b[34m(self, where, named_axis)\u001b[39m\n\u001b[32m    654\u001b[39m         \u001b[38;5;28;01mreturn\u001b[39;00m out._getitem_at(\u001b[32m0\u001b[39m)\n\u001b[32m    656\u001b[39m \u001b[38;5;28;01melif\u001b[39;00m \u001b[38;5;28misinstance\u001b[39m(where, ak.highlevel.Array):\n\u001b[32m--> \u001b[39m\u001b[32m657\u001b[39m     \u001b[38;5;28;01mreturn\u001b[39;00m \u001b[38;5;28;43mself\u001b[39;49m\u001b[43m.\u001b[49m\u001b[43m_getitem\u001b[49m\u001b[43m(\u001b[49m\u001b[43mwhere\u001b[49m\u001b[43m.\u001b[49m\u001b[43mlayout\u001b[49m\u001b[43m,\u001b[49m\u001b[43m \u001b[49m\u001b[43mnamed_axis\u001b[49m\u001b[43m)\u001b[49m\n\u001b[32m    659\u001b[39m \u001b[38;5;66;03m# Convert between nplikes of different backends\u001b[39;00m\n\u001b[32m    660\u001b[39m \u001b[38;5;28;01melif\u001b[39;00m (\n\u001b[32m    661\u001b[39m     \u001b[38;5;28misinstance\u001b[39m(where, ak.contents.Content)\n\u001b[32m    662\u001b[39m     \u001b[38;5;129;01mand\u001b[39;00m where.backend \u001b[38;5;129;01mis\u001b[39;00m \u001b[38;5;129;01mnot\u001b[39;00m \u001b[38;5;28mself\u001b[39m._backend\n\u001b[32m    663\u001b[39m ):\n",
      "\u001b[36mFile \u001b[39m\u001b[32m~/repos/z_plus_hf/.venv/lib/python3.12/site-packages/awkward/contents/content.py:734\u001b[39m, in \u001b[36mContent._getitem\u001b[39m\u001b[34m(self, where, named_axis)\u001b[39m\n\u001b[32m    731\u001b[39m     \u001b[38;5;28;01mreturn\u001b[39;00m where.to_NumpyArray(np.int64)\n\u001b[32m    733\u001b[39m \u001b[38;5;28;01melif\u001b[39;00m \u001b[38;5;28misinstance\u001b[39m(where, Content):\n\u001b[32m--> \u001b[39m\u001b[32m734\u001b[39m     \u001b[38;5;28;01mreturn\u001b[39;00m \u001b[38;5;28;43mself\u001b[39;49m\u001b[43m.\u001b[49m\u001b[43m_getitem\u001b[49m\u001b[43m(\u001b[49m\u001b[43m(\u001b[49m\u001b[43mwhere\u001b[49m\u001b[43m,\u001b[49m\u001b[43m)\u001b[49m\u001b[43m,\u001b[49m\u001b[43m \u001b[49m\u001b[43mnamed_axis\u001b[49m\u001b[43m)\u001b[49m\n\u001b[32m    736\u001b[39m \u001b[38;5;28;01melif\u001b[39;00m is_sized_iterable(where):\n\u001b[32m    737\u001b[39m     \u001b[38;5;66;03m# Do we have an array\u001b[39;00m\n\u001b[32m    738\u001b[39m     nplike = nplike_of_obj(where, default=\u001b[38;5;28;01mNone\u001b[39;00m)\n",
      "\u001b[36mFile \u001b[39m\u001b[32m~/repos/z_plus_hf/.venv/lib/python3.12/site-packages/awkward/contents/content.py:649\u001b[39m, in \u001b[36mContent._getitem\u001b[39m\u001b[34m(self, where, named_axis)\u001b[39m\n\u001b[32m    640\u001b[39m named_axis.mapping = _named_axis\n\u001b[32m    642\u001b[39m \u001b[38;5;28mnext\u001b[39m = ak.contents.RegularArray(\n\u001b[32m    643\u001b[39m     this,\n\u001b[32m    644\u001b[39m     this.length,\n\u001b[32m    645\u001b[39m     \u001b[32m1\u001b[39m,\n\u001b[32m    646\u001b[39m     parameters=\u001b[38;5;28;01mNone\u001b[39;00m,\n\u001b[32m    647\u001b[39m )\n\u001b[32m--> \u001b[39m\u001b[32m649\u001b[39m out = \u001b[38;5;28;43mnext\u001b[39;49m\u001b[43m.\u001b[49m\u001b[43m_getitem_next\u001b[49m\u001b[43m(\u001b[49m\u001b[43mnextwhere\u001b[49m\u001b[43m[\u001b[49m\u001b[32;43m0\u001b[39;49m\u001b[43m]\u001b[49m\u001b[43m,\u001b[49m\u001b[43m \u001b[49m\u001b[43mnextwhere\u001b[49m\u001b[43m[\u001b[49m\u001b[32;43m1\u001b[39;49m\u001b[43m:\u001b[49m\u001b[43m]\u001b[49m\u001b[43m,\u001b[49m\u001b[43m \u001b[49m\u001b[38;5;28;43;01mNone\u001b[39;49;00m\u001b[43m)\u001b[49m\n\u001b[32m    651\u001b[39m \u001b[38;5;28;01mif\u001b[39;00m out.length \u001b[38;5;129;01mis\u001b[39;00m \u001b[38;5;129;01mnot\u001b[39;00m unknown_length \u001b[38;5;129;01mand\u001b[39;00m out.length == \u001b[32m0\u001b[39m:\n\u001b[32m    652\u001b[39m     \u001b[38;5;28;01mreturn\u001b[39;00m out._getitem_nothing()\n",
      "\u001b[36mFile \u001b[39m\u001b[32m~/repos/z_plus_hf/.venv/lib/python3.12/site-packages/awkward/contents/regulararray.py:710\u001b[39m, in \u001b[36mRegularArray._getitem_next\u001b[39m\u001b[34m(self, head, tail, advanced)\u001b[39m\n\u001b[32m    694\u001b[39m     \u001b[38;5;28;01massert\u001b[39;00m head.offsets.nplike \u001b[38;5;129;01mis\u001b[39;00m index_nplike\n\u001b[32m    695\u001b[39m     \u001b[38;5;28mself\u001b[39m._maybe_index_error(\n\u001b[32m    696\u001b[39m         \u001b[38;5;28mself\u001b[39m._backend[\n\u001b[32m    697\u001b[39m             \u001b[33m\"\u001b[39m\u001b[33mawkward_RegularArray_getitem_jagged_expand\u001b[39m\u001b[33m\"\u001b[39m,\n\u001b[32m   (...)\u001b[39m\u001b[32m    708\u001b[39m         slicer=head,\n\u001b[32m    709\u001b[39m     )\n\u001b[32m--> \u001b[39m\u001b[32m710\u001b[39m     down = \u001b[38;5;28;43mself\u001b[39;49m\u001b[43m.\u001b[49m\u001b[43m_content\u001b[49m\u001b[43m.\u001b[49m\u001b[43m_getitem_next_jagged\u001b[49m\u001b[43m(\u001b[49m\n\u001b[32m    711\u001b[39m \u001b[43m        \u001b[49m\u001b[43mmultistarts\u001b[49m\u001b[43m,\u001b[49m\u001b[43m \u001b[49m\u001b[43mmultistops\u001b[49m\u001b[43m,\u001b[49m\u001b[43m \u001b[49m\u001b[43mhead\u001b[49m\u001b[43m.\u001b[49m\u001b[43m_content\u001b[49m\u001b[43m,\u001b[49m\u001b[43m \u001b[49m\u001b[43mtail\u001b[49m\n\u001b[32m    712\u001b[39m \u001b[43m    \u001b[49m\u001b[43m)\u001b[49m\n\u001b[32m    714\u001b[39m     \u001b[38;5;28;01mreturn\u001b[39;00m RegularArray(\n\u001b[32m    715\u001b[39m         down, headlength, \u001b[38;5;28mself\u001b[39m._length, parameters=\u001b[38;5;28mself\u001b[39m._parameters\n\u001b[32m    716\u001b[39m     )\n\u001b[32m    718\u001b[39m \u001b[38;5;28;01melif\u001b[39;00m \u001b[38;5;28misinstance\u001b[39m(head, ak.contents.IndexedOptionArray):\n",
      "\u001b[36mFile \u001b[39m\u001b[32m~/repos/z_plus_hf/.venv/lib/python3.12/site-packages/awkward/contents/listoffsetarray.py:443\u001b[39m, in \u001b[36mListOffsetArray._getitem_next_jagged\u001b[39m\u001b[34m(self, slicestarts, slicestops, slicecontent, tail)\u001b[39m\n\u001b[32m    437\u001b[39m \u001b[38;5;28;01mdef\u001b[39;00m\u001b[38;5;250m \u001b[39m\u001b[34m_getitem_next_jagged\u001b[39m(\n\u001b[32m    438\u001b[39m     \u001b[38;5;28mself\u001b[39m, slicestarts: Index, slicestops: Index, slicecontent: Content, tail\n\u001b[32m    439\u001b[39m ) -> Content:\n\u001b[32m    440\u001b[39m     out = ak.contents.ListArray(\n\u001b[32m    441\u001b[39m         \u001b[38;5;28mself\u001b[39m.starts, \u001b[38;5;28mself\u001b[39m.stops, \u001b[38;5;28mself\u001b[39m._content, parameters=\u001b[38;5;28mself\u001b[39m._parameters\n\u001b[32m    442\u001b[39m     )\n\u001b[32m--> \u001b[39m\u001b[32m443\u001b[39m     \u001b[38;5;28;01mreturn\u001b[39;00m \u001b[43mout\u001b[49m\u001b[43m.\u001b[49m\u001b[43m_getitem_next_jagged\u001b[49m\u001b[43m(\u001b[49m\u001b[43mslicestarts\u001b[49m\u001b[43m,\u001b[49m\u001b[43m \u001b[49m\u001b[43mslicestops\u001b[49m\u001b[43m,\u001b[49m\u001b[43m \u001b[49m\u001b[43mslicecontent\u001b[49m\u001b[43m,\u001b[49m\u001b[43m \u001b[49m\u001b[43mtail\u001b[49m\u001b[43m)\u001b[49m\n",
      "\u001b[36mFile \u001b[39m\u001b[32m~/repos/z_plus_hf/.venv/lib/python3.12/site-packages/awkward/contents/listarray.py:687\u001b[39m, in \u001b[36mListArray._getitem_next_jagged\u001b[39m\u001b[34m(self, slicestarts, slicestops, slicecontent, tail)\u001b[39m\n\u001b[32m    683\u001b[39m     nextcontent = as_list_offset_array._content._carry(nextcarry, \u001b[38;5;28;01mTrue\u001b[39;00m)\n\u001b[32m    684\u001b[39m     \u001b[38;5;28mnext\u001b[39m = ak.contents.ListOffsetArray(\n\u001b[32m    685\u001b[39m         smalloffsets, nextcontent, parameters=\u001b[38;5;28mself\u001b[39m._parameters\n\u001b[32m    686\u001b[39m     )\n\u001b[32m--> \u001b[39m\u001b[32m687\u001b[39m     out = \u001b[38;5;28;43mnext\u001b[39;49m\u001b[43m.\u001b[49m\u001b[43m_getitem_next_jagged\u001b[49m\u001b[43m(\u001b[49m\n\u001b[32m    688\u001b[39m \u001b[43m        \u001b[49m\u001b[43msmalloffsets\u001b[49m\u001b[43m[\u001b[49m\u001b[43m:\u001b[49m\u001b[43m-\u001b[49m\u001b[32;43m1\u001b[39;49m\u001b[43m]\u001b[49m\u001b[43m,\u001b[49m\u001b[43m \u001b[49m\u001b[43msmalloffsets\u001b[49m\u001b[43m[\u001b[49m\u001b[32;43m1\u001b[39;49m\u001b[43m:\u001b[49m\u001b[43m]\u001b[49m\u001b[43m,\u001b[49m\u001b[43m \u001b[49m\u001b[43mslicecontent\u001b[49m\u001b[43m.\u001b[49m\u001b[43m_content\u001b[49m\u001b[43m,\u001b[49m\u001b[43m \u001b[49m\u001b[43mtail\u001b[49m\n\u001b[32m    689\u001b[39m \u001b[43m    \u001b[49m\u001b[43m)\u001b[49m\n\u001b[32m    691\u001b[39m \u001b[38;5;28;01melse\u001b[39;00m:\n\u001b[32m    692\u001b[39m     out = \u001b[38;5;28mself\u001b[39m._getitem_next_jagged(\n\u001b[32m    693\u001b[39m         smalloffsets[:-\u001b[32m1\u001b[39m], smalloffsets[\u001b[32m1\u001b[39m:], slicecontent._content, tail\n\u001b[32m    694\u001b[39m     )\n",
      "\u001b[36mFile \u001b[39m\u001b[32m~/repos/z_plus_hf/.venv/lib/python3.12/site-packages/awkward/contents/listoffsetarray.py:443\u001b[39m, in \u001b[36mListOffsetArray._getitem_next_jagged\u001b[39m\u001b[34m(self, slicestarts, slicestops, slicecontent, tail)\u001b[39m\n\u001b[32m    437\u001b[39m \u001b[38;5;28;01mdef\u001b[39;00m\u001b[38;5;250m \u001b[39m\u001b[34m_getitem_next_jagged\u001b[39m(\n\u001b[32m    438\u001b[39m     \u001b[38;5;28mself\u001b[39m, slicestarts: Index, slicestops: Index, slicecontent: Content, tail\n\u001b[32m    439\u001b[39m ) -> Content:\n\u001b[32m    440\u001b[39m     out = ak.contents.ListArray(\n\u001b[32m    441\u001b[39m         \u001b[38;5;28mself\u001b[39m.starts, \u001b[38;5;28mself\u001b[39m.stops, \u001b[38;5;28mself\u001b[39m._content, parameters=\u001b[38;5;28mself\u001b[39m._parameters\n\u001b[32m    442\u001b[39m     )\n\u001b[32m--> \u001b[39m\u001b[32m443\u001b[39m     \u001b[38;5;28;01mreturn\u001b[39;00m \u001b[43mout\u001b[49m\u001b[43m.\u001b[49m\u001b[43m_getitem_next_jagged\u001b[49m\u001b[43m(\u001b[49m\u001b[43mslicestarts\u001b[49m\u001b[43m,\u001b[49m\u001b[43m \u001b[49m\u001b[43mslicestops\u001b[49m\u001b[43m,\u001b[49m\u001b[43m \u001b[49m\u001b[43mslicecontent\u001b[49m\u001b[43m,\u001b[49m\u001b[43m \u001b[49m\u001b[43mtail\u001b[49m\u001b[43m)\u001b[49m\n",
      "\u001b[36mFile \u001b[39m\u001b[32m~/repos/z_plus_hf/.venv/lib/python3.12/site-packages/awkward/contents/listarray.py:520\u001b[39m, in \u001b[36mListArray._getitem_next_jagged\u001b[39m\u001b[34m(self, slicestarts, slicestops, slicecontent, tail)\u001b[39m\n\u001b[32m    514\u001b[39m     next_content = as_list_offset_array._content[\n\u001b[32m    515\u001b[39m         as_list_offset_array.offsets[\u001b[32m0\u001b[39m] : as_list_offset_array.offsets[-\u001b[32m1\u001b[39m]\n\u001b[32m    516\u001b[39m     ]\n\u001b[32m    518\u001b[39m     sliceoffsets = slicecontent._offsets\n\u001b[32m--> \u001b[39m\u001b[32m520\u001b[39m     outcontent = \u001b[43mnext_content\u001b[49m\u001b[43m.\u001b[49m\u001b[43m_getitem_next_jagged\u001b[49m\u001b[43m(\u001b[49m\n\u001b[32m    521\u001b[39m \u001b[43m        \u001b[49m\u001b[43msliceoffsets\u001b[49m\u001b[43m[\u001b[49m\u001b[43m:\u001b[49m\u001b[43m-\u001b[49m\u001b[32;43m1\u001b[39;49m\u001b[43m]\u001b[49m\u001b[43m,\u001b[49m\u001b[43m \u001b[49m\u001b[43msliceoffsets\u001b[49m\u001b[43m[\u001b[49m\u001b[32;43m1\u001b[39;49m\u001b[43m:\u001b[49m\u001b[43m]\u001b[49m\u001b[43m,\u001b[49m\u001b[43m \u001b[49m\u001b[43mslicecontent\u001b[49m\u001b[43m.\u001b[49m\u001b[43m_content\u001b[49m\u001b[43m,\u001b[49m\u001b[43m \u001b[49m\u001b[43mtail\u001b[49m\n\u001b[32m    522\u001b[39m \u001b[43m    \u001b[49m\u001b[43m)\u001b[49m\n\u001b[32m    524\u001b[39m     \u001b[38;5;28;01mreturn\u001b[39;00m ak.contents.ListOffsetArray(\n\u001b[32m    525\u001b[39m         outoffsets, outcontent, parameters=\u001b[38;5;28mself\u001b[39m._parameters\n\u001b[32m    526\u001b[39m     )\n\u001b[32m    528\u001b[39m \u001b[38;5;28;01melif\u001b[39;00m \u001b[38;5;28misinstance\u001b[39m(slicecontent, ak.contents.NumpyArray):\n",
      "\u001b[36mFile \u001b[39m\u001b[32m~/repos/z_plus_hf/.venv/lib/python3.12/site-packages/awkward/contents/bytemaskedarray.py:567\u001b[39m, in \u001b[36mByteMaskedArray._getitem_next_jagged\u001b[39m\u001b[34m(self, slicestarts, slicestops, slicecontent, tail)\u001b[39m\n\u001b[32m    564\u001b[39m \u001b[38;5;28;01mdef\u001b[39;00m\u001b[38;5;250m \u001b[39m\u001b[34m_getitem_next_jagged\u001b[39m(\n\u001b[32m    565\u001b[39m     \u001b[38;5;28mself\u001b[39m, slicestarts: Index, slicestops: Index, slicecontent: Content, tail\n\u001b[32m    566\u001b[39m ) -> Content:\n\u001b[32m--> \u001b[39m\u001b[32m567\u001b[39m     \u001b[38;5;28;01mreturn\u001b[39;00m \u001b[38;5;28;43mself\u001b[39;49m\u001b[43m.\u001b[49m\u001b[43m_getitem_next_jagged_generic\u001b[49m\u001b[43m(\u001b[49m\n\u001b[32m    568\u001b[39m \u001b[43m        \u001b[49m\u001b[43mslicestarts\u001b[49m\u001b[43m,\u001b[49m\u001b[43m \u001b[49m\u001b[43mslicestops\u001b[49m\u001b[43m,\u001b[49m\u001b[43m \u001b[49m\u001b[43mslicecontent\u001b[49m\u001b[43m,\u001b[49m\u001b[43m \u001b[49m\u001b[43mtail\u001b[49m\n\u001b[32m    569\u001b[39m \u001b[43m    \u001b[49m\u001b[43m)\u001b[49m\n",
      "\u001b[36mFile \u001b[39m\u001b[32m~/repos/z_plus_hf/.venv/lib/python3.12/site-packages/awkward/contents/bytemaskedarray.py:558\u001b[39m, in \u001b[36mByteMaskedArray._getitem_next_jagged_generic\u001b[39m\u001b[34m(self, slicestarts, slicestops, slicecontent, tail)\u001b[39m\n\u001b[32m    538\u001b[39m \u001b[38;5;28mself\u001b[39m._maybe_index_error(\n\u001b[32m    539\u001b[39m     \u001b[38;5;28mself\u001b[39m._backend[\n\u001b[32m    540\u001b[39m         \u001b[33m\"\u001b[39m\u001b[33mawkward_MaskedArray_getitem_next_jagged_project\u001b[39m\u001b[33m\"\u001b[39m,\n\u001b[32m   (...)\u001b[39m\u001b[32m    554\u001b[39m     slicer=ak.contents.ListArray(slicestarts, slicestops, slicecontent),\n\u001b[32m    555\u001b[39m )\n\u001b[32m    557\u001b[39m \u001b[38;5;28mnext\u001b[39m = \u001b[38;5;28mself\u001b[39m._content._carry(nextcarry, \u001b[38;5;28;01mTrue\u001b[39;00m)\n\u001b[32m--> \u001b[39m\u001b[32m558\u001b[39m out = \u001b[38;5;28;43mnext\u001b[39;49m\u001b[43m.\u001b[49m\u001b[43m_getitem_next_jagged\u001b[49m\u001b[43m(\u001b[49m\u001b[43mreducedstarts\u001b[49m\u001b[43m,\u001b[49m\u001b[43m \u001b[49m\u001b[43mreducedstops\u001b[49m\u001b[43m,\u001b[49m\u001b[43m \u001b[49m\u001b[43mslicecontent\u001b[49m\u001b[43m,\u001b[49m\u001b[43m \u001b[49m\u001b[43mtail\u001b[49m\u001b[43m)\u001b[49m\n\u001b[32m    560\u001b[39m \u001b[38;5;28;01mreturn\u001b[39;00m ak.contents.IndexedOptionArray.simplified(\n\u001b[32m    561\u001b[39m     outindex, out, parameters=\u001b[38;5;28mself\u001b[39m._parameters\n\u001b[32m    562\u001b[39m )\n",
      "\u001b[36mFile \u001b[39m\u001b[32m~/repos/z_plus_hf/.venv/lib/python3.12/site-packages/awkward/contents/listarray.py:567\u001b[39m, in \u001b[36mListArray._getitem_next_jagged\u001b[39m\u001b[34m(self, slicestarts, slicestops, slicecontent, tail)\u001b[39m\n\u001b[32m    556\u001b[39m nextcarry = ak.index.Index64.empty(carrylen, \u001b[38;5;28mself\u001b[39m._backend.index_nplike)\n\u001b[32m    558\u001b[39m \u001b[38;5;28;01massert\u001b[39;00m (\n\u001b[32m    559\u001b[39m     outoffsets.nplike \u001b[38;5;129;01mis\u001b[39;00m \u001b[38;5;28mself\u001b[39m._backend.index_nplike\n\u001b[32m    560\u001b[39m     \u001b[38;5;129;01mand\u001b[39;00m nextcarry.nplike \u001b[38;5;129;01mis\u001b[39;00m \u001b[38;5;28mself\u001b[39m._backend.index_nplike\n\u001b[32m   (...)\u001b[39m\u001b[32m    565\u001b[39m     \u001b[38;5;129;01mand\u001b[39;00m \u001b[38;5;28mself\u001b[39m._stops.nplike \u001b[38;5;129;01mis\u001b[39;00m \u001b[38;5;28mself\u001b[39m._backend.index_nplike\n\u001b[32m    566\u001b[39m )\n\u001b[32m--> \u001b[39m\u001b[32m567\u001b[39m \u001b[38;5;28;43mself\u001b[39;49m\u001b[43m.\u001b[49m\u001b[43m_maybe_index_error\u001b[49m\u001b[43m(\u001b[49m\n\u001b[32m    568\u001b[39m \u001b[43m    \u001b[49m\u001b[38;5;28;43mself\u001b[39;49m\u001b[43m.\u001b[49m\u001b[43m_backend\u001b[49m\u001b[43m[\u001b[49m\n\u001b[32m    569\u001b[39m \u001b[43m        \u001b[49m\u001b[33;43m\"\u001b[39;49m\u001b[33;43mawkward_ListArray_getitem_jagged_apply\u001b[39;49m\u001b[33;43m\"\u001b[39;49m\u001b[43m,\u001b[49m\n\u001b[32m    570\u001b[39m \u001b[43m        \u001b[49m\u001b[43moutoffsets\u001b[49m\u001b[43m.\u001b[49m\u001b[43mdtype\u001b[49m\u001b[43m.\u001b[49m\u001b[43mtype\u001b[49m\u001b[43m,\u001b[49m\n\u001b[32m    571\u001b[39m \u001b[43m        \u001b[49m\u001b[43mnextcarry\u001b[49m\u001b[43m.\u001b[49m\u001b[43mdtype\u001b[49m\u001b[43m.\u001b[49m\u001b[43mtype\u001b[49m\u001b[43m,\u001b[49m\n\u001b[32m    572\u001b[39m \u001b[43m        \u001b[49m\u001b[43mslicestarts\u001b[49m\u001b[43m.\u001b[49m\u001b[43mdtype\u001b[49m\u001b[43m.\u001b[49m\u001b[43mtype\u001b[49m\u001b[43m,\u001b[49m\n\u001b[32m    573\u001b[39m \u001b[43m        \u001b[49m\u001b[43mslicestops\u001b[49m\u001b[43m.\u001b[49m\u001b[43mdtype\u001b[49m\u001b[43m.\u001b[49m\u001b[43mtype\u001b[49m\u001b[43m,\u001b[49m\n\u001b[32m    574\u001b[39m \u001b[43m        \u001b[49m\u001b[43msliceindex\u001b[49m\u001b[43m.\u001b[49m\u001b[43mdtype\u001b[49m\u001b[43m.\u001b[49m\u001b[43mtype\u001b[49m\u001b[43m,\u001b[49m\n\u001b[32m    575\u001b[39m \u001b[43m        \u001b[49m\u001b[38;5;28;43mself\u001b[39;49m\u001b[43m.\u001b[49m\u001b[43m_starts\u001b[49m\u001b[43m.\u001b[49m\u001b[43mdtype\u001b[49m\u001b[43m.\u001b[49m\u001b[43mtype\u001b[49m\u001b[43m,\u001b[49m\n\u001b[32m    576\u001b[39m \u001b[43m        \u001b[49m\u001b[38;5;28;43mself\u001b[39;49m\u001b[43m.\u001b[49m\u001b[43m_stops\u001b[49m\u001b[43m.\u001b[49m\u001b[43mdtype\u001b[49m\u001b[43m.\u001b[49m\u001b[43mtype\u001b[49m\u001b[43m,\u001b[49m\n\u001b[32m    577\u001b[39m \u001b[43m    \u001b[49m\u001b[43m]\u001b[49m\u001b[43m(\u001b[49m\n\u001b[32m    578\u001b[39m \u001b[43m        \u001b[49m\u001b[43moutoffsets\u001b[49m\u001b[43m.\u001b[49m\u001b[43mdata\u001b[49m\u001b[43m,\u001b[49m\n\u001b[32m    579\u001b[39m \u001b[43m        \u001b[49m\u001b[43mnextcarry\u001b[49m\u001b[43m.\u001b[49m\u001b[43mdata\u001b[49m\u001b[43m,\u001b[49m\n\u001b[32m    580\u001b[39m \u001b[43m        \u001b[49m\u001b[43mslicestarts\u001b[49m\u001b[43m.\u001b[49m\u001b[43mdata\u001b[49m\u001b[43m,\u001b[49m\n\u001b[32m    581\u001b[39m \u001b[43m        \u001b[49m\u001b[43mslicestops\u001b[49m\u001b[43m.\u001b[49m\u001b[43mdata\u001b[49m\u001b[43m,\u001b[49m\n\u001b[32m    582\u001b[39m \u001b[43m        \u001b[49m\u001b[43mslicestarts\u001b[49m\u001b[43m.\u001b[49m\u001b[43mlength\u001b[49m\u001b[43m,\u001b[49m\n\u001b[32m    583\u001b[39m \u001b[43m        \u001b[49m\u001b[43msliceindex\u001b[49m\u001b[43m.\u001b[49m\u001b[43mdata\u001b[49m\u001b[43m,\u001b[49m\n\u001b[32m    584\u001b[39m \u001b[43m        \u001b[49m\u001b[43msliceindex\u001b[49m\u001b[43m.\u001b[49m\u001b[43mlength\u001b[49m\u001b[43m,\u001b[49m\n\u001b[32m    585\u001b[39m \u001b[43m        \u001b[49m\u001b[38;5;28;43mself\u001b[39;49m\u001b[43m.\u001b[49m\u001b[43m_starts\u001b[49m\u001b[43m.\u001b[49m\u001b[43mdata\u001b[49m\u001b[43m,\u001b[49m\n\u001b[32m    586\u001b[39m \u001b[43m        \u001b[49m\u001b[38;5;28;43mself\u001b[39;49m\u001b[43m.\u001b[49m\u001b[43m_stops\u001b[49m\u001b[43m.\u001b[49m\u001b[43mdata\u001b[49m\u001b[43m,\u001b[49m\n\u001b[32m    587\u001b[39m \u001b[43m        \u001b[49m\u001b[38;5;28;43mself\u001b[39;49m\u001b[43m.\u001b[49m\u001b[43m_content\u001b[49m\u001b[43m.\u001b[49m\u001b[43mlength\u001b[49m\u001b[43m,\u001b[49m\n\u001b[32m    588\u001b[39m \u001b[43m    \u001b[49m\u001b[43m)\u001b[49m\u001b[43m,\u001b[49m\n\u001b[32m    589\u001b[39m \u001b[43m    \u001b[49m\u001b[43mslicer\u001b[49m\u001b[43m=\u001b[49m\u001b[43mak\u001b[49m\u001b[43m.\u001b[49m\u001b[43mcontents\u001b[49m\u001b[43m.\u001b[49m\u001b[43mListArray\u001b[49m\u001b[43m(\u001b[49m\u001b[43mslicestarts\u001b[49m\u001b[43m,\u001b[49m\u001b[43m \u001b[49m\u001b[43mslicestops\u001b[49m\u001b[43m,\u001b[49m\u001b[43m \u001b[49m\u001b[43mslicecontent\u001b[49m\u001b[43m)\u001b[49m\u001b[43m,\u001b[49m\n\u001b[32m    590\u001b[39m \u001b[43m\u001b[49m\u001b[43m)\u001b[49m\n\u001b[32m    591\u001b[39m nextcontent = \u001b[38;5;28mself\u001b[39m._content._carry(nextcarry, \u001b[38;5;28;01mTrue\u001b[39;00m)\n\u001b[32m    592\u001b[39m nexthead, nexttail = ak._slicing.head_tail(tail)\n",
      "\u001b[36mFile \u001b[39m\u001b[32m~/repos/z_plus_hf/.venv/lib/python3.12/site-packages/awkward/contents/content.py:295\u001b[39m, in \u001b[36mContent._maybe_index_error\u001b[39m\u001b[34m(self, error, slicer)\u001b[39m\n\u001b[32m    293\u001b[39m \u001b[38;5;28;01melse\u001b[39;00m:\n\u001b[32m    294\u001b[39m     message = \u001b[38;5;28mself\u001b[39m._backend.format_kernel_error(error)\n\u001b[32m--> \u001b[39m\u001b[32m295\u001b[39m     \u001b[38;5;28;01mraise\u001b[39;00m ak._errors.index_error(\u001b[38;5;28mself\u001b[39m, slicer, message)\n",
      "\u001b[31mIndexError\u001b[39m: cannot slice ListArray (of length 81) with [[1, 2, 0], [5, 2, 1, 3, 4, 0], [1, 0, 2], ..., [0, ...], [1, 3, 0, 2], [0, 1]]: index out of range while attempting to get index 3 (in compiled code: https://github.com/scikit-hep/awkward/blob/awkward-cpp-45/awkward-cpp/src/cpu-kernels/awkward_ListArray_getitem_jagged_apply.cpp#L43)",
      "\nThis error occurred while attempting to slice\n\n    <MomentumArray4D [[], [[{...}, ...], ...], ..., [None]] type='500 * var...'>\n\nwith\n\n    <Array [[], [[1, 2, 0], ...], ..., [None]] type='500 * var * option[var * i...'>"
     ]
    }
   ],
   "source": [
    "masked_con[descending_pt]"
   ]
  },
  {
   "cell_type": "code",
   "execution_count": 369,
   "metadata": {},
   "outputs": [
    {
     "ename": "IndexError",
     "evalue": "cannot slice ListArray (of length 81) with [[1, 2, 0], [5, 2, 1, 3, 4, 0], [1, 0, 2], ..., [0, ...], [1, 3, 0, 2], [0, 1]]: index out of range while attempting to get index 3 (in compiled code: https://github.com/scikit-hep/awkward/blob/awkward-cpp-45/awkward-cpp/src/cpu-kernels/awkward_ListArray_getitem_jagged_apply.cpp#L43)",
     "output_type": "error",
     "traceback": [
      "\u001b[31m---------------------------------------------------------------------------\u001b[39m",
      "\u001b[31mIndexError\u001b[39m                                Traceback (most recent call last)",
      "\u001b[36mCell\u001b[39m\u001b[36m \u001b[39m\u001b[32mIn[369]\u001b[39m\u001b[32m, line 2\u001b[39m\n\u001b[32m      1\u001b[39m descending_pt = ak.argsort(masked_con.pt, axis=\u001b[32m2\u001b[39m, ascending=\u001b[38;5;28;01mFalse\u001b[39;00m)\n\u001b[32m----> \u001b[39m\u001b[32m2\u001b[39m leading = \u001b[43mmasked_con\u001b[49m\u001b[43m[\u001b[49m\u001b[43mdescending_pt\u001b[49m\u001b[43m]\u001b[49m[:, :, :\u001b[32m1\u001b[39m]\n\u001b[32m      3\u001b[39m leading.pt\n",
      "\u001b[36mFile \u001b[39m\u001b[32m~/repos/z_plus_hf/.venv/lib/python3.12/site-packages/awkward/highlevel.py:1105\u001b[39m, in \u001b[36mArray.__getitem__\u001b[39m\u001b[34m(self, where)\u001b[39m\n\u001b[32m    676\u001b[39m \u001b[38;5;28;01mdef\u001b[39;00m\u001b[38;5;250m \u001b[39m\u001b[34m__getitem__\u001b[39m(\u001b[38;5;28mself\u001b[39m, where):\n\u001b[32m    677\u001b[39m \u001b[38;5;250m    \u001b[39m\u001b[33;03m\"\"\"\u001b[39;00m\n\u001b[32m    678\u001b[39m \u001b[33;03m    Args:\u001b[39;00m\n\u001b[32m    679\u001b[39m \u001b[33;03m        where (many types supported; see below): Index of positions to\u001b[39;00m\n\u001b[32m   (...)\u001b[39m\u001b[32m   1103\u001b[39m \u001b[33;03m    have the same dimension as the array being indexed.\u001b[39;00m\n\u001b[32m   1104\u001b[39m \u001b[33;03m    \"\"\"\u001b[39;00m\n\u001b[32m-> \u001b[39m\u001b[32m1105\u001b[39m     \u001b[38;5;28;01mwith\u001b[39;00m ak._errors.SlicingErrorContext(\u001b[38;5;28mself\u001b[39m, where):\n\u001b[32m   1106\u001b[39m         \u001b[38;5;66;03m# Handle named axis\u001b[39;00m\n\u001b[32m   1107\u001b[39m         (_, ndim) = \u001b[38;5;28mself\u001b[39m._layout.minmax_depth\n\u001b[32m   1108\u001b[39m         named_axis = _get_named_axis(\u001b[38;5;28mself\u001b[39m)\n",
      "\u001b[36mFile \u001b[39m\u001b[32m~/repos/z_plus_hf/.venv/lib/python3.12/site-packages/awkward/_errors.py:80\u001b[39m, in \u001b[36mErrorContext.__exit__\u001b[39m\u001b[34m(self, exception_type, exception_value, traceback)\u001b[39m\n\u001b[32m     78\u001b[39m     \u001b[38;5;28mself\u001b[39m._slate.\u001b[34m__dict__\u001b[39m.clear()\n\u001b[32m     79\u001b[39m     \u001b[38;5;66;03m# Handle caught exception\u001b[39;00m\n\u001b[32m---> \u001b[39m\u001b[32m80\u001b[39m     \u001b[38;5;28;01mraise\u001b[39;00m \u001b[38;5;28mself\u001b[39m.decorate_exception(exception_type, exception_value)\n\u001b[32m     81\u001b[39m \u001b[38;5;28;01melse\u001b[39;00m:\n\u001b[32m     82\u001b[39m     \u001b[38;5;66;03m# Step out of the way so that another ErrorContext can become primary.\u001b[39;00m\n\u001b[32m     83\u001b[39m     \u001b[38;5;28;01mif\u001b[39;00m \u001b[38;5;28mself\u001b[39m.primary() \u001b[38;5;129;01mis\u001b[39;00m \u001b[38;5;28mself\u001b[39m:\n",
      "\u001b[36mFile \u001b[39m\u001b[32m~/repos/z_plus_hf/.venv/lib/python3.12/site-packages/awkward/highlevel.py:1113\u001b[39m, in \u001b[36mArray.__getitem__\u001b[39m\u001b[34m(self, where)\u001b[39m\n\u001b[32m   1109\u001b[39m where = _normalize_named_slice(named_axis, where, ndim)\n\u001b[32m   1111\u001b[39m NamedAxis.mapping = named_axis\n\u001b[32m-> \u001b[39m\u001b[32m1113\u001b[39m indexed_layout = prepare_layout(\u001b[38;5;28;43mself\u001b[39;49m\u001b[43m.\u001b[49m\u001b[43m_layout\u001b[49m\u001b[43m.\u001b[49m\u001b[43m_getitem\u001b[49m\u001b[43m(\u001b[49m\u001b[43mwhere\u001b[49m\u001b[43m,\u001b[49m\u001b[43m \u001b[49m\u001b[43mNamedAxis\u001b[49m\u001b[43m)\u001b[49m)\n\u001b[32m   1115\u001b[39m \u001b[38;5;28;01mif\u001b[39;00m NamedAxis.mapping:\n\u001b[32m   1116\u001b[39m     \u001b[38;5;28;01mreturn\u001b[39;00m ak.operations.ak_with_named_axis._impl(\n\u001b[32m   1117\u001b[39m         indexed_layout,\n\u001b[32m   1118\u001b[39m         named_axis=NamedAxis.mapping,\n\u001b[32m   (...)\u001b[39m\u001b[32m   1121\u001b[39m         attrs=\u001b[38;5;28mself\u001b[39m._attrs,\n\u001b[32m   1122\u001b[39m     )\n",
      "\u001b[36mFile \u001b[39m\u001b[32m~/repos/z_plus_hf/.venv/lib/python3.12/site-packages/awkward/contents/content.py:657\u001b[39m, in \u001b[36mContent._getitem\u001b[39m\u001b[34m(self, where, named_axis)\u001b[39m\n\u001b[32m    654\u001b[39m         \u001b[38;5;28;01mreturn\u001b[39;00m out._getitem_at(\u001b[32m0\u001b[39m)\n\u001b[32m    656\u001b[39m \u001b[38;5;28;01melif\u001b[39;00m \u001b[38;5;28misinstance\u001b[39m(where, ak.highlevel.Array):\n\u001b[32m--> \u001b[39m\u001b[32m657\u001b[39m     \u001b[38;5;28;01mreturn\u001b[39;00m \u001b[38;5;28;43mself\u001b[39;49m\u001b[43m.\u001b[49m\u001b[43m_getitem\u001b[49m\u001b[43m(\u001b[49m\u001b[43mwhere\u001b[49m\u001b[43m.\u001b[49m\u001b[43mlayout\u001b[49m\u001b[43m,\u001b[49m\u001b[43m \u001b[49m\u001b[43mnamed_axis\u001b[49m\u001b[43m)\u001b[49m\n\u001b[32m    659\u001b[39m \u001b[38;5;66;03m# Convert between nplikes of different backends\u001b[39;00m\n\u001b[32m    660\u001b[39m \u001b[38;5;28;01melif\u001b[39;00m (\n\u001b[32m    661\u001b[39m     \u001b[38;5;28misinstance\u001b[39m(where, ak.contents.Content)\n\u001b[32m    662\u001b[39m     \u001b[38;5;129;01mand\u001b[39;00m where.backend \u001b[38;5;129;01mis\u001b[39;00m \u001b[38;5;129;01mnot\u001b[39;00m \u001b[38;5;28mself\u001b[39m._backend\n\u001b[32m    663\u001b[39m ):\n",
      "\u001b[36mFile \u001b[39m\u001b[32m~/repos/z_plus_hf/.venv/lib/python3.12/site-packages/awkward/contents/content.py:734\u001b[39m, in \u001b[36mContent._getitem\u001b[39m\u001b[34m(self, where, named_axis)\u001b[39m\n\u001b[32m    731\u001b[39m     \u001b[38;5;28;01mreturn\u001b[39;00m where.to_NumpyArray(np.int64)\n\u001b[32m    733\u001b[39m \u001b[38;5;28;01melif\u001b[39;00m \u001b[38;5;28misinstance\u001b[39m(where, Content):\n\u001b[32m--> \u001b[39m\u001b[32m734\u001b[39m     \u001b[38;5;28;01mreturn\u001b[39;00m \u001b[38;5;28;43mself\u001b[39;49m\u001b[43m.\u001b[49m\u001b[43m_getitem\u001b[49m\u001b[43m(\u001b[49m\u001b[43m(\u001b[49m\u001b[43mwhere\u001b[49m\u001b[43m,\u001b[49m\u001b[43m)\u001b[49m\u001b[43m,\u001b[49m\u001b[43m \u001b[49m\u001b[43mnamed_axis\u001b[49m\u001b[43m)\u001b[49m\n\u001b[32m    736\u001b[39m \u001b[38;5;28;01melif\u001b[39;00m is_sized_iterable(where):\n\u001b[32m    737\u001b[39m     \u001b[38;5;66;03m# Do we have an array\u001b[39;00m\n\u001b[32m    738\u001b[39m     nplike = nplike_of_obj(where, default=\u001b[38;5;28;01mNone\u001b[39;00m)\n",
      "\u001b[36mFile \u001b[39m\u001b[32m~/repos/z_plus_hf/.venv/lib/python3.12/site-packages/awkward/contents/content.py:649\u001b[39m, in \u001b[36mContent._getitem\u001b[39m\u001b[34m(self, where, named_axis)\u001b[39m\n\u001b[32m    640\u001b[39m named_axis.mapping = _named_axis\n\u001b[32m    642\u001b[39m \u001b[38;5;28mnext\u001b[39m = ak.contents.RegularArray(\n\u001b[32m    643\u001b[39m     this,\n\u001b[32m    644\u001b[39m     this.length,\n\u001b[32m    645\u001b[39m     \u001b[32m1\u001b[39m,\n\u001b[32m    646\u001b[39m     parameters=\u001b[38;5;28;01mNone\u001b[39;00m,\n\u001b[32m    647\u001b[39m )\n\u001b[32m--> \u001b[39m\u001b[32m649\u001b[39m out = \u001b[38;5;28;43mnext\u001b[39;49m\u001b[43m.\u001b[49m\u001b[43m_getitem_next\u001b[49m\u001b[43m(\u001b[49m\u001b[43mnextwhere\u001b[49m\u001b[43m[\u001b[49m\u001b[32;43m0\u001b[39;49m\u001b[43m]\u001b[49m\u001b[43m,\u001b[49m\u001b[43m \u001b[49m\u001b[43mnextwhere\u001b[49m\u001b[43m[\u001b[49m\u001b[32;43m1\u001b[39;49m\u001b[43m:\u001b[49m\u001b[43m]\u001b[49m\u001b[43m,\u001b[49m\u001b[43m \u001b[49m\u001b[38;5;28;43;01mNone\u001b[39;49;00m\u001b[43m)\u001b[49m\n\u001b[32m    651\u001b[39m \u001b[38;5;28;01mif\u001b[39;00m out.length \u001b[38;5;129;01mis\u001b[39;00m \u001b[38;5;129;01mnot\u001b[39;00m unknown_length \u001b[38;5;129;01mand\u001b[39;00m out.length == \u001b[32m0\u001b[39m:\n\u001b[32m    652\u001b[39m     \u001b[38;5;28;01mreturn\u001b[39;00m out._getitem_nothing()\n",
      "\u001b[36mFile \u001b[39m\u001b[32m~/repos/z_plus_hf/.venv/lib/python3.12/site-packages/awkward/contents/regulararray.py:710\u001b[39m, in \u001b[36mRegularArray._getitem_next\u001b[39m\u001b[34m(self, head, tail, advanced)\u001b[39m\n\u001b[32m    694\u001b[39m     \u001b[38;5;28;01massert\u001b[39;00m head.offsets.nplike \u001b[38;5;129;01mis\u001b[39;00m index_nplike\n\u001b[32m    695\u001b[39m     \u001b[38;5;28mself\u001b[39m._maybe_index_error(\n\u001b[32m    696\u001b[39m         \u001b[38;5;28mself\u001b[39m._backend[\n\u001b[32m    697\u001b[39m             \u001b[33m\"\u001b[39m\u001b[33mawkward_RegularArray_getitem_jagged_expand\u001b[39m\u001b[33m\"\u001b[39m,\n\u001b[32m   (...)\u001b[39m\u001b[32m    708\u001b[39m         slicer=head,\n\u001b[32m    709\u001b[39m     )\n\u001b[32m--> \u001b[39m\u001b[32m710\u001b[39m     down = \u001b[38;5;28;43mself\u001b[39;49m\u001b[43m.\u001b[49m\u001b[43m_content\u001b[49m\u001b[43m.\u001b[49m\u001b[43m_getitem_next_jagged\u001b[49m\u001b[43m(\u001b[49m\n\u001b[32m    711\u001b[39m \u001b[43m        \u001b[49m\u001b[43mmultistarts\u001b[49m\u001b[43m,\u001b[49m\u001b[43m \u001b[49m\u001b[43mmultistops\u001b[49m\u001b[43m,\u001b[49m\u001b[43m \u001b[49m\u001b[43mhead\u001b[49m\u001b[43m.\u001b[49m\u001b[43m_content\u001b[49m\u001b[43m,\u001b[49m\u001b[43m \u001b[49m\u001b[43mtail\u001b[49m\n\u001b[32m    712\u001b[39m \u001b[43m    \u001b[49m\u001b[43m)\u001b[49m\n\u001b[32m    714\u001b[39m     \u001b[38;5;28;01mreturn\u001b[39;00m RegularArray(\n\u001b[32m    715\u001b[39m         down, headlength, \u001b[38;5;28mself\u001b[39m._length, parameters=\u001b[38;5;28mself\u001b[39m._parameters\n\u001b[32m    716\u001b[39m     )\n\u001b[32m    718\u001b[39m \u001b[38;5;28;01melif\u001b[39;00m \u001b[38;5;28misinstance\u001b[39m(head, ak.contents.IndexedOptionArray):\n",
      "\u001b[36mFile \u001b[39m\u001b[32m~/repos/z_plus_hf/.venv/lib/python3.12/site-packages/awkward/contents/listoffsetarray.py:443\u001b[39m, in \u001b[36mListOffsetArray._getitem_next_jagged\u001b[39m\u001b[34m(self, slicestarts, slicestops, slicecontent, tail)\u001b[39m\n\u001b[32m    437\u001b[39m \u001b[38;5;28;01mdef\u001b[39;00m\u001b[38;5;250m \u001b[39m\u001b[34m_getitem_next_jagged\u001b[39m(\n\u001b[32m    438\u001b[39m     \u001b[38;5;28mself\u001b[39m, slicestarts: Index, slicestops: Index, slicecontent: Content, tail\n\u001b[32m    439\u001b[39m ) -> Content:\n\u001b[32m    440\u001b[39m     out = ak.contents.ListArray(\n\u001b[32m    441\u001b[39m         \u001b[38;5;28mself\u001b[39m.starts, \u001b[38;5;28mself\u001b[39m.stops, \u001b[38;5;28mself\u001b[39m._content, parameters=\u001b[38;5;28mself\u001b[39m._parameters\n\u001b[32m    442\u001b[39m     )\n\u001b[32m--> \u001b[39m\u001b[32m443\u001b[39m     \u001b[38;5;28;01mreturn\u001b[39;00m \u001b[43mout\u001b[49m\u001b[43m.\u001b[49m\u001b[43m_getitem_next_jagged\u001b[49m\u001b[43m(\u001b[49m\u001b[43mslicestarts\u001b[49m\u001b[43m,\u001b[49m\u001b[43m \u001b[49m\u001b[43mslicestops\u001b[49m\u001b[43m,\u001b[49m\u001b[43m \u001b[49m\u001b[43mslicecontent\u001b[49m\u001b[43m,\u001b[49m\u001b[43m \u001b[49m\u001b[43mtail\u001b[49m\u001b[43m)\u001b[49m\n",
      "\u001b[36mFile \u001b[39m\u001b[32m~/repos/z_plus_hf/.venv/lib/python3.12/site-packages/awkward/contents/listarray.py:687\u001b[39m, in \u001b[36mListArray._getitem_next_jagged\u001b[39m\u001b[34m(self, slicestarts, slicestops, slicecontent, tail)\u001b[39m\n\u001b[32m    683\u001b[39m     nextcontent = as_list_offset_array._content._carry(nextcarry, \u001b[38;5;28;01mTrue\u001b[39;00m)\n\u001b[32m    684\u001b[39m     \u001b[38;5;28mnext\u001b[39m = ak.contents.ListOffsetArray(\n\u001b[32m    685\u001b[39m         smalloffsets, nextcontent, parameters=\u001b[38;5;28mself\u001b[39m._parameters\n\u001b[32m    686\u001b[39m     )\n\u001b[32m--> \u001b[39m\u001b[32m687\u001b[39m     out = \u001b[38;5;28;43mnext\u001b[39;49m\u001b[43m.\u001b[49m\u001b[43m_getitem_next_jagged\u001b[49m\u001b[43m(\u001b[49m\n\u001b[32m    688\u001b[39m \u001b[43m        \u001b[49m\u001b[43msmalloffsets\u001b[49m\u001b[43m[\u001b[49m\u001b[43m:\u001b[49m\u001b[43m-\u001b[49m\u001b[32;43m1\u001b[39;49m\u001b[43m]\u001b[49m\u001b[43m,\u001b[49m\u001b[43m \u001b[49m\u001b[43msmalloffsets\u001b[49m\u001b[43m[\u001b[49m\u001b[32;43m1\u001b[39;49m\u001b[43m:\u001b[49m\u001b[43m]\u001b[49m\u001b[43m,\u001b[49m\u001b[43m \u001b[49m\u001b[43mslicecontent\u001b[49m\u001b[43m.\u001b[49m\u001b[43m_content\u001b[49m\u001b[43m,\u001b[49m\u001b[43m \u001b[49m\u001b[43mtail\u001b[49m\n\u001b[32m    689\u001b[39m \u001b[43m    \u001b[49m\u001b[43m)\u001b[49m\n\u001b[32m    691\u001b[39m \u001b[38;5;28;01melse\u001b[39;00m:\n\u001b[32m    692\u001b[39m     out = \u001b[38;5;28mself\u001b[39m._getitem_next_jagged(\n\u001b[32m    693\u001b[39m         smalloffsets[:-\u001b[32m1\u001b[39m], smalloffsets[\u001b[32m1\u001b[39m:], slicecontent._content, tail\n\u001b[32m    694\u001b[39m     )\n",
      "\u001b[36mFile \u001b[39m\u001b[32m~/repos/z_plus_hf/.venv/lib/python3.12/site-packages/awkward/contents/listoffsetarray.py:443\u001b[39m, in \u001b[36mListOffsetArray._getitem_next_jagged\u001b[39m\u001b[34m(self, slicestarts, slicestops, slicecontent, tail)\u001b[39m\n\u001b[32m    437\u001b[39m \u001b[38;5;28;01mdef\u001b[39;00m\u001b[38;5;250m \u001b[39m\u001b[34m_getitem_next_jagged\u001b[39m(\n\u001b[32m    438\u001b[39m     \u001b[38;5;28mself\u001b[39m, slicestarts: Index, slicestops: Index, slicecontent: Content, tail\n\u001b[32m    439\u001b[39m ) -> Content:\n\u001b[32m    440\u001b[39m     out = ak.contents.ListArray(\n\u001b[32m    441\u001b[39m         \u001b[38;5;28mself\u001b[39m.starts, \u001b[38;5;28mself\u001b[39m.stops, \u001b[38;5;28mself\u001b[39m._content, parameters=\u001b[38;5;28mself\u001b[39m._parameters\n\u001b[32m    442\u001b[39m     )\n\u001b[32m--> \u001b[39m\u001b[32m443\u001b[39m     \u001b[38;5;28;01mreturn\u001b[39;00m \u001b[43mout\u001b[49m\u001b[43m.\u001b[49m\u001b[43m_getitem_next_jagged\u001b[49m\u001b[43m(\u001b[49m\u001b[43mslicestarts\u001b[49m\u001b[43m,\u001b[49m\u001b[43m \u001b[49m\u001b[43mslicestops\u001b[49m\u001b[43m,\u001b[49m\u001b[43m \u001b[49m\u001b[43mslicecontent\u001b[49m\u001b[43m,\u001b[49m\u001b[43m \u001b[49m\u001b[43mtail\u001b[49m\u001b[43m)\u001b[49m\n",
      "\u001b[36mFile \u001b[39m\u001b[32m~/repos/z_plus_hf/.venv/lib/python3.12/site-packages/awkward/contents/listarray.py:520\u001b[39m, in \u001b[36mListArray._getitem_next_jagged\u001b[39m\u001b[34m(self, slicestarts, slicestops, slicecontent, tail)\u001b[39m\n\u001b[32m    514\u001b[39m     next_content = as_list_offset_array._content[\n\u001b[32m    515\u001b[39m         as_list_offset_array.offsets[\u001b[32m0\u001b[39m] : as_list_offset_array.offsets[-\u001b[32m1\u001b[39m]\n\u001b[32m    516\u001b[39m     ]\n\u001b[32m    518\u001b[39m     sliceoffsets = slicecontent._offsets\n\u001b[32m--> \u001b[39m\u001b[32m520\u001b[39m     outcontent = \u001b[43mnext_content\u001b[49m\u001b[43m.\u001b[49m\u001b[43m_getitem_next_jagged\u001b[49m\u001b[43m(\u001b[49m\n\u001b[32m    521\u001b[39m \u001b[43m        \u001b[49m\u001b[43msliceoffsets\u001b[49m\u001b[43m[\u001b[49m\u001b[43m:\u001b[49m\u001b[43m-\u001b[49m\u001b[32;43m1\u001b[39;49m\u001b[43m]\u001b[49m\u001b[43m,\u001b[49m\u001b[43m \u001b[49m\u001b[43msliceoffsets\u001b[49m\u001b[43m[\u001b[49m\u001b[32;43m1\u001b[39;49m\u001b[43m:\u001b[49m\u001b[43m]\u001b[49m\u001b[43m,\u001b[49m\u001b[43m \u001b[49m\u001b[43mslicecontent\u001b[49m\u001b[43m.\u001b[49m\u001b[43m_content\u001b[49m\u001b[43m,\u001b[49m\u001b[43m \u001b[49m\u001b[43mtail\u001b[49m\n\u001b[32m    522\u001b[39m \u001b[43m    \u001b[49m\u001b[43m)\u001b[49m\n\u001b[32m    524\u001b[39m     \u001b[38;5;28;01mreturn\u001b[39;00m ak.contents.ListOffsetArray(\n\u001b[32m    525\u001b[39m         outoffsets, outcontent, parameters=\u001b[38;5;28mself\u001b[39m._parameters\n\u001b[32m    526\u001b[39m     )\n\u001b[32m    528\u001b[39m \u001b[38;5;28;01melif\u001b[39;00m \u001b[38;5;28misinstance\u001b[39m(slicecontent, ak.contents.NumpyArray):\n",
      "\u001b[36mFile \u001b[39m\u001b[32m~/repos/z_plus_hf/.venv/lib/python3.12/site-packages/awkward/contents/bytemaskedarray.py:567\u001b[39m, in \u001b[36mByteMaskedArray._getitem_next_jagged\u001b[39m\u001b[34m(self, slicestarts, slicestops, slicecontent, tail)\u001b[39m\n\u001b[32m    564\u001b[39m \u001b[38;5;28;01mdef\u001b[39;00m\u001b[38;5;250m \u001b[39m\u001b[34m_getitem_next_jagged\u001b[39m(\n\u001b[32m    565\u001b[39m     \u001b[38;5;28mself\u001b[39m, slicestarts: Index, slicestops: Index, slicecontent: Content, tail\n\u001b[32m    566\u001b[39m ) -> Content:\n\u001b[32m--> \u001b[39m\u001b[32m567\u001b[39m     \u001b[38;5;28;01mreturn\u001b[39;00m \u001b[38;5;28;43mself\u001b[39;49m\u001b[43m.\u001b[49m\u001b[43m_getitem_next_jagged_generic\u001b[49m\u001b[43m(\u001b[49m\n\u001b[32m    568\u001b[39m \u001b[43m        \u001b[49m\u001b[43mslicestarts\u001b[49m\u001b[43m,\u001b[49m\u001b[43m \u001b[49m\u001b[43mslicestops\u001b[49m\u001b[43m,\u001b[49m\u001b[43m \u001b[49m\u001b[43mslicecontent\u001b[49m\u001b[43m,\u001b[49m\u001b[43m \u001b[49m\u001b[43mtail\u001b[49m\n\u001b[32m    569\u001b[39m \u001b[43m    \u001b[49m\u001b[43m)\u001b[49m\n",
      "\u001b[36mFile \u001b[39m\u001b[32m~/repos/z_plus_hf/.venv/lib/python3.12/site-packages/awkward/contents/bytemaskedarray.py:558\u001b[39m, in \u001b[36mByteMaskedArray._getitem_next_jagged_generic\u001b[39m\u001b[34m(self, slicestarts, slicestops, slicecontent, tail)\u001b[39m\n\u001b[32m    538\u001b[39m \u001b[38;5;28mself\u001b[39m._maybe_index_error(\n\u001b[32m    539\u001b[39m     \u001b[38;5;28mself\u001b[39m._backend[\n\u001b[32m    540\u001b[39m         \u001b[33m\"\u001b[39m\u001b[33mawkward_MaskedArray_getitem_next_jagged_project\u001b[39m\u001b[33m\"\u001b[39m,\n\u001b[32m   (...)\u001b[39m\u001b[32m    554\u001b[39m     slicer=ak.contents.ListArray(slicestarts, slicestops, slicecontent),\n\u001b[32m    555\u001b[39m )\n\u001b[32m    557\u001b[39m \u001b[38;5;28mnext\u001b[39m = \u001b[38;5;28mself\u001b[39m._content._carry(nextcarry, \u001b[38;5;28;01mTrue\u001b[39;00m)\n\u001b[32m--> \u001b[39m\u001b[32m558\u001b[39m out = \u001b[38;5;28;43mnext\u001b[39;49m\u001b[43m.\u001b[49m\u001b[43m_getitem_next_jagged\u001b[49m\u001b[43m(\u001b[49m\u001b[43mreducedstarts\u001b[49m\u001b[43m,\u001b[49m\u001b[43m \u001b[49m\u001b[43mreducedstops\u001b[49m\u001b[43m,\u001b[49m\u001b[43m \u001b[49m\u001b[43mslicecontent\u001b[49m\u001b[43m,\u001b[49m\u001b[43m \u001b[49m\u001b[43mtail\u001b[49m\u001b[43m)\u001b[49m\n\u001b[32m    560\u001b[39m \u001b[38;5;28;01mreturn\u001b[39;00m ak.contents.IndexedOptionArray.simplified(\n\u001b[32m    561\u001b[39m     outindex, out, parameters=\u001b[38;5;28mself\u001b[39m._parameters\n\u001b[32m    562\u001b[39m )\n",
      "\u001b[36mFile \u001b[39m\u001b[32m~/repos/z_plus_hf/.venv/lib/python3.12/site-packages/awkward/contents/listarray.py:567\u001b[39m, in \u001b[36mListArray._getitem_next_jagged\u001b[39m\u001b[34m(self, slicestarts, slicestops, slicecontent, tail)\u001b[39m\n\u001b[32m    556\u001b[39m nextcarry = ak.index.Index64.empty(carrylen, \u001b[38;5;28mself\u001b[39m._backend.index_nplike)\n\u001b[32m    558\u001b[39m \u001b[38;5;28;01massert\u001b[39;00m (\n\u001b[32m    559\u001b[39m     outoffsets.nplike \u001b[38;5;129;01mis\u001b[39;00m \u001b[38;5;28mself\u001b[39m._backend.index_nplike\n\u001b[32m    560\u001b[39m     \u001b[38;5;129;01mand\u001b[39;00m nextcarry.nplike \u001b[38;5;129;01mis\u001b[39;00m \u001b[38;5;28mself\u001b[39m._backend.index_nplike\n\u001b[32m   (...)\u001b[39m\u001b[32m    565\u001b[39m     \u001b[38;5;129;01mand\u001b[39;00m \u001b[38;5;28mself\u001b[39m._stops.nplike \u001b[38;5;129;01mis\u001b[39;00m \u001b[38;5;28mself\u001b[39m._backend.index_nplike\n\u001b[32m    566\u001b[39m )\n\u001b[32m--> \u001b[39m\u001b[32m567\u001b[39m \u001b[38;5;28;43mself\u001b[39;49m\u001b[43m.\u001b[49m\u001b[43m_maybe_index_error\u001b[49m\u001b[43m(\u001b[49m\n\u001b[32m    568\u001b[39m \u001b[43m    \u001b[49m\u001b[38;5;28;43mself\u001b[39;49m\u001b[43m.\u001b[49m\u001b[43m_backend\u001b[49m\u001b[43m[\u001b[49m\n\u001b[32m    569\u001b[39m \u001b[43m        \u001b[49m\u001b[33;43m\"\u001b[39;49m\u001b[33;43mawkward_ListArray_getitem_jagged_apply\u001b[39;49m\u001b[33;43m\"\u001b[39;49m\u001b[43m,\u001b[49m\n\u001b[32m    570\u001b[39m \u001b[43m        \u001b[49m\u001b[43moutoffsets\u001b[49m\u001b[43m.\u001b[49m\u001b[43mdtype\u001b[49m\u001b[43m.\u001b[49m\u001b[43mtype\u001b[49m\u001b[43m,\u001b[49m\n\u001b[32m    571\u001b[39m \u001b[43m        \u001b[49m\u001b[43mnextcarry\u001b[49m\u001b[43m.\u001b[49m\u001b[43mdtype\u001b[49m\u001b[43m.\u001b[49m\u001b[43mtype\u001b[49m\u001b[43m,\u001b[49m\n\u001b[32m    572\u001b[39m \u001b[43m        \u001b[49m\u001b[43mslicestarts\u001b[49m\u001b[43m.\u001b[49m\u001b[43mdtype\u001b[49m\u001b[43m.\u001b[49m\u001b[43mtype\u001b[49m\u001b[43m,\u001b[49m\n\u001b[32m    573\u001b[39m \u001b[43m        \u001b[49m\u001b[43mslicestops\u001b[49m\u001b[43m.\u001b[49m\u001b[43mdtype\u001b[49m\u001b[43m.\u001b[49m\u001b[43mtype\u001b[49m\u001b[43m,\u001b[49m\n\u001b[32m    574\u001b[39m \u001b[43m        \u001b[49m\u001b[43msliceindex\u001b[49m\u001b[43m.\u001b[49m\u001b[43mdtype\u001b[49m\u001b[43m.\u001b[49m\u001b[43mtype\u001b[49m\u001b[43m,\u001b[49m\n\u001b[32m    575\u001b[39m \u001b[43m        \u001b[49m\u001b[38;5;28;43mself\u001b[39;49m\u001b[43m.\u001b[49m\u001b[43m_starts\u001b[49m\u001b[43m.\u001b[49m\u001b[43mdtype\u001b[49m\u001b[43m.\u001b[49m\u001b[43mtype\u001b[49m\u001b[43m,\u001b[49m\n\u001b[32m    576\u001b[39m \u001b[43m        \u001b[49m\u001b[38;5;28;43mself\u001b[39;49m\u001b[43m.\u001b[49m\u001b[43m_stops\u001b[49m\u001b[43m.\u001b[49m\u001b[43mdtype\u001b[49m\u001b[43m.\u001b[49m\u001b[43mtype\u001b[49m\u001b[43m,\u001b[49m\n\u001b[32m    577\u001b[39m \u001b[43m    \u001b[49m\u001b[43m]\u001b[49m\u001b[43m(\u001b[49m\n\u001b[32m    578\u001b[39m \u001b[43m        \u001b[49m\u001b[43moutoffsets\u001b[49m\u001b[43m.\u001b[49m\u001b[43mdata\u001b[49m\u001b[43m,\u001b[49m\n\u001b[32m    579\u001b[39m \u001b[43m        \u001b[49m\u001b[43mnextcarry\u001b[49m\u001b[43m.\u001b[49m\u001b[43mdata\u001b[49m\u001b[43m,\u001b[49m\n\u001b[32m    580\u001b[39m \u001b[43m        \u001b[49m\u001b[43mslicestarts\u001b[49m\u001b[43m.\u001b[49m\u001b[43mdata\u001b[49m\u001b[43m,\u001b[49m\n\u001b[32m    581\u001b[39m \u001b[43m        \u001b[49m\u001b[43mslicestops\u001b[49m\u001b[43m.\u001b[49m\u001b[43mdata\u001b[49m\u001b[43m,\u001b[49m\n\u001b[32m    582\u001b[39m \u001b[43m        \u001b[49m\u001b[43mslicestarts\u001b[49m\u001b[43m.\u001b[49m\u001b[43mlength\u001b[49m\u001b[43m,\u001b[49m\n\u001b[32m    583\u001b[39m \u001b[43m        \u001b[49m\u001b[43msliceindex\u001b[49m\u001b[43m.\u001b[49m\u001b[43mdata\u001b[49m\u001b[43m,\u001b[49m\n\u001b[32m    584\u001b[39m \u001b[43m        \u001b[49m\u001b[43msliceindex\u001b[49m\u001b[43m.\u001b[49m\u001b[43mlength\u001b[49m\u001b[43m,\u001b[49m\n\u001b[32m    585\u001b[39m \u001b[43m        \u001b[49m\u001b[38;5;28;43mself\u001b[39;49m\u001b[43m.\u001b[49m\u001b[43m_starts\u001b[49m\u001b[43m.\u001b[49m\u001b[43mdata\u001b[49m\u001b[43m,\u001b[49m\n\u001b[32m    586\u001b[39m \u001b[43m        \u001b[49m\u001b[38;5;28;43mself\u001b[39;49m\u001b[43m.\u001b[49m\u001b[43m_stops\u001b[49m\u001b[43m.\u001b[49m\u001b[43mdata\u001b[49m\u001b[43m,\u001b[49m\n\u001b[32m    587\u001b[39m \u001b[43m        \u001b[49m\u001b[38;5;28;43mself\u001b[39;49m\u001b[43m.\u001b[49m\u001b[43m_content\u001b[49m\u001b[43m.\u001b[49m\u001b[43mlength\u001b[49m\u001b[43m,\u001b[49m\n\u001b[32m    588\u001b[39m \u001b[43m    \u001b[49m\u001b[43m)\u001b[49m\u001b[43m,\u001b[49m\n\u001b[32m    589\u001b[39m \u001b[43m    \u001b[49m\u001b[43mslicer\u001b[49m\u001b[43m=\u001b[49m\u001b[43mak\u001b[49m\u001b[43m.\u001b[49m\u001b[43mcontents\u001b[49m\u001b[43m.\u001b[49m\u001b[43mListArray\u001b[49m\u001b[43m(\u001b[49m\u001b[43mslicestarts\u001b[49m\u001b[43m,\u001b[49m\u001b[43m \u001b[49m\u001b[43mslicestops\u001b[49m\u001b[43m,\u001b[49m\u001b[43m \u001b[49m\u001b[43mslicecontent\u001b[49m\u001b[43m)\u001b[49m\u001b[43m,\u001b[49m\n\u001b[32m    590\u001b[39m \u001b[43m\u001b[49m\u001b[43m)\u001b[49m\n\u001b[32m    591\u001b[39m nextcontent = \u001b[38;5;28mself\u001b[39m._content._carry(nextcarry, \u001b[38;5;28;01mTrue\u001b[39;00m)\n\u001b[32m    592\u001b[39m nexthead, nexttail = ak._slicing.head_tail(tail)\n",
      "\u001b[36mFile \u001b[39m\u001b[32m~/repos/z_plus_hf/.venv/lib/python3.12/site-packages/awkward/contents/content.py:295\u001b[39m, in \u001b[36mContent._maybe_index_error\u001b[39m\u001b[34m(self, error, slicer)\u001b[39m\n\u001b[32m    293\u001b[39m \u001b[38;5;28;01melse\u001b[39;00m:\n\u001b[32m    294\u001b[39m     message = \u001b[38;5;28mself\u001b[39m._backend.format_kernel_error(error)\n\u001b[32m--> \u001b[39m\u001b[32m295\u001b[39m     \u001b[38;5;28;01mraise\u001b[39;00m ak._errors.index_error(\u001b[38;5;28mself\u001b[39m, slicer, message)\n",
      "\u001b[31mIndexError\u001b[39m: cannot slice ListArray (of length 81) with [[1, 2, 0], [5, 2, 1, 3, 4, 0], [1, 0, 2], ..., [0, ...], [1, 3, 0, 2], [0, 1]]: index out of range while attempting to get index 3 (in compiled code: https://github.com/scikit-hep/awkward/blob/awkward-cpp-45/awkward-cpp/src/cpu-kernels/awkward_ListArray_getitem_jagged_apply.cpp#L43)",
      "\nThis error occurred while attempting to slice\n\n    <MomentumArray4D [[], [[{...}, ...], ...], ..., [None]] type='500 * var...'>\n\nwith\n\n    <Array [[], [[1, 2, 0], ...], ..., [None]] type='500 * var * option[var * i...'>"
     ]
    }
   ],
   "source": [
    "descending_pt = ak.argsort(masked_con.pt, axis=2, ascending=False)\n",
    "leading = masked_con[descending_pt][:, :, :1]\n",
    "leading.pt"
   ]
  },
  {
   "cell_type": "code",
   "execution_count": 366,
   "metadata": {},
   "outputs": [
    {
     "ename": "IndexError",
     "evalue": "cannot slice ListArray (of length 500) with [[], [[1, 2, 0], [5, 2, 1, 3, 4, 0]], [...], ..., [[1, 0], [1, 3, 2, 0]], []]: jagged slice inner length differs from array inner length (in compiled code: https://github.com/scikit-hep/awkward/blob/awkward-cpp-45/awkward-cpp/src/cpu-kernels/awkward_ListArray_getitem_jagged_descend.cpp#L27)",
     "output_type": "error",
     "traceback": [
      "\u001b[31m---------------------------------------------------------------------------\u001b[39m",
      "\u001b[31mIndexError\u001b[39m                                Traceback (most recent call last)",
      "\u001b[36mCell\u001b[39m\u001b[36m \u001b[39m\u001b[32mIn[366]\u001b[39m\u001b[32m, line 1\u001b[39m\n\u001b[32m----> \u001b[39m\u001b[32m1\u001b[39m leading = \u001b[43mconstituents\u001b[49m\u001b[43m[\u001b[49m\u001b[43mdescending_pt\u001b[49m\u001b[43m]\u001b[49m[:, :, :\u001b[32m1\u001b[39m][ak.num(constituents, axis=\u001b[32m2\u001b[39m) > \u001b[32m1\u001b[39m]\n\u001b[32m      2\u001b[39m subleading = constituents[descending_pt][:, :, \u001b[32m1\u001b[39m:\u001b[32m2\u001b[39m][ak.num(constituents, axis=\u001b[32m2\u001b[39m) > \u001b[32m1\u001b[39m]\n",
      "\u001b[36mFile \u001b[39m\u001b[32m~/repos/z_plus_hf/.venv/lib/python3.12/site-packages/awkward/highlevel.py:1105\u001b[39m, in \u001b[36mArray.__getitem__\u001b[39m\u001b[34m(self, where)\u001b[39m\n\u001b[32m    676\u001b[39m \u001b[38;5;28;01mdef\u001b[39;00m\u001b[38;5;250m \u001b[39m\u001b[34m__getitem__\u001b[39m(\u001b[38;5;28mself\u001b[39m, where):\n\u001b[32m    677\u001b[39m \u001b[38;5;250m    \u001b[39m\u001b[33;03m\"\"\"\u001b[39;00m\n\u001b[32m    678\u001b[39m \u001b[33;03m    Args:\u001b[39;00m\n\u001b[32m    679\u001b[39m \u001b[33;03m        where (many types supported; see below): Index of positions to\u001b[39;00m\n\u001b[32m   (...)\u001b[39m\u001b[32m   1103\u001b[39m \u001b[33;03m    have the same dimension as the array being indexed.\u001b[39;00m\n\u001b[32m   1104\u001b[39m \u001b[33;03m    \"\"\"\u001b[39;00m\n\u001b[32m-> \u001b[39m\u001b[32m1105\u001b[39m     \u001b[38;5;28;01mwith\u001b[39;00m ak._errors.SlicingErrorContext(\u001b[38;5;28mself\u001b[39m, where):\n\u001b[32m   1106\u001b[39m         \u001b[38;5;66;03m# Handle named axis\u001b[39;00m\n\u001b[32m   1107\u001b[39m         (_, ndim) = \u001b[38;5;28mself\u001b[39m._layout.minmax_depth\n\u001b[32m   1108\u001b[39m         named_axis = _get_named_axis(\u001b[38;5;28mself\u001b[39m)\n",
      "\u001b[36mFile \u001b[39m\u001b[32m~/repos/z_plus_hf/.venv/lib/python3.12/site-packages/awkward/_errors.py:80\u001b[39m, in \u001b[36mErrorContext.__exit__\u001b[39m\u001b[34m(self, exception_type, exception_value, traceback)\u001b[39m\n\u001b[32m     78\u001b[39m     \u001b[38;5;28mself\u001b[39m._slate.\u001b[34m__dict__\u001b[39m.clear()\n\u001b[32m     79\u001b[39m     \u001b[38;5;66;03m# Handle caught exception\u001b[39;00m\n\u001b[32m---> \u001b[39m\u001b[32m80\u001b[39m     \u001b[38;5;28;01mraise\u001b[39;00m \u001b[38;5;28mself\u001b[39m.decorate_exception(exception_type, exception_value)\n\u001b[32m     81\u001b[39m \u001b[38;5;28;01melse\u001b[39;00m:\n\u001b[32m     82\u001b[39m     \u001b[38;5;66;03m# Step out of the way so that another ErrorContext can become primary.\u001b[39;00m\n\u001b[32m     83\u001b[39m     \u001b[38;5;28;01mif\u001b[39;00m \u001b[38;5;28mself\u001b[39m.primary() \u001b[38;5;129;01mis\u001b[39;00m \u001b[38;5;28mself\u001b[39m:\n",
      "\u001b[36mFile \u001b[39m\u001b[32m~/repos/z_plus_hf/.venv/lib/python3.12/site-packages/awkward/highlevel.py:1113\u001b[39m, in \u001b[36mArray.__getitem__\u001b[39m\u001b[34m(self, where)\u001b[39m\n\u001b[32m   1109\u001b[39m where = _normalize_named_slice(named_axis, where, ndim)\n\u001b[32m   1111\u001b[39m NamedAxis.mapping = named_axis\n\u001b[32m-> \u001b[39m\u001b[32m1113\u001b[39m indexed_layout = prepare_layout(\u001b[38;5;28;43mself\u001b[39;49m\u001b[43m.\u001b[49m\u001b[43m_layout\u001b[49m\u001b[43m.\u001b[49m\u001b[43m_getitem\u001b[49m\u001b[43m(\u001b[49m\u001b[43mwhere\u001b[49m\u001b[43m,\u001b[49m\u001b[43m \u001b[49m\u001b[43mNamedAxis\u001b[49m\u001b[43m)\u001b[49m)\n\u001b[32m   1115\u001b[39m \u001b[38;5;28;01mif\u001b[39;00m NamedAxis.mapping:\n\u001b[32m   1116\u001b[39m     \u001b[38;5;28;01mreturn\u001b[39;00m ak.operations.ak_with_named_axis._impl(\n\u001b[32m   1117\u001b[39m         indexed_layout,\n\u001b[32m   1118\u001b[39m         named_axis=NamedAxis.mapping,\n\u001b[32m   (...)\u001b[39m\u001b[32m   1121\u001b[39m         attrs=\u001b[38;5;28mself\u001b[39m._attrs,\n\u001b[32m   1122\u001b[39m     )\n",
      "\u001b[36mFile \u001b[39m\u001b[32m~/repos/z_plus_hf/.venv/lib/python3.12/site-packages/awkward/contents/content.py:657\u001b[39m, in \u001b[36mContent._getitem\u001b[39m\u001b[34m(self, where, named_axis)\u001b[39m\n\u001b[32m    654\u001b[39m         \u001b[38;5;28;01mreturn\u001b[39;00m out._getitem_at(\u001b[32m0\u001b[39m)\n\u001b[32m    656\u001b[39m \u001b[38;5;28;01melif\u001b[39;00m \u001b[38;5;28misinstance\u001b[39m(where, ak.highlevel.Array):\n\u001b[32m--> \u001b[39m\u001b[32m657\u001b[39m     \u001b[38;5;28;01mreturn\u001b[39;00m \u001b[38;5;28;43mself\u001b[39;49m\u001b[43m.\u001b[49m\u001b[43m_getitem\u001b[49m\u001b[43m(\u001b[49m\u001b[43mwhere\u001b[49m\u001b[43m.\u001b[49m\u001b[43mlayout\u001b[49m\u001b[43m,\u001b[49m\u001b[43m \u001b[49m\u001b[43mnamed_axis\u001b[49m\u001b[43m)\u001b[49m\n\u001b[32m    659\u001b[39m \u001b[38;5;66;03m# Convert between nplikes of different backends\u001b[39;00m\n\u001b[32m    660\u001b[39m \u001b[38;5;28;01melif\u001b[39;00m (\n\u001b[32m    661\u001b[39m     \u001b[38;5;28misinstance\u001b[39m(where, ak.contents.Content)\n\u001b[32m    662\u001b[39m     \u001b[38;5;129;01mand\u001b[39;00m where.backend \u001b[38;5;129;01mis\u001b[39;00m \u001b[38;5;129;01mnot\u001b[39;00m \u001b[38;5;28mself\u001b[39m._backend\n\u001b[32m    663\u001b[39m ):\n",
      "\u001b[36mFile \u001b[39m\u001b[32m~/repos/z_plus_hf/.venv/lib/python3.12/site-packages/awkward/contents/content.py:734\u001b[39m, in \u001b[36mContent._getitem\u001b[39m\u001b[34m(self, where, named_axis)\u001b[39m\n\u001b[32m    731\u001b[39m     \u001b[38;5;28;01mreturn\u001b[39;00m where.to_NumpyArray(np.int64)\n\u001b[32m    733\u001b[39m \u001b[38;5;28;01melif\u001b[39;00m \u001b[38;5;28misinstance\u001b[39m(where, Content):\n\u001b[32m--> \u001b[39m\u001b[32m734\u001b[39m     \u001b[38;5;28;01mreturn\u001b[39;00m \u001b[38;5;28;43mself\u001b[39;49m\u001b[43m.\u001b[49m\u001b[43m_getitem\u001b[49m\u001b[43m(\u001b[49m\u001b[43m(\u001b[49m\u001b[43mwhere\u001b[49m\u001b[43m,\u001b[49m\u001b[43m)\u001b[49m\u001b[43m,\u001b[49m\u001b[43m \u001b[49m\u001b[43mnamed_axis\u001b[49m\u001b[43m)\u001b[49m\n\u001b[32m    736\u001b[39m \u001b[38;5;28;01melif\u001b[39;00m is_sized_iterable(where):\n\u001b[32m    737\u001b[39m     \u001b[38;5;66;03m# Do we have an array\u001b[39;00m\n\u001b[32m    738\u001b[39m     nplike = nplike_of_obj(where, default=\u001b[38;5;28;01mNone\u001b[39;00m)\n",
      "\u001b[36mFile \u001b[39m\u001b[32m~/repos/z_plus_hf/.venv/lib/python3.12/site-packages/awkward/contents/content.py:649\u001b[39m, in \u001b[36mContent._getitem\u001b[39m\u001b[34m(self, where, named_axis)\u001b[39m\n\u001b[32m    640\u001b[39m named_axis.mapping = _named_axis\n\u001b[32m    642\u001b[39m \u001b[38;5;28mnext\u001b[39m = ak.contents.RegularArray(\n\u001b[32m    643\u001b[39m     this,\n\u001b[32m    644\u001b[39m     this.length,\n\u001b[32m    645\u001b[39m     \u001b[32m1\u001b[39m,\n\u001b[32m    646\u001b[39m     parameters=\u001b[38;5;28;01mNone\u001b[39;00m,\n\u001b[32m    647\u001b[39m )\n\u001b[32m--> \u001b[39m\u001b[32m649\u001b[39m out = \u001b[38;5;28;43mnext\u001b[39;49m\u001b[43m.\u001b[49m\u001b[43m_getitem_next\u001b[49m\u001b[43m(\u001b[49m\u001b[43mnextwhere\u001b[49m\u001b[43m[\u001b[49m\u001b[32;43m0\u001b[39;49m\u001b[43m]\u001b[49m\u001b[43m,\u001b[49m\u001b[43m \u001b[49m\u001b[43mnextwhere\u001b[49m\u001b[43m[\u001b[49m\u001b[32;43m1\u001b[39;49m\u001b[43m:\u001b[49m\u001b[43m]\u001b[49m\u001b[43m,\u001b[49m\u001b[43m \u001b[49m\u001b[38;5;28;43;01mNone\u001b[39;49;00m\u001b[43m)\u001b[49m\n\u001b[32m    651\u001b[39m \u001b[38;5;28;01mif\u001b[39;00m out.length \u001b[38;5;129;01mis\u001b[39;00m \u001b[38;5;129;01mnot\u001b[39;00m unknown_length \u001b[38;5;129;01mand\u001b[39;00m out.length == \u001b[32m0\u001b[39m:\n\u001b[32m    652\u001b[39m     \u001b[38;5;28;01mreturn\u001b[39;00m out._getitem_nothing()\n",
      "\u001b[36mFile \u001b[39m\u001b[32m~/repos/z_plus_hf/.venv/lib/python3.12/site-packages/awkward/contents/regulararray.py:719\u001b[39m, in \u001b[36mRegularArray._getitem_next\u001b[39m\u001b[34m(self, head, tail, advanced)\u001b[39m\n\u001b[32m    714\u001b[39m     \u001b[38;5;28;01mreturn\u001b[39;00m RegularArray(\n\u001b[32m    715\u001b[39m         down, headlength, \u001b[38;5;28mself\u001b[39m._length, parameters=\u001b[38;5;28mself\u001b[39m._parameters\n\u001b[32m    716\u001b[39m     )\n\u001b[32m    718\u001b[39m \u001b[38;5;28;01melif\u001b[39;00m \u001b[38;5;28misinstance\u001b[39m(head, ak.contents.IndexedOptionArray):\n\u001b[32m--> \u001b[39m\u001b[32m719\u001b[39m     \u001b[38;5;28;01mreturn\u001b[39;00m \u001b[38;5;28;43mself\u001b[39;49m\u001b[43m.\u001b[49m\u001b[43m_getitem_next_missing\u001b[49m\u001b[43m(\u001b[49m\u001b[43mhead\u001b[49m\u001b[43m,\u001b[49m\u001b[43m \u001b[49m\u001b[43mtail\u001b[49m\u001b[43m,\u001b[49m\u001b[43m \u001b[49m\u001b[43madvanced\u001b[49m\u001b[43m)\u001b[49m\n\u001b[32m    721\u001b[39m \u001b[38;5;28;01melse\u001b[39;00m:\n\u001b[32m    722\u001b[39m     \u001b[38;5;28;01mraise\u001b[39;00m \u001b[38;5;167;01mAssertionError\u001b[39;00m(\u001b[38;5;28mrepr\u001b[39m(head))\n",
      "\u001b[36mFile \u001b[39m\u001b[32m~/repos/z_plus_hf/.venv/lib/python3.12/site-packages/awkward/contents/content.py:486\u001b[39m, in \u001b[36mContent._getitem_next_missing\u001b[39m\u001b[34m(self, head, tail, advanced)\u001b[39m\n\u001b[32m    484\u001b[39m     \u001b[38;5;28;01mif\u001b[39;00m \u001b[38;5;28mself\u001b[39m._backend.nplike.known_data \u001b[38;5;129;01mand\u001b[39;00m \u001b[38;5;28mself\u001b[39m.length != \u001b[32m1\u001b[39m:\n\u001b[32m    485\u001b[39m         \u001b[38;5;28;01mraise\u001b[39;00m \u001b[38;5;167;01mNotImplementedError\u001b[39;00m(\u001b[33m\"\u001b[39m\u001b[33mreached a not-well-considered code path\u001b[39m\u001b[33m\"\u001b[39m)\n\u001b[32m--> \u001b[39m\u001b[32m486\u001b[39m     \u001b[38;5;28;01mreturn\u001b[39;00m \u001b[38;5;28;43mself\u001b[39;49m\u001b[43m.\u001b[49m\u001b[43m_getitem_next_missing_jagged\u001b[49m\u001b[43m(\u001b[49m\u001b[43mhead\u001b[49m\u001b[43m,\u001b[49m\u001b[43m \u001b[49m\u001b[43mtail\u001b[49m\u001b[43m,\u001b[49m\u001b[43m \u001b[49m\u001b[43madvanced\u001b[49m\u001b[43m,\u001b[49m\u001b[43m \u001b[49m\u001b[38;5;28;43mself\u001b[39;49m\u001b[43m)\u001b[49m\n\u001b[32m    488\u001b[39m \u001b[38;5;28;01mif\u001b[39;00m \u001b[38;5;28misinstance\u001b[39m(head.content, ak.contents.NumpyArray):\n\u001b[32m    489\u001b[39m     headcontent = Index64(head.content.data)\n",
      "\u001b[36mFile \u001b[39m\u001b[32m~/repos/z_plus_hf/.venv/lib/python3.12/site-packages/awkward/contents/content.py:460\u001b[39m, in \u001b[36mContent._getitem_next_missing_jagged\u001b[39m\u001b[34m(self, head, tail, advanced, that)\u001b[39m\n\u001b[32m    434\u001b[39m \u001b[38;5;28;01massert\u001b[39;00m (\n\u001b[32m    435\u001b[39m     index.nplike \u001b[38;5;129;01mis\u001b[39;00m \u001b[38;5;28mself\u001b[39m._backend.index_nplike\n\u001b[32m    436\u001b[39m     \u001b[38;5;129;01mand\u001b[39;00m jagged._offsets.nplike \u001b[38;5;129;01mis\u001b[39;00m \u001b[38;5;28mself\u001b[39m._backend.index_nplike\n\u001b[32m   (...)\u001b[39m\u001b[32m    439\u001b[39m     \u001b[38;5;129;01mand\u001b[39;00m stops.nplike \u001b[38;5;129;01mis\u001b[39;00m \u001b[38;5;28mself\u001b[39m._backend.index_nplike\n\u001b[32m    440\u001b[39m )\n\u001b[32m    441\u001b[39m \u001b[38;5;28mself\u001b[39m._maybe_index_error(\n\u001b[32m    442\u001b[39m     \u001b[38;5;28mself\u001b[39m._backend[\n\u001b[32m    443\u001b[39m         \u001b[33m\"\u001b[39m\u001b[33mawkward_Content_getitem_next_missing_jagged_getmaskstartstop\u001b[39m\u001b[33m\"\u001b[39m,\n\u001b[32m   (...)\u001b[39m\u001b[32m    457\u001b[39m     slicer=head,\n\u001b[32m    458\u001b[39m )\n\u001b[32m--> \u001b[39m\u001b[32m460\u001b[39m tmp = \u001b[43mcontent\u001b[49m\u001b[43m.\u001b[49m\u001b[43m_getitem_next_jagged\u001b[49m\u001b[43m(\u001b[49m\u001b[43mstarts\u001b[49m\u001b[43m,\u001b[49m\u001b[43m \u001b[49m\u001b[43mstops\u001b[49m\u001b[43m,\u001b[49m\u001b[43m \u001b[49m\u001b[43mjagged\u001b[49m\u001b[43m.\u001b[49m\u001b[43mcontent\u001b[49m\u001b[43m,\u001b[49m\u001b[43m \u001b[49m\u001b[43mtail\u001b[49m\u001b[43m)\u001b[49m\n\u001b[32m    461\u001b[39m out = ak.contents.IndexedOptionArray.simplified(\n\u001b[32m    462\u001b[39m     outputmask, tmp, parameters=\u001b[38;5;28mself\u001b[39m._parameters\n\u001b[32m    463\u001b[39m )\n\u001b[32m    464\u001b[39m \u001b[38;5;28;01mreturn\u001b[39;00m ak.contents.RegularArray(\n\u001b[32m    465\u001b[39m     out, index.length, \u001b[32m1\u001b[39m, parameters=\u001b[38;5;28mself\u001b[39m._parameters\n\u001b[32m    466\u001b[39m )\n",
      "\u001b[36mFile \u001b[39m\u001b[32m~/repos/z_plus_hf/.venv/lib/python3.12/site-packages/awkward/contents/listoffsetarray.py:443\u001b[39m, in \u001b[36mListOffsetArray._getitem_next_jagged\u001b[39m\u001b[34m(self, slicestarts, slicestops, slicecontent, tail)\u001b[39m\n\u001b[32m    437\u001b[39m \u001b[38;5;28;01mdef\u001b[39;00m\u001b[38;5;250m \u001b[39m\u001b[34m_getitem_next_jagged\u001b[39m(\n\u001b[32m    438\u001b[39m     \u001b[38;5;28mself\u001b[39m, slicestarts: Index, slicestops: Index, slicecontent: Content, tail\n\u001b[32m    439\u001b[39m ) -> Content:\n\u001b[32m    440\u001b[39m     out = ak.contents.ListArray(\n\u001b[32m    441\u001b[39m         \u001b[38;5;28mself\u001b[39m.starts, \u001b[38;5;28mself\u001b[39m.stops, \u001b[38;5;28mself\u001b[39m._content, parameters=\u001b[38;5;28mself\u001b[39m._parameters\n\u001b[32m    442\u001b[39m     )\n\u001b[32m--> \u001b[39m\u001b[32m443\u001b[39m     \u001b[38;5;28;01mreturn\u001b[39;00m \u001b[43mout\u001b[49m\u001b[43m.\u001b[49m\u001b[43m_getitem_next_jagged\u001b[49m\u001b[43m(\u001b[49m\u001b[43mslicestarts\u001b[49m\u001b[43m,\u001b[49m\u001b[43m \u001b[49m\u001b[43mslicestops\u001b[49m\u001b[43m,\u001b[49m\u001b[43m \u001b[49m\u001b[43mslicecontent\u001b[49m\u001b[43m,\u001b[49m\u001b[43m \u001b[49m\u001b[43mtail\u001b[49m\u001b[43m)\u001b[49m\n",
      "\u001b[36mFile \u001b[39m\u001b[32m~/repos/z_plus_hf/.venv/lib/python3.12/site-packages/awkward/contents/listarray.py:494\u001b[39m, in \u001b[36mListArray._getitem_next_jagged\u001b[39m\u001b[34m(self, slicestarts, slicestops, slicecontent, tail)\u001b[39m\n\u001b[32m    483\u001b[39m outoffsets = ak.index.Index64.empty(\n\u001b[32m    484\u001b[39m     slicestarts.length + \u001b[32m1\u001b[39m,\n\u001b[32m    485\u001b[39m     \u001b[38;5;28mself\u001b[39m._backend.index_nplike,\n\u001b[32m    486\u001b[39m )\n\u001b[32m    487\u001b[39m \u001b[38;5;28;01massert\u001b[39;00m (\n\u001b[32m    488\u001b[39m     outoffsets.nplike \u001b[38;5;129;01mis\u001b[39;00m \u001b[38;5;28mself\u001b[39m._backend.index_nplike\n\u001b[32m    489\u001b[39m     \u001b[38;5;129;01mand\u001b[39;00m slicestarts.nplike \u001b[38;5;129;01mis\u001b[39;00m \u001b[38;5;28mself\u001b[39m._backend.index_nplike\n\u001b[32m   (...)\u001b[39m\u001b[32m    492\u001b[39m     \u001b[38;5;129;01mand\u001b[39;00m \u001b[38;5;28mself\u001b[39m._stops.nplike \u001b[38;5;129;01mis\u001b[39;00m \u001b[38;5;28mself\u001b[39m._backend.index_nplike\n\u001b[32m    493\u001b[39m )\n\u001b[32m--> \u001b[39m\u001b[32m494\u001b[39m \u001b[38;5;28;43mself\u001b[39;49m\u001b[43m.\u001b[49m\u001b[43m_maybe_index_error\u001b[49m\u001b[43m(\u001b[49m\n\u001b[32m    495\u001b[39m \u001b[43m    \u001b[49m\u001b[38;5;28;43mself\u001b[39;49m\u001b[43m.\u001b[49m\u001b[43m_backend\u001b[49m\u001b[43m[\u001b[49m\n\u001b[32m    496\u001b[39m \u001b[43m        \u001b[49m\u001b[33;43m\"\u001b[39;49m\u001b[33;43mawkward_ListArray_getitem_jagged_descend\u001b[39;49m\u001b[33;43m\"\u001b[39;49m\u001b[43m,\u001b[49m\n\u001b[32m    497\u001b[39m \u001b[43m        \u001b[49m\u001b[43moutoffsets\u001b[49m\u001b[43m.\u001b[49m\u001b[43mdtype\u001b[49m\u001b[43m.\u001b[49m\u001b[43mtype\u001b[49m\u001b[43m,\u001b[49m\n\u001b[32m    498\u001b[39m \u001b[43m        \u001b[49m\u001b[43mslicestarts\u001b[49m\u001b[43m.\u001b[49m\u001b[43mdtype\u001b[49m\u001b[43m.\u001b[49m\u001b[43mtype\u001b[49m\u001b[43m,\u001b[49m\n\u001b[32m    499\u001b[39m \u001b[43m        \u001b[49m\u001b[43mslicestops\u001b[49m\u001b[43m.\u001b[49m\u001b[43mdtype\u001b[49m\u001b[43m.\u001b[49m\u001b[43mtype\u001b[49m\u001b[43m,\u001b[49m\n\u001b[32m    500\u001b[39m \u001b[43m        \u001b[49m\u001b[38;5;28;43mself\u001b[39;49m\u001b[43m.\u001b[49m\u001b[43m_starts\u001b[49m\u001b[43m.\u001b[49m\u001b[43mdtype\u001b[49m\u001b[43m.\u001b[49m\u001b[43mtype\u001b[49m\u001b[43m,\u001b[49m\n\u001b[32m    501\u001b[39m \u001b[43m        \u001b[49m\u001b[38;5;28;43mself\u001b[39;49m\u001b[43m.\u001b[49m\u001b[43m_stops\u001b[49m\u001b[43m.\u001b[49m\u001b[43mdtype\u001b[49m\u001b[43m.\u001b[49m\u001b[43mtype\u001b[49m\u001b[43m,\u001b[49m\n\u001b[32m    502\u001b[39m \u001b[43m    \u001b[49m\u001b[43m]\u001b[49m\u001b[43m(\u001b[49m\n\u001b[32m    503\u001b[39m \u001b[43m        \u001b[49m\u001b[43moutoffsets\u001b[49m\u001b[43m.\u001b[49m\u001b[43mdata\u001b[49m\u001b[43m,\u001b[49m\n\u001b[32m    504\u001b[39m \u001b[43m        \u001b[49m\u001b[43mslicestarts\u001b[49m\u001b[43m.\u001b[49m\u001b[43mdata\u001b[49m\u001b[43m,\u001b[49m\n\u001b[32m    505\u001b[39m \u001b[43m        \u001b[49m\u001b[43mslicestops\u001b[49m\u001b[43m.\u001b[49m\u001b[43mdata\u001b[49m\u001b[43m,\u001b[49m\n\u001b[32m    506\u001b[39m \u001b[43m        \u001b[49m\u001b[43mslicestarts\u001b[49m\u001b[43m.\u001b[49m\u001b[43mlength\u001b[49m\u001b[43m,\u001b[49m\n\u001b[32m    507\u001b[39m \u001b[43m        \u001b[49m\u001b[38;5;28;43mself\u001b[39;49m\u001b[43m.\u001b[49m\u001b[43m_starts\u001b[49m\u001b[43m.\u001b[49m\u001b[43mdata\u001b[49m\u001b[43m,\u001b[49m\n\u001b[32m    508\u001b[39m \u001b[43m        \u001b[49m\u001b[38;5;28;43mself\u001b[39;49m\u001b[43m.\u001b[49m\u001b[43m_stops\u001b[49m\u001b[43m.\u001b[49m\u001b[43mdata\u001b[49m\u001b[43m,\u001b[49m\n\u001b[32m    509\u001b[39m \u001b[43m    \u001b[49m\u001b[43m)\u001b[49m\u001b[43m,\u001b[49m\n\u001b[32m    510\u001b[39m \u001b[43m    \u001b[49m\u001b[43mslicer\u001b[49m\u001b[43m=\u001b[49m\u001b[43mListArray\u001b[49m\u001b[43m(\u001b[49m\u001b[43mslicestarts\u001b[49m\u001b[43m,\u001b[49m\u001b[43m \u001b[49m\u001b[43mslicestops\u001b[49m\u001b[43m,\u001b[49m\u001b[43m \u001b[49m\u001b[43mslicecontent\u001b[49m\u001b[43m)\u001b[49m\u001b[43m,\u001b[49m\n\u001b[32m    511\u001b[39m \u001b[43m\u001b[49m\u001b[43m)\u001b[49m\n\u001b[32m    513\u001b[39m as_list_offset_array = \u001b[38;5;28mself\u001b[39m.to_ListOffsetArray64(\u001b[38;5;28;01mFalse\u001b[39;00m)\n\u001b[32m    514\u001b[39m next_content = as_list_offset_array._content[\n\u001b[32m    515\u001b[39m     as_list_offset_array.offsets[\u001b[32m0\u001b[39m] : as_list_offset_array.offsets[-\u001b[32m1\u001b[39m]\n\u001b[32m    516\u001b[39m ]\n",
      "\u001b[36mFile \u001b[39m\u001b[32m~/repos/z_plus_hf/.venv/lib/python3.12/site-packages/awkward/contents/content.py:295\u001b[39m, in \u001b[36mContent._maybe_index_error\u001b[39m\u001b[34m(self, error, slicer)\u001b[39m\n\u001b[32m    293\u001b[39m \u001b[38;5;28;01melse\u001b[39;00m:\n\u001b[32m    294\u001b[39m     message = \u001b[38;5;28mself\u001b[39m._backend.format_kernel_error(error)\n\u001b[32m--> \u001b[39m\u001b[32m295\u001b[39m     \u001b[38;5;28;01mraise\u001b[39;00m ak._errors.index_error(\u001b[38;5;28mself\u001b[39m, slicer, message)\n",
      "\u001b[31mIndexError\u001b[39m: cannot slice ListArray (of length 500) with [[], [[1, 2, 0], [5, 2, 1, 3, 4, 0]], [...], ..., [[1, 0], [1, 3, 2, 0]], []]: jagged slice inner length differs from array inner length (in compiled code: https://github.com/scikit-hep/awkward/blob/awkward-cpp-45/awkward-cpp/src/cpu-kernels/awkward_ListArray_getitem_jagged_descend.cpp#L27)",
      "\nThis error occurred while attempting to slice\n\n    <MomentumArray4D [[], [...], ..., [[{px: 0.82, ...}]]] type='500 * var ...'>\n\nwith\n\n    <Array [None, [[1, 2, 0], ...], ..., None] type='500 * option[var * var * i...'>"
     ]
    }
   ],
   "source": [
    "leading = constituents[descending_pt][:, :, :1][ak.num(constituents, axis=2) > 1]\n",
    "subleading = constituents[descending_pt][:, :, 1:2][ak.num(constituents, axis=2) > 1]"
   ]
  },
  {
   "cell_type": "code",
   "execution_count": 344,
   "metadata": {},
   "outputs": [
    {
     "data": {
      "text/html": [
       "<pre>[[[{px: -1.52, py: 7.19, pz: -6.24, E: 9.64, pdg: 211, ...}], [{...}]],\n",
       " [[{px: 2.62, py: 1.06, pz: -1.15, E: 3.05, pdg: -211, ...}], ..., [{...}]],\n",
       " [[{px: -3.39, py: -0.417, pz: -1.34, E: 3.67, pdg: -211, ...}], [{...}]],\n",
       " [[{px: -2.97, py: -2.5, pz: 1.63, E: 4.22, pdg: 211, ...}], ..., [{...}]],\n",
       " [[{px: 1.31, py: -4.42, pz: 2.89, E: 5.45, pdg: 211, ...}], ..., [{...}]],\n",
       " [[{px: 1.3, py: 2.57, pz: 1.49, E: 3.24, pdg: 22, is_final: True, ...}], ...],\n",
       " [[{px: -2.09, py: 6.18, pz: 0.419, E: 6.6, pdg: -2112, ...}], ..., [{...}]],\n",
       " [[{px: -28.1, py: 25.7, pz: -10.5, E: 39.5, pdg: 12, ...}], [{...}]],\n",
       " [[{px: -40.7, py: -11.5, pz: -18.8, E: 46.3, pdg: 14, ...}], [{...}]],\n",
       " [[{px: -2, py: 2.06, pz: -1.67, E: 3.36, pdg: 130, is_final: True, ...}], ...],\n",
       " ...,\n",
       " [[{px: -16.2, py: 4.43, pz: -7.72, E: 18.5, pdg: 211, ...}], [{...}]],\n",
       " [[{px: -2.94, py: 4.91, pz: 1.63, E: 5.95, pdg: -211, ...}], ..., [{...}]],\n",
       " [[{px: 3.25, py: 2, pz: -1.2, E: 4, pdg: -211, is_final: True, ...}], ...],\n",
       " [[{px: 4.66, py: -0.278, pz: -0.694, E: 4.73, pdg: -211, ...}], ..., [{...}]],\n",
       " [[{px: 2.22, py: -1.35, pz: -0.0989, E: 2.6, pdg: 211, ...}], [{...}]],\n",
       " [[{px: -0.816, py: -2.79, pz: -1.06, E: 3.23, pdg: -2212, ...}], ..., [{...}]],\n",
       " [[{px: -1.22, py: -2.52, pz: -0.649, E: 2.87, pdg: -211, ...}], ..., [{...}]],\n",
       " [[{px: -34.3, py: 7.52, pz: -27.4, E: 44.5, pdg: 16, ...}], [{...}]],\n",
       " [[{px: -2.74, py: -2.01, pz: 0.237, E: 3.41, pdg: 22, ...}], [{...}]]]\n",
       "-------------------------------------------------------------------------------------------------------------------------------------------------------------------------\n",
       "backend: cpu\n",
       "nbytes: 29.3 MB\n",
       "type: 123 * var * var * Momentum4D[\n",
       "    px: float64,\n",
       "    py: float64,\n",
       "    pz: float64,\n",
       "    E: float64,\n",
       "    pdg: int64,\n",
       "    is_final: bool,\n",
       "    mother_list: var * int64\n",
       "]</pre>"
      ],
      "text/plain": [
       "<MomentumArray4D [[[{px: -1.52, ...}], ...], ..., [...]] type='123 * var * ...'>"
      ]
     },
     "execution_count": 344,
     "metadata": {},
     "output_type": "execute_result"
    }
   ],
   "source": [
    "leading"
   ]
  },
  {
   "cell_type": "code",
   "execution_count": null,
   "metadata": {},
   "outputs": [],
   "source": []
  },
  {
   "cell_type": "code",
   "execution_count": 338,
   "metadata": {},
   "outputs": [
    {
     "data": {
      "text/plain": [
       "np.int64(0)"
      ]
     },
     "execution_count": 338,
     "metadata": {},
     "output_type": "execute_result"
    }
   ],
   "source": [
    "ak.sum(~(ak.num(ak.pad_none(subleading.pt, 1, axis=1)) == ak.num(ak.pad_none(leading.pt, 1, axis=1))))"
   ]
  },
  {
   "cell_type": "code",
   "execution_count": 330,
   "metadata": {},
   "outputs": [
    {
     "data": {
      "text/html": [
       "<pre>[[],\n",
       " [[7.35], [5.52]],\n",
       " [[2.82], [9.78], [8.35]],\n",
       " [[5.66]],\n",
       " [[3.41], [4.23]],\n",
       " [[3.89], [7.9], [10.5]],\n",
       " [[14.4]],\n",
       " [],\n",
       " [[4.52]],\n",
       " [],\n",
       " ...,\n",
       " [[6.31]],\n",
       " [[2.8], [4.1], [4.87], [8.49], [15.3]],\n",
       " [],\n",
       " [[3]],\n",
       " [[3.28]],\n",
       " [],\n",
       " [[35.1], [37]],\n",
       " [[3.4], [5.98]],\n",
       " [[4.06]]]\n",
       "----------------------------------------\n",
       "backend: cpu\n",
       "nbytes: 11.5 kB\n",
       "type: 500 * var * var * float64</pre>"
      ],
      "text/plain": [
       "<Array [[], [[7.35], ...], ..., [[4.06]]] type='500 * var * var * float64'>"
      ]
     },
     "execution_count": 330,
     "metadata": {},
     "output_type": "execute_result"
    }
   ],
   "source": [
    "leading.pt"
   ]
  },
  {
   "cell_type": "code",
   "execution_count": 340,
   "metadata": {},
   "outputs": [],
   "source": [
    "one = ak.pad_none(leading.pt, 1, axis=1)\n",
    "two = ak.pad_none(subleading.pt, 1, axis=1)"
   ]
  },
  {
   "cell_type": "code",
   "execution_count": null,
   "metadata": {},
   "outputs": [],
   "source": [
    "leading = constituents[descending_pt][:, :, :1]\n",
    "leading = ak.mask(leading, )"
   ]
  },
  {
   "cell_type": "code",
   "execution_count": 342,
   "metadata": {},
   "outputs": [
    {
     "ename": "ValueError",
     "evalue": "cannot broadcast nested list (in compiled code: https://github.com/scikit-hep/awkward/blob/awkward-cpp-45/awkward-cpp/src/cpu-kernels/awkward_ListArray_broadcast_tooffsets.cpp#L27)",
     "output_type": "error",
     "traceback": [
      "\u001b[31m---------------------------------------------------------------------------\u001b[39m",
      "\u001b[31mValueError\u001b[39m                                Traceback (most recent call last)",
      "\u001b[36mCell\u001b[39m\u001b[36m \u001b[39m\u001b[32mIn[342]\u001b[39m\u001b[32m, line 1\u001b[39m\n\u001b[32m----> \u001b[39m\u001b[32m1\u001b[39m \u001b[43mnp\u001b[49m\u001b[43m.\u001b[49m\u001b[43msubtract\u001b[49m\u001b[43m(\u001b[49m\u001b[43mone\u001b[49m\u001b[43m,\u001b[49m\u001b[43m \u001b[49m\u001b[43mtwo\u001b[49m\u001b[43m,\u001b[49m\u001b[43m \u001b[49m\u001b[43mwhere\u001b[49m\u001b[43m=\u001b[49m\u001b[38;5;28;43;01mTrue\u001b[39;49;00m\u001b[43m)\u001b[49m\n",
      "\u001b[36mFile \u001b[39m\u001b[32m~/repos/z_plus_hf/.venv/lib/python3.12/site-packages/awkward/highlevel.py:1619\u001b[39m, in \u001b[36mArray.__array_ufunc__\u001b[39m\u001b[34m(self, ufunc, method, *inputs, **kwargs)\u001b[39m\n\u001b[32m   1554\u001b[39m \u001b[38;5;250m\u001b[39m\u001b[33;03m\"\"\"\u001b[39;00m\n\u001b[32m   1555\u001b[39m \u001b[33;03mIntercepts attempts to pass this Array to a NumPy\u001b[39;00m\n\u001b[32m   1556\u001b[39m \u001b[33;03m[universal functions](https://docs.scipy.org/doc/numpy/reference/ufuncs.html)\u001b[39;00m\n\u001b[32m   (...)\u001b[39m\u001b[32m   1616\u001b[39m \u001b[33;03mSee also #__array_function__.\u001b[39;00m\n\u001b[32m   1617\u001b[39m \u001b[33;03m\"\"\"\u001b[39;00m\n\u001b[32m   1618\u001b[39m name = \u001b[33mf\u001b[39m\u001b[33m\"\u001b[39m\u001b[38;5;132;01m{\u001b[39;00m\u001b[38;5;28mtype\u001b[39m(ufunc).\u001b[34m__module__\u001b[39m\u001b[38;5;132;01m}\u001b[39;00m\u001b[33m.\u001b[39m\u001b[38;5;132;01m{\u001b[39;00mufunc.\u001b[34m__name__\u001b[39m\u001b[38;5;132;01m}\u001b[39;00m\u001b[33m.\u001b[39m\u001b[38;5;132;01m{\u001b[39;00mmethod\u001b[38;5;132;01m!s}\u001b[39;00m\u001b[33m\"\u001b[39m\n\u001b[32m-> \u001b[39m\u001b[32m1619\u001b[39m \u001b[38;5;28;01mwith\u001b[39;00m ak._errors.OperationErrorContext(name, inputs, kwargs):\n\u001b[32m   1620\u001b[39m     \u001b[38;5;28;01mreturn\u001b[39;00m ak._connect.numpy.array_ufunc(ufunc, method, inputs, kwargs)\n",
      "\u001b[36mFile \u001b[39m\u001b[32m~/repos/z_plus_hf/.venv/lib/python3.12/site-packages/awkward/_errors.py:80\u001b[39m, in \u001b[36mErrorContext.__exit__\u001b[39m\u001b[34m(self, exception_type, exception_value, traceback)\u001b[39m\n\u001b[32m     78\u001b[39m     \u001b[38;5;28mself\u001b[39m._slate.\u001b[34m__dict__\u001b[39m.clear()\n\u001b[32m     79\u001b[39m     \u001b[38;5;66;03m# Handle caught exception\u001b[39;00m\n\u001b[32m---> \u001b[39m\u001b[32m80\u001b[39m     \u001b[38;5;28;01mraise\u001b[39;00m \u001b[38;5;28mself\u001b[39m.decorate_exception(exception_type, exception_value)\n\u001b[32m     81\u001b[39m \u001b[38;5;28;01melse\u001b[39;00m:\n\u001b[32m     82\u001b[39m     \u001b[38;5;66;03m# Step out of the way so that another ErrorContext can become primary.\u001b[39;00m\n\u001b[32m     83\u001b[39m     \u001b[38;5;28;01mif\u001b[39;00m \u001b[38;5;28mself\u001b[39m.primary() \u001b[38;5;129;01mis\u001b[39;00m \u001b[38;5;28mself\u001b[39m:\n",
      "\u001b[36mFile \u001b[39m\u001b[32m~/repos/z_plus_hf/.venv/lib/python3.12/site-packages/awkward/highlevel.py:1620\u001b[39m, in \u001b[36mArray.__array_ufunc__\u001b[39m\u001b[34m(self, ufunc, method, *inputs, **kwargs)\u001b[39m\n\u001b[32m   1618\u001b[39m name = \u001b[33mf\u001b[39m\u001b[33m\"\u001b[39m\u001b[38;5;132;01m{\u001b[39;00m\u001b[38;5;28mtype\u001b[39m(ufunc).\u001b[34m__module__\u001b[39m\u001b[38;5;132;01m}\u001b[39;00m\u001b[33m.\u001b[39m\u001b[38;5;132;01m{\u001b[39;00mufunc.\u001b[34m__name__\u001b[39m\u001b[38;5;132;01m}\u001b[39;00m\u001b[33m.\u001b[39m\u001b[38;5;132;01m{\u001b[39;00mmethod\u001b[38;5;132;01m!s}\u001b[39;00m\u001b[33m\"\u001b[39m\n\u001b[32m   1619\u001b[39m \u001b[38;5;28;01mwith\u001b[39;00m ak._errors.OperationErrorContext(name, inputs, kwargs):\n\u001b[32m-> \u001b[39m\u001b[32m1620\u001b[39m     \u001b[38;5;28;01mreturn\u001b[39;00m \u001b[43mak\u001b[49m\u001b[43m.\u001b[49m\u001b[43m_connect\u001b[49m\u001b[43m.\u001b[49m\u001b[43mnumpy\u001b[49m\u001b[43m.\u001b[49m\u001b[43marray_ufunc\u001b[49m\u001b[43m(\u001b[49m\u001b[43mufunc\u001b[49m\u001b[43m,\u001b[49m\u001b[43m \u001b[49m\u001b[43mmethod\u001b[49m\u001b[43m,\u001b[49m\u001b[43m \u001b[49m\u001b[43minputs\u001b[49m\u001b[43m,\u001b[49m\u001b[43m \u001b[49m\u001b[43mkwargs\u001b[49m\u001b[43m)\u001b[49m\n",
      "\u001b[36mFile \u001b[39m\u001b[32m~/repos/z_plus_hf/.venv/lib/python3.12/site-packages/awkward/_connect/numpy.py:469\u001b[39m, in \u001b[36marray_ufunc\u001b[39m\u001b[34m(ufunc, method, inputs, kwargs)\u001b[39m\n\u001b[32m    461\u001b[39m         \u001b[38;5;28;01mraise\u001b[39;00m \u001b[38;5;167;01mTypeError\u001b[39;00m(\n\u001b[32m    462\u001b[39m             \u001b[33m\"\u001b[39m\u001b[33mno \u001b[39m\u001b[38;5;132;01m{}\u001b[39;00m\u001b[33m.\u001b[39m\u001b[38;5;132;01m{}\u001b[39;00m\u001b[33m overloads for custom types: \u001b[39m\u001b[38;5;132;01m{}\u001b[39;00m\u001b[33m\"\u001b[39m.format(\n\u001b[32m    463\u001b[39m                 \u001b[38;5;28mtype\u001b[39m(ufunc).\u001b[34m__module__\u001b[39m, ufunc.\u001b[34m__name__\u001b[39m, \u001b[33m\"\u001b[39m\u001b[33m, \u001b[39m\u001b[33m\"\u001b[39m.join(error_message)\n\u001b[32m    464\u001b[39m             )\n\u001b[32m    465\u001b[39m         )\n\u001b[32m    467\u001b[39m     \u001b[38;5;28;01mreturn\u001b[39;00m \u001b[38;5;28;01mNone\u001b[39;00m\n\u001b[32m--> \u001b[39m\u001b[32m469\u001b[39m out = \u001b[43mak\u001b[49m\u001b[43m.\u001b[49m\u001b[43m_broadcasting\u001b[49m\u001b[43m.\u001b[49m\u001b[43mbroadcast_and_apply\u001b[49m\u001b[43m(\u001b[49m\n\u001b[32m    470\u001b[39m \u001b[43m    \u001b[49m\u001b[43minputs\u001b[49m\u001b[43m,\u001b[49m\n\u001b[32m    471\u001b[39m \u001b[43m    \u001b[49m\u001b[43maction\u001b[49m\u001b[43m,\u001b[49m\n\u001b[32m    472\u001b[39m \u001b[43m    \u001b[49m\u001b[43mdepth_context\u001b[49m\u001b[43m=\u001b[49m\u001b[43mdepth_context\u001b[49m\u001b[43m,\u001b[49m\n\u001b[32m    473\u001b[39m \u001b[43m    \u001b[49m\u001b[43mlateral_context\u001b[49m\u001b[43m=\u001b[49m\u001b[43mlateral_context\u001b[49m\u001b[43m,\u001b[49m\n\u001b[32m    474\u001b[39m \u001b[43m    \u001b[49m\u001b[43mallow_records\u001b[49m\u001b[43m=\u001b[49m\u001b[38;5;28;43;01mFalse\u001b[39;49;00m\u001b[43m,\u001b[49m\n\u001b[32m    475\u001b[39m \u001b[43m    \u001b[49m\u001b[43mfunction_name\u001b[49m\u001b[43m=\u001b[49m\u001b[43mufunc\u001b[49m\u001b[43m.\u001b[49m\u001b[34;43m__name__\u001b[39;49m\u001b[43m,\u001b[49m\n\u001b[32m    476\u001b[39m \u001b[43m\u001b[49m\u001b[43m)\u001b[49m\n\u001b[32m    478\u001b[39m out_named_axis = functools.reduce(\n\u001b[32m    479\u001b[39m     _unify_named_axis, lateral_context[NAMED_AXIS_KEY].named_axis\n\u001b[32m    480\u001b[39m )\n\u001b[32m    481\u001b[39m \u001b[38;5;28;01mif\u001b[39;00m \u001b[38;5;28mlen\u001b[39m(out) == \u001b[32m1\u001b[39m:\n",
      "\u001b[36mFile \u001b[39m\u001b[32m~/repos/z_plus_hf/.venv/lib/python3.12/site-packages/awkward/_broadcasting.py:1200\u001b[39m, in \u001b[36mbroadcast_and_apply\u001b[39m\u001b[34m(inputs, action, depth_context, lateral_context, allow_records, left_broadcast, right_broadcast, numpy_to_regular, regular_to_jagged, function_name, broadcast_parameters_rule)\u001b[39m\n\u001b[32m   1198\u001b[39m backend = backend_of(*inputs, coerce_to_common=\u001b[38;5;28;01mFalse\u001b[39;00m)\n\u001b[32m   1199\u001b[39m isscalar = []\n\u001b[32m-> \u001b[39m\u001b[32m1200\u001b[39m out = \u001b[43mapply_step\u001b[49m\u001b[43m(\u001b[49m\n\u001b[32m   1201\u001b[39m \u001b[43m    \u001b[49m\u001b[43mbackend\u001b[49m\u001b[43m,\u001b[49m\n\u001b[32m   1202\u001b[39m \u001b[43m    \u001b[49m\u001b[43mbroadcast_pack\u001b[49m\u001b[43m(\u001b[49m\u001b[43minputs\u001b[49m\u001b[43m,\u001b[49m\u001b[43m \u001b[49m\u001b[43misscalar\u001b[49m\u001b[43m)\u001b[49m\u001b[43m,\u001b[49m\n\u001b[32m   1203\u001b[39m \u001b[43m    \u001b[49m\u001b[43maction\u001b[49m\u001b[43m,\u001b[49m\n\u001b[32m   1204\u001b[39m \u001b[43m    \u001b[49m\u001b[32;43m0\u001b[39;49m\u001b[43m,\u001b[49m\n\u001b[32m   1205\u001b[39m \u001b[43m    \u001b[49m\u001b[43mdepth_context\u001b[49m\u001b[43m,\u001b[49m\n\u001b[32m   1206\u001b[39m \u001b[43m    \u001b[49m\u001b[43mlateral_context\u001b[49m\u001b[43m,\u001b[49m\n\u001b[32m   1207\u001b[39m \u001b[43m    \u001b[49m\u001b[43m{\u001b[49m\n\u001b[32m   1208\u001b[39m \u001b[43m        \u001b[49m\u001b[33;43m\"\u001b[39;49m\u001b[33;43mallow_records\u001b[39;49m\u001b[33;43m\"\u001b[39;49m\u001b[43m:\u001b[49m\u001b[43m \u001b[49m\u001b[43mallow_records\u001b[49m\u001b[43m,\u001b[49m\n\u001b[32m   1209\u001b[39m \u001b[43m        \u001b[49m\u001b[33;43m\"\u001b[39;49m\u001b[33;43mleft_broadcast\u001b[39;49m\u001b[33;43m\"\u001b[39;49m\u001b[43m:\u001b[49m\u001b[43m \u001b[49m\u001b[43mleft_broadcast\u001b[49m\u001b[43m,\u001b[49m\n\u001b[32m   1210\u001b[39m \u001b[43m        \u001b[49m\u001b[33;43m\"\u001b[39;49m\u001b[33;43mright_broadcast\u001b[39;49m\u001b[33;43m\"\u001b[39;49m\u001b[43m:\u001b[49m\u001b[43m \u001b[49m\u001b[43mright_broadcast\u001b[49m\u001b[43m,\u001b[49m\n\u001b[32m   1211\u001b[39m \u001b[43m        \u001b[49m\u001b[33;43m\"\u001b[39;49m\u001b[33;43mnumpy_to_regular\u001b[39;49m\u001b[33;43m\"\u001b[39;49m\u001b[43m:\u001b[49m\u001b[43m \u001b[49m\u001b[43mnumpy_to_regular\u001b[49m\u001b[43m,\u001b[49m\n\u001b[32m   1212\u001b[39m \u001b[43m        \u001b[49m\u001b[33;43m\"\u001b[39;49m\u001b[33;43mregular_to_jagged\u001b[39;49m\u001b[33;43m\"\u001b[39;49m\u001b[43m:\u001b[49m\u001b[43m \u001b[49m\u001b[43mregular_to_jagged\u001b[49m\u001b[43m,\u001b[49m\n\u001b[32m   1213\u001b[39m \u001b[43m        \u001b[49m\u001b[33;43m\"\u001b[39;49m\u001b[33;43mfunction_name\u001b[39;49m\u001b[33;43m\"\u001b[39;49m\u001b[43m:\u001b[49m\u001b[43m \u001b[49m\u001b[43mfunction_name\u001b[49m\u001b[43m,\u001b[49m\n\u001b[32m   1214\u001b[39m \u001b[43m        \u001b[49m\u001b[33;43m\"\u001b[39;49m\u001b[33;43mbroadcast_parameters_rule\u001b[39;49m\u001b[33;43m\"\u001b[39;49m\u001b[43m:\u001b[49m\u001b[43m \u001b[49m\u001b[43mbroadcast_parameters_rule\u001b[49m\u001b[43m,\u001b[49m\n\u001b[32m   1215\u001b[39m \u001b[43m    \u001b[49m\u001b[43m}\u001b[49m\u001b[43m,\u001b[49m\n\u001b[32m   1216\u001b[39m \u001b[43m\u001b[49m\u001b[43m)\u001b[49m\n\u001b[32m   1217\u001b[39m \u001b[38;5;28;01massert\u001b[39;00m \u001b[38;5;28misinstance\u001b[39m(out, \u001b[38;5;28mtuple\u001b[39m)\n\u001b[32m   1218\u001b[39m \u001b[38;5;28;01mreturn\u001b[39;00m \u001b[38;5;28mtuple\u001b[39m(broadcast_unpack(x, isscalar) \u001b[38;5;28;01mfor\u001b[39;00m x \u001b[38;5;129;01min\u001b[39;00m out)\n",
      "\u001b[36mFile \u001b[39m\u001b[32m~/repos/z_plus_hf/.venv/lib/python3.12/site-packages/awkward/_broadcasting.py:1178\u001b[39m, in \u001b[36mapply_step\u001b[39m\u001b[34m(backend, inputs, action, depth, depth_context, lateral_context, options)\u001b[39m\n\u001b[32m   1176\u001b[39m     \u001b[38;5;28;01mreturn\u001b[39;00m result\n\u001b[32m   1177\u001b[39m \u001b[38;5;28;01melif\u001b[39;00m result \u001b[38;5;129;01mis\u001b[39;00m \u001b[38;5;28;01mNone\u001b[39;00m:\n\u001b[32m-> \u001b[39m\u001b[32m1178\u001b[39m     \u001b[38;5;28;01mreturn\u001b[39;00m \u001b[43mcontinuation\u001b[49m\u001b[43m(\u001b[49m\u001b[43m)\u001b[49m\n\u001b[32m   1179\u001b[39m \u001b[38;5;28;01melse\u001b[39;00m:\n\u001b[32m   1180\u001b[39m     \u001b[38;5;28;01mraise\u001b[39;00m \u001b[38;5;167;01mAssertionError\u001b[39;00m(result)\n",
      "\u001b[36mFile \u001b[39m\u001b[32m~/repos/z_plus_hf/.venv/lib/python3.12/site-packages/awkward/_broadcasting.py:1147\u001b[39m, in \u001b[36mapply_step.<locals>.continuation\u001b[39m\u001b[34m()\u001b[39m\n\u001b[32m   1145\u001b[39m \u001b[38;5;66;03m# Any non-string list-types?\u001b[39;00m\n\u001b[32m   1146\u001b[39m \u001b[38;5;28;01melif\u001b[39;00m \u001b[38;5;28many\u001b[39m(x.is_list \u001b[38;5;129;01mand\u001b[39;00m \u001b[38;5;129;01mnot\u001b[39;00m is_string_like(x) \u001b[38;5;28;01mfor\u001b[39;00m x \u001b[38;5;129;01min\u001b[39;00m contents):\n\u001b[32m-> \u001b[39m\u001b[32m1147\u001b[39m     \u001b[38;5;28;01mreturn\u001b[39;00m \u001b[43mbroadcast_any_list\u001b[49m\u001b[43m(\u001b[49m\u001b[43m)\u001b[49m\n\u001b[32m   1149\u001b[39m \u001b[38;5;66;03m# Any RecordArrays?\u001b[39;00m\n\u001b[32m   1150\u001b[39m \u001b[38;5;28;01melif\u001b[39;00m \u001b[38;5;28many\u001b[39m(x.is_record \u001b[38;5;28;01mfor\u001b[39;00m x \u001b[38;5;129;01min\u001b[39;00m contents):\n",
      "\u001b[36mFile \u001b[39m\u001b[32m~/repos/z_plus_hf/.venv/lib/python3.12/site-packages/awkward/_broadcasting.py:671\u001b[39m, in \u001b[36mapply_step.<locals>.broadcast_any_list\u001b[39m\u001b[34m()\u001b[39m\n\u001b[32m    668\u001b[39m         nextinputs.append(x)\n\u001b[32m    669\u001b[39m         nextparameters.append(NO_PARAMETERS)\n\u001b[32m--> \u001b[39m\u001b[32m671\u001b[39m outcontent = \u001b[43mapply_step\u001b[49m\u001b[43m(\u001b[49m\n\u001b[32m    672\u001b[39m \u001b[43m    \u001b[49m\u001b[43mbackend\u001b[49m\u001b[43m,\u001b[49m\n\u001b[32m    673\u001b[39m \u001b[43m    \u001b[49m\u001b[43mnextinputs\u001b[49m\u001b[43m,\u001b[49m\n\u001b[32m    674\u001b[39m \u001b[43m    \u001b[49m\u001b[43maction\u001b[49m\u001b[43m,\u001b[49m\n\u001b[32m    675\u001b[39m \u001b[43m    \u001b[49m\u001b[43mdepth\u001b[49m\u001b[43m \u001b[49m\u001b[43m+\u001b[49m\u001b[43m \u001b[49m\u001b[32;43m1\u001b[39;49m\u001b[43m,\u001b[49m\n\u001b[32m    676\u001b[39m \u001b[43m    \u001b[49m\u001b[43mcopy\u001b[49m\u001b[43m.\u001b[49m\u001b[43mcopy\u001b[49m\u001b[43m(\u001b[49m\u001b[43mdepth_context\u001b[49m\u001b[43m)\u001b[49m\u001b[43m,\u001b[49m\n\u001b[32m    677\u001b[39m \u001b[43m    \u001b[49m\u001b[43mlateral_context\u001b[49m\u001b[43m,\u001b[49m\n\u001b[32m    678\u001b[39m \u001b[43m    \u001b[49m\u001b[43moptions\u001b[49m\u001b[43m,\u001b[49m\n\u001b[32m    679\u001b[39m \u001b[43m\u001b[49m\u001b[43m)\u001b[49m\n\u001b[32m    680\u001b[39m \u001b[38;5;28;01massert\u001b[39;00m \u001b[38;5;28misinstance\u001b[39m(outcontent, \u001b[38;5;28mtuple\u001b[39m)\n\u001b[32m    681\u001b[39m parameters = parameters_factory(nextparameters, \u001b[38;5;28mlen\u001b[39m(outcontent))\n",
      "\u001b[36mFile \u001b[39m\u001b[32m~/repos/z_plus_hf/.venv/lib/python3.12/site-packages/awkward/_broadcasting.py:1178\u001b[39m, in \u001b[36mapply_step\u001b[39m\u001b[34m(backend, inputs, action, depth, depth_context, lateral_context, options)\u001b[39m\n\u001b[32m   1176\u001b[39m     \u001b[38;5;28;01mreturn\u001b[39;00m result\n\u001b[32m   1177\u001b[39m \u001b[38;5;28;01melif\u001b[39;00m result \u001b[38;5;129;01mis\u001b[39;00m \u001b[38;5;28;01mNone\u001b[39;00m:\n\u001b[32m-> \u001b[39m\u001b[32m1178\u001b[39m     \u001b[38;5;28;01mreturn\u001b[39;00m \u001b[43mcontinuation\u001b[49m\u001b[43m(\u001b[49m\u001b[43m)\u001b[49m\n\u001b[32m   1179\u001b[39m \u001b[38;5;28;01melse\u001b[39;00m:\n\u001b[32m   1180\u001b[39m     \u001b[38;5;28;01mraise\u001b[39;00m \u001b[38;5;167;01mAssertionError\u001b[39;00m(result)\n",
      "\u001b[36mFile \u001b[39m\u001b[32m~/repos/z_plus_hf/.venv/lib/python3.12/site-packages/awkward/_broadcasting.py:1147\u001b[39m, in \u001b[36mapply_step.<locals>.continuation\u001b[39m\u001b[34m()\u001b[39m\n\u001b[32m   1145\u001b[39m \u001b[38;5;66;03m# Any non-string list-types?\u001b[39;00m\n\u001b[32m   1146\u001b[39m \u001b[38;5;28;01melif\u001b[39;00m \u001b[38;5;28many\u001b[39m(x.is_list \u001b[38;5;129;01mand\u001b[39;00m \u001b[38;5;129;01mnot\u001b[39;00m is_string_like(x) \u001b[38;5;28;01mfor\u001b[39;00m x \u001b[38;5;129;01min\u001b[39;00m contents):\n\u001b[32m-> \u001b[39m\u001b[32m1147\u001b[39m     \u001b[38;5;28;01mreturn\u001b[39;00m \u001b[43mbroadcast_any_list\u001b[49m\u001b[43m(\u001b[49m\u001b[43m)\u001b[49m\n\u001b[32m   1149\u001b[39m \u001b[38;5;66;03m# Any RecordArrays?\u001b[39;00m\n\u001b[32m   1150\u001b[39m \u001b[38;5;28;01melif\u001b[39;00m \u001b[38;5;28many\u001b[39m(x.is_record \u001b[38;5;28;01mfor\u001b[39;00m x \u001b[38;5;129;01min\u001b[39;00m contents):\n",
      "\u001b[36mFile \u001b[39m\u001b[32m~/repos/z_plus_hf/.venv/lib/python3.12/site-packages/awkward/_broadcasting.py:747\u001b[39m, in \u001b[36mapply_step.<locals>.broadcast_any_list\u001b[39m\u001b[34m()\u001b[39m\n\u001b[32m    744\u001b[39m         nextinputs.append(x)\n\u001b[32m    745\u001b[39m         nextparameters.append(NO_PARAMETERS)\n\u001b[32m--> \u001b[39m\u001b[32m747\u001b[39m outcontent = \u001b[43mapply_step\u001b[49m\u001b[43m(\u001b[49m\n\u001b[32m    748\u001b[39m \u001b[43m    \u001b[49m\u001b[43mbackend\u001b[49m\u001b[43m,\u001b[49m\n\u001b[32m    749\u001b[39m \u001b[43m    \u001b[49m\u001b[43mnextinputs\u001b[49m\u001b[43m,\u001b[49m\n\u001b[32m    750\u001b[39m \u001b[43m    \u001b[49m\u001b[43maction\u001b[49m\u001b[43m,\u001b[49m\n\u001b[32m    751\u001b[39m \u001b[43m    \u001b[49m\u001b[43mdepth\u001b[49m\u001b[43m \u001b[49m\u001b[43m+\u001b[49m\u001b[43m \u001b[49m\u001b[32;43m1\u001b[39;49m\u001b[43m,\u001b[49m\n\u001b[32m    752\u001b[39m \u001b[43m    \u001b[49m\u001b[43mcopy\u001b[49m\u001b[43m.\u001b[49m\u001b[43mcopy\u001b[49m\u001b[43m(\u001b[49m\u001b[43mdepth_context\u001b[49m\u001b[43m)\u001b[49m\u001b[43m,\u001b[49m\n\u001b[32m    753\u001b[39m \u001b[43m    \u001b[49m\u001b[43mlateral_context\u001b[49m\u001b[43m,\u001b[49m\n\u001b[32m    754\u001b[39m \u001b[43m    \u001b[49m\u001b[43moptions\u001b[49m\u001b[43m,\u001b[49m\n\u001b[32m    755\u001b[39m \u001b[43m\u001b[49m\u001b[43m)\u001b[49m\n\u001b[32m    756\u001b[39m \u001b[38;5;28;01massert\u001b[39;00m \u001b[38;5;28misinstance\u001b[39m(outcontent, \u001b[38;5;28mtuple\u001b[39m)\n\u001b[32m    757\u001b[39m parameters = parameters_factory(nextparameters, \u001b[38;5;28mlen\u001b[39m(outcontent))\n",
      "\u001b[36mFile \u001b[39m\u001b[32m~/repos/z_plus_hf/.venv/lib/python3.12/site-packages/awkward/_broadcasting.py:1178\u001b[39m, in \u001b[36mapply_step\u001b[39m\u001b[34m(backend, inputs, action, depth, depth_context, lateral_context, options)\u001b[39m\n\u001b[32m   1176\u001b[39m     \u001b[38;5;28;01mreturn\u001b[39;00m result\n\u001b[32m   1177\u001b[39m \u001b[38;5;28;01melif\u001b[39;00m result \u001b[38;5;129;01mis\u001b[39;00m \u001b[38;5;28;01mNone\u001b[39;00m:\n\u001b[32m-> \u001b[39m\u001b[32m1178\u001b[39m     \u001b[38;5;28;01mreturn\u001b[39;00m \u001b[43mcontinuation\u001b[49m\u001b[43m(\u001b[49m\u001b[43m)\u001b[49m\n\u001b[32m   1179\u001b[39m \u001b[38;5;28;01melse\u001b[39;00m:\n\u001b[32m   1180\u001b[39m     \u001b[38;5;28;01mraise\u001b[39;00m \u001b[38;5;167;01mAssertionError\u001b[39;00m(result)\n",
      "\u001b[36mFile \u001b[39m\u001b[32m~/repos/z_plus_hf/.venv/lib/python3.12/site-packages/awkward/_broadcasting.py:1143\u001b[39m, in \u001b[36mapply_step.<locals>.continuation\u001b[39m\u001b[34m()\u001b[39m\n\u001b[32m   1141\u001b[39m         \u001b[38;5;28;01mreturn\u001b[39;00m broadcast_any_option_akwhere()\n\u001b[32m   1142\u001b[39m     \u001b[38;5;28;01melse\u001b[39;00m:\n\u001b[32m-> \u001b[39m\u001b[32m1143\u001b[39m         \u001b[38;5;28;01mreturn\u001b[39;00m \u001b[43mbroadcast_any_option\u001b[49m\u001b[43m(\u001b[49m\u001b[43m)\u001b[49m\n\u001b[32m   1145\u001b[39m \u001b[38;5;66;03m# Any non-string list-types?\u001b[39;00m\n\u001b[32m   1146\u001b[39m \u001b[38;5;28;01melif\u001b[39;00m \u001b[38;5;28many\u001b[39m(x.is_list \u001b[38;5;129;01mand\u001b[39;00m \u001b[38;5;129;01mnot\u001b[39;00m is_string_like(x) \u001b[38;5;28;01mfor\u001b[39;00m x \u001b[38;5;129;01min\u001b[39;00m contents):\n",
      "\u001b[36mFile \u001b[39m\u001b[32m~/repos/z_plus_hf/.venv/lib/python3.12/site-packages/awkward/_broadcasting.py:833\u001b[39m, in \u001b[36mapply_step.<locals>.broadcast_any_option\u001b[39m\u001b[34m()\u001b[39m\n\u001b[32m    830\u001b[39m         nextinputs.append(x)\n\u001b[32m    831\u001b[39m         nextparameters.append(NO_PARAMETERS)\n\u001b[32m--> \u001b[39m\u001b[32m833\u001b[39m outcontent = \u001b[43mapply_step\u001b[49m\u001b[43m(\u001b[49m\n\u001b[32m    834\u001b[39m \u001b[43m    \u001b[49m\u001b[43mbackend\u001b[49m\u001b[43m,\u001b[49m\n\u001b[32m    835\u001b[39m \u001b[43m    \u001b[49m\u001b[43mnextinputs\u001b[49m\u001b[43m,\u001b[49m\n\u001b[32m    836\u001b[39m \u001b[43m    \u001b[49m\u001b[43maction\u001b[49m\u001b[43m,\u001b[49m\n\u001b[32m    837\u001b[39m \u001b[43m    \u001b[49m\u001b[43mdepth\u001b[49m\u001b[43m,\u001b[49m\n\u001b[32m    838\u001b[39m \u001b[43m    \u001b[49m\u001b[43mcopy\u001b[49m\u001b[43m.\u001b[49m\u001b[43mcopy\u001b[49m\u001b[43m(\u001b[49m\u001b[43mdepth_context\u001b[49m\u001b[43m)\u001b[49m\u001b[43m,\u001b[49m\n\u001b[32m    839\u001b[39m \u001b[43m    \u001b[49m\u001b[43mlateral_context\u001b[49m\u001b[43m,\u001b[49m\n\u001b[32m    840\u001b[39m \u001b[43m    \u001b[49m\u001b[43moptions\u001b[49m\u001b[43m,\u001b[49m\n\u001b[32m    841\u001b[39m \u001b[43m\u001b[49m\u001b[43m)\u001b[49m\n\u001b[32m    842\u001b[39m \u001b[38;5;28;01massert\u001b[39;00m \u001b[38;5;28misinstance\u001b[39m(outcontent, \u001b[38;5;28mtuple\u001b[39m)\n\u001b[32m    843\u001b[39m parameters = parameters_factory(nextparameters, \u001b[38;5;28mlen\u001b[39m(outcontent))\n",
      "\u001b[36mFile \u001b[39m\u001b[32m~/repos/z_plus_hf/.venv/lib/python3.12/site-packages/awkward/_broadcasting.py:1178\u001b[39m, in \u001b[36mapply_step\u001b[39m\u001b[34m(backend, inputs, action, depth, depth_context, lateral_context, options)\u001b[39m\n\u001b[32m   1176\u001b[39m     \u001b[38;5;28;01mreturn\u001b[39;00m result\n\u001b[32m   1177\u001b[39m \u001b[38;5;28;01melif\u001b[39;00m result \u001b[38;5;129;01mis\u001b[39;00m \u001b[38;5;28;01mNone\u001b[39;00m:\n\u001b[32m-> \u001b[39m\u001b[32m1178\u001b[39m     \u001b[38;5;28;01mreturn\u001b[39;00m \u001b[43mcontinuation\u001b[49m\u001b[43m(\u001b[49m\u001b[43m)\u001b[49m\n\u001b[32m   1179\u001b[39m \u001b[38;5;28;01melse\u001b[39;00m:\n\u001b[32m   1180\u001b[39m     \u001b[38;5;28;01mraise\u001b[39;00m \u001b[38;5;167;01mAssertionError\u001b[39;00m(result)\n",
      "\u001b[36mFile \u001b[39m\u001b[32m~/repos/z_plus_hf/.venv/lib/python3.12/site-packages/awkward/_broadcasting.py:1147\u001b[39m, in \u001b[36mapply_step.<locals>.continuation\u001b[39m\u001b[34m()\u001b[39m\n\u001b[32m   1145\u001b[39m \u001b[38;5;66;03m# Any non-string list-types?\u001b[39;00m\n\u001b[32m   1146\u001b[39m \u001b[38;5;28;01melif\u001b[39;00m \u001b[38;5;28many\u001b[39m(x.is_list \u001b[38;5;129;01mand\u001b[39;00m \u001b[38;5;129;01mnot\u001b[39;00m is_string_like(x) \u001b[38;5;28;01mfor\u001b[39;00m x \u001b[38;5;129;01min\u001b[39;00m contents):\n\u001b[32m-> \u001b[39m\u001b[32m1147\u001b[39m     \u001b[38;5;28;01mreturn\u001b[39;00m \u001b[43mbroadcast_any_list\u001b[49m\u001b[43m(\u001b[49m\u001b[43m)\u001b[49m\n\u001b[32m   1149\u001b[39m \u001b[38;5;66;03m# Any RecordArrays?\u001b[39;00m\n\u001b[32m   1150\u001b[39m \u001b[38;5;28;01melif\u001b[39;00m \u001b[38;5;28many\u001b[39m(x.is_record \u001b[38;5;28;01mfor\u001b[39;00m x \u001b[38;5;129;01min\u001b[39;00m contents):\n",
      "\u001b[36mFile \u001b[39m\u001b[32m~/repos/z_plus_hf/.venv/lib/python3.12/site-packages/awkward/_broadcasting.py:722\u001b[39m, in \u001b[36mapply_step.<locals>.broadcast_any_list\u001b[39m\u001b[34m()\u001b[39m\n\u001b[32m    718\u001b[39m \u001b[38;5;28;01mfor\u001b[39;00m i, ((named_axis, ndim), x, x_is_string) \u001b[38;5;129;01min\u001b[39;00m \u001b[38;5;28menumerate\u001b[39m(\n\u001b[32m    719\u001b[39m     \u001b[38;5;28mzip\u001b[39m(named_axes_with_ndims, inputs, input_is_string)\n\u001b[32m    720\u001b[39m ):\n\u001b[32m    721\u001b[39m     \u001b[38;5;28;01mif\u001b[39;00m \u001b[38;5;28misinstance\u001b[39m(x, listtypes) \u001b[38;5;129;01mand\u001b[39;00m \u001b[38;5;129;01mnot\u001b[39;00m x_is_string:\n\u001b[32m--> \u001b[39m\u001b[32m722\u001b[39m         next_content = \u001b[43mbroadcast_to_offsets_avoiding_carry\u001b[49m\u001b[43m(\u001b[49m\u001b[43mx\u001b[49m\u001b[43m,\u001b[49m\u001b[43m \u001b[49m\u001b[43moffsets\u001b[49m\u001b[43m)\u001b[49m\n\u001b[32m    723\u001b[39m         nextinputs.append(next_content)\n\u001b[32m    724\u001b[39m         nextparameters.append(x._parameters)\n",
      "\u001b[36mFile \u001b[39m\u001b[32m~/repos/z_plus_hf/.venv/lib/python3.12/site-packages/awkward/_broadcasting.py:401\u001b[39m, in \u001b[36mbroadcast_to_offsets_avoiding_carry\u001b[39m\u001b[34m(list_content, offsets)\u001b[39m\n\u001b[32m    399\u001b[39m         \u001b[38;5;28;01mreturn\u001b[39;00m list_content.content[:next_length]\n\u001b[32m    400\u001b[39m     \u001b[38;5;28;01melse\u001b[39;00m:\n\u001b[32m--> \u001b[39m\u001b[32m401\u001b[39m         \u001b[38;5;28;01mreturn\u001b[39;00m \u001b[43mlist_content\u001b[49m\u001b[43m.\u001b[49m\u001b[43m_broadcast_tooffsets64\u001b[49m\u001b[43m(\u001b[49m\u001b[43moffsets\u001b[49m\u001b[43m)\u001b[49m.content\n\u001b[32m    402\u001b[39m \u001b[38;5;28;01melse\u001b[39;00m:\n\u001b[32m    403\u001b[39m     \u001b[38;5;28;01mreturn\u001b[39;00m list_content._broadcast_tooffsets64(offsets).content\n",
      "\u001b[36mFile \u001b[39m\u001b[32m~/repos/z_plus_hf/.venv/lib/python3.12/site-packages/awkward/contents/listarray.py:447\u001b[39m, in \u001b[36mListArray._broadcast_tooffsets64\u001b[39m\u001b[34m(self, offsets)\u001b[39m\n\u001b[32m    437\u001b[39m nextcarry = ak.index.Index64.empty(\n\u001b[32m    438\u001b[39m     \u001b[38;5;28mself\u001b[39m._backend.index_nplike.index_as_shape_item(offsets[-\u001b[32m1\u001b[39m]),\n\u001b[32m    439\u001b[39m     \u001b[38;5;28mself\u001b[39m._backend.index_nplike,\n\u001b[32m    440\u001b[39m )\n\u001b[32m    441\u001b[39m \u001b[38;5;28;01massert\u001b[39;00m (\n\u001b[32m    442\u001b[39m     nextcarry.nplike \u001b[38;5;129;01mis\u001b[39;00m \u001b[38;5;28mself\u001b[39m._backend.index_nplike\n\u001b[32m    443\u001b[39m     \u001b[38;5;129;01mand\u001b[39;00m offsets.nplike \u001b[38;5;129;01mis\u001b[39;00m \u001b[38;5;28mself\u001b[39m._backend.index_nplike\n\u001b[32m    444\u001b[39m     \u001b[38;5;129;01mand\u001b[39;00m \u001b[38;5;28mself\u001b[39m._starts.nplike \u001b[38;5;129;01mis\u001b[39;00m \u001b[38;5;28mself\u001b[39m._backend.index_nplike\n\u001b[32m    445\u001b[39m     \u001b[38;5;129;01mand\u001b[39;00m \u001b[38;5;28mself\u001b[39m._stops.nplike \u001b[38;5;129;01mis\u001b[39;00m \u001b[38;5;28mself\u001b[39m._backend.index_nplike\n\u001b[32m    446\u001b[39m )\n\u001b[32m--> \u001b[39m\u001b[32m447\u001b[39m \u001b[38;5;28;43mself\u001b[39;49m\u001b[43m.\u001b[49m\u001b[43m_backend\u001b[49m\u001b[43m.\u001b[49m\u001b[43mmaybe_kernel_error\u001b[49m\u001b[43m(\u001b[49m\n\u001b[32m    448\u001b[39m \u001b[43m    \u001b[49m\u001b[38;5;28;43mself\u001b[39;49m\u001b[43m.\u001b[49m\u001b[43m_backend\u001b[49m\u001b[43m[\u001b[49m\n\u001b[32m    449\u001b[39m \u001b[43m        \u001b[49m\u001b[33;43m\"\u001b[39;49m\u001b[33;43mawkward_ListArray_broadcast_tooffsets\u001b[39;49m\u001b[33;43m\"\u001b[39;49m\u001b[43m,\u001b[49m\n\u001b[32m    450\u001b[39m \u001b[43m        \u001b[49m\u001b[43mnextcarry\u001b[49m\u001b[43m.\u001b[49m\u001b[43mdtype\u001b[49m\u001b[43m.\u001b[49m\u001b[43mtype\u001b[49m\u001b[43m,\u001b[49m\n\u001b[32m    451\u001b[39m \u001b[43m        \u001b[49m\u001b[43moffsets\u001b[49m\u001b[43m.\u001b[49m\u001b[43mdtype\u001b[49m\u001b[43m.\u001b[49m\u001b[43mtype\u001b[49m\u001b[43m,\u001b[49m\n\u001b[32m    452\u001b[39m \u001b[43m        \u001b[49m\u001b[38;5;28;43mself\u001b[39;49m\u001b[43m.\u001b[49m\u001b[43m_starts\u001b[49m\u001b[43m.\u001b[49m\u001b[43mdtype\u001b[49m\u001b[43m.\u001b[49m\u001b[43mtype\u001b[49m\u001b[43m,\u001b[49m\n\u001b[32m    453\u001b[39m \u001b[43m        \u001b[49m\u001b[38;5;28;43mself\u001b[39;49m\u001b[43m.\u001b[49m\u001b[43m_stops\u001b[49m\u001b[43m.\u001b[49m\u001b[43mdtype\u001b[49m\u001b[43m.\u001b[49m\u001b[43mtype\u001b[49m\u001b[43m,\u001b[49m\n\u001b[32m    454\u001b[39m \u001b[43m    \u001b[49m\u001b[43m]\u001b[49m\u001b[43m(\u001b[49m\n\u001b[32m    455\u001b[39m \u001b[43m        \u001b[49m\u001b[43mnextcarry\u001b[49m\u001b[43m.\u001b[49m\u001b[43mdata\u001b[49m\u001b[43m,\u001b[49m\n\u001b[32m    456\u001b[39m \u001b[43m        \u001b[49m\u001b[43moffsets\u001b[49m\u001b[43m.\u001b[49m\u001b[43mdata\u001b[49m\u001b[43m,\u001b[49m\n\u001b[32m    457\u001b[39m \u001b[43m        \u001b[49m\u001b[43moffsets\u001b[49m\u001b[43m.\u001b[49m\u001b[43mlength\u001b[49m\u001b[43m,\u001b[49m\n\u001b[32m    458\u001b[39m \u001b[43m        \u001b[49m\u001b[38;5;28;43mself\u001b[39;49m\u001b[43m.\u001b[49m\u001b[43m_starts\u001b[49m\u001b[43m.\u001b[49m\u001b[43mdata\u001b[49m\u001b[43m,\u001b[49m\n\u001b[32m    459\u001b[39m \u001b[43m        \u001b[49m\u001b[38;5;28;43mself\u001b[39;49m\u001b[43m.\u001b[49m\u001b[43m_stops\u001b[49m\u001b[43m.\u001b[49m\u001b[43mdata\u001b[49m\u001b[43m,\u001b[49m\n\u001b[32m    460\u001b[39m \u001b[43m        \u001b[49m\u001b[38;5;28;43mself\u001b[39;49m\u001b[43m.\u001b[49m\u001b[43m_content\u001b[49m\u001b[43m.\u001b[49m\u001b[43mlength\u001b[49m\u001b[43m,\u001b[49m\n\u001b[32m    461\u001b[39m \u001b[43m    \u001b[49m\u001b[43m)\u001b[49m\n\u001b[32m    462\u001b[39m \u001b[43m\u001b[49m\u001b[43m)\u001b[49m\n\u001b[32m    464\u001b[39m nextcontent = \u001b[38;5;28mself\u001b[39m._content._carry(nextcarry, \u001b[38;5;28;01mTrue\u001b[39;00m)\n\u001b[32m    466\u001b[39m \u001b[38;5;28;01mreturn\u001b[39;00m ListOffsetArray(offsets, nextcontent, parameters=\u001b[38;5;28mself\u001b[39m._parameters)\n",
      "\u001b[36mFile \u001b[39m\u001b[32m~/repos/z_plus_hf/.venv/lib/python3.12/site-packages/awkward/_backends/backend.py:67\u001b[39m, in \u001b[36mBackend.maybe_kernel_error\u001b[39m\u001b[34m(self, error)\u001b[39m\n\u001b[32m     65\u001b[39m     \u001b[38;5;28;01mreturn\u001b[39;00m\n\u001b[32m     66\u001b[39m \u001b[38;5;28;01melse\u001b[39;00m:\n\u001b[32m---> \u001b[39m\u001b[32m67\u001b[39m     \u001b[38;5;28;01mraise\u001b[39;00m \u001b[38;5;167;01mValueError\u001b[39;00m(\u001b[38;5;28mself\u001b[39m.format_kernel_error(error))\n",
      "\u001b[31mValueError\u001b[39m: cannot broadcast nested list (in compiled code: https://github.com/scikit-hep/awkward/blob/awkward-cpp-45/awkward-cpp/src/cpu-kernels/awkward_ListArray_broadcast_tooffsets.cpp#L27)",
      "\nThis error occurred while calling\n\n    numpy.subtract.__call__(\n        <Array [[None], [...], ..., [[4.06]]] type='500 * var * option[var ...'>\n        <Array [[None], [[6.73], ...], ..., [[]]] type='500 * var * option[...'>\n        where = True\n    )"
     ]
    }
   ],
   "source": [
    "np.subtract(one, two, where=True)"
   ]
  },
  {
   "cell_type": "code",
   "execution_count": 339,
   "metadata": {},
   "outputs": [
    {
     "ename": "ValueError",
     "evalue": "cannot broadcast nested list (in compiled code: https://github.com/scikit-hep/awkward/blob/awkward-cpp-45/awkward-cpp/src/cpu-kernels/awkward_ListArray_broadcast_tooffsets.cpp#L27)",
     "output_type": "error",
     "traceback": [
      "\u001b[31m---------------------------------------------------------------------------\u001b[39m",
      "\u001b[31mValueError\u001b[39m                                Traceback (most recent call last)",
      "\u001b[36mCell\u001b[39m\u001b[36m \u001b[39m\u001b[32mIn[339]\u001b[39m\u001b[32m, line 1\u001b[39m\n\u001b[32m----> \u001b[39m\u001b[32m1\u001b[39m \u001b[43mak\u001b[49m\u001b[43m.\u001b[49m\u001b[43mpad_none\u001b[49m\u001b[43m(\u001b[49m\u001b[43mleading\u001b[49m\u001b[43m.\u001b[49m\u001b[43mpt\u001b[49m\u001b[43m,\u001b[49m\u001b[43m \u001b[49m\u001b[32;43m1\u001b[39;49m\u001b[43m,\u001b[49m\u001b[43m \u001b[49m\u001b[43maxis\u001b[49m\u001b[43m=\u001b[49m\u001b[32;43m1\u001b[39;49m\u001b[43m)\u001b[49m\u001b[43m \u001b[49m\u001b[43m-\u001b[49m\u001b[43m \u001b[49m\u001b[43mak\u001b[49m\u001b[43m.\u001b[49m\u001b[43mpad_none\u001b[49m\u001b[43m(\u001b[49m\u001b[43msubleading\u001b[49m\u001b[43m.\u001b[49m\u001b[43mpt\u001b[49m\u001b[43m,\u001b[49m\u001b[43m \u001b[49m\u001b[32;43m1\u001b[39;49m\u001b[43m,\u001b[49m\u001b[43m \u001b[49m\u001b[43maxis\u001b[49m\u001b[43m=\u001b[49m\u001b[32;43m1\u001b[39;49m\u001b[43m)\u001b[49m\n",
      "\u001b[36mFile \u001b[39m\u001b[32m~/repos/z_plus_hf/.venv/lib/python3.12/site-packages/awkward/_operators.py:54\u001b[39m, in \u001b[36m_binary_method.<locals>.func\u001b[39m\u001b[34m(self, other)\u001b[39m\n\u001b[32m     51\u001b[39m \u001b[38;5;28;01mif\u001b[39;00m _disables_array_ufunc(other):\n\u001b[32m     52\u001b[39m     \u001b[38;5;28;01mreturn\u001b[39;00m \u001b[38;5;28mNotImplemented\u001b[39m\n\u001b[32m---> \u001b[39m\u001b[32m54\u001b[39m \u001b[38;5;28;01mreturn\u001b[39;00m \u001b[43mufunc\u001b[49m\u001b[43m(\u001b[49m\u001b[38;5;28;43mself\u001b[39;49m\u001b[43m,\u001b[49m\u001b[43m \u001b[49m\u001b[43mother\u001b[49m\u001b[43m)\u001b[49m\n",
      "\u001b[36mFile \u001b[39m\u001b[32m~/repos/z_plus_hf/.venv/lib/python3.12/site-packages/awkward/highlevel.py:1619\u001b[39m, in \u001b[36mArray.__array_ufunc__\u001b[39m\u001b[34m(self, ufunc, method, *inputs, **kwargs)\u001b[39m\n\u001b[32m   1554\u001b[39m \u001b[38;5;250m\u001b[39m\u001b[33;03m\"\"\"\u001b[39;00m\n\u001b[32m   1555\u001b[39m \u001b[33;03mIntercepts attempts to pass this Array to a NumPy\u001b[39;00m\n\u001b[32m   1556\u001b[39m \u001b[33;03m[universal functions](https://docs.scipy.org/doc/numpy/reference/ufuncs.html)\u001b[39;00m\n\u001b[32m   (...)\u001b[39m\u001b[32m   1616\u001b[39m \u001b[33;03mSee also #__array_function__.\u001b[39;00m\n\u001b[32m   1617\u001b[39m \u001b[33;03m\"\"\"\u001b[39;00m\n\u001b[32m   1618\u001b[39m name = \u001b[33mf\u001b[39m\u001b[33m\"\u001b[39m\u001b[38;5;132;01m{\u001b[39;00m\u001b[38;5;28mtype\u001b[39m(ufunc).\u001b[34m__module__\u001b[39m\u001b[38;5;132;01m}\u001b[39;00m\u001b[33m.\u001b[39m\u001b[38;5;132;01m{\u001b[39;00mufunc.\u001b[34m__name__\u001b[39m\u001b[38;5;132;01m}\u001b[39;00m\u001b[33m.\u001b[39m\u001b[38;5;132;01m{\u001b[39;00mmethod\u001b[38;5;132;01m!s}\u001b[39;00m\u001b[33m\"\u001b[39m\n\u001b[32m-> \u001b[39m\u001b[32m1619\u001b[39m \u001b[38;5;28;01mwith\u001b[39;00m ak._errors.OperationErrorContext(name, inputs, kwargs):\n\u001b[32m   1620\u001b[39m     \u001b[38;5;28;01mreturn\u001b[39;00m ak._connect.numpy.array_ufunc(ufunc, method, inputs, kwargs)\n",
      "\u001b[36mFile \u001b[39m\u001b[32m~/repos/z_plus_hf/.venv/lib/python3.12/site-packages/awkward/_errors.py:80\u001b[39m, in \u001b[36mErrorContext.__exit__\u001b[39m\u001b[34m(self, exception_type, exception_value, traceback)\u001b[39m\n\u001b[32m     78\u001b[39m     \u001b[38;5;28mself\u001b[39m._slate.\u001b[34m__dict__\u001b[39m.clear()\n\u001b[32m     79\u001b[39m     \u001b[38;5;66;03m# Handle caught exception\u001b[39;00m\n\u001b[32m---> \u001b[39m\u001b[32m80\u001b[39m     \u001b[38;5;28;01mraise\u001b[39;00m \u001b[38;5;28mself\u001b[39m.decorate_exception(exception_type, exception_value)\n\u001b[32m     81\u001b[39m \u001b[38;5;28;01melse\u001b[39;00m:\n\u001b[32m     82\u001b[39m     \u001b[38;5;66;03m# Step out of the way so that another ErrorContext can become primary.\u001b[39;00m\n\u001b[32m     83\u001b[39m     \u001b[38;5;28;01mif\u001b[39;00m \u001b[38;5;28mself\u001b[39m.primary() \u001b[38;5;129;01mis\u001b[39;00m \u001b[38;5;28mself\u001b[39m:\n",
      "\u001b[36mFile \u001b[39m\u001b[32m~/repos/z_plus_hf/.venv/lib/python3.12/site-packages/awkward/highlevel.py:1620\u001b[39m, in \u001b[36mArray.__array_ufunc__\u001b[39m\u001b[34m(self, ufunc, method, *inputs, **kwargs)\u001b[39m\n\u001b[32m   1618\u001b[39m name = \u001b[33mf\u001b[39m\u001b[33m\"\u001b[39m\u001b[38;5;132;01m{\u001b[39;00m\u001b[38;5;28mtype\u001b[39m(ufunc).\u001b[34m__module__\u001b[39m\u001b[38;5;132;01m}\u001b[39;00m\u001b[33m.\u001b[39m\u001b[38;5;132;01m{\u001b[39;00mufunc.\u001b[34m__name__\u001b[39m\u001b[38;5;132;01m}\u001b[39;00m\u001b[33m.\u001b[39m\u001b[38;5;132;01m{\u001b[39;00mmethod\u001b[38;5;132;01m!s}\u001b[39;00m\u001b[33m\"\u001b[39m\n\u001b[32m   1619\u001b[39m \u001b[38;5;28;01mwith\u001b[39;00m ak._errors.OperationErrorContext(name, inputs, kwargs):\n\u001b[32m-> \u001b[39m\u001b[32m1620\u001b[39m     \u001b[38;5;28;01mreturn\u001b[39;00m \u001b[43mak\u001b[49m\u001b[43m.\u001b[49m\u001b[43m_connect\u001b[49m\u001b[43m.\u001b[49m\u001b[43mnumpy\u001b[49m\u001b[43m.\u001b[49m\u001b[43marray_ufunc\u001b[49m\u001b[43m(\u001b[49m\u001b[43mufunc\u001b[49m\u001b[43m,\u001b[49m\u001b[43m \u001b[49m\u001b[43mmethod\u001b[49m\u001b[43m,\u001b[49m\u001b[43m \u001b[49m\u001b[43minputs\u001b[49m\u001b[43m,\u001b[49m\u001b[43m \u001b[49m\u001b[43mkwargs\u001b[49m\u001b[43m)\u001b[49m\n",
      "\u001b[36mFile \u001b[39m\u001b[32m~/repos/z_plus_hf/.venv/lib/python3.12/site-packages/awkward/_connect/numpy.py:469\u001b[39m, in \u001b[36marray_ufunc\u001b[39m\u001b[34m(ufunc, method, inputs, kwargs)\u001b[39m\n\u001b[32m    461\u001b[39m         \u001b[38;5;28;01mraise\u001b[39;00m \u001b[38;5;167;01mTypeError\u001b[39;00m(\n\u001b[32m    462\u001b[39m             \u001b[33m\"\u001b[39m\u001b[33mno \u001b[39m\u001b[38;5;132;01m{}\u001b[39;00m\u001b[33m.\u001b[39m\u001b[38;5;132;01m{}\u001b[39;00m\u001b[33m overloads for custom types: \u001b[39m\u001b[38;5;132;01m{}\u001b[39;00m\u001b[33m\"\u001b[39m.format(\n\u001b[32m    463\u001b[39m                 \u001b[38;5;28mtype\u001b[39m(ufunc).\u001b[34m__module__\u001b[39m, ufunc.\u001b[34m__name__\u001b[39m, \u001b[33m\"\u001b[39m\u001b[33m, \u001b[39m\u001b[33m\"\u001b[39m.join(error_message)\n\u001b[32m    464\u001b[39m             )\n\u001b[32m    465\u001b[39m         )\n\u001b[32m    467\u001b[39m     \u001b[38;5;28;01mreturn\u001b[39;00m \u001b[38;5;28;01mNone\u001b[39;00m\n\u001b[32m--> \u001b[39m\u001b[32m469\u001b[39m out = \u001b[43mak\u001b[49m\u001b[43m.\u001b[49m\u001b[43m_broadcasting\u001b[49m\u001b[43m.\u001b[49m\u001b[43mbroadcast_and_apply\u001b[49m\u001b[43m(\u001b[49m\n\u001b[32m    470\u001b[39m \u001b[43m    \u001b[49m\u001b[43minputs\u001b[49m\u001b[43m,\u001b[49m\n\u001b[32m    471\u001b[39m \u001b[43m    \u001b[49m\u001b[43maction\u001b[49m\u001b[43m,\u001b[49m\n\u001b[32m    472\u001b[39m \u001b[43m    \u001b[49m\u001b[43mdepth_context\u001b[49m\u001b[43m=\u001b[49m\u001b[43mdepth_context\u001b[49m\u001b[43m,\u001b[49m\n\u001b[32m    473\u001b[39m \u001b[43m    \u001b[49m\u001b[43mlateral_context\u001b[49m\u001b[43m=\u001b[49m\u001b[43mlateral_context\u001b[49m\u001b[43m,\u001b[49m\n\u001b[32m    474\u001b[39m \u001b[43m    \u001b[49m\u001b[43mallow_records\u001b[49m\u001b[43m=\u001b[49m\u001b[38;5;28;43;01mFalse\u001b[39;49;00m\u001b[43m,\u001b[49m\n\u001b[32m    475\u001b[39m \u001b[43m    \u001b[49m\u001b[43mfunction_name\u001b[49m\u001b[43m=\u001b[49m\u001b[43mufunc\u001b[49m\u001b[43m.\u001b[49m\u001b[34;43m__name__\u001b[39;49m\u001b[43m,\u001b[49m\n\u001b[32m    476\u001b[39m \u001b[43m\u001b[49m\u001b[43m)\u001b[49m\n\u001b[32m    478\u001b[39m out_named_axis = functools.reduce(\n\u001b[32m    479\u001b[39m     _unify_named_axis, lateral_context[NAMED_AXIS_KEY].named_axis\n\u001b[32m    480\u001b[39m )\n\u001b[32m    481\u001b[39m \u001b[38;5;28;01mif\u001b[39;00m \u001b[38;5;28mlen\u001b[39m(out) == \u001b[32m1\u001b[39m:\n",
      "\u001b[36mFile \u001b[39m\u001b[32m~/repos/z_plus_hf/.venv/lib/python3.12/site-packages/awkward/_broadcasting.py:1200\u001b[39m, in \u001b[36mbroadcast_and_apply\u001b[39m\u001b[34m(inputs, action, depth_context, lateral_context, allow_records, left_broadcast, right_broadcast, numpy_to_regular, regular_to_jagged, function_name, broadcast_parameters_rule)\u001b[39m\n\u001b[32m   1198\u001b[39m backend = backend_of(*inputs, coerce_to_common=\u001b[38;5;28;01mFalse\u001b[39;00m)\n\u001b[32m   1199\u001b[39m isscalar = []\n\u001b[32m-> \u001b[39m\u001b[32m1200\u001b[39m out = \u001b[43mapply_step\u001b[49m\u001b[43m(\u001b[49m\n\u001b[32m   1201\u001b[39m \u001b[43m    \u001b[49m\u001b[43mbackend\u001b[49m\u001b[43m,\u001b[49m\n\u001b[32m   1202\u001b[39m \u001b[43m    \u001b[49m\u001b[43mbroadcast_pack\u001b[49m\u001b[43m(\u001b[49m\u001b[43minputs\u001b[49m\u001b[43m,\u001b[49m\u001b[43m \u001b[49m\u001b[43misscalar\u001b[49m\u001b[43m)\u001b[49m\u001b[43m,\u001b[49m\n\u001b[32m   1203\u001b[39m \u001b[43m    \u001b[49m\u001b[43maction\u001b[49m\u001b[43m,\u001b[49m\n\u001b[32m   1204\u001b[39m \u001b[43m    \u001b[49m\u001b[32;43m0\u001b[39;49m\u001b[43m,\u001b[49m\n\u001b[32m   1205\u001b[39m \u001b[43m    \u001b[49m\u001b[43mdepth_context\u001b[49m\u001b[43m,\u001b[49m\n\u001b[32m   1206\u001b[39m \u001b[43m    \u001b[49m\u001b[43mlateral_context\u001b[49m\u001b[43m,\u001b[49m\n\u001b[32m   1207\u001b[39m \u001b[43m    \u001b[49m\u001b[43m{\u001b[49m\n\u001b[32m   1208\u001b[39m \u001b[43m        \u001b[49m\u001b[33;43m\"\u001b[39;49m\u001b[33;43mallow_records\u001b[39;49m\u001b[33;43m\"\u001b[39;49m\u001b[43m:\u001b[49m\u001b[43m \u001b[49m\u001b[43mallow_records\u001b[49m\u001b[43m,\u001b[49m\n\u001b[32m   1209\u001b[39m \u001b[43m        \u001b[49m\u001b[33;43m\"\u001b[39;49m\u001b[33;43mleft_broadcast\u001b[39;49m\u001b[33;43m\"\u001b[39;49m\u001b[43m:\u001b[49m\u001b[43m \u001b[49m\u001b[43mleft_broadcast\u001b[49m\u001b[43m,\u001b[49m\n\u001b[32m   1210\u001b[39m \u001b[43m        \u001b[49m\u001b[33;43m\"\u001b[39;49m\u001b[33;43mright_broadcast\u001b[39;49m\u001b[33;43m\"\u001b[39;49m\u001b[43m:\u001b[49m\u001b[43m \u001b[49m\u001b[43mright_broadcast\u001b[49m\u001b[43m,\u001b[49m\n\u001b[32m   1211\u001b[39m \u001b[43m        \u001b[49m\u001b[33;43m\"\u001b[39;49m\u001b[33;43mnumpy_to_regular\u001b[39;49m\u001b[33;43m\"\u001b[39;49m\u001b[43m:\u001b[49m\u001b[43m \u001b[49m\u001b[43mnumpy_to_regular\u001b[49m\u001b[43m,\u001b[49m\n\u001b[32m   1212\u001b[39m \u001b[43m        \u001b[49m\u001b[33;43m\"\u001b[39;49m\u001b[33;43mregular_to_jagged\u001b[39;49m\u001b[33;43m\"\u001b[39;49m\u001b[43m:\u001b[49m\u001b[43m \u001b[49m\u001b[43mregular_to_jagged\u001b[49m\u001b[43m,\u001b[49m\n\u001b[32m   1213\u001b[39m \u001b[43m        \u001b[49m\u001b[33;43m\"\u001b[39;49m\u001b[33;43mfunction_name\u001b[39;49m\u001b[33;43m\"\u001b[39;49m\u001b[43m:\u001b[49m\u001b[43m \u001b[49m\u001b[43mfunction_name\u001b[49m\u001b[43m,\u001b[49m\n\u001b[32m   1214\u001b[39m \u001b[43m        \u001b[49m\u001b[33;43m\"\u001b[39;49m\u001b[33;43mbroadcast_parameters_rule\u001b[39;49m\u001b[33;43m\"\u001b[39;49m\u001b[43m:\u001b[49m\u001b[43m \u001b[49m\u001b[43mbroadcast_parameters_rule\u001b[49m\u001b[43m,\u001b[49m\n\u001b[32m   1215\u001b[39m \u001b[43m    \u001b[49m\u001b[43m}\u001b[49m\u001b[43m,\u001b[49m\n\u001b[32m   1216\u001b[39m \u001b[43m\u001b[49m\u001b[43m)\u001b[49m\n\u001b[32m   1217\u001b[39m \u001b[38;5;28;01massert\u001b[39;00m \u001b[38;5;28misinstance\u001b[39m(out, \u001b[38;5;28mtuple\u001b[39m)\n\u001b[32m   1218\u001b[39m \u001b[38;5;28;01mreturn\u001b[39;00m \u001b[38;5;28mtuple\u001b[39m(broadcast_unpack(x, isscalar) \u001b[38;5;28;01mfor\u001b[39;00m x \u001b[38;5;129;01min\u001b[39;00m out)\n",
      "\u001b[36mFile \u001b[39m\u001b[32m~/repos/z_plus_hf/.venv/lib/python3.12/site-packages/awkward/_broadcasting.py:1178\u001b[39m, in \u001b[36mapply_step\u001b[39m\u001b[34m(backend, inputs, action, depth, depth_context, lateral_context, options)\u001b[39m\n\u001b[32m   1176\u001b[39m     \u001b[38;5;28;01mreturn\u001b[39;00m result\n\u001b[32m   1177\u001b[39m \u001b[38;5;28;01melif\u001b[39;00m result \u001b[38;5;129;01mis\u001b[39;00m \u001b[38;5;28;01mNone\u001b[39;00m:\n\u001b[32m-> \u001b[39m\u001b[32m1178\u001b[39m     \u001b[38;5;28;01mreturn\u001b[39;00m \u001b[43mcontinuation\u001b[49m\u001b[43m(\u001b[49m\u001b[43m)\u001b[49m\n\u001b[32m   1179\u001b[39m \u001b[38;5;28;01melse\u001b[39;00m:\n\u001b[32m   1180\u001b[39m     \u001b[38;5;28;01mraise\u001b[39;00m \u001b[38;5;167;01mAssertionError\u001b[39;00m(result)\n",
      "\u001b[36mFile \u001b[39m\u001b[32m~/repos/z_plus_hf/.venv/lib/python3.12/site-packages/awkward/_broadcasting.py:1147\u001b[39m, in \u001b[36mapply_step.<locals>.continuation\u001b[39m\u001b[34m()\u001b[39m\n\u001b[32m   1145\u001b[39m \u001b[38;5;66;03m# Any non-string list-types?\u001b[39;00m\n\u001b[32m   1146\u001b[39m \u001b[38;5;28;01melif\u001b[39;00m \u001b[38;5;28many\u001b[39m(x.is_list \u001b[38;5;129;01mand\u001b[39;00m \u001b[38;5;129;01mnot\u001b[39;00m is_string_like(x) \u001b[38;5;28;01mfor\u001b[39;00m x \u001b[38;5;129;01min\u001b[39;00m contents):\n\u001b[32m-> \u001b[39m\u001b[32m1147\u001b[39m     \u001b[38;5;28;01mreturn\u001b[39;00m \u001b[43mbroadcast_any_list\u001b[49m\u001b[43m(\u001b[49m\u001b[43m)\u001b[49m\n\u001b[32m   1149\u001b[39m \u001b[38;5;66;03m# Any RecordArrays?\u001b[39;00m\n\u001b[32m   1150\u001b[39m \u001b[38;5;28;01melif\u001b[39;00m \u001b[38;5;28many\u001b[39m(x.is_record \u001b[38;5;28;01mfor\u001b[39;00m x \u001b[38;5;129;01min\u001b[39;00m contents):\n",
      "\u001b[36mFile \u001b[39m\u001b[32m~/repos/z_plus_hf/.venv/lib/python3.12/site-packages/awkward/_broadcasting.py:671\u001b[39m, in \u001b[36mapply_step.<locals>.broadcast_any_list\u001b[39m\u001b[34m()\u001b[39m\n\u001b[32m    668\u001b[39m         nextinputs.append(x)\n\u001b[32m    669\u001b[39m         nextparameters.append(NO_PARAMETERS)\n\u001b[32m--> \u001b[39m\u001b[32m671\u001b[39m outcontent = \u001b[43mapply_step\u001b[49m\u001b[43m(\u001b[49m\n\u001b[32m    672\u001b[39m \u001b[43m    \u001b[49m\u001b[43mbackend\u001b[49m\u001b[43m,\u001b[49m\n\u001b[32m    673\u001b[39m \u001b[43m    \u001b[49m\u001b[43mnextinputs\u001b[49m\u001b[43m,\u001b[49m\n\u001b[32m    674\u001b[39m \u001b[43m    \u001b[49m\u001b[43maction\u001b[49m\u001b[43m,\u001b[49m\n\u001b[32m    675\u001b[39m \u001b[43m    \u001b[49m\u001b[43mdepth\u001b[49m\u001b[43m \u001b[49m\u001b[43m+\u001b[49m\u001b[43m \u001b[49m\u001b[32;43m1\u001b[39;49m\u001b[43m,\u001b[49m\n\u001b[32m    676\u001b[39m \u001b[43m    \u001b[49m\u001b[43mcopy\u001b[49m\u001b[43m.\u001b[49m\u001b[43mcopy\u001b[49m\u001b[43m(\u001b[49m\u001b[43mdepth_context\u001b[49m\u001b[43m)\u001b[49m\u001b[43m,\u001b[49m\n\u001b[32m    677\u001b[39m \u001b[43m    \u001b[49m\u001b[43mlateral_context\u001b[49m\u001b[43m,\u001b[49m\n\u001b[32m    678\u001b[39m \u001b[43m    \u001b[49m\u001b[43moptions\u001b[49m\u001b[43m,\u001b[49m\n\u001b[32m    679\u001b[39m \u001b[43m\u001b[49m\u001b[43m)\u001b[49m\n\u001b[32m    680\u001b[39m \u001b[38;5;28;01massert\u001b[39;00m \u001b[38;5;28misinstance\u001b[39m(outcontent, \u001b[38;5;28mtuple\u001b[39m)\n\u001b[32m    681\u001b[39m parameters = parameters_factory(nextparameters, \u001b[38;5;28mlen\u001b[39m(outcontent))\n",
      "\u001b[36mFile \u001b[39m\u001b[32m~/repos/z_plus_hf/.venv/lib/python3.12/site-packages/awkward/_broadcasting.py:1178\u001b[39m, in \u001b[36mapply_step\u001b[39m\u001b[34m(backend, inputs, action, depth, depth_context, lateral_context, options)\u001b[39m\n\u001b[32m   1176\u001b[39m     \u001b[38;5;28;01mreturn\u001b[39;00m result\n\u001b[32m   1177\u001b[39m \u001b[38;5;28;01melif\u001b[39;00m result \u001b[38;5;129;01mis\u001b[39;00m \u001b[38;5;28;01mNone\u001b[39;00m:\n\u001b[32m-> \u001b[39m\u001b[32m1178\u001b[39m     \u001b[38;5;28;01mreturn\u001b[39;00m \u001b[43mcontinuation\u001b[49m\u001b[43m(\u001b[49m\u001b[43m)\u001b[49m\n\u001b[32m   1179\u001b[39m \u001b[38;5;28;01melse\u001b[39;00m:\n\u001b[32m   1180\u001b[39m     \u001b[38;5;28;01mraise\u001b[39;00m \u001b[38;5;167;01mAssertionError\u001b[39;00m(result)\n",
      "\u001b[36mFile \u001b[39m\u001b[32m~/repos/z_plus_hf/.venv/lib/python3.12/site-packages/awkward/_broadcasting.py:1147\u001b[39m, in \u001b[36mapply_step.<locals>.continuation\u001b[39m\u001b[34m()\u001b[39m\n\u001b[32m   1145\u001b[39m \u001b[38;5;66;03m# Any non-string list-types?\u001b[39;00m\n\u001b[32m   1146\u001b[39m \u001b[38;5;28;01melif\u001b[39;00m \u001b[38;5;28many\u001b[39m(x.is_list \u001b[38;5;129;01mand\u001b[39;00m \u001b[38;5;129;01mnot\u001b[39;00m is_string_like(x) \u001b[38;5;28;01mfor\u001b[39;00m x \u001b[38;5;129;01min\u001b[39;00m contents):\n\u001b[32m-> \u001b[39m\u001b[32m1147\u001b[39m     \u001b[38;5;28;01mreturn\u001b[39;00m \u001b[43mbroadcast_any_list\u001b[49m\u001b[43m(\u001b[49m\u001b[43m)\u001b[49m\n\u001b[32m   1149\u001b[39m \u001b[38;5;66;03m# Any RecordArrays?\u001b[39;00m\n\u001b[32m   1150\u001b[39m \u001b[38;5;28;01melif\u001b[39;00m \u001b[38;5;28many\u001b[39m(x.is_record \u001b[38;5;28;01mfor\u001b[39;00m x \u001b[38;5;129;01min\u001b[39;00m contents):\n",
      "\u001b[36mFile \u001b[39m\u001b[32m~/repos/z_plus_hf/.venv/lib/python3.12/site-packages/awkward/_broadcasting.py:747\u001b[39m, in \u001b[36mapply_step.<locals>.broadcast_any_list\u001b[39m\u001b[34m()\u001b[39m\n\u001b[32m    744\u001b[39m         nextinputs.append(x)\n\u001b[32m    745\u001b[39m         nextparameters.append(NO_PARAMETERS)\n\u001b[32m--> \u001b[39m\u001b[32m747\u001b[39m outcontent = \u001b[43mapply_step\u001b[49m\u001b[43m(\u001b[49m\n\u001b[32m    748\u001b[39m \u001b[43m    \u001b[49m\u001b[43mbackend\u001b[49m\u001b[43m,\u001b[49m\n\u001b[32m    749\u001b[39m \u001b[43m    \u001b[49m\u001b[43mnextinputs\u001b[49m\u001b[43m,\u001b[49m\n\u001b[32m    750\u001b[39m \u001b[43m    \u001b[49m\u001b[43maction\u001b[49m\u001b[43m,\u001b[49m\n\u001b[32m    751\u001b[39m \u001b[43m    \u001b[49m\u001b[43mdepth\u001b[49m\u001b[43m \u001b[49m\u001b[43m+\u001b[49m\u001b[43m \u001b[49m\u001b[32;43m1\u001b[39;49m\u001b[43m,\u001b[49m\n\u001b[32m    752\u001b[39m \u001b[43m    \u001b[49m\u001b[43mcopy\u001b[49m\u001b[43m.\u001b[49m\u001b[43mcopy\u001b[49m\u001b[43m(\u001b[49m\u001b[43mdepth_context\u001b[49m\u001b[43m)\u001b[49m\u001b[43m,\u001b[49m\n\u001b[32m    753\u001b[39m \u001b[43m    \u001b[49m\u001b[43mlateral_context\u001b[49m\u001b[43m,\u001b[49m\n\u001b[32m    754\u001b[39m \u001b[43m    \u001b[49m\u001b[43moptions\u001b[49m\u001b[43m,\u001b[49m\n\u001b[32m    755\u001b[39m \u001b[43m\u001b[49m\u001b[43m)\u001b[49m\n\u001b[32m    756\u001b[39m \u001b[38;5;28;01massert\u001b[39;00m \u001b[38;5;28misinstance\u001b[39m(outcontent, \u001b[38;5;28mtuple\u001b[39m)\n\u001b[32m    757\u001b[39m parameters = parameters_factory(nextparameters, \u001b[38;5;28mlen\u001b[39m(outcontent))\n",
      "\u001b[36mFile \u001b[39m\u001b[32m~/repos/z_plus_hf/.venv/lib/python3.12/site-packages/awkward/_broadcasting.py:1178\u001b[39m, in \u001b[36mapply_step\u001b[39m\u001b[34m(backend, inputs, action, depth, depth_context, lateral_context, options)\u001b[39m\n\u001b[32m   1176\u001b[39m     \u001b[38;5;28;01mreturn\u001b[39;00m result\n\u001b[32m   1177\u001b[39m \u001b[38;5;28;01melif\u001b[39;00m result \u001b[38;5;129;01mis\u001b[39;00m \u001b[38;5;28;01mNone\u001b[39;00m:\n\u001b[32m-> \u001b[39m\u001b[32m1178\u001b[39m     \u001b[38;5;28;01mreturn\u001b[39;00m \u001b[43mcontinuation\u001b[49m\u001b[43m(\u001b[49m\u001b[43m)\u001b[49m\n\u001b[32m   1179\u001b[39m \u001b[38;5;28;01melse\u001b[39;00m:\n\u001b[32m   1180\u001b[39m     \u001b[38;5;28;01mraise\u001b[39;00m \u001b[38;5;167;01mAssertionError\u001b[39;00m(result)\n",
      "\u001b[36mFile \u001b[39m\u001b[32m~/repos/z_plus_hf/.venv/lib/python3.12/site-packages/awkward/_broadcasting.py:1143\u001b[39m, in \u001b[36mapply_step.<locals>.continuation\u001b[39m\u001b[34m()\u001b[39m\n\u001b[32m   1141\u001b[39m         \u001b[38;5;28;01mreturn\u001b[39;00m broadcast_any_option_akwhere()\n\u001b[32m   1142\u001b[39m     \u001b[38;5;28;01melse\u001b[39;00m:\n\u001b[32m-> \u001b[39m\u001b[32m1143\u001b[39m         \u001b[38;5;28;01mreturn\u001b[39;00m \u001b[43mbroadcast_any_option\u001b[49m\u001b[43m(\u001b[49m\u001b[43m)\u001b[49m\n\u001b[32m   1145\u001b[39m \u001b[38;5;66;03m# Any non-string list-types?\u001b[39;00m\n\u001b[32m   1146\u001b[39m \u001b[38;5;28;01melif\u001b[39;00m \u001b[38;5;28many\u001b[39m(x.is_list \u001b[38;5;129;01mand\u001b[39;00m \u001b[38;5;129;01mnot\u001b[39;00m is_string_like(x) \u001b[38;5;28;01mfor\u001b[39;00m x \u001b[38;5;129;01min\u001b[39;00m contents):\n",
      "\u001b[36mFile \u001b[39m\u001b[32m~/repos/z_plus_hf/.venv/lib/python3.12/site-packages/awkward/_broadcasting.py:833\u001b[39m, in \u001b[36mapply_step.<locals>.broadcast_any_option\u001b[39m\u001b[34m()\u001b[39m\n\u001b[32m    830\u001b[39m         nextinputs.append(x)\n\u001b[32m    831\u001b[39m         nextparameters.append(NO_PARAMETERS)\n\u001b[32m--> \u001b[39m\u001b[32m833\u001b[39m outcontent = \u001b[43mapply_step\u001b[49m\u001b[43m(\u001b[49m\n\u001b[32m    834\u001b[39m \u001b[43m    \u001b[49m\u001b[43mbackend\u001b[49m\u001b[43m,\u001b[49m\n\u001b[32m    835\u001b[39m \u001b[43m    \u001b[49m\u001b[43mnextinputs\u001b[49m\u001b[43m,\u001b[49m\n\u001b[32m    836\u001b[39m \u001b[43m    \u001b[49m\u001b[43maction\u001b[49m\u001b[43m,\u001b[49m\n\u001b[32m    837\u001b[39m \u001b[43m    \u001b[49m\u001b[43mdepth\u001b[49m\u001b[43m,\u001b[49m\n\u001b[32m    838\u001b[39m \u001b[43m    \u001b[49m\u001b[43mcopy\u001b[49m\u001b[43m.\u001b[49m\u001b[43mcopy\u001b[49m\u001b[43m(\u001b[49m\u001b[43mdepth_context\u001b[49m\u001b[43m)\u001b[49m\u001b[43m,\u001b[49m\n\u001b[32m    839\u001b[39m \u001b[43m    \u001b[49m\u001b[43mlateral_context\u001b[49m\u001b[43m,\u001b[49m\n\u001b[32m    840\u001b[39m \u001b[43m    \u001b[49m\u001b[43moptions\u001b[49m\u001b[43m,\u001b[49m\n\u001b[32m    841\u001b[39m \u001b[43m\u001b[49m\u001b[43m)\u001b[49m\n\u001b[32m    842\u001b[39m \u001b[38;5;28;01massert\u001b[39;00m \u001b[38;5;28misinstance\u001b[39m(outcontent, \u001b[38;5;28mtuple\u001b[39m)\n\u001b[32m    843\u001b[39m parameters = parameters_factory(nextparameters, \u001b[38;5;28mlen\u001b[39m(outcontent))\n",
      "\u001b[36mFile \u001b[39m\u001b[32m~/repos/z_plus_hf/.venv/lib/python3.12/site-packages/awkward/_broadcasting.py:1178\u001b[39m, in \u001b[36mapply_step\u001b[39m\u001b[34m(backend, inputs, action, depth, depth_context, lateral_context, options)\u001b[39m\n\u001b[32m   1176\u001b[39m     \u001b[38;5;28;01mreturn\u001b[39;00m result\n\u001b[32m   1177\u001b[39m \u001b[38;5;28;01melif\u001b[39;00m result \u001b[38;5;129;01mis\u001b[39;00m \u001b[38;5;28;01mNone\u001b[39;00m:\n\u001b[32m-> \u001b[39m\u001b[32m1178\u001b[39m     \u001b[38;5;28;01mreturn\u001b[39;00m \u001b[43mcontinuation\u001b[49m\u001b[43m(\u001b[49m\u001b[43m)\u001b[49m\n\u001b[32m   1179\u001b[39m \u001b[38;5;28;01melse\u001b[39;00m:\n\u001b[32m   1180\u001b[39m     \u001b[38;5;28;01mraise\u001b[39;00m \u001b[38;5;167;01mAssertionError\u001b[39;00m(result)\n",
      "\u001b[36mFile \u001b[39m\u001b[32m~/repos/z_plus_hf/.venv/lib/python3.12/site-packages/awkward/_broadcasting.py:1147\u001b[39m, in \u001b[36mapply_step.<locals>.continuation\u001b[39m\u001b[34m()\u001b[39m\n\u001b[32m   1145\u001b[39m \u001b[38;5;66;03m# Any non-string list-types?\u001b[39;00m\n\u001b[32m   1146\u001b[39m \u001b[38;5;28;01melif\u001b[39;00m \u001b[38;5;28many\u001b[39m(x.is_list \u001b[38;5;129;01mand\u001b[39;00m \u001b[38;5;129;01mnot\u001b[39;00m is_string_like(x) \u001b[38;5;28;01mfor\u001b[39;00m x \u001b[38;5;129;01min\u001b[39;00m contents):\n\u001b[32m-> \u001b[39m\u001b[32m1147\u001b[39m     \u001b[38;5;28;01mreturn\u001b[39;00m \u001b[43mbroadcast_any_list\u001b[49m\u001b[43m(\u001b[49m\u001b[43m)\u001b[49m\n\u001b[32m   1149\u001b[39m \u001b[38;5;66;03m# Any RecordArrays?\u001b[39;00m\n\u001b[32m   1150\u001b[39m \u001b[38;5;28;01melif\u001b[39;00m \u001b[38;5;28many\u001b[39m(x.is_record \u001b[38;5;28;01mfor\u001b[39;00m x \u001b[38;5;129;01min\u001b[39;00m contents):\n",
      "\u001b[36mFile \u001b[39m\u001b[32m~/repos/z_plus_hf/.venv/lib/python3.12/site-packages/awkward/_broadcasting.py:722\u001b[39m, in \u001b[36mapply_step.<locals>.broadcast_any_list\u001b[39m\u001b[34m()\u001b[39m\n\u001b[32m    718\u001b[39m \u001b[38;5;28;01mfor\u001b[39;00m i, ((named_axis, ndim), x, x_is_string) \u001b[38;5;129;01min\u001b[39;00m \u001b[38;5;28menumerate\u001b[39m(\n\u001b[32m    719\u001b[39m     \u001b[38;5;28mzip\u001b[39m(named_axes_with_ndims, inputs, input_is_string)\n\u001b[32m    720\u001b[39m ):\n\u001b[32m    721\u001b[39m     \u001b[38;5;28;01mif\u001b[39;00m \u001b[38;5;28misinstance\u001b[39m(x, listtypes) \u001b[38;5;129;01mand\u001b[39;00m \u001b[38;5;129;01mnot\u001b[39;00m x_is_string:\n\u001b[32m--> \u001b[39m\u001b[32m722\u001b[39m         next_content = \u001b[43mbroadcast_to_offsets_avoiding_carry\u001b[49m\u001b[43m(\u001b[49m\u001b[43mx\u001b[49m\u001b[43m,\u001b[49m\u001b[43m \u001b[49m\u001b[43moffsets\u001b[49m\u001b[43m)\u001b[49m\n\u001b[32m    723\u001b[39m         nextinputs.append(next_content)\n\u001b[32m    724\u001b[39m         nextparameters.append(x._parameters)\n",
      "\u001b[36mFile \u001b[39m\u001b[32m~/repos/z_plus_hf/.venv/lib/python3.12/site-packages/awkward/_broadcasting.py:401\u001b[39m, in \u001b[36mbroadcast_to_offsets_avoiding_carry\u001b[39m\u001b[34m(list_content, offsets)\u001b[39m\n\u001b[32m    399\u001b[39m         \u001b[38;5;28;01mreturn\u001b[39;00m list_content.content[:next_length]\n\u001b[32m    400\u001b[39m     \u001b[38;5;28;01melse\u001b[39;00m:\n\u001b[32m--> \u001b[39m\u001b[32m401\u001b[39m         \u001b[38;5;28;01mreturn\u001b[39;00m \u001b[43mlist_content\u001b[49m\u001b[43m.\u001b[49m\u001b[43m_broadcast_tooffsets64\u001b[49m\u001b[43m(\u001b[49m\u001b[43moffsets\u001b[49m\u001b[43m)\u001b[49m.content\n\u001b[32m    402\u001b[39m \u001b[38;5;28;01melse\u001b[39;00m:\n\u001b[32m    403\u001b[39m     \u001b[38;5;28;01mreturn\u001b[39;00m list_content._broadcast_tooffsets64(offsets).content\n",
      "\u001b[36mFile \u001b[39m\u001b[32m~/repos/z_plus_hf/.venv/lib/python3.12/site-packages/awkward/contents/listarray.py:447\u001b[39m, in \u001b[36mListArray._broadcast_tooffsets64\u001b[39m\u001b[34m(self, offsets)\u001b[39m\n\u001b[32m    437\u001b[39m nextcarry = ak.index.Index64.empty(\n\u001b[32m    438\u001b[39m     \u001b[38;5;28mself\u001b[39m._backend.index_nplike.index_as_shape_item(offsets[-\u001b[32m1\u001b[39m]),\n\u001b[32m    439\u001b[39m     \u001b[38;5;28mself\u001b[39m._backend.index_nplike,\n\u001b[32m    440\u001b[39m )\n\u001b[32m    441\u001b[39m \u001b[38;5;28;01massert\u001b[39;00m (\n\u001b[32m    442\u001b[39m     nextcarry.nplike \u001b[38;5;129;01mis\u001b[39;00m \u001b[38;5;28mself\u001b[39m._backend.index_nplike\n\u001b[32m    443\u001b[39m     \u001b[38;5;129;01mand\u001b[39;00m offsets.nplike \u001b[38;5;129;01mis\u001b[39;00m \u001b[38;5;28mself\u001b[39m._backend.index_nplike\n\u001b[32m    444\u001b[39m     \u001b[38;5;129;01mand\u001b[39;00m \u001b[38;5;28mself\u001b[39m._starts.nplike \u001b[38;5;129;01mis\u001b[39;00m \u001b[38;5;28mself\u001b[39m._backend.index_nplike\n\u001b[32m    445\u001b[39m     \u001b[38;5;129;01mand\u001b[39;00m \u001b[38;5;28mself\u001b[39m._stops.nplike \u001b[38;5;129;01mis\u001b[39;00m \u001b[38;5;28mself\u001b[39m._backend.index_nplike\n\u001b[32m    446\u001b[39m )\n\u001b[32m--> \u001b[39m\u001b[32m447\u001b[39m \u001b[38;5;28;43mself\u001b[39;49m\u001b[43m.\u001b[49m\u001b[43m_backend\u001b[49m\u001b[43m.\u001b[49m\u001b[43mmaybe_kernel_error\u001b[49m\u001b[43m(\u001b[49m\n\u001b[32m    448\u001b[39m \u001b[43m    \u001b[49m\u001b[38;5;28;43mself\u001b[39;49m\u001b[43m.\u001b[49m\u001b[43m_backend\u001b[49m\u001b[43m[\u001b[49m\n\u001b[32m    449\u001b[39m \u001b[43m        \u001b[49m\u001b[33;43m\"\u001b[39;49m\u001b[33;43mawkward_ListArray_broadcast_tooffsets\u001b[39;49m\u001b[33;43m\"\u001b[39;49m\u001b[43m,\u001b[49m\n\u001b[32m    450\u001b[39m \u001b[43m        \u001b[49m\u001b[43mnextcarry\u001b[49m\u001b[43m.\u001b[49m\u001b[43mdtype\u001b[49m\u001b[43m.\u001b[49m\u001b[43mtype\u001b[49m\u001b[43m,\u001b[49m\n\u001b[32m    451\u001b[39m \u001b[43m        \u001b[49m\u001b[43moffsets\u001b[49m\u001b[43m.\u001b[49m\u001b[43mdtype\u001b[49m\u001b[43m.\u001b[49m\u001b[43mtype\u001b[49m\u001b[43m,\u001b[49m\n\u001b[32m    452\u001b[39m \u001b[43m        \u001b[49m\u001b[38;5;28;43mself\u001b[39;49m\u001b[43m.\u001b[49m\u001b[43m_starts\u001b[49m\u001b[43m.\u001b[49m\u001b[43mdtype\u001b[49m\u001b[43m.\u001b[49m\u001b[43mtype\u001b[49m\u001b[43m,\u001b[49m\n\u001b[32m    453\u001b[39m \u001b[43m        \u001b[49m\u001b[38;5;28;43mself\u001b[39;49m\u001b[43m.\u001b[49m\u001b[43m_stops\u001b[49m\u001b[43m.\u001b[49m\u001b[43mdtype\u001b[49m\u001b[43m.\u001b[49m\u001b[43mtype\u001b[49m\u001b[43m,\u001b[49m\n\u001b[32m    454\u001b[39m \u001b[43m    \u001b[49m\u001b[43m]\u001b[49m\u001b[43m(\u001b[49m\n\u001b[32m    455\u001b[39m \u001b[43m        \u001b[49m\u001b[43mnextcarry\u001b[49m\u001b[43m.\u001b[49m\u001b[43mdata\u001b[49m\u001b[43m,\u001b[49m\n\u001b[32m    456\u001b[39m \u001b[43m        \u001b[49m\u001b[43moffsets\u001b[49m\u001b[43m.\u001b[49m\u001b[43mdata\u001b[49m\u001b[43m,\u001b[49m\n\u001b[32m    457\u001b[39m \u001b[43m        \u001b[49m\u001b[43moffsets\u001b[49m\u001b[43m.\u001b[49m\u001b[43mlength\u001b[49m\u001b[43m,\u001b[49m\n\u001b[32m    458\u001b[39m \u001b[43m        \u001b[49m\u001b[38;5;28;43mself\u001b[39;49m\u001b[43m.\u001b[49m\u001b[43m_starts\u001b[49m\u001b[43m.\u001b[49m\u001b[43mdata\u001b[49m\u001b[43m,\u001b[49m\n\u001b[32m    459\u001b[39m \u001b[43m        \u001b[49m\u001b[38;5;28;43mself\u001b[39;49m\u001b[43m.\u001b[49m\u001b[43m_stops\u001b[49m\u001b[43m.\u001b[49m\u001b[43mdata\u001b[49m\u001b[43m,\u001b[49m\n\u001b[32m    460\u001b[39m \u001b[43m        \u001b[49m\u001b[38;5;28;43mself\u001b[39;49m\u001b[43m.\u001b[49m\u001b[43m_content\u001b[49m\u001b[43m.\u001b[49m\u001b[43mlength\u001b[49m\u001b[43m,\u001b[49m\n\u001b[32m    461\u001b[39m \u001b[43m    \u001b[49m\u001b[43m)\u001b[49m\n\u001b[32m    462\u001b[39m \u001b[43m\u001b[49m\u001b[43m)\u001b[49m\n\u001b[32m    464\u001b[39m nextcontent = \u001b[38;5;28mself\u001b[39m._content._carry(nextcarry, \u001b[38;5;28;01mTrue\u001b[39;00m)\n\u001b[32m    466\u001b[39m \u001b[38;5;28;01mreturn\u001b[39;00m ListOffsetArray(offsets, nextcontent, parameters=\u001b[38;5;28mself\u001b[39m._parameters)\n",
      "\u001b[36mFile \u001b[39m\u001b[32m~/repos/z_plus_hf/.venv/lib/python3.12/site-packages/awkward/_backends/backend.py:67\u001b[39m, in \u001b[36mBackend.maybe_kernel_error\u001b[39m\u001b[34m(self, error)\u001b[39m\n\u001b[32m     65\u001b[39m     \u001b[38;5;28;01mreturn\u001b[39;00m\n\u001b[32m     66\u001b[39m \u001b[38;5;28;01melse\u001b[39;00m:\n\u001b[32m---> \u001b[39m\u001b[32m67\u001b[39m     \u001b[38;5;28;01mraise\u001b[39;00m \u001b[38;5;167;01mValueError\u001b[39;00m(\u001b[38;5;28mself\u001b[39m.format_kernel_error(error))\n",
      "\u001b[31mValueError\u001b[39m: cannot broadcast nested list (in compiled code: https://github.com/scikit-hep/awkward/blob/awkward-cpp-45/awkward-cpp/src/cpu-kernels/awkward_ListArray_broadcast_tooffsets.cpp#L27)",
      "\nThis error occurred while calling\n\n    numpy.subtract.__call__(\n        <Array [[None], [...], ..., [[4.06]]] type='500 * var * option[var ...'>\n        <Array [[None], [[6.73], ...], ..., [[]]] type='500 * var * option[...'>\n    )"
     ]
    }
   ],
   "source": [
    "ak.pad_none(leading.pt, 1, axis=1) - ak.pad_none(subleading.pt, 1, axis=1)"
   ]
  },
  {
   "cell_type": "code",
   "execution_count": 316,
   "metadata": {},
   "outputs": [
    {
     "data": {
      "text/html": [
       "<pre>[[],\n",
       " [[3.56, 4.78, 4.87, 4.05, 3.84, 5.52]],\n",
       " [[8.35, 2.61, 8.09]],\n",
       " [[5.66]],\n",
       " [[4.23]],\n",
       " [[10.5, 5.33, 7.7, 9.28, 2.62]],\n",
       " [[14.4]],\n",
       " [],\n",
       " [[4.52]],\n",
       " [],\n",
       " ...,\n",
       " [[2.67, 2.98, 3.73, 6.31]],\n",
       " [[12.6, 4.47, 7.09, 15.3, 3.23, 5.93]],\n",
       " [],\n",
       " [[3]],\n",
       " [[3.28]],\n",
       " [],\n",
       " [[37]],\n",
       " [[3.85, 5.98, 4.25, 4.58]],\n",
       " [[4.06]]]\n",
       "----------------------------------------\n",
       "backend: cpu\n",
       "nbytes: 11.5 kB\n",
       "type: 500 * var * var * float64</pre>"
      ],
      "text/plain": [
       "<Array [[], [[3.56, ..., 5.52]], ..., [[4.06]]] type='500 * var * var * flo...'>"
      ]
     },
     "execution_count": 316,
     "metadata": {},
     "output_type": "execute_result"
    }
   ],
   "source": [
    "leading.pt"
   ]
  },
  {
   "cell_type": "code",
   "execution_count": 289,
   "metadata": {},
   "outputs": [
    {
     "data": {
      "text/html": [
       "<pre>[[6.26],\n",
       " [3.62],\n",
       " [0.812],\n",
       " [16.1],\n",
       " [9.16],\n",
       " [0.612],\n",
       " [15.3],\n",
       " [2.05],\n",
       " [6.21],\n",
       " [0.0199],\n",
       " ...,\n",
       " [1.17],\n",
       " [6.88],\n",
       " [7.86],\n",
       " [3.87],\n",
       " [1.21],\n",
       " [22.7],\n",
       " [26],\n",
       " [1.88],\n",
       " [12.2]]\n",
       "-------------------------\n",
       "backend: cpu\n",
       "nbytes: 2.0 kB\n",
       "type: 123 * var * float64</pre>"
      ],
      "text/plain": [
       "<Array [[6.26], [3.62], ..., [1.88], [12.2]] type='123 * var * float64'>"
      ]
     },
     "execution_count": 289,
     "metadata": {},
     "output_type": "execute_result"
    }
   ],
   "source": [
    "lesub"
   ]
  },
  {
   "cell_type": "code",
   "execution_count": 285,
   "metadata": {},
   "outputs": [
    {
     "data": {
      "text/html": [
       "<pre>[[],\n",
       " [26.6],\n",
       " [19.1],\n",
       " [5.66],\n",
       " [4.23],\n",
       " [35.3],\n",
       " [14.4],\n",
       " [],\n",
       " [4.52],\n",
       " [],\n",
       " ...,\n",
       " [15.7],\n",
       " [48.4],\n",
       " [],\n",
       " [3],\n",
       " [3.28],\n",
       " [],\n",
       " [37],\n",
       " [18.6],\n",
       " [4.06]]\n",
       "-------------------------\n",
       "backend: cpu\n",
       "nbytes: 6.3 kB\n",
       "type: 500 * var * float64</pre>"
      ],
      "text/plain": [
       "<Array [[], [26.6], [19.1], ..., [18.6], [4.06]] type='500 * var * float64'>"
      ]
     },
     "execution_count": 285,
     "metadata": {},
     "output_type": "execute_result"
    }
   ],
   "source": [
    "leading.pt"
   ]
  },
  {
   "cell_type": "code",
   "execution_count": 293,
   "metadata": {},
   "outputs": [
    {
     "data": {
      "text/html": [
       "<pre>[[None],\n",
       " [6.26],\n",
       " [3.62],\n",
       " [None],\n",
       " [0.812],\n",
       " [16.1],\n",
       " [None],\n",
       " [None],\n",
       " [None],\n",
       " [None],\n",
       " ...,\n",
       " [None],\n",
       " [26],\n",
       " [None],\n",
       " [None],\n",
       " [None],\n",
       " [None],\n",
       " [1.88],\n",
       " [12.2],\n",
       " [None]]\n",
       "--------------------------\n",
       "backend: cpu\n",
       "nbytes: 9.0 kB\n",
       "type: 500 * var * ?float64</pre>"
      ],
      "text/plain": [
       "<Array [[None], [6.26], ..., [12.2], [None]] type='500 * var * ?float64'>"
      ]
     },
     "execution_count": 293,
     "metadata": {},
     "output_type": "execute_result"
    }
   ],
   "source": [
    "test_ls = ak.pad_none(leading.pt, 1, axis=1) - ak.pad_none(subleading.pt, 1, axis=1) \n",
    "\n",
    "test_ls"
   ]
  },
  {
   "cell_type": "code",
   "execution_count": 304,
   "metadata": {},
   "outputs": [
    {
     "data": {
      "text/html": [
       "<pre>[[],\n",
       " [0.0433, 0.0866],\n",
       " [0, 0.0689, 0.0503],\n",
       " [0],\n",
       " [0, 0],\n",
       " [0, 0.105, 0.0681],\n",
       " [0],\n",
       " [],\n",
       " [0],\n",
       " [],\n",
       " ...,\n",
       " [0.0578],\n",
       " [0, 0, 0, 0.0604, 2.92],\n",
       " [],\n",
       " [0],\n",
       " [0],\n",
       " [],\n",
       " [0, 0],\n",
       " [0.11, 0.0443],\n",
       " [0]]\n",
       "-------------------------\n",
       "backend: cpu\n",
       "nbytes: 7.7 kB\n",
       "type: 500 * var * float64</pre>"
      ],
      "text/plain": [
       "<Array [[], [0.0433, 0.0866], ..., [0.11, ...], [0]] type='500 * var * float64'>"
      ]
     },
     "execution_count": 304,
     "metadata": {},
     "output_type": "execute_result"
    }
   ],
   "source": [
    "girth"
   ]
  },
  {
   "cell_type": "code",
   "execution_count": 305,
   "metadata": {},
   "outputs": [],
   "source": [
    "jets['girth'] = girth"
   ]
  },
  {
   "cell_type": "code",
   "execution_count": 311,
   "metadata": {},
   "outputs": [
    {
     "ename": "ValueError",
     "evalue": "cannot broadcast nested list",
     "output_type": "error",
     "traceback": [
      "\u001b[31m---------------------------------------------------------------------------\u001b[39m",
      "\u001b[31mValueError\u001b[39m                                Traceback (most recent call last)",
      "\u001b[36mCell\u001b[39m\u001b[36m \u001b[39m\u001b[32mIn[311]\u001b[39m\u001b[32m, line 1\u001b[39m\n\u001b[32m----> \u001b[39m\u001b[32m1\u001b[39m \u001b[43mjets\u001b[49m\u001b[43m[\u001b[49m\u001b[33;43m'\u001b[39;49m\u001b[33;43mlesub\u001b[39;49m\u001b[33;43m'\u001b[39;49m\u001b[43m]\u001b[49m = test_ls\n",
      "\u001b[36mFile \u001b[39m\u001b[32m~/repos/z_plus_hf/.venv/lib/python3.12/site-packages/awkward/highlevel.py:1194\u001b[39m, in \u001b[36mArray.__setitem__\u001b[39m\u001b[34m(self, where, what)\u001b[39m\n\u001b[32m   1139\u001b[39m \u001b[38;5;28;01mdef\u001b[39;00m\u001b[38;5;250m \u001b[39m\u001b[34m__setitem__\u001b[39m(\u001b[38;5;28mself\u001b[39m, where, what):\n\u001b[32m   1140\u001b[39m \u001b[38;5;250m    \u001b[39m\u001b[33;03m\"\"\"\u001b[39;00m\n\u001b[32m   1141\u001b[39m \u001b[33;03m    Args:\u001b[39;00m\n\u001b[32m   1142\u001b[39m \u001b[33;03m        where (str or tuple of str): Field name to add to records in the array.\u001b[39;00m\n\u001b[32m   (...)\u001b[39m\u001b[32m   1192\u001b[39m \u001b[33;03m    is not a factor in choosing one over the other.)\u001b[39;00m\n\u001b[32m   1193\u001b[39m \u001b[33;03m    \"\"\"\u001b[39;00m\n\u001b[32m-> \u001b[39m\u001b[32m1194\u001b[39m     \u001b[38;5;28;01mwith\u001b[39;00m ak._errors.OperationErrorContext(\n\u001b[32m   1195\u001b[39m         \u001b[33m\"\u001b[39m\u001b[33mak.Array.__setitem__\u001b[39m\u001b[33m\"\u001b[39m,\n\u001b[32m   1196\u001b[39m         (\u001b[38;5;28mself\u001b[39m,),\n\u001b[32m   1197\u001b[39m         {\u001b[33m\"\u001b[39m\u001b[33mwhere\u001b[39m\u001b[33m\"\u001b[39m: where, \u001b[33m\"\u001b[39m\u001b[33mwhat\u001b[39m\u001b[33m\"\u001b[39m: what},\n\u001b[32m   1198\u001b[39m     ):\n\u001b[32m   1199\u001b[39m         \u001b[38;5;28;01mif\u001b[39;00m \u001b[38;5;129;01mnot\u001b[39;00m (\n\u001b[32m   1200\u001b[39m             \u001b[38;5;28misinstance\u001b[39m(where, \u001b[38;5;28mstr\u001b[39m)\n\u001b[32m   1201\u001b[39m             \u001b[38;5;129;01mor\u001b[39;00m (\u001b[38;5;28misinstance\u001b[39m(where, \u001b[38;5;28mtuple\u001b[39m) \u001b[38;5;129;01mand\u001b[39;00m \u001b[38;5;28mall\u001b[39m(\u001b[38;5;28misinstance\u001b[39m(x, \u001b[38;5;28mstr\u001b[39m) \u001b[38;5;28;01mfor\u001b[39;00m x \u001b[38;5;129;01min\u001b[39;00m where))\n\u001b[32m   1202\u001b[39m         ):\n\u001b[32m   1203\u001b[39m             \u001b[38;5;28;01mraise\u001b[39;00m \u001b[38;5;167;01mTypeError\u001b[39;00m(\u001b[33m\"\u001b[39m\u001b[33monly fields may be assigned in-place (by field name)\u001b[39m\u001b[33m\"\u001b[39m)\n",
      "\u001b[36mFile \u001b[39m\u001b[32m~/repos/z_plus_hf/.venv/lib/python3.12/site-packages/awkward/_errors.py:80\u001b[39m, in \u001b[36mErrorContext.__exit__\u001b[39m\u001b[34m(self, exception_type, exception_value, traceback)\u001b[39m\n\u001b[32m     78\u001b[39m     \u001b[38;5;28mself\u001b[39m._slate.\u001b[34m__dict__\u001b[39m.clear()\n\u001b[32m     79\u001b[39m     \u001b[38;5;66;03m# Handle caught exception\u001b[39;00m\n\u001b[32m---> \u001b[39m\u001b[32m80\u001b[39m     \u001b[38;5;28;01mraise\u001b[39;00m \u001b[38;5;28mself\u001b[39m.decorate_exception(exception_type, exception_value)\n\u001b[32m     81\u001b[39m \u001b[38;5;28;01melse\u001b[39;00m:\n\u001b[32m     82\u001b[39m     \u001b[38;5;66;03m# Step out of the way so that another ErrorContext can become primary.\u001b[39;00m\n\u001b[32m     83\u001b[39m     \u001b[38;5;28;01mif\u001b[39;00m \u001b[38;5;28mself\u001b[39m.primary() \u001b[38;5;129;01mis\u001b[39;00m \u001b[38;5;28mself\u001b[39m:\n",
      "\u001b[36mFile \u001b[39m\u001b[32m~/repos/z_plus_hf/.venv/lib/python3.12/site-packages/awkward/highlevel.py:1205\u001b[39m, in \u001b[36mArray.__setitem__\u001b[39m\u001b[34m(self, where, what)\u001b[39m\n\u001b[32m   1199\u001b[39m \u001b[38;5;28;01mif\u001b[39;00m \u001b[38;5;129;01mnot\u001b[39;00m (\n\u001b[32m   1200\u001b[39m     \u001b[38;5;28misinstance\u001b[39m(where, \u001b[38;5;28mstr\u001b[39m)\n\u001b[32m   1201\u001b[39m     \u001b[38;5;129;01mor\u001b[39;00m (\u001b[38;5;28misinstance\u001b[39m(where, \u001b[38;5;28mtuple\u001b[39m) \u001b[38;5;129;01mand\u001b[39;00m \u001b[38;5;28mall\u001b[39m(\u001b[38;5;28misinstance\u001b[39m(x, \u001b[38;5;28mstr\u001b[39m) \u001b[38;5;28;01mfor\u001b[39;00m x \u001b[38;5;129;01min\u001b[39;00m where))\n\u001b[32m   1202\u001b[39m ):\n\u001b[32m   1203\u001b[39m     \u001b[38;5;28;01mraise\u001b[39;00m \u001b[38;5;167;01mTypeError\u001b[39;00m(\u001b[33m\"\u001b[39m\u001b[33monly fields may be assigned in-place (by field name)\u001b[39m\u001b[33m\"\u001b[39m)\n\u001b[32m-> \u001b[39m\u001b[32m1205\u001b[39m \u001b[38;5;28mself\u001b[39m._layout = \u001b[43mak\u001b[49m\u001b[43m.\u001b[49m\u001b[43moperations\u001b[49m\u001b[43m.\u001b[49m\u001b[43mwith_field\u001b[49m\u001b[43m(\u001b[49m\n\u001b[32m   1206\u001b[39m \u001b[43m    \u001b[49m\u001b[38;5;28;43mself\u001b[39;49m\u001b[43m.\u001b[49m\u001b[43m_layout\u001b[49m\u001b[43m,\u001b[49m\n\u001b[32m   1207\u001b[39m \u001b[43m    \u001b[49m\u001b[43mwhat\u001b[49m\u001b[43m,\u001b[49m\n\u001b[32m   1208\u001b[39m \u001b[43m    \u001b[49m\u001b[43mwhere\u001b[49m\u001b[43m,\u001b[49m\n\u001b[32m   1209\u001b[39m \u001b[43m    \u001b[49m\u001b[43mhighlevel\u001b[49m\u001b[43m=\u001b[49m\u001b[38;5;28;43;01mFalse\u001b[39;49;00m\u001b[43m,\u001b[49m\n\u001b[32m   1210\u001b[39m \u001b[43m    \u001b[49m\u001b[43mattrs\u001b[49m\u001b[43m=\u001b[49m\u001b[38;5;28;43mself\u001b[39;49m\u001b[43m.\u001b[49m\u001b[43m_attrs\u001b[49m\u001b[43m,\u001b[49m\n\u001b[32m   1211\u001b[39m \u001b[43m    \u001b[49m\u001b[43mbehavior\u001b[49m\u001b[43m=\u001b[49m\u001b[38;5;28;43mself\u001b[39;49m\u001b[43m.\u001b[49m\u001b[43m_behavior\u001b[49m\u001b[43m,\u001b[49m\n\u001b[32m   1212\u001b[39m \u001b[43m\u001b[49m\u001b[43m)\u001b[49m\n\u001b[32m   1213\u001b[39m \u001b[38;5;28mself\u001b[39m._numbaview = \u001b[38;5;28;01mNone\u001b[39;00m\n",
      "\u001b[36mFile \u001b[39m\u001b[32m~/repos/z_plus_hf/.venv/lib/python3.12/site-packages/awkward/_dispatch.py:64\u001b[39m, in \u001b[36mnamed_high_level_function.<locals>.dispatch\u001b[39m\u001b[34m(*args, **kwargs)\u001b[39m\n\u001b[32m     62\u001b[39m \u001b[38;5;66;03m# Failed to find a custom overload, so resume the original function\u001b[39;00m\n\u001b[32m     63\u001b[39m \u001b[38;5;28;01mtry\u001b[39;00m:\n\u001b[32m---> \u001b[39m\u001b[32m64\u001b[39m     \u001b[38;5;28;43mnext\u001b[39;49m\u001b[43m(\u001b[49m\u001b[43mgen_or_result\u001b[49m\u001b[43m)\u001b[49m\n\u001b[32m     65\u001b[39m \u001b[38;5;28;01mexcept\u001b[39;00m \u001b[38;5;167;01mStopIteration\u001b[39;00m \u001b[38;5;28;01mas\u001b[39;00m err:\n\u001b[32m     66\u001b[39m     \u001b[38;5;28;01mreturn\u001b[39;00m err.value\n",
      "\u001b[36mFile \u001b[39m\u001b[32m~/repos/z_plus_hf/.venv/lib/python3.12/site-packages/awkward/operations/ak_with_field.py:50\u001b[39m, in \u001b[36mwith_field\u001b[39m\u001b[34m(array, what, where, highlevel, behavior, attrs)\u001b[39m\n\u001b[32m     47\u001b[39m \u001b[38;5;28;01myield\u001b[39;00m array, what\n\u001b[32m     49\u001b[39m \u001b[38;5;66;03m# Implementation\u001b[39;00m\n\u001b[32m---> \u001b[39m\u001b[32m50\u001b[39m \u001b[38;5;28;01mreturn\u001b[39;00m \u001b[43m_impl\u001b[49m\u001b[43m(\u001b[49m\u001b[43marray\u001b[49m\u001b[43m,\u001b[49m\u001b[43m \u001b[49m\u001b[43mwhat\u001b[49m\u001b[43m,\u001b[49m\u001b[43m \u001b[49m\u001b[43mwhere\u001b[49m\u001b[43m,\u001b[49m\u001b[43m \u001b[49m\u001b[43mhighlevel\u001b[49m\u001b[43m,\u001b[49m\u001b[43m \u001b[49m\u001b[43mbehavior\u001b[49m\u001b[43m,\u001b[49m\u001b[43m \u001b[49m\u001b[43mattrs\u001b[49m\u001b[43m)\u001b[49m\n",
      "\u001b[36mFile \u001b[39m\u001b[32m~/repos/z_plus_hf/.venv/lib/python3.12/site-packages/awkward/operations/ak_with_field.py:165\u001b[39m, in \u001b[36m_impl\u001b[39m\u001b[34m(base, what, where, highlevel, behavior, attrs)\u001b[39m\n\u001b[32m    162\u001b[39m     \u001b[38;5;28;01melse\u001b[39;00m:\n\u001b[32m    163\u001b[39m         \u001b[38;5;28;01mreturn\u001b[39;00m \u001b[38;5;28;01mNone\u001b[39;00m\n\u001b[32m--> \u001b[39m\u001b[32m165\u001b[39m out = \u001b[43mak\u001b[49m\u001b[43m.\u001b[49m\u001b[43m_broadcasting\u001b[49m\u001b[43m.\u001b[49m\u001b[43mbroadcast_and_apply\u001b[49m\u001b[43m(\u001b[49m\n\u001b[32m    166\u001b[39m \u001b[43m    \u001b[49m\u001b[43m[\u001b[49m\u001b[43mbase\u001b[49m\u001b[43m,\u001b[49m\u001b[43m \u001b[49m\u001b[43mwhat\u001b[49m\u001b[43m]\u001b[49m\u001b[43m,\u001b[49m\n\u001b[32m    167\u001b[39m \u001b[43m    \u001b[49m\u001b[43maction\u001b[49m\u001b[43m,\u001b[49m\n\u001b[32m    168\u001b[39m \u001b[43m    \u001b[49m\u001b[43mdepth_context\u001b[49m\u001b[43m=\u001b[49m\u001b[43mdepth_context\u001b[49m\u001b[43m,\u001b[49m\n\u001b[32m    169\u001b[39m \u001b[43m    \u001b[49m\u001b[43mlateral_context\u001b[49m\u001b[43m=\u001b[49m\u001b[43mlateral_context\u001b[49m\u001b[43m,\u001b[49m\n\u001b[32m    170\u001b[39m \u001b[43m    \u001b[49m\u001b[43mright_broadcast\u001b[49m\u001b[43m=\u001b[49m\u001b[38;5;28;43;01mFalse\u001b[39;49;00m\u001b[43m,\u001b[49m\n\u001b[32m    171\u001b[39m \u001b[43m\u001b[49m\u001b[43m)\u001b[49m\n\u001b[32m    173\u001b[39m \u001b[38;5;28;01massert\u001b[39;00m \u001b[38;5;28misinstance\u001b[39m(out, \u001b[38;5;28mtuple\u001b[39m) \u001b[38;5;129;01mand\u001b[39;00m \u001b[38;5;28mlen\u001b[39m(out) == \u001b[32m1\u001b[39m\n\u001b[32m    175\u001b[39m \u001b[38;5;66;03m# Unify named axes propagated through the broadcast\u001b[39;00m\n",
      "\u001b[36mFile \u001b[39m\u001b[32m~/repos/z_plus_hf/.venv/lib/python3.12/site-packages/awkward/_broadcasting.py:1200\u001b[39m, in \u001b[36mbroadcast_and_apply\u001b[39m\u001b[34m(inputs, action, depth_context, lateral_context, allow_records, left_broadcast, right_broadcast, numpy_to_regular, regular_to_jagged, function_name, broadcast_parameters_rule)\u001b[39m\n\u001b[32m   1198\u001b[39m backend = backend_of(*inputs, coerce_to_common=\u001b[38;5;28;01mFalse\u001b[39;00m)\n\u001b[32m   1199\u001b[39m isscalar = []\n\u001b[32m-> \u001b[39m\u001b[32m1200\u001b[39m out = \u001b[43mapply_step\u001b[49m\u001b[43m(\u001b[49m\n\u001b[32m   1201\u001b[39m \u001b[43m    \u001b[49m\u001b[43mbackend\u001b[49m\u001b[43m,\u001b[49m\n\u001b[32m   1202\u001b[39m \u001b[43m    \u001b[49m\u001b[43mbroadcast_pack\u001b[49m\u001b[43m(\u001b[49m\u001b[43minputs\u001b[49m\u001b[43m,\u001b[49m\u001b[43m \u001b[49m\u001b[43misscalar\u001b[49m\u001b[43m)\u001b[49m\u001b[43m,\u001b[49m\n\u001b[32m   1203\u001b[39m \u001b[43m    \u001b[49m\u001b[43maction\u001b[49m\u001b[43m,\u001b[49m\n\u001b[32m   1204\u001b[39m \u001b[43m    \u001b[49m\u001b[32;43m0\u001b[39;49m\u001b[43m,\u001b[49m\n\u001b[32m   1205\u001b[39m \u001b[43m    \u001b[49m\u001b[43mdepth_context\u001b[49m\u001b[43m,\u001b[49m\n\u001b[32m   1206\u001b[39m \u001b[43m    \u001b[49m\u001b[43mlateral_context\u001b[49m\u001b[43m,\u001b[49m\n\u001b[32m   1207\u001b[39m \u001b[43m    \u001b[49m\u001b[43m{\u001b[49m\n\u001b[32m   1208\u001b[39m \u001b[43m        \u001b[49m\u001b[33;43m\"\u001b[39;49m\u001b[33;43mallow_records\u001b[39;49m\u001b[33;43m\"\u001b[39;49m\u001b[43m:\u001b[49m\u001b[43m \u001b[49m\u001b[43mallow_records\u001b[49m\u001b[43m,\u001b[49m\n\u001b[32m   1209\u001b[39m \u001b[43m        \u001b[49m\u001b[33;43m\"\u001b[39;49m\u001b[33;43mleft_broadcast\u001b[39;49m\u001b[33;43m\"\u001b[39;49m\u001b[43m:\u001b[49m\u001b[43m \u001b[49m\u001b[43mleft_broadcast\u001b[49m\u001b[43m,\u001b[49m\n\u001b[32m   1210\u001b[39m \u001b[43m        \u001b[49m\u001b[33;43m\"\u001b[39;49m\u001b[33;43mright_broadcast\u001b[39;49m\u001b[33;43m\"\u001b[39;49m\u001b[43m:\u001b[49m\u001b[43m \u001b[49m\u001b[43mright_broadcast\u001b[49m\u001b[43m,\u001b[49m\n\u001b[32m   1211\u001b[39m \u001b[43m        \u001b[49m\u001b[33;43m\"\u001b[39;49m\u001b[33;43mnumpy_to_regular\u001b[39;49m\u001b[33;43m\"\u001b[39;49m\u001b[43m:\u001b[49m\u001b[43m \u001b[49m\u001b[43mnumpy_to_regular\u001b[49m\u001b[43m,\u001b[49m\n\u001b[32m   1212\u001b[39m \u001b[43m        \u001b[49m\u001b[33;43m\"\u001b[39;49m\u001b[33;43mregular_to_jagged\u001b[39;49m\u001b[33;43m\"\u001b[39;49m\u001b[43m:\u001b[49m\u001b[43m \u001b[49m\u001b[43mregular_to_jagged\u001b[49m\u001b[43m,\u001b[49m\n\u001b[32m   1213\u001b[39m \u001b[43m        \u001b[49m\u001b[33;43m\"\u001b[39;49m\u001b[33;43mfunction_name\u001b[39;49m\u001b[33;43m\"\u001b[39;49m\u001b[43m:\u001b[49m\u001b[43m \u001b[49m\u001b[43mfunction_name\u001b[49m\u001b[43m,\u001b[49m\n\u001b[32m   1214\u001b[39m \u001b[43m        \u001b[49m\u001b[33;43m\"\u001b[39;49m\u001b[33;43mbroadcast_parameters_rule\u001b[39;49m\u001b[33;43m\"\u001b[39;49m\u001b[43m:\u001b[49m\u001b[43m \u001b[49m\u001b[43mbroadcast_parameters_rule\u001b[49m\u001b[43m,\u001b[49m\n\u001b[32m   1215\u001b[39m \u001b[43m    \u001b[49m\u001b[43m}\u001b[49m\u001b[43m,\u001b[49m\n\u001b[32m   1216\u001b[39m \u001b[43m\u001b[49m\u001b[43m)\u001b[49m\n\u001b[32m   1217\u001b[39m \u001b[38;5;28;01massert\u001b[39;00m \u001b[38;5;28misinstance\u001b[39m(out, \u001b[38;5;28mtuple\u001b[39m)\n\u001b[32m   1218\u001b[39m \u001b[38;5;28;01mreturn\u001b[39;00m \u001b[38;5;28mtuple\u001b[39m(broadcast_unpack(x, isscalar) \u001b[38;5;28;01mfor\u001b[39;00m x \u001b[38;5;129;01min\u001b[39;00m out)\n",
      "\u001b[36mFile \u001b[39m\u001b[32m~/repos/z_plus_hf/.venv/lib/python3.12/site-packages/awkward/_broadcasting.py:1178\u001b[39m, in \u001b[36mapply_step\u001b[39m\u001b[34m(backend, inputs, action, depth, depth_context, lateral_context, options)\u001b[39m\n\u001b[32m   1176\u001b[39m     \u001b[38;5;28;01mreturn\u001b[39;00m result\n\u001b[32m   1177\u001b[39m \u001b[38;5;28;01melif\u001b[39;00m result \u001b[38;5;129;01mis\u001b[39;00m \u001b[38;5;28;01mNone\u001b[39;00m:\n\u001b[32m-> \u001b[39m\u001b[32m1178\u001b[39m     \u001b[38;5;28;01mreturn\u001b[39;00m \u001b[43mcontinuation\u001b[49m\u001b[43m(\u001b[49m\u001b[43m)\u001b[49m\n\u001b[32m   1179\u001b[39m \u001b[38;5;28;01melse\u001b[39;00m:\n\u001b[32m   1180\u001b[39m     \u001b[38;5;28;01mraise\u001b[39;00m \u001b[38;5;167;01mAssertionError\u001b[39;00m(result)\n",
      "\u001b[36mFile \u001b[39m\u001b[32m~/repos/z_plus_hf/.venv/lib/python3.12/site-packages/awkward/_broadcasting.py:1147\u001b[39m, in \u001b[36mapply_step.<locals>.continuation\u001b[39m\u001b[34m()\u001b[39m\n\u001b[32m   1145\u001b[39m \u001b[38;5;66;03m# Any non-string list-types?\u001b[39;00m\n\u001b[32m   1146\u001b[39m \u001b[38;5;28;01melif\u001b[39;00m \u001b[38;5;28many\u001b[39m(x.is_list \u001b[38;5;129;01mand\u001b[39;00m \u001b[38;5;129;01mnot\u001b[39;00m is_string_like(x) \u001b[38;5;28;01mfor\u001b[39;00m x \u001b[38;5;129;01min\u001b[39;00m contents):\n\u001b[32m-> \u001b[39m\u001b[32m1147\u001b[39m     \u001b[38;5;28;01mreturn\u001b[39;00m \u001b[43mbroadcast_any_list\u001b[49m\u001b[43m(\u001b[49m\u001b[43m)\u001b[49m\n\u001b[32m   1149\u001b[39m \u001b[38;5;66;03m# Any RecordArrays?\u001b[39;00m\n\u001b[32m   1150\u001b[39m \u001b[38;5;28;01melif\u001b[39;00m \u001b[38;5;28many\u001b[39m(x.is_record \u001b[38;5;28;01mfor\u001b[39;00m x \u001b[38;5;129;01min\u001b[39;00m contents):\n",
      "\u001b[36mFile \u001b[39m\u001b[32m~/repos/z_plus_hf/.venv/lib/python3.12/site-packages/awkward/_broadcasting.py:671\u001b[39m, in \u001b[36mapply_step.<locals>.broadcast_any_list\u001b[39m\u001b[34m()\u001b[39m\n\u001b[32m    668\u001b[39m         nextinputs.append(x)\n\u001b[32m    669\u001b[39m         nextparameters.append(NO_PARAMETERS)\n\u001b[32m--> \u001b[39m\u001b[32m671\u001b[39m outcontent = \u001b[43mapply_step\u001b[49m\u001b[43m(\u001b[49m\n\u001b[32m    672\u001b[39m \u001b[43m    \u001b[49m\u001b[43mbackend\u001b[49m\u001b[43m,\u001b[49m\n\u001b[32m    673\u001b[39m \u001b[43m    \u001b[49m\u001b[43mnextinputs\u001b[49m\u001b[43m,\u001b[49m\n\u001b[32m    674\u001b[39m \u001b[43m    \u001b[49m\u001b[43maction\u001b[49m\u001b[43m,\u001b[49m\n\u001b[32m    675\u001b[39m \u001b[43m    \u001b[49m\u001b[43mdepth\u001b[49m\u001b[43m \u001b[49m\u001b[43m+\u001b[49m\u001b[43m \u001b[49m\u001b[32;43m1\u001b[39;49m\u001b[43m,\u001b[49m\n\u001b[32m    676\u001b[39m \u001b[43m    \u001b[49m\u001b[43mcopy\u001b[49m\u001b[43m.\u001b[49m\u001b[43mcopy\u001b[49m\u001b[43m(\u001b[49m\u001b[43mdepth_context\u001b[49m\u001b[43m)\u001b[49m\u001b[43m,\u001b[49m\n\u001b[32m    677\u001b[39m \u001b[43m    \u001b[49m\u001b[43mlateral_context\u001b[49m\u001b[43m,\u001b[49m\n\u001b[32m    678\u001b[39m \u001b[43m    \u001b[49m\u001b[43moptions\u001b[49m\u001b[43m,\u001b[49m\n\u001b[32m    679\u001b[39m \u001b[43m\u001b[49m\u001b[43m)\u001b[49m\n\u001b[32m    680\u001b[39m \u001b[38;5;28;01massert\u001b[39;00m \u001b[38;5;28misinstance\u001b[39m(outcontent, \u001b[38;5;28mtuple\u001b[39m)\n\u001b[32m    681\u001b[39m parameters = parameters_factory(nextparameters, \u001b[38;5;28mlen\u001b[39m(outcontent))\n",
      "\u001b[36mFile \u001b[39m\u001b[32m~/repos/z_plus_hf/.venv/lib/python3.12/site-packages/awkward/_broadcasting.py:1178\u001b[39m, in \u001b[36mapply_step\u001b[39m\u001b[34m(backend, inputs, action, depth, depth_context, lateral_context, options)\u001b[39m\n\u001b[32m   1176\u001b[39m     \u001b[38;5;28;01mreturn\u001b[39;00m result\n\u001b[32m   1177\u001b[39m \u001b[38;5;28;01melif\u001b[39;00m result \u001b[38;5;129;01mis\u001b[39;00m \u001b[38;5;28;01mNone\u001b[39;00m:\n\u001b[32m-> \u001b[39m\u001b[32m1178\u001b[39m     \u001b[38;5;28;01mreturn\u001b[39;00m \u001b[43mcontinuation\u001b[49m\u001b[43m(\u001b[49m\u001b[43m)\u001b[49m\n\u001b[32m   1179\u001b[39m \u001b[38;5;28;01melse\u001b[39;00m:\n\u001b[32m   1180\u001b[39m     \u001b[38;5;28;01mraise\u001b[39;00m \u001b[38;5;167;01mAssertionError\u001b[39;00m(result)\n",
      "\u001b[36mFile \u001b[39m\u001b[32m~/repos/z_plus_hf/.venv/lib/python3.12/site-packages/awkward/_broadcasting.py:1147\u001b[39m, in \u001b[36mapply_step.<locals>.continuation\u001b[39m\u001b[34m()\u001b[39m\n\u001b[32m   1145\u001b[39m \u001b[38;5;66;03m# Any non-string list-types?\u001b[39;00m\n\u001b[32m   1146\u001b[39m \u001b[38;5;28;01melif\u001b[39;00m \u001b[38;5;28many\u001b[39m(x.is_list \u001b[38;5;129;01mand\u001b[39;00m \u001b[38;5;129;01mnot\u001b[39;00m is_string_like(x) \u001b[38;5;28;01mfor\u001b[39;00m x \u001b[38;5;129;01min\u001b[39;00m contents):\n\u001b[32m-> \u001b[39m\u001b[32m1147\u001b[39m     \u001b[38;5;28;01mreturn\u001b[39;00m \u001b[43mbroadcast_any_list\u001b[49m\u001b[43m(\u001b[49m\u001b[43m)\u001b[49m\n\u001b[32m   1149\u001b[39m \u001b[38;5;66;03m# Any RecordArrays?\u001b[39;00m\n\u001b[32m   1150\u001b[39m \u001b[38;5;28;01melif\u001b[39;00m \u001b[38;5;28many\u001b[39m(x.is_record \u001b[38;5;28;01mfor\u001b[39;00m x \u001b[38;5;129;01min\u001b[39;00m contents):\n",
      "\u001b[36mFile \u001b[39m\u001b[32m~/repos/z_plus_hf/.venv/lib/python3.12/site-packages/awkward/_broadcasting.py:722\u001b[39m, in \u001b[36mapply_step.<locals>.broadcast_any_list\u001b[39m\u001b[34m()\u001b[39m\n\u001b[32m    718\u001b[39m \u001b[38;5;28;01mfor\u001b[39;00m i, ((named_axis, ndim), x, x_is_string) \u001b[38;5;129;01min\u001b[39;00m \u001b[38;5;28menumerate\u001b[39m(\n\u001b[32m    719\u001b[39m     \u001b[38;5;28mzip\u001b[39m(named_axes_with_ndims, inputs, input_is_string)\n\u001b[32m    720\u001b[39m ):\n\u001b[32m    721\u001b[39m     \u001b[38;5;28;01mif\u001b[39;00m \u001b[38;5;28misinstance\u001b[39m(x, listtypes) \u001b[38;5;129;01mand\u001b[39;00m \u001b[38;5;129;01mnot\u001b[39;00m x_is_string:\n\u001b[32m--> \u001b[39m\u001b[32m722\u001b[39m         next_content = \u001b[43mbroadcast_to_offsets_avoiding_carry\u001b[49m\u001b[43m(\u001b[49m\u001b[43mx\u001b[49m\u001b[43m,\u001b[49m\u001b[43m \u001b[49m\u001b[43moffsets\u001b[49m\u001b[43m)\u001b[49m\n\u001b[32m    723\u001b[39m         nextinputs.append(next_content)\n\u001b[32m    724\u001b[39m         nextparameters.append(x._parameters)\n",
      "\u001b[36mFile \u001b[39m\u001b[32m~/repos/z_plus_hf/.venv/lib/python3.12/site-packages/awkward/_broadcasting.py:385\u001b[39m, in \u001b[36mbroadcast_to_offsets_avoiding_carry\u001b[39m\u001b[34m(list_content, offsets)\u001b[39m\n\u001b[32m    383\u001b[39m         \u001b[38;5;28;01mreturn\u001b[39;00m list_content.content[:next_length]\n\u001b[32m    384\u001b[39m     \u001b[38;5;28;01melse\u001b[39;00m:\n\u001b[32m--> \u001b[39m\u001b[32m385\u001b[39m         \u001b[38;5;28;01mreturn\u001b[39;00m \u001b[43mlist_content\u001b[49m\u001b[43m.\u001b[49m\u001b[43m_broadcast_tooffsets64\u001b[49m\u001b[43m(\u001b[49m\u001b[43moffsets\u001b[49m\u001b[43m)\u001b[49m.content\n\u001b[32m    386\u001b[39m \u001b[38;5;28;01melif\u001b[39;00m \u001b[38;5;28misinstance\u001b[39m(list_content, ListArray):\n\u001b[32m    387\u001b[39m     \u001b[38;5;66;03m# Is this list contiguous?\u001b[39;00m\n\u001b[32m    388\u001b[39m     \u001b[38;5;28;01mif\u001b[39;00m index_nplike.array_equal(\n\u001b[32m    389\u001b[39m         list_content.starts.data[\u001b[32m1\u001b[39m:], list_content.stops.data[:-\u001b[32m1\u001b[39m]\n\u001b[32m    390\u001b[39m     ):\n\u001b[32m    391\u001b[39m         \u001b[38;5;66;03m# Does this list match the offsets?\u001b[39;00m\n",
      "\u001b[36mFile \u001b[39m\u001b[32m~/repos/z_plus_hf/.venv/lib/python3.12/site-packages/awkward/contents/listoffsetarray.py:431\u001b[39m, in \u001b[36mListOffsetArray._broadcast_tooffsets64\u001b[39m\u001b[34m(self, offsets)\u001b[39m\n\u001b[32m    426\u001b[39m     next_content = \u001b[38;5;28mself\u001b[39m._content[this_start:]\n\u001b[32m    428\u001b[39m \u001b[38;5;28;01mif\u001b[39;00m index_nplike.known_data \u001b[38;5;129;01mand\u001b[39;00m \u001b[38;5;129;01mnot\u001b[39;00m index_nplike.array_equal(\n\u001b[32m    429\u001b[39m     this_zero_offsets, offsets.data\n\u001b[32m    430\u001b[39m ):\n\u001b[32m--> \u001b[39m\u001b[32m431\u001b[39m     \u001b[38;5;28;01mraise\u001b[39;00m \u001b[38;5;167;01mValueError\u001b[39;00m(\u001b[33m\"\u001b[39m\u001b[33mcannot broadcast nested list\u001b[39m\u001b[33m\"\u001b[39m)\n\u001b[32m    433\u001b[39m \u001b[38;5;28;01mreturn\u001b[39;00m ListOffsetArray(\n\u001b[32m    434\u001b[39m     offsets, next_content[: offsets[-\u001b[32m1\u001b[39m]], parameters=\u001b[38;5;28mself\u001b[39m._parameters\n\u001b[32m    435\u001b[39m )\n",
      "\u001b[31mValueError\u001b[39m: cannot broadcast nested list",
      "\nThis error occurred while calling\n\n    ak.Array.__setitem__(\n        <MomentumArray4D [[], [...], ..., [{px: 0.82, ...}]] type='500 * va...'>\n        where = 'lesub'\n        what = <Array [[None], [6.26], ..., [None]] type='500 * var * ?float64'>\n    )"
     ]
    }
   ],
   "source": [
    "jets['lesub'] = test_ls"
   ]
  },
  {
   "cell_type": "code",
   "execution_count": 310,
   "metadata": {},
   "outputs": [
    {
     "data": {
      "text/html": [
       "<pre>{px: -5.33,\n",
       " py: 19.6,\n",
       " pz: -17.5,\n",
       " E: 26.9,\n",
       " n: 3,\n",
       " num_con: 3,\n",
       " girth: 0.0433}\n",
       "-------------------------------------------------------------------------------------------------------------------------------------------\n",
       "backend: cpu\n",
       "nbytes: 112 B\n",
       "type: Momentum4D[\n",
       "    px: float64,\n",
       "    py: float64,\n",
       "    pz: float64,\n",
       "    E: float64,\n",
       "    n: int64,\n",
       "    num_con: int64,\n",
       "    girth: float64\n",
       "]</pre>"
      ],
      "text/plain": [
       "<MomentumRecord4D {px: -5.33, py: 19.6, pz: -17.5, ...} type='Momentum4D[px...'>"
      ]
     },
     "execution_count": 310,
     "metadata": {},
     "output_type": "execute_result"
    }
   ],
   "source": [
    "jets[1][0]"
   ]
  },
  {
   "cell_type": "code",
   "execution_count": 297,
   "metadata": {},
   "outputs": [
    {
     "name": "stderr",
     "output_type": "stream",
     "text": [
      "/Users/ravikoka/repos/z_plus_hf/.venv/lib/python3.12/site-packages/mplhep/utils.py:577: UserWarning: Integer weights indicate poissonian data. Will calculate Garwood interval if ``scipy`` is installed. Otherwise errors will be set to ``sqrt(w2)``.\n",
      "  self.errors()\n"
     ]
    },
    {
     "data": {
      "text/plain": [
       "[StairsArtists(stairs=<matplotlib.patches.StepPatch object at 0x13bb4cb60>, errorbar=<ErrorbarContainer object of 3 artists>, legend_artist=<ErrorbarContainer object of 3 artists>)]"
      ]
     },
     "execution_count": 297,
     "metadata": {},
     "output_type": "execute_result"
    },
    {
     "data": {
      "image/png": "[encoded data removed]",
      "text/plain": [
       "<Figure size 640x480 with 1 Axes>"
      ]
     },
     "metadata": {},
     "output_type": "display_data"
    }
   ],
   "source": [
    "lesubhist = hist.Hist(hist.axis.Regular(110, -1, 1, name='ls'))\n",
    "lesubhist.fill(ak.drop_none(ak.ravel(test_ls)))\n",
    "\n",
    "hep.histplot(lesubhist)"
   ]
  },
  {
   "cell_type": "code",
   "execution_count": 282,
   "metadata": {},
   "outputs": [
    {
     "name": "stderr",
     "output_type": "stream",
     "text": [
      "/Users/ravikoka/repos/z_plus_hf/.venv/lib/python3.12/site-packages/mplhep/utils.py:577: UserWarning: Integer weights indicate poissonian data. Will calculate Garwood interval if ``scipy`` is installed. Otherwise errors will be set to ``sqrt(w2)``.\n",
      "  self.errors()\n"
     ]
    },
    {
     "data": {
      "text/plain": [
       "[StairsArtists(stairs=<matplotlib.patches.StepPatch object at 0x13bb4d670>, errorbar=<ErrorbarContainer object of 3 artists>, legend_artist=<ErrorbarContainer object of 3 artists>)]"
      ]
     },
     "execution_count": 282,
     "metadata": {},
     "output_type": "execute_result"
    },
    {
     "data": {
      "image/png": "[encoded data removed]",
      "text/plain": [
       "<Figure size 640x480 with 1 Axes>"
      ]
     },
     "metadata": {},
     "output_type": "display_data"
    }
   ],
   "source": [
    "lesubhist = hist.Hist(hist.axis.Regular(110, -1, 1, name='ls'))\n",
    "lesubhist.fill(ak.ravel(lesub))\n",
    "\n",
    "hep.histplot(lesubhist)"
   ]
  },
  {
   "cell_type": "code",
   "execution_count": 280,
   "metadata": {},
   "outputs": [
    {
     "data": {
      "text/html": [
       "<pre>[[],\n",
       " [20.3],\n",
       " [15.4],\n",
       " [],\n",
       " [3.41],\n",
       " [19.2],\n",
       " [],\n",
       " [],\n",
       " [],\n",
       " [],\n",
       " ...,\n",
       " [],\n",
       " [22.4],\n",
       " [],\n",
       " [],\n",
       " [],\n",
       " [],\n",
       " [35.1],\n",
       " [6.46],\n",
       " []]\n",
       "-------------------------\n",
       "backend: cpu\n",
       "nbytes: 5.0 kB\n",
       "type: 500 * var * float64</pre>"
      ],
      "text/plain": [
       "<Array [[], [20.3], [15.4], ..., [35.1], [6.46], []] type='500 * var * float64'>"
      ]
     },
     "execution_count": 280,
     "metadata": {},
     "output_type": "execute_result"
    }
   ],
   "source": [
    "subleading.pt"
   ]
  },
  {
   "cell_type": "code",
   "execution_count": 272,
   "metadata": {},
   "outputs": [
    {
     "data": {
      "text/html": [
       "<pre>[[],\n",
       " [20.3],\n",
       " [15.4],\n",
       " [],\n",
       " [3.41],\n",
       " [19.2],\n",
       " [],\n",
       " [],\n",
       " [],\n",
       " [],\n",
       " ...,\n",
       " [],\n",
       " [22.4],\n",
       " [],\n",
       " [],\n",
       " [],\n",
       " [],\n",
       " [35.1],\n",
       " [6.46],\n",
       " []]\n",
       "-------------------------\n",
       "backend: cpu\n",
       "nbytes: 5.0 kB\n",
       "type: 500 * var * float64</pre>"
      ],
      "text/plain": [
       "<Array [[], [20.3], [15.4], ..., [35.1], [6.46], []] type='500 * var * float64'>"
      ]
     },
     "execution_count": 272,
     "metadata": {},
     "output_type": "execute_result"
    }
   ],
   "source": [
    "subleading.pt"
   ]
  },
  {
   "cell_type": "code",
   "execution_count": 254,
   "metadata": {},
   "outputs": [
    {
     "data": {
      "text/html": [
       "<pre>[[],\n",
       " [26.6, 20.3],\n",
       " [19.1, 15.4, 2.82],\n",
       " [5.66],\n",
       " [4.23, 3.41],\n",
       " [35.3, 19.2, 3.89],\n",
       " [14.4],\n",
       " [],\n",
       " [4.52],\n",
       " [],\n",
       " ...,\n",
       " [15.7],\n",
       " [48.4, 22.4, 4.87, 4.1, 2.8],\n",
       " [],\n",
       " [3],\n",
       " [3.28],\n",
       " [],\n",
       " [37, 35.1],\n",
       " [18.6, 6.46],\n",
       " [4.06]]\n",
       "------------------------------\n",
       "backend: cpu\n",
       "nbytes: 7.7 kB\n",
       "type: 500 * var * float64</pre>"
      ],
      "text/plain": [
       "<Array [[], [26.6, 20.3], ..., [18.6, ...], [4.06]] type='500 * var * float64'>"
      ]
     },
     "execution_count": 254,
     "metadata": {},
     "output_type": "execute_result"
    }
   ],
   "source": [
    "thicc_jets = jets[chonkiest_jet]\n",
    "thicc_jets.pt"
   ]
  },
  {
   "cell_type": "code",
   "execution_count": 262,
   "metadata": {},
   "outputs": [
    {
     "data": {
      "text/html": [
       "<pre>[[],\n",
       " [26.6],\n",
       " [19.1],\n",
       " [5.66],\n",
       " [4.23],\n",
       " [35.3],\n",
       " [14.4],\n",
       " [],\n",
       " [4.52],\n",
       " [],\n",
       " ...,\n",
       " [15.7],\n",
       " [48.4],\n",
       " [],\n",
       " [3],\n",
       " [3.28],\n",
       " [],\n",
       " [37],\n",
       " [18.6],\n",
       " [4.06]]\n",
       "-------------------------\n",
       "backend: cpu\n",
       "nbytes: 6.3 kB\n",
       "type: 500 * var * float64</pre>"
      ],
      "text/plain": [
       "<Array [[], [26.6], [19.1], ..., [18.6], [4.06]] type='500 * var * float64'>"
      ]
     },
     "execution_count": 262,
     "metadata": {},
     "output_type": "execute_result"
    }
   ],
   "source": [
    "leading = thicc_jets.pt[:, :1]"
   ]
  },
  {
   "cell_type": "code",
   "execution_count": 263,
   "metadata": {},
   "outputs": [
    {
     "data": {
      "text/html": [
       "<pre>[[],\n",
       " [20.3],\n",
       " [15.4],\n",
       " [],\n",
       " [3.41],\n",
       " [19.2],\n",
       " [],\n",
       " [],\n",
       " [],\n",
       " [],\n",
       " ...,\n",
       " [],\n",
       " [22.4],\n",
       " [],\n",
       " [],\n",
       " [],\n",
       " [],\n",
       " [35.1],\n",
       " [6.46],\n",
       " []]\n",
       "-------------------------\n",
       "backend: cpu\n",
       "nbytes: 5.0 kB\n",
       "type: 500 * var * float64</pre>"
      ],
      "text/plain": [
       "<Array [[], [20.3], [15.4], ..., [35.1], [6.46], []] type='500 * var * float64'>"
      ]
     },
     "execution_count": 263,
     "metadata": {},
     "output_type": "execute_result"
    }
   ],
   "source": [
    "subleading = thicc_jets.pt[:, 1:2]"
   ]
  },
  {
   "cell_type": "code",
   "execution_count": null,
   "metadata": {},
   "outputs": [],
   "source": []
  },
  {
   "cell_type": "code",
   "execution_count": 247,
   "metadata": {},
   "outputs": [
    {
     "data": {
      "text/html": [
       "<pre>[[],\n",
       " [20.3, 26.6],\n",
       " [2.82, 15.4, 19.1],\n",
       " [5.66],\n",
       " [3.41, 4.23],\n",
       " [3.89, 19.2, 35.3],\n",
       " [14.4],\n",
       " [],\n",
       " [4.52],\n",
       " [],\n",
       " ...,\n",
       " [15.7],\n",
       " [2.8, 4.1, 4.87, 22.4, 48.4],\n",
       " [],\n",
       " [3],\n",
       " [3.28],\n",
       " [],\n",
       " [35.1, 37],\n",
       " [6.46, 18.6],\n",
       " [4.06]]\n",
       "------------------------------\n",
       "backend: cpu\n",
       "nbytes: 7.7 kB\n",
       "type: 500 * var * float64</pre>"
      ],
      "text/plain": [
       "<Array [[], [20.3, 26.6], ..., [6.46, ...], [4.06]] type='500 * var * float64'>"
      ]
     },
     "execution_count": 247,
     "metadata": {},
     "output_type": "execute_result"
    }
   ],
   "source": [
    "ak.sort(jets.pt, axis=1)"
   ]
  },
  {
   "cell_type": "code",
   "execution_count": null,
   "metadata": {},
   "outputs": [],
   "source": []
  },
  {
   "cell_type": "code",
   "execution_count": 239,
   "metadata": {},
   "outputs": [
    {
     "data": {
      "text/html": [
       "<pre>[[],\n",
       " [[6.25, 7.35, 6.73], [3.56, 4.78, 4.87, 4.05, 3.84, 5.52]],\n",
       " [[2.82], [2.97, 9.78, 2.73], [8.35, 2.61, 8.09]],\n",
       " [[5.66]],\n",
       " [[3.41], [4.23]],\n",
       " [[3.89], [4.17, 7.17, 7.9], [10.5, 5.33, 7.7, 9.28, 2.62]],\n",
       " [[14.4]],\n",
       " [],\n",
       " [[4.52]],\n",
       " [],\n",
       " ...,\n",
       " [[2.67, 2.98, 3.73, 6.31]],\n",
       " [[2.8], [4.1], ..., [3.11, ..., 7.15], [12.6, 4.47, 7.09, 15.3, 3.23, 5.93]],\n",
       " [],\n",
       " [[3]],\n",
       " [[3.28]],\n",
       " [],\n",
       " [[35.1], [37]],\n",
       " [[3.06, 3.4], [3.85, 5.98, 4.25, 4.58]],\n",
       " [[4.06]]]\n",
       "------------------------------------------------------------------------------\n",
       "backend: cpu\n",
       "nbytes: 15.1 kB\n",
       "type: 500 * var * var * float64</pre>"
      ],
      "text/plain": [
       "<Array [[], [[6.25, ...], ...], ..., [[4.06]]] type='500 * var * var * float64'>"
      ]
     },
     "execution_count": 239,
     "metadata": {},
     "output_type": "execute_result"
    }
   ],
   "source": [
    "constituents.pt"
   ]
  },
  {
   "cell_type": "code",
   "execution_count": 238,
   "metadata": {},
   "outputs": [
    {
     "data": {
      "text/html": [
       "<pre>[[],\n",
       " [[0.198, 0.428, 0.253], [0.744, 0.378, 0.511, 0.409, 0.192, 0.066]],\n",
       " [[0], [0.288, 0.282, 0.495], [0.478, 0.0836, 0.397]],\n",
       " [[0]],\n",
       " [[0], [0]],\n",
       " [[0], [0.972, 0.872, 0.168], [0.762, 1, 0.198, 0.153, 0.295]],\n",
       " [[0]],\n",
       " [],\n",
       " [[0]],\n",
       " [],\n",
       " ...,\n",
       " [[0.0943, 0.102, 0.315, 0.395]],\n",
       " [[0], [0], ..., [0.505, ..., 0.234], [0.404, 0.252, 44.2, 95.1, 0.502, 0.792]],\n",
       " [],\n",
       " [[0]],\n",
       " [[0]],\n",
       " [],\n",
       " [[0], [0]],\n",
       " [[0.353, 0.359], [0.297, 0.18, 0.0413, 0.307]],\n",
       " [[0]]]\n",
       "--------------------------------------------------------------------------------\n",
       "backend: cpu\n",
       "nbytes: 15.1 kB\n",
       "type: 500 * var * var * float64</pre>"
      ],
      "text/plain": [
       "<Array [[], [[0.198, ...], ...], ..., [[0]]] type='500 * var * var * float64'>"
      ]
     },
     "execution_count": 238,
     "metadata": {},
     "output_type": "execute_result"
    }
   ],
   "source": [
    "girth"
   ]
  },
  {
   "cell_type": "code",
   "execution_count": 235,
   "metadata": {},
   "outputs": [
    {
     "name": "stderr",
     "output_type": "stream",
     "text": [
      "/Users/ravikoka/repos/z_plus_hf/.venv/lib/python3.12/site-packages/mplhep/utils.py:577: UserWarning: Integer weights indicate poissonian data. Will calculate Garwood interval if ``scipy`` is installed. Otherwise errors will be set to ``sqrt(w2)``.\n",
      "  self.errors()\n"
     ]
    },
    {
     "data": {
      "text/plain": [
       "[StairsArtists(stairs=<matplotlib.patches.StepPatch object at 0x13b90bec0>, errorbar=<ErrorbarContainer object of 3 artists>, legend_artist=<ErrorbarContainer object of 3 artists>)]"
      ]
     },
     "execution_count": 235,
     "metadata": {},
     "output_type": "execute_result"
    },
    {
     "data": {
      "image/png": "[encoded data removed]",
      "text/plain": [
       "<Figure size 640x480 with 1 Axes>"
      ]
     },
     "metadata": {},
     "output_type": "display_data"
    }
   ],
   "source": [
    "dR = hist.Hist(hist.axis.Regular(110, -1, 1, name='dr'))\n",
    "dR.fill(ak.ravel(delta_R))\n",
    "\n",
    "hep.histplot(dR)"
   ]
  },
  {
   "cell_type": "code",
   "execution_count": 236,
   "metadata": {},
   "outputs": [
    {
     "data": {
      "text/plain": [
       "np.float64(6.237033907652206)"
      ]
     },
     "execution_count": 236,
     "metadata": {},
     "output_type": "execute_result"
    }
   ],
   "source": [
    "ak.max(delta_R)"
   ]
  },
  {
   "cell_type": "code",
   "execution_count": 197,
   "metadata": {},
   "outputs": [
    {
     "data": {
      "text/html": [
       "<pre>[({px: -0.386, py: -26.6, ...}, {px: 0.357, ...}),\n",
       " ({px: -0.386, py: -26.6, ...}, {px: -0.139, ...}),\n",
       " ({px: -0.386, py: -26.6, ...}, {px: -0.58, ...}),\n",
       " ({px: -0.386, py: -26.6, ...}, {px: 0.0504, ...}),\n",
       " ({px: -0.386, py: -26.6, ...}, {px: 0.0205, ...}),\n",
       " ({px: -0.386, py: -26.6, ...}, {px: -0.0949, ...})]\n",
       "------------------------------------------------------------------------------------------------------------------------------------------------------------------------------------------------------------------------------------------------------------------------------------------------------------------------------------------------------\n",
       "backend: cpu\n",
       "nbytes: 29.4 MB\n",
       "type: 6 * (\n",
       "    Momentum4D[\n",
       "        px: float64,\n",
       "        py: float64,\n",
       "        pz: float64,\n",
       "        E: float64,\n",
       "        n: int64,\n",
       "        num_con: int64\n",
       "    ],\n",
       "    Momentum4D[\n",
       "        px: float64,\n",
       "        py: float64,\n",
       "        pz: float64,\n",
       "        E: float64,\n",
       "        pdg: int64,\n",
       "        is_final: bool,\n",
       "        mother_list: var * int64\n",
       "    ]\n",
       ")</pre>"
      ],
      "text/plain": [
       "<Array [({...}, {...}), ..., ({...}, ..., ...)] type='6 * (Momentum4D[px: f...'>"
      ]
     },
     "execution_count": 197,
     "metadata": {},
     "output_type": "execute_result"
    }
   ],
   "source": [
    "pairs = ak.cartesian((jets, constituents), axis=2)\n",
    "pairs[1][1]"
   ]
  },
  {
   "cell_type": "code",
   "execution_count": 201,
   "metadata": {},
   "outputs": [],
   "source": [
    "jets_axis, cons = ak.unzip(pairs)"
   ]
  },
  {
   "cell_type": "code",
   "execution_count": 217,
   "metadata": {},
   "outputs": [
    {
     "data": {
      "text/html": [
       "<pre>[[],\n",
       " [[-0.0309, 0.0572, -0.0337], [-0.115, 0.0145, ..., -0.0199, 0.00266]],\n",
       " [[0], [0.096, 0.0127, -0.151], [0.0167, -0.0232, -0.00971]],\n",
       " [[0]],\n",
       " [[0], [0]],\n",
       " [[0], [0.105, ..., 0.00729], [0.0697, -0.184, 0.00428, -0.00758, 0.106]],\n",
       " [[0]],\n",
       " [],\n",
       " [[0]],\n",
       " [],\n",
       " ...,\n",
       " [[-0.012, 0.0342, -0.00149, -0.0102]],\n",
       " [[0], [0], [0], [...], [0.0227, -0.0536, -6.23, -6.24, -0.119, -0.128]],\n",
       " [],\n",
       " [[0]],\n",
       " [[0]],\n",
       " [],\n",
       " [[0], [0]],\n",
       " [[0.0202, -0.0181], [0.0716, -0.0214, 0.00972, -0.0412]],\n",
       " [[0]]]\n",
       "--------------------------------------------------------------------------\n",
       "backend: cpu\n",
       "nbytes: 15.1 kB\n",
       "type: 500 * var * var * float64</pre>"
      ],
      "text/plain": [
       "<Array [[], [[-0.0309, ...], ...], ..., [[0]]] type='500 * var * var * float64'>"
      ]
     },
     "execution_count": 217,
     "metadata": {},
     "output_type": "execute_result"
    }
   ],
   "source": [
    "dphi = jets_axis.phi - cons.phi\n",
    "dphi"
   ]
  },
  {
   "cell_type": "code",
   "execution_count": 219,
   "metadata": {},
   "outputs": [
    {
     "data": {
      "text/html": [
       "<pre>[[-0.0309, 0.0572, -0.0337],\n",
       " [-0.115, 0.0145, 0.105, -0.027, -0.0199, 0.00266]]\n",
       "---------------------------------------------------\n",
       "backend: cpu\n",
       "nbytes: 7.4 kB\n",
       "type: 2 * var * float64</pre>"
      ],
      "text/plain": [
       "<Array [[-0.0309, 0.0572, -0.0337], [...]] type='2 * var * float64'>"
      ]
     },
     "execution_count": 219,
     "metadata": {},
     "output_type": "execute_result"
    }
   ],
   "source": [
    "dphi[1]"
   ]
  },
  {
   "cell_type": "code",
   "execution_count": 229,
   "metadata": {},
   "outputs": [
    {
     "data": {
      "text/html": [
       "<pre>[-0.0309,\n",
       " 0.0572,\n",
       " -0.0337]\n",
       "-----------------\n",
       "backend: cpu\n",
       "nbytes: 24 B\n",
       "type: 3 * float64</pre>"
      ],
      "text/plain": [
       "<Array [-0.0309, 0.0572, -0.0337] type='3 * float64'>"
      ]
     },
     "execution_count": 229,
     "metadata": {},
     "output_type": "execute_result"
    }
   ],
   "source": [
    "jets[1][0].phi - constituents[1][0].phi"
   ]
  },
  {
   "cell_type": "code",
   "execution_count": 224,
   "metadata": {},
   "outputs": [
    {
     "data": {
      "text/html": [
       "<pre>[[1.84, 1.84, 1.84],\n",
       " [-1.59, -1.59, -1.59, -1.59, -1.59, -1.59]]\n",
       "--------------------------------------------\n",
       "backend: cpu\n",
       "nbytes: 96 B\n",
       "type: 2 * var * float64</pre>"
      ],
      "text/plain": [
       "<Array [[1.84, 1.84, 1.84], [-1.59, ..., -1.59]] type='2 * var * float64'>"
      ]
     },
     "execution_count": 224,
     "metadata": {},
     "output_type": "execute_result"
    }
   ],
   "source": [
    "jets_axis[1].phi"
   ]
  },
  {
   "cell_type": "code",
   "execution_count": 225,
   "metadata": {},
   "outputs": [
    {
     "data": {
      "text/html": [
       "<pre>[[],\n",
       " [[1.87, 1.78, 1.87], [-1.47, -1.6, -1.69, -1.56, -1.57, -1.59]],\n",
       " [[0.383], [2.7, 2.78, 2.94], [-2.46, -2.42, -2.43]],\n",
       " [[-2.09]],\n",
       " [[-3.02], [-0.0149]],\n",
       " [[-2.44], [-2.45, -2.27, -2.35], [0.751, 1, 0.816, 0.828, 0.714]],\n",
       " [[-2.37]],\n",
       " [],\n",
       " [[0.483]],\n",
       " [],\n",
       " ...,\n",
       " [[-0.933, -0.979, -0.943, -0.934]],\n",
       " [[-2.02], [0.352], ..., [...], [-3.13, -3.05, 3.12, 3.13, -2.98, -2.98]],\n",
       " [],\n",
       " [[0.395]],\n",
       " [[2.37]],\n",
       " [],\n",
       " [[2.93], [-0.00856]],\n",
       " [[-2.55, -2.51], [-0.639, -0.546, -0.577, -0.526]],\n",
       " [[1.37]]]\n",
       "--------------------------------------------------------------------------\n",
       "backend: cpu\n",
       "nbytes: 15.1 kB\n",
       "type: 500 * var * var * float64</pre>"
      ],
      "text/plain": [
       "<Array [[], [[1.87, ...], ...], ..., [[1.37]]] type='500 * var * var * float64'>"
      ]
     },
     "execution_count": 225,
     "metadata": {},
     "output_type": "execute_result"
    }
   ],
   "source": [
    "constituents.phi"
   ]
  },
  {
   "cell_type": "code",
   "execution_count": 226,
   "metadata": {},
   "outputs": [
    {
     "data": {
      "text/html": [
       "<pre>[[],\n",
       " [[1.87, 1.78, 1.87], [-1.47, -1.6, -1.69, -1.56, -1.57, -1.59]],\n",
       " [[0.383], [2.7, 2.78, 2.94], [-2.46, -2.42, -2.43]],\n",
       " [[-2.09]],\n",
       " [[-3.02], [-0.0149]],\n",
       " [[-2.44], [-2.45, -2.27, -2.35], [0.751, 1, 0.816, 0.828, 0.714]],\n",
       " [[-2.37]],\n",
       " [],\n",
       " [[0.483]],\n",
       " [],\n",
       " ...,\n",
       " [[-0.933, -0.979, -0.943, -0.934]],\n",
       " [[-2.02], [0.352], ..., [...], [-3.13, -3.05, 3.12, 3.13, -2.98, -2.98]],\n",
       " [],\n",
       " [[0.395]],\n",
       " [[2.37]],\n",
       " [],\n",
       " [[2.93], [-0.00856]],\n",
       " [[-2.55, -2.51], [-0.639, -0.546, -0.577, -0.526]],\n",
       " [[1.37]]]\n",
       "--------------------------------------------------------------------------\n",
       "backend: cpu\n",
       "nbytes: 15.1 kB\n",
       "type: 500 * var * var * float64</pre>"
      ],
      "text/plain": [
       "<Array [[], [[1.87, ...], ...], ..., [[1.37]]] type='500 * var * var * float64'>"
      ]
     },
     "execution_count": 226,
     "metadata": {},
     "output_type": "execute_result"
    }
   ],
   "source": [
    "cons.phi"
   ]
  },
  {
   "cell_type": "code",
   "execution_count": 215,
   "metadata": {},
   "outputs": [
    {
     "data": {
      "text/html": [
       "<pre>[-0.0273,\n",
       " 0.0607,\n",
       " -0.0301]\n",
       "-----------------\n",
       "backend: cpu\n",
       "nbytes: 24 B\n",
       "type: 3 * float64</pre>"
      ],
      "text/plain": [
       "<Array [-0.0273, 0.0607, -0.0301] type='3 * float64'>"
      ]
     },
     "execution_count": 215,
     "metadata": {},
     "output_type": "execute_result"
    }
   ],
   "source": [
    "1.84 - constituents[1][0].phi"
   ]
  },
  {
   "cell_type": "code",
   "execution_count": null,
   "metadata": {},
   "outputs": [],
   "source": []
  },
  {
   "cell_type": "code",
   "execution_count": 207,
   "metadata": {},
   "outputs": [
    {
     "data": {
      "text/html": [
       "<pre>[{px: -0.386, py: -26.6, pz: -17.7, E: 32.1, n: 6, num_con: 6},\n",
       " {px: -0.386, py: -26.6, pz: -17.7, E: 32.1, n: 6, num_con: 6},\n",
       " {px: -0.386, py: -26.6, pz: -17.7, E: 32.1, n: 6, num_con: 6},\n",
       " {px: -0.386, py: -26.6, pz: -17.7, E: 32.1, n: 6, num_con: 6},\n",
       " {px: -0.386, py: -26.6, pz: -17.7, E: 32.1, n: 6, num_con: 6},\n",
       " {px: -0.386, py: -26.6, pz: -17.7, E: 32.1, n: 6, num_con: 6}]\n",
       "---------------------------------------------------------------------------------------------------------------------------\n",
       "backend: cpu\n",
       "nbytes: 22.4 kB\n",
       "type: 6 * Momentum4D[\n",
       "    px: float64,\n",
       "    py: float64,\n",
       "    pz: float64,\n",
       "    E: float64,\n",
       "    n: int64,\n",
       "    num_con: int64\n",
       "]</pre>"
      ],
      "text/plain": [
       "<MomentumArray4D [{px: -0.386, py: -26.6, ...}, ...] type='6 * Momentum4D[p...'>"
      ]
     },
     "execution_count": 207,
     "metadata": {},
     "output_type": "execute_result"
    }
   ],
   "source": [
    "jets_axis[1][1]"
   ]
  },
  {
   "cell_type": "code",
   "execution_count": 193,
   "metadata": {},
   "outputs": [
    {
     "data": {
      "text/html": [
       "<pre>[[{px: -1.83, py: 5.98, pz: -5.34, E: 8.22, pdg: -211, ...}, {...}, {...}],\n",
       " [{px: 0.357, py: -3.54, pz: -1.66, E: 3.93, pdg: 211, ...}, {...}, ..., {...}],\n",
       " [{px: -1.83, py: 5.98, pz: -5.34, E: 8.22, pdg: -211, ...}, {...}, {...}],\n",
       " [{px: 0.357, py: -3.54, pz: -1.66, E: 3.93, pdg: 211, ...}, {...}, ..., {...}]]\n",
       "-----------------------------------------------------------------------------------------------------------------------------------------------------------------\n",
       "backend: cpu\n",
       "nbytes: 29.3 MB\n",
       "type: 4 * var * Momentum4D[\n",
       "    px: float64,\n",
       "    py: float64,\n",
       "    pz: float64,\n",
       "    E: float64,\n",
       "    pdg: int64,\n",
       "    is_final: bool,\n",
       "    mother_list: var * int64\n",
       "]</pre>"
      ],
      "text/plain": [
       "<MomentumArray4D [[{px: -1.83, py: 5.98, ...}, ...], ...] type='4 * var * M...'>"
      ]
     },
     "execution_count": 193,
     "metadata": {},
     "output_type": "execute_result"
    }
   ],
   "source": [
    "cons[1]"
   ]
  },
  {
   "cell_type": "code",
   "execution_count": 177,
   "metadata": {},
   "outputs": [
    {
     "data": {
      "text/html": [
       "<pre>[[],\n",
       " [[0.0317, 0.0582, 0.0377], [0.209, 0.0792, 0.105, ..., 0.0499, 0.012]],\n",
       " [[0], [0.0968, 0.0288, 0.182], [0.0572, 0.032, 0.049]],\n",
       " [[0]],\n",
       " [[0], [0]],\n",
       " [[0], [0.233, ..., 0.0212], [0.0723, 0.188, 0.0257, 0.0165, 0.113]],\n",
       " [[0]],\n",
       " [],\n",
       " [[0]],\n",
       " [],\n",
       " ...,\n",
       " [[0.0353, 0.0343, 0.0845, 0.0626]],\n",
       " [[0], [0], [0], [0.163, ...], [0.0322, 0.0564, 6.23, 6.24, 0.155, 0.134]],\n",
       " [],\n",
       " [[0]],\n",
       " [[0]],\n",
       " [],\n",
       " [[0], [0]],\n",
       " [[0.115, 0.106], [0.0772, 0.0301, 0.00973, 0.0671]],\n",
       " [[0]]]\n",
       "---------------------------------------------------------------------------\n",
       "backend: cpu\n",
       "nbytes: 15.1 kB\n",
       "type: 500 * var * var * float64</pre>"
      ],
      "text/plain": [
       "<Array [[], [[0.0317, ...], ...], ..., [[0]]] type='500 * var * var * float64'>"
      ]
     },
     "execution_count": 177,
     "metadata": {},
     "output_type": "execute_result"
    }
   ],
   "source": [
    "delta_R = get_delta_R(jets, constituents)"
   ]
  },
  {
   "cell_type": "code",
   "execution_count": 178,
   "metadata": {},
   "outputs": [
    {
     "data": {
      "text/html": [
       "<pre>[[],\n",
       " [[0.0317, 0.0582, 0.0377], [0.209, 0.0792, 0.105, ..., 0.0499, 0.012]],\n",
       " [[0], [0.0968, 0.0288, 0.182], [0.0572, 0.032, 0.049]],\n",
       " [[0]],\n",
       " [[0], [0]],\n",
       " [[0], [0.233, ..., 0.0212], [0.0723, 0.188, 0.0257, 0.0165, 0.113]],\n",
       " [[0]],\n",
       " [],\n",
       " [[0]],\n",
       " [],\n",
       " ...,\n",
       " [[0.0353, 0.0343, 0.0845, 0.0626]],\n",
       " [[0], [0], [0], [0.163, ...], [0.0322, 0.0564, 6.23, 6.24, 0.155, 0.134]],\n",
       " [],\n",
       " [[0]],\n",
       " [[0]],\n",
       " [],\n",
       " [[0], [0]],\n",
       " [[0.115, 0.106], [0.0772, 0.0301, 0.00973, 0.0671]],\n",
       " [[0]]]\n",
       "---------------------------------------------------------------------------\n",
       "backend: cpu\n",
       "nbytes: 15.1 kB\n",
       "type: 500 * var * var * float64</pre>"
      ],
      "text/plain": [
       "<Array [[], [[0.0317, ...], ...], ..., [[0]]] type='500 * var * var * float64'>"
      ]
     },
     "execution_count": 178,
     "metadata": {},
     "output_type": "execute_result"
    }
   ],
   "source": [
    "delta_R"
   ]
  },
  {
   "cell_type": "code",
   "execution_count": 165,
   "metadata": {},
   "outputs": [
    {
     "data": {
      "text/html": [
       "<pre>[[{px: -1.83, py: 5.98, pz: -5.34, E: 8.22, pdg: -211, ...}, {...}, {...}],\n",
       " [{px: 0.357, py: -3.54, pz: -1.66, E: 3.93, pdg: 211, ...}, {...}, ..., {...}]]\n",
       "-----------------------------------------------------------------------------------------------------------------------------------------------------------------\n",
       "backend: cpu\n",
       "nbytes: 29.3 MB\n",
       "type: 2 * var * Momentum4D[\n",
       "    px: float64,\n",
       "    py: float64,\n",
       "    pz: float64,\n",
       "    E: float64,\n",
       "    pdg: int64,\n",
       "    is_final: bool,\n",
       "    mother_list: var * int64\n",
       "]</pre>"
      ],
      "text/plain": [
       "<MomentumArray4D [[{px: -1.83, py: 5.98, ...}, ...], ...] type='2 * var * M...'>"
      ]
     },
     "execution_count": 165,
     "metadata": {},
     "output_type": "execute_result"
    }
   ],
   "source": [
    "constituents[1]"
   ]
  },
  {
   "cell_type": "code",
   "execution_count": 166,
   "metadata": {},
   "outputs": [
    {
     "data": {
      "text/html": [
       "<pre>[[],\n",
       " [[6.25, 7.35, 6.73], [3.56, 4.78, 4.87, 4.05, 3.84, 5.52]],\n",
       " [[2.82], [2.97, 9.78, 2.73], [8.35, 2.61, 8.09]],\n",
       " [[5.66]],\n",
       " [[3.41], [4.23]],\n",
       " [[3.89], [4.17, 7.17, 7.9], [10.5, 5.33, 7.7, 9.28, 2.62]],\n",
       " [[14.4]],\n",
       " [],\n",
       " [[4.52]],\n",
       " [],\n",
       " ...,\n",
       " [[2.67, 2.98, 3.73, 6.31]],\n",
       " [[2.8], [4.1], ..., [3.11, ..., 7.15], [12.6, 4.47, 7.09, 15.3, 3.23, 5.93]],\n",
       " [],\n",
       " [[3]],\n",
       " [[3.28]],\n",
       " [],\n",
       " [[35.1], [37]],\n",
       " [[3.06, 3.4], [3.85, 5.98, 4.25, 4.58]],\n",
       " [[4.06]]]\n",
       "------------------------------------------------------------------------------\n",
       "backend: cpu\n",
       "nbytes: 15.1 kB\n",
       "type: 500 * var * var * float64</pre>"
      ],
      "text/plain": [
       "<Array [[], [[6.25, ...], ...], ..., [[4.06]]] type='500 * var * var * float64'>"
      ]
     },
     "execution_count": 166,
     "metadata": {},
     "output_type": "execute_result"
    }
   ],
   "source": [
    "constituents.pt"
   ]
  },
  {
   "cell_type": "code",
   "execution_count": 172,
   "metadata": {},
   "outputs": [
    {
     "data": {
      "text/plain": [
       "np.float64(20.326070813906313)"
      ]
     },
     "execution_count": 172,
     "metadata": {},
     "output_type": "execute_result"
    }
   ],
   "source": [
    "ak.sum(constituents.pt[1][0])"
   ]
  },
  {
   "cell_type": "code",
   "execution_count": 168,
   "metadata": {},
   "outputs": [
    {
     "data": {
      "text/html": [
       "<pre>[[],\n",
       " [20.3, 26.6],\n",
       " [2.82, 15.5, 19.1],\n",
       " [5.66],\n",
       " [3.41, 4.23],\n",
       " [3.89, 19.2, 35.5],\n",
       " [14.4],\n",
       " [],\n",
       " [4.52],\n",
       " [],\n",
       " ...,\n",
       " [15.7],\n",
       " [2.8, 4.1, 4.87, 22.4, 48.5],\n",
       " [],\n",
       " [3],\n",
       " [3.28],\n",
       " [],\n",
       " [35.1, 37],\n",
       " [6.46, 18.6],\n",
       " [4.06]]\n",
       "------------------------------\n",
       "backend: cpu\n",
       "nbytes: 7.7 kB\n",
       "type: 500 * var * float64</pre>"
      ],
      "text/plain": [
       "<Array [[], [20.3, 26.6], ..., [6.46, ...], [4.06]] type='500 * var * float64'>"
      ]
     },
     "execution_count": 168,
     "metadata": {},
     "output_type": "execute_result"
    }
   ],
   "source": [
    "ak.sum(constituents.pt, axis=2)"
   ]
  },
  {
   "cell_type": "code",
   "execution_count": 160,
   "metadata": {},
   "outputs": [
    {
     "data": {
      "text/html": [
       "<pre>[[],\n",
       " [20.3, 26.6],\n",
       " [2.82, 15.4, 19.1],\n",
       " [5.66],\n",
       " [3.41, 4.23],\n",
       " [3.89, 19.2, 35.3],\n",
       " [14.4],\n",
       " [],\n",
       " [4.52],\n",
       " [],\n",
       " ...,\n",
       " [15.7],\n",
       " [2.8, 4.1, 4.87, 22.4, 48.4],\n",
       " [],\n",
       " [3],\n",
       " [3.28],\n",
       " [],\n",
       " [35.1, 37],\n",
       " [6.46, 18.6],\n",
       " [4.06]]\n",
       "------------------------------\n",
       "backend: cpu\n",
       "nbytes: 7.7 kB\n",
       "type: 500 * var * float64</pre>"
      ],
      "text/plain": [
       "<Array [[], [20.3, 26.6], ..., [6.46, ...], [4.06]] type='500 * var * float64'>"
      ]
     },
     "execution_count": 160,
     "metadata": {},
     "output_type": "execute_result"
    }
   ],
   "source": [
    "jets.pt"
   ]
  },
  {
   "cell_type": "code",
   "execution_count": 153,
   "metadata": {},
   "outputs": [
    {
     "data": {
      "text/plain": [
       "np.int64(6)"
      ]
     },
     "execution_count": 153,
     "metadata": {},
     "output_type": "execute_result"
    }
   ],
   "source": [
    "ak.max(ak.num(jets, axis=1))"
   ]
  },
  {
   "cell_type": "code",
   "execution_count": 129,
   "metadata": {},
   "outputs": [
    {
     "ename": "SyntaxError",
     "evalue": "invalid syntax (4008731359.py, line 1)",
     "output_type": "error",
     "traceback": [
      "  \u001b[36mCell\u001b[39m\u001b[36m \u001b[39m\u001b[32mIn[129]\u001b[39m\u001b[32m, line 1\u001b[39m\n\u001b[31m    \u001b[39m\u001b[31mtest = ak.concatenate([jets, 'n': num_constituents], axis=-1)\u001b[39m\n                                    ^\n\u001b[31mSyntaxError\u001b[39m\u001b[31m:\u001b[39m invalid syntax\n"
     ]
    }
   ],
   "source": [
    "test = ak.concatenate([jets, 'n': num_constituents], axis=-1)"
   ]
  },
  {
   "cell_type": "code",
   "execution_count": 159,
   "metadata": {},
   "outputs": [],
   "source": [
    "jets['num_con'] = num_constituents"
   ]
  },
  {
   "cell_type": "code",
   "execution_count": 158,
   "metadata": {},
   "outputs": [
    {
     "data": {
      "text/html": [
       "<pre>[{px: 0.357, py: -3.54, pz: -1.66, E: 3.93, pdg: 211, is_final: True, ...},\n",
       " {px: -0.139, py: -4.77, pz: -3.64, E: 6.01, pdg: 211, is_final: True, ...},\n",
       " {px: -0.58, py: -4.84, pz: -3.27, E: 5.87, pdg: 211, is_final: True, ...},\n",
       " {px: 0.0504, py: -4.05, pz: -3.18, E: 5.15, pdg: -211, is_final: True, ...},\n",
       " {px: 0.0205, py: -3.84, pz: -2.35, E: 4.5, pdg: 22, is_final: True, ...},\n",
       " {px: -0.0949, py: -5.52, pz: -3.6, E: 6.59, pdg: -211, is_final: True, ...}]\n",
       "-----------------------------------------------------------------------------------------------------------------------------------------------------------\n",
       "backend: cpu\n",
       "nbytes: 29.3 MB\n",
       "type: 6 * Momentum4D[\n",
       "    px: float64,\n",
       "    py: float64,\n",
       "    pz: float64,\n",
       "    E: float64,\n",
       "    pdg: int64,\n",
       "    is_final: bool,\n",
       "    mother_list: var * int64\n",
       "]</pre>"
      ],
      "text/plain": [
       "<MomentumArray4D [{px: 0.357, py: -3.54, ...}, ...] type='6 * Momentum4D[px...'>"
      ]
     },
     "execution_count": 158,
     "metadata": {},
     "output_type": "execute_result"
    }
   ],
   "source": [
    "constituents[1][1]"
   ]
  },
  {
   "cell_type": "code",
   "execution_count": 155,
   "metadata": {},
   "outputs": [
    {
     "data": {
      "text/html": [
       "<pre>[{px: -5.33, py: 19.6, pz: -17.5, E: 26.9, n: 3},\n",
       " {px: -0.386, py: -26.6, pz: -17.7, E: 32.1, n: 6}]\n",
       "-------------------------------------------------------------------------------------------------------\n",
       "backend: cpu\n",
       "nbytes: 80 B\n",
       "type: 2 * Momentum4D[\n",
       "    px: float64,\n",
       "    py: float64,\n",
       "    pz: float64,\n",
       "    E: float64,\n",
       "    n: int64\n",
       "]</pre>"
      ],
      "text/plain": [
       "<MomentumArray4D [{px: -5.33, py: 19.6, ...}, {...}] type='2 * Momentum4D[p...'>"
      ]
     },
     "execution_count": 155,
     "metadata": {},
     "output_type": "execute_result"
    }
   ],
   "source": [
    "jets[1]"
   ]
  },
  {
   "cell_type": "code",
   "execution_count": 128,
   "metadata": {},
   "outputs": [
    {
     "data": {
      "text/html": [
       "<pre>[[],\n",
       " [{px: -5.72, py: -6.97, pz: -35.2, E: 58.9}, 9],\n",
       " [{px: -26.5, py: -5.95, pz: -6.6, E: 40}, 7],\n",
       " [{px: -2.8, py: -4.92, pz: -2.6, E: 6.23}, 1],\n",
       " [{px: 0.837, py: -0.48, pz: -0.451, E: 8.09}, 2],\n",
       " [{px: 7.73, py: 9.6, pz: -7.39, E: 60.3}, 9],\n",
       " [{px: -10.3, py: -10, pz: -12.7, E: 19.2}, 1],\n",
       " [],\n",
       " [{px: 4, py: 2.1, pz: 2.22, E: 5.03}, 1],\n",
       " [],\n",
       " ...,\n",
       " [{px: 9.19, py: -12.7, pz: -3.61, E: 16.1}, 4],\n",
       " [{px: -24.2, py: -13.2, pz: -12.7, E: 89.6}, 13],\n",
       " [],\n",
       " [{px: 2.76, py: 1.15, pz: -2.65, E: 4}, 1],\n",
       " [{px: -2.35, py: 2.29, pz: 0.69, E: 3.48}, 1],\n",
       " [],\n",
       " [{px: 2.7, py: 7.2, pz: -0.772, E: 90.1}, 2],\n",
       " [{px: 10.4, py: -13.7, pz: 2.92, E: 25.4}, 6],\n",
       " [{px: 0.82, py: 3.98, pz: 2.1, E: 4.57}, 1]]\n",
       "---------------------------------------------------------------------------------------------------------------------------------------------\n",
       "backend: cpu\n",
       "nbytes: 20.6 kB\n",
       "type: 500 * var * union[\n",
       "    Momentum4D[\n",
       "        px: float64,\n",
       "        py: float64,\n",
       "        pz: float64,\n",
       "        E: float64\n",
       "    ],\n",
       "    int64\n",
       "]</pre>"
      ],
      "text/plain": [
       "<Array [[], [...], ..., [{px: 0.82, ...}, 1]] type='500 * var * union[Momen...'>"
      ]
     },
     "execution_count": 128,
     "metadata": {},
     "output_type": "execute_result"
    }
   ],
   "source": [
    "test"
   ]
  },
  {
   "cell_type": "code",
   "execution_count": null,
   "metadata": {},
   "outputs": [],
   "source": [
    "ak.zip"
   ]
  },
  {
   "cell_type": "code",
   "execution_count": 107,
   "metadata": {},
   "outputs": [],
   "source": [
    "test = ak.concatenate([constituents, num_constituents])"
   ]
  },
  {
   "cell_type": "code",
   "execution_count": 108,
   "metadata": {},
   "outputs": [
    {
     "data": {
      "text/html": [
       "<pre>[[],\n",
       " [[{px: 0.357, py: -3.54, pz: -1.66, E: 3.93, pdg: 211, ...}, ..., {...}]],\n",
       " [[{px: 2.62, py: 1.06, pz: -1.15, E: 3.05, pdg: -211, ...}, ..., {...}]],\n",
       " [[{px: -2.8, py: -4.92, pz: -2.6, E: 6.23, pdg: 14, is_final: True, ...}]],\n",
       " [[{px: 4.22, py: -0.063, pz: 0.891, E: 4.42, pdg: -2212, ...}, {...}]],\n",
       " [[{px: -3.2, py: -2.66, pz: 0.925, E: 4.27, pdg: 211, ...}, ..., {...}]],\n",
       " [[{px: -10.3, py: -10, pz: -12.7, E: 19.2, pdg: -211, is_final: True, ...}]],\n",
       " [],\n",
       " [[{px: 4, py: 2.1, pz: 2.22, E: 5.03, pdg: -13, is_final: True, ...}]],\n",
       " [],\n",
       " ...,\n",
       " [4],\n",
       " [13],\n",
       " [],\n",
       " [1],\n",
       " [1],\n",
       " [],\n",
       " [2],\n",
       " [6],\n",
       " [1]]\n",
       "----------------------------------------------------------------------------------------------------------------------------------------------------------------------------------------------------------------------------------------\n",
       "backend: cpu\n",
       "nbytes: 29.4 MB\n",
       "type: 1000 * union[\n",
       "    var * var * Momentum4D[\n",
       "        px: float64,\n",
       "        py: float64,\n",
       "        pz: float64,\n",
       "        E: float64,\n",
       "        pdg: int64,\n",
       "        is_final: bool,\n",
       "        mother_list: var * int64\n",
       "    ],\n",
       "    var * int64\n",
       "]</pre>"
      ],
      "text/plain": [
       "<Array [[], [[{px: ..., ...}, ...]], ..., [1]] type='1000 * union[var * var...'>"
      ]
     },
     "execution_count": 108,
     "metadata": {},
     "output_type": "execute_result"
    }
   ],
   "source": [
    "test"
   ]
  },
  {
   "cell_type": "code",
   "execution_count": 106,
   "metadata": {},
   "outputs": [
    {
     "data": {
      "text/html": [
       "<pre>[([{px: 0.357, py: -3.54, ...}, ...], 9)]\n",
       "--------------------------------------------------------------------------------------------------------------------------------------------------------------------------------------------------------------------\n",
       "backend: cpu\n",
       "nbytes: 29.3 MB\n",
       "type: 1 * (\n",
       "    var * Momentum4D[\n",
       "        px: float64,\n",
       "        py: float64,\n",
       "        pz: float64,\n",
       "        E: float64,\n",
       "        pdg: int64,\n",
       "        is_final: bool,\n",
       "        mother_list: var * int64\n",
       "    ],\n",
       "    int64\n",
       ")</pre>"
      ],
      "text/plain": [
       "<Array [([{...}, ...], 9)] type='1 * (var * Momentum4D[px: float64, py: flo...'>"
      ]
     },
     "execution_count": 106,
     "metadata": {},
     "output_type": "execute_result"
    }
   ],
   "source": [
    "test[1]"
   ]
  },
  {
   "cell_type": "code",
   "execution_count": 89,
   "metadata": {},
   "outputs": [
    {
     "data": {
      "text/html": [
       "<pre>[[],\n",
       " [{px: -5.72, py: -6.97, pz: -35.2, E: 58.9}],\n",
       " [{px: -26.5, py: -5.95, pz: -6.6, E: 40}],\n",
       " [{px: -2.8, py: -4.92, pz: -2.6, E: 6.23}],\n",
       " [{px: 0.837, py: -0.48, pz: -0.451, E: 8.09}],\n",
       " [{px: 7.73, py: 9.6, pz: -7.39, E: 60.3}],\n",
       " [{px: -10.3, py: -10, pz: -12.7, E: 19.2}],\n",
       " [],\n",
       " [{px: 4, py: 2.1, pz: 2.22, E: 5.03}],\n",
       " [],\n",
       " ...,\n",
       " [{px: 9.19, py: -12.7, pz: -3.61, E: 16.1}],\n",
       " [{px: -24.2, py: -13.2, pz: -12.7, E: 89.6}],\n",
       " [],\n",
       " [{px: 2.76, py: 1.15, pz: -2.65, E: 4}],\n",
       " [{px: -2.35, py: 2.29, pz: 0.69, E: 3.48}],\n",
       " [],\n",
       " [{px: 2.7, py: 7.2, pz: -0.772, E: 90.1}],\n",
       " [{px: 10.4, py: -13.7, pz: 2.92, E: 25.4}],\n",
       " [{px: 0.82, py: 3.98, pz: 2.1, E: 4.57}]]\n",
       "-------------------------------------------------------------------------------------------------\n",
       "backend: cpu\n",
       "nbytes: 13.2 kB\n",
       "type: 500 * var * Momentum4D[\n",
       "    px: float64,\n",
       "    py: float64,\n",
       "    pz: float64,\n",
       "    E: float64\n",
       "]</pre>"
      ],
      "text/plain": [
       "<MomentumArray4D [[], ..., [{px: 0.82, py: 3.98, ...}]] type='500 * var * M...'>"
      ]
     },
     "execution_count": 89,
     "metadata": {},
     "output_type": "execute_result"
    }
   ],
   "source": [
    "jets"
   ]
  },
  {
   "cell_type": "code",
   "execution_count": 83,
   "metadata": {},
   "outputs": [
    {
     "data": {
      "text/plain": [
       "np.float64(-26.468476551300274)"
      ]
     },
     "execution_count": 83,
     "metadata": {},
     "output_type": "execute_result"
    }
   ],
   "source": [
    "ak.sum(constituents[2].px)"
   ]
  },
  {
   "cell_type": "code",
   "execution_count": 87,
   "metadata": {},
   "outputs": [
    {
     "data": {
      "text/plain": [
       "np.float64(37.36345286594101)"
      ]
     },
     "execution_count": 87,
     "metadata": {},
     "output_type": "execute_result"
    }
   ],
   "source": [
    "ak.sum(constituents[2].pt)"
   ]
  },
  {
   "cell_type": "code",
   "execution_count": 86,
   "metadata": {},
   "outputs": [
    {
     "data": {
      "text/html": [
       "<pre>[[],\n",
       " [[3.56, 4.78, 6.25, 7.35, 4.87, 4.05, 3.84, 5.52, 6.73]],\n",
       " [[2.82, 8.35, 2.97, 9.78, 2.61, 8.09, 2.73]],\n",
       " [[5.66]],\n",
       " [[4.23, 3.41]],\n",
       " [[4.17, 10.5, 7.17, 5.33, 3.89, 7.7, 9.28, 7.9, 2.62]],\n",
       " [[14.4]],\n",
       " [],\n",
       " [[4.52]],\n",
       " [],\n",
       " ...,\n",
       " [[2.67, 2.98, 3.73, 6.31]],\n",
       " [[12.6, 4.47, 3.11, 4.87, 4.1, 7.09, ..., 3.23, 8.49, 3.7, 5.93, 7.15, 2.8]],\n",
       " [],\n",
       " [[3]],\n",
       " [[3.28]],\n",
       " [],\n",
       " [[35.1, 37]],\n",
       " [[3.85, 5.98, 4.25, 4.58, 3.06, 3.4]],\n",
       " [[4.06]]]\n",
       "------------------------------------------------------------------------------\n",
       "backend: cpu\n",
       "nbytes: 13.6 kB\n",
       "type: 500 * var * var * float64</pre>"
      ],
      "text/plain": [
       "<Array [[], [[3.56, ..., 6.73]], ..., [[4.06]]] type='500 * var * var * flo...'>"
      ]
     },
     "execution_count": 86,
     "metadata": {},
     "output_type": "execute_result"
    }
   ],
   "source": [
    "constituents.pt"
   ]
  },
  {
   "cell_type": "code",
   "execution_count": 88,
   "metadata": {},
   "outputs": [
    {
     "data": {
      "text/html": [
       "<pre>[[],\n",
       " [7.35],\n",
       " [9.78],\n",
       " [5.66],\n",
       " [4.23],\n",
       " [10.5],\n",
       " [14.4],\n",
       " [],\n",
       " [4.52],\n",
       " [],\n",
       " ...,\n",
       " [6.31],\n",
       " [15.3],\n",
       " [],\n",
       " [3],\n",
       " [3.28],\n",
       " [],\n",
       " [37],\n",
       " [5.98],\n",
       " [4.06]]\n",
       "--------------------------\n",
       "backend: cpu\n",
       "nbytes: 6.6 kB\n",
       "type: 500 * var * ?float64</pre>"
      ],
      "text/plain": [
       "<Array [[], [7.35], [9.78], ..., [5.98], [4.06]] type='500 * var * ?float64'>"
      ]
     },
     "execution_count": 88,
     "metadata": {},
     "output_type": "execute_result"
    }
   ],
   "source": [
    "ak.max(constituents.pt, axis=2)"
   ]
  },
  {
   "cell_type": "code",
   "execution_count": 85,
   "metadata": {},
   "outputs": [
    {
     "data": {
      "text/html": [
       "<pre>[[],\n",
       " [46.9],\n",
       " [37.4],\n",
       " [5.66],\n",
       " [7.64],\n",
       " [58.6],\n",
       " [14.4],\n",
       " [],\n",
       " [4.52],\n",
       " [],\n",
       " ...,\n",
       " [15.7],\n",
       " [82.7],\n",
       " [],\n",
       " [3],\n",
       " [3.28],\n",
       " [],\n",
       " [72.1],\n",
       " [25.1],\n",
       " [4.06]]\n",
       "-------------------------\n",
       "backend: cpu\n",
       "nbytes: 6.3 kB\n",
       "type: 500 * var * float64</pre>"
      ],
      "text/plain": [
       "<Array [[], [46.9], [37.4], ..., [25.1], [4.06]] type='500 * var * float64'>"
      ]
     },
     "execution_count": 85,
     "metadata": {},
     "output_type": "execute_result"
    }
   ],
   "source": [
    "ak.sum(constituents.pt, axis=2)"
   ]
  },
  {
   "cell_type": "code",
   "execution_count": 75,
   "metadata": {},
   "outputs": [
    {
     "data": {
      "text/html": [
       "<pre>[[],\n",
       " [9],\n",
       " [7],\n",
       " [1],\n",
       " [2],\n",
       " [9],\n",
       " [1],\n",
       " [],\n",
       " [1],\n",
       " [],\n",
       " ...,\n",
       " [4],\n",
       " [13],\n",
       " [],\n",
       " [1],\n",
       " [1],\n",
       " [],\n",
       " [2],\n",
       " [6],\n",
       " [1]]\n",
       "-----------------------\n",
       "backend: cpu\n",
       "nbytes: 6.3 kB\n",
       "type: 500 * var * int64</pre>"
      ],
      "text/plain": [
       "<Array [[], [9], [7], [1], ..., [], [2], [6], [1]] type='500 * var * int64'>"
      ]
     },
     "execution_count": 75,
     "metadata": {},
     "output_type": "execute_result"
    }
   ],
   "source": [
    "num_constituents = ak.num(constituents, axis=2)"
   ]
  },
  {
   "cell_type": "code",
   "execution_count": 52,
   "metadata": {},
   "outputs": [
    {
     "data": {
      "text/plain": [
       "np.float64(7667.565663609246)"
      ]
     },
     "execution_count": 52,
     "metadata": {},
     "output_type": "execute_result"
    }
   ],
   "source": [
    "ak.sum(particles.E)"
   ]
  },
  {
   "cell_type": "code",
   "execution_count": 53,
   "metadata": {},
   "outputs": [
    {
     "data": {
      "text/plain": [
       "np.float64(7667.565663609246)"
      ]
     },
     "execution_count": 53,
     "metadata": {},
     "output_type": "execute_result"
    }
   ],
   "source": [
    "ak.sum(constituents.E)"
   ]
  },
  {
   "cell_type": "code",
   "execution_count": 54,
   "metadata": {},
   "outputs": [
    {
     "data": {
      "text/html": [
       "<pre>[{px: 0.357, py: -3.54, pz: -1.66, E: 3.93, pdg: 211, is_final: True, ...},\n",
       " {px: -0.139, py: -4.77, pz: -3.64, E: 6.01, pdg: 211, is_final: True, ...},\n",
       " {px: -1.83, py: 5.98, pz: -5.34, E: 8.22, pdg: -211, is_final: True, ...},\n",
       " {px: -1.52, py: 7.19, pz: -6.24, E: 9.64, pdg: 211, is_final: True, ...},\n",
       " {px: -0.58, py: -4.84, pz: -3.27, E: 5.87, pdg: 211, is_final: True, ...},\n",
       " {px: 0.0504, py: -4.05, pz: -3.18, E: 5.15, pdg: -211, is_final: True, ...},\n",
       " {px: 0.0205, py: -3.84, pz: -2.35, E: 4.5, pdg: 22, is_final: True, ...},\n",
       " {px: -0.0949, py: -5.52, pz: -3.6, E: 6.59, pdg: -211, is_final: True, ...},\n",
       " {px: -1.98, py: 6.43, pz: -5.96, E: 8.99, pdg: 22, is_final: True, ...},\n",
       " {px: 2.62, py: 1.06, pz: -1.15, E: 3.05, pdg: -211, is_final: True, ...},\n",
       " ...,\n",
       " {px: -34.3, py: 7.52, pz: -27.4, E: 44.5, pdg: 16, is_final: True, ...},\n",
       " {px: 37, py: -0.317, pz: 26.6, E: 45.6, pdg: -16, is_final: True, ...},\n",
       " {px: 3.09, py: -2.29, pz: 0.483, E: 3.91, pdg: -321, is_final: True, ...},\n",
       " {px: 5.11, py: -3.1, pz: 0.704, E: 6.02, pdg: -211, is_final: True, ...},\n",
       " {px: 3.56, py: -2.32, pz: 0.412, E: 4.29, pdg: 321, is_final: True, ...},\n",
       " {px: 3.96, py: -2.3, pz: 0.199, E: 4.61, pdg: 130, is_final: True, ...},\n",
       " {px: -2.53, py: -1.71, pz: 0.89, E: 3.19, pdg: -211, is_final: True, ...},\n",
       " {px: -2.74, py: -2.01, pz: 0.237, E: 3.41, pdg: 22, is_final: True, ...},\n",
       " {px: 0.82, py: 3.98, pz: 2.1, E: 4.57, pdg: 11, is_final: True, ...}]\n",
       "-------------------------------------------------------------------------------------------------------------------------------------------------------------\n",
       "backend: cpu\n",
       "nbytes: 29.3 MB\n",
       "type: 916 * Momentum4D[\n",
       "    px: float64,\n",
       "    py: float64,\n",
       "    pz: float64,\n",
       "    E: float64,\n",
       "    pdg: int64,\n",
       "    is_final: bool,\n",
       "    mother_list: var * int64\n",
       "]</pre>"
      ],
      "text/plain": [
       "<MomentumArray4D [{px: 0.357, py: -3.54, ...}, ...] type='916 * Momentum4D[...'>"
      ]
     },
     "execution_count": 54,
     "metadata": {},
     "output_type": "execute_result"
    }
   ],
   "source": [
    "ak.flatten(particles)"
   ]
  },
  {
   "cell_type": "code",
   "execution_count": null,
   "metadata": {},
   "outputs": [],
   "source": [
    "particles"
   ]
  },
  {
   "cell_type": "code",
   "execution_count": 135,
   "metadata": {},
   "outputs": [
    {
     "data": {
      "text/html": [
       "<pre>[{px: 0.357, py: -3.54, pz: -1.66, E: 3.93, pdg: 211, is_final: True, ...},\n",
       " {px: -0.139, py: -4.77, pz: -3.64, E: 6.01, pdg: 211, is_final: True, ...},\n",
       " {px: -1.83, py: 5.98, pz: -5.34, E: 8.22, pdg: -211, is_final: True, ...},\n",
       " {px: -1.52, py: 7.19, pz: -6.24, E: 9.64, pdg: 211, is_final: True, ...},\n",
       " {px: -0.58, py: -4.84, pz: -3.27, E: 5.87, pdg: 211, is_final: True, ...},\n",
       " {px: 0.0504, py: -4.05, pz: -3.18, E: 5.15, pdg: -211, is_final: True, ...},\n",
       " {px: 0.0205, py: -3.84, pz: -2.35, E: 4.5, pdg: 22, is_final: True, ...},\n",
       " {px: -0.0949, py: -5.52, pz: -3.6, E: 6.59, pdg: -211, is_final: True, ...},\n",
       " {px: -1.98, py: 6.43, pz: -5.96, E: 8.99, pdg: 22, is_final: True, ...},\n",
       " {px: 2.62, py: 1.06, pz: -1.15, E: 3.05, pdg: -211, is_final: True, ...},\n",
       " ...,\n",
       " {px: -34.3, py: 7.52, pz: -27.4, E: 44.5, pdg: 16, is_final: True, ...},\n",
       " {px: 37, py: -0.317, pz: 26.6, E: 45.6, pdg: -16, is_final: True, ...},\n",
       " {px: 3.09, py: -2.29, pz: 0.483, E: 3.91, pdg: -321, is_final: True, ...},\n",
       " {px: 5.11, py: -3.1, pz: 0.704, E: 6.02, pdg: -211, is_final: True, ...},\n",
       " {px: 3.56, py: -2.32, pz: 0.412, E: 4.29, pdg: 321, is_final: True, ...},\n",
       " {px: 3.96, py: -2.3, pz: 0.199, E: 4.61, pdg: 130, is_final: True, ...},\n",
       " {px: -2.53, py: -1.71, pz: 0.89, E: 3.19, pdg: -211, is_final: True, ...},\n",
       " {px: -2.74, py: -2.01, pz: 0.237, E: 3.41, pdg: 22, is_final: True, ...},\n",
       " {px: 0.82, py: 3.98, pz: 2.1, E: 4.57, pdg: 11, is_final: True, ...}]\n",
       "-------------------------------------------------------------------------------------------------------------------------------------------------------------\n",
       "backend: cpu\n",
       "nbytes: 29.3 MB\n",
       "type: 916 * Momentum4D[\n",
       "    px: float64,\n",
       "    py: float64,\n",
       "    pz: float64,\n",
       "    E: float64,\n",
       "    pdg: int64,\n",
       "    is_final: bool,\n",
       "    mother_list: var * int64\n",
       "]</pre>"
      ],
      "text/plain": [
       "<MomentumArray4D [{px: 0.357, py: -3.54, ...}, ...] type='916 * Momentum4D[...'>"
      ]
     },
     "execution_count": 135,
     "metadata": {},
     "output_type": "execute_result"
    }
   ],
   "source": [
    "ak.flatten(ak.flatten(constituents))"
   ]
  },
  {
   "cell_type": "code",
   "execution_count": 68,
   "metadata": {},
   "outputs": [
    {
     "data": {
      "text/plain": [
       "np.float64(0.0)"
      ]
     },
     "execution_count": 68,
     "metadata": {},
     "output_type": "execute_result"
    }
   ],
   "source": [
    "ak.sum(ak.flatten(ak.flatten(constituents.px)) - ak.flatten(particles.px))"
   ]
  },
  {
   "cell_type": "code",
   "execution_count": 61,
   "metadata": {},
   "outputs": [
    {
     "data": {
      "text/html": [
       "<pre>[0.357,\n",
       " -0.139,\n",
       " -1.83,\n",
       " -1.52,\n",
       " -0.58,\n",
       " 0.0504,\n",
       " 0.0205,\n",
       " -0.0949,\n",
       " -1.98,\n",
       " 2.62,\n",
       " ...,\n",
       " 437,\n",
       " 438,\n",
       " 439,\n",
       " 440,\n",
       " 441,\n",
       " 458,\n",
       " 548,\n",
       " 671,\n",
       " 229]\n",
       "--------------------\n",
       "backend: cpu\n",
       "nbytes: 73.8 kB\n",
       "type: 9221 * float64</pre>"
      ],
      "text/plain": [
       "<Array [0.357, -0.139, -1.83, -1.52, ..., 548, 671, 229] type='9221 * float64'>"
      ]
     },
     "execution_count": 61,
     "metadata": {},
     "output_type": "execute_result"
    }
   ],
   "source": [
    "ak.ravel(constituents)"
   ]
  },
  {
   "cell_type": "code",
   "execution_count": 121,
   "metadata": {},
   "outputs": [
    {
     "data": {
      "text/html": [
       "<pre>[0.357,\n",
       " -0.139,\n",
       " -1.83,\n",
       " -1.52,\n",
       " -0.58,\n",
       " 0.0504,\n",
       " 0.0205,\n",
       " -0.0949,\n",
       " -1.98,\n",
       " 2.62,\n",
       " ...,\n",
       " 437,\n",
       " 438,\n",
       " 439,\n",
       " 440,\n",
       " 441,\n",
       " 458,\n",
       " 548,\n",
       " 671,\n",
       " 229]\n",
       "--------------------\n",
       "backend: cpu\n",
       "nbytes: 73.8 kB\n",
       "type: 9221 * float64</pre>"
      ],
      "text/plain": [
       "<Array [0.357, -0.139, -1.83, -1.52, ..., 548, 671, 229] type='9221 * float64'>"
      ]
     },
     "execution_count": 121,
     "metadata": {},
     "output_type": "execute_result"
    }
   ],
   "source": [
    "ak.flatten(constituents, axis=None)"
   ]
  },
  {
   "cell_type": "code",
   "execution_count": 106,
   "metadata": {},
   "outputs": [
    {
     "data": {
      "text/html": [
       "<pre>[{px: -26.5, py: -5.95, pz: -6.6, E: 40}]\n",
       "-----------------------------------------------------------------------------------------\n",
       "backend: cpu\n",
       "nbytes: 32 B\n",
       "type: 1 * Momentum4D[\n",
       "    px: float64,\n",
       "    py: float64,\n",
       "    pz: float64,\n",
       "    E: float64\n",
       "]</pre>"
      ],
      "text/plain": [
       "<MomentumArray4D [{px: -26.5, py: -5.95, pz: -6.6, ...}] type='1 * Momentum...'>"
      ]
     },
     "execution_count": 106,
     "metadata": {},
     "output_type": "execute_result"
    }
   ],
   "source": [
    "jets[2]"
   ]
  },
  {
   "cell_type": "code",
   "execution_count": 109,
   "metadata": {},
   "outputs": [
    {
     "data": {
      "text/html": [
       "<pre>[{px: 2.62, py: 1.06, pz: -1.15, E: 3.05, pdg: -211, is_final: True, ...},\n",
       " {px: -6.48, py: -5.27, pz: -3.42, E: 9.02, pdg: -211, is_final: True, ...},\n",
       " {px: -2.68, py: 1.28, pz: 0.632, E: 3.04, pdg: -16, is_final: True, ...},\n",
       " {px: -9.15, py: 3.46, pz: 1.95, E: 9.98, pdg: 211, is_final: True, ...},\n",
       " {px: -1.96, py: -1.73, pz: -1.29, E: 2.91, pdg: 22, is_final: True, ...},\n",
       " {px: -6.14, py: -5.27, pz: -4.23, E: 9.13, pdg: 22, is_final: True, ...},\n",
       " {px: -2.67, py: 0.535, pz: 0.9, E: 2.87, pdg: 22, is_final: True, ...}]\n",
       "-----------------------------------------------------------------------------------------------------------------------------------------------------------\n",
       "backend: cpu\n",
       "nbytes: 29.3 MB\n",
       "type: 7 * Momentum4D[\n",
       "    px: float64,\n",
       "    py: float64,\n",
       "    pz: float64,\n",
       "    E: float64,\n",
       "    pdg: int64,\n",
       "    is_final: bool,\n",
       "    mother_list: var * int64\n",
       "]</pre>"
      ],
      "text/plain": [
       "<MomentumArray4D [{px: 2.62, py: 1.06, ...}, ..., {...}] type='7 * Momentum...'>"
      ]
     },
     "execution_count": 109,
     "metadata": {},
     "output_type": "execute_result"
    }
   ],
   "source": [
    "ak.flatten(constituents[2])"
   ]
  },
  {
   "cell_type": "code",
   "execution_count": 110,
   "metadata": {},
   "outputs": [
    {
     "data": {
      "text/html": [
       "<pre>[{px: 2.62, py: 1.06, pz: -1.15, E: 3.05, pdg: -211, is_final: True, ...},\n",
       " {px: -6.48, py: -5.27, pz: -3.42, E: 9.02, pdg: -211, is_final: True, ...},\n",
       " {px: -2.68, py: 1.28, pz: 0.632, E: 3.04, pdg: -16, is_final: True, ...},\n",
       " {px: -9.15, py: 3.46, pz: 1.95, E: 9.98, pdg: 211, is_final: True, ...},\n",
       " {px: -1.96, py: -1.73, pz: -1.29, E: 2.91, pdg: 22, is_final: True, ...},\n",
       " {px: -6.14, py: -5.27, pz: -4.23, E: 9.13, pdg: 22, is_final: True, ...},\n",
       " {px: -2.67, py: 0.535, pz: 0.9, E: 2.87, pdg: 22, is_final: True, ...}]\n",
       "-----------------------------------------------------------------------------------------------------------------------------------------------------------\n",
       "backend: cpu\n",
       "nbytes: 29.3 MB\n",
       "type: 7 * Momentum4D[\n",
       "    px: float64,\n",
       "    py: float64,\n",
       "    pz: float64,\n",
       "    E: float64,\n",
       "    pdg: int64,\n",
       "    is_final: bool,\n",
       "    mother_list: var * int64\n",
       "]</pre>"
      ],
      "text/plain": [
       "<MomentumArray4D [{px: 2.62, py: 1.06, ...}, ..., {...}] type='7 * Momentum...'>"
      ]
     },
     "execution_count": 110,
     "metadata": {},
     "output_type": "execute_result"
    }
   ],
   "source": [
    "particles[2]"
   ]
  },
  {
   "cell_type": "code",
   "execution_count": 101,
   "metadata": {},
   "outputs": [
    {
     "data": {
      "text/html": [
       "<pre>[[{px: 2.62, py: 1.06, pz: -1.15, E: 3.05, pdg: -211, is_final: ..., ...}, ...]]\n",
       "-----------------------------------------------------------------------------------------------------------------------------------------------------------------\n",
       "backend: cpu\n",
       "nbytes: 29.3 MB\n",
       "type: 1 * var * Momentum4D[\n",
       "    px: float64,\n",
       "    py: float64,\n",
       "    pz: float64,\n",
       "    E: float64,\n",
       "    pdg: int64,\n",
       "    is_final: bool,\n",
       "    mother_list: var * int64\n",
       "]</pre>"
      ],
      "text/plain": [
       "<MomentumArray4D [[{px: 2.62, py: 1.06, ...}, ...]] type='1 * var * Momentu...'>"
      ]
     },
     "execution_count": 101,
     "metadata": {},
     "output_type": "execute_result"
    }
   ],
   "source": [
    "constituents[2]"
   ]
  },
  {
   "cell_type": "code",
   "execution_count": 66,
   "metadata": {},
   "outputs": [],
   "source": [
    "jet_def = fj.JetDefinition(fj.antikt_algorithm, R)\n",
    "jets = fj.ClusterSequence(particles, jet_def)"
   ]
  },
  {
   "cell_type": "code",
   "execution_count": 89,
   "metadata": {},
   "outputs": [
    {
     "data": {
      "text/html": [
       "<pre>[{px: [0, 0, 0, ..., -0.00998, 0.0222], py: [0, ...], pz: [...], E: [...], ...},\n",
       " {px: [0, 0, 0, ..., -0.0369, -0.0623], py: [0, ...], pz: [...], E: [...], ...},\n",
       " {px: [0, 0, 0, ..., -0.0451, -0.0942], py: [0, ...], pz: [...], E: [...], ...},\n",
       " {px: [0, 0, 0, ..., -0.138, -0.0207], py: [0, ..., 0.108], pz: [...], ...},\n",
       " {px: [0, 0, 0, ..., -0.215, -0.139], py: [0, ..., -0.121], pz: [...], ...},\n",
       " {px: [0, 0, 0, ..., 0.0132, -0.235], py: [0, ..., -0.04], pz: [...], ...},\n",
       " {px: [0, 0, 0, ..., -0.999, -0.258], py: [0, ..., -0.439], pz: [...], ...},\n",
       " {px: [0, 0, 0, ..., 0.196, 0.114], py: [0, ..., 0.184], pz: [...], ...},\n",
       " {px: [0, 0, 0, ..., -0.472, -0.737], py: [0, ..., 0.334], pz: [...], ...},\n",
       " {px: [0, 0, 0, ..., -0.0373, 0.00859], py: [0, ...], pz: [...], E: [...], ...},\n",
       " ...,\n",
       " {px: [0, 0, 0, ..., -1.21e-05, -0.129], py: [0, ...], pz: [...], E: ..., ...},\n",
       " {px: [0, 0, 0, ..., -1.27, -1.04], py: [0, ..., 0.822], pz: [...], ...},\n",
       " {px: [0, 0, 0, ..., -0.0604, 0.0445], py: [0, ...], pz: [...], E: [...], ...},\n",
       " {px: [0, 0, 0, ..., -0.0259, -0.633], py: [0, ..., 0.77], pz: [...], ...},\n",
       " {px: [0, 0, 0, ..., 0.172, 0.0615], py: [0, ...], pz: [...], E: [...], ...},\n",
       " {px: [0, 0, 0, ..., 0.0288, -0.037], py: [0, ..., -0.12], pz: [...], ...},\n",
       " {px: [0, 0, 0, ..., 0.0733, 0.0588], py: [0, ...], pz: [...], E: [...], ...},\n",
       " {px: [0, 0, 0, ..., 0.0106, -0.169], py: [0, ..., 2.36], pz: [...], ...},\n",
       " {px: [0, 0, 0, ..., -0.0708, 0.00763], py: [0, ...], pz: [...], E: [...], ...}]\n",
       "----------------------------------------------------------------------------------------------------------------------------------------------------------------------------------------------------------------------------------------------------------------\n",
       "backend: cpu\n",
       "nbytes: 45.4 MB\n",
       "type: 500 * {\n",
       "    px: var * float64,\n",
       "    py: var * float64,\n",
       "    pz: var * float64,\n",
       "    E: var * float64,\n",
       "    pdg: var * int64,\n",
       "    gen_status: var * int64,\n",
       "    mother_list: var * var * int64,\n",
       "    daughter_list: var * var * int64,\n",
       "    is_final: var * bool\n",
       "}</pre>"
      ],
      "text/plain": [
       "<Array [{px: [0, ...], py: [...], ...}, ...] type='500 * {px: var * float64...'>"
      ]
     },
     "execution_count": 89,
     "metadata": {},
     "output_type": "execute_result"
    }
   ],
   "source": [
    "events"
   ]
  },
  {
   "cell_type": "code",
   "execution_count": 90,
   "metadata": {},
   "outputs": [],
   "source": [
    "jets = fj.ClusterSequence(particles, jet_def)"
   ]
  },
  {
   "cell_type": "code",
   "execution_count": 52,
   "metadata": {},
   "outputs": [
    {
     "data": {
      "text/html": [
       "<pre>[[{px: -0.728, py: 2.43, pz: 6.88, E: 7.39, pdg: 2112, ...}, {...}, ..., {...}],\n",
       " [{px: 0.557, py: -0.649, pz: 0.656, E: 1.19, pdg: -321, ...}, ..., {...}],\n",
       " [{px: 35, py: 15.7, pz: -126, E: 132, pdg: 16, is_final: True, ...}, ...],\n",
       " [{px: -22.4, py: 4.64, pz: 49.5, E: 54.5, pdg: -13, is_final: True, ...}, ...],\n",
       " [{px: -0.00219, py: -0.00211, pz: -0.194, E: 0.194, pdg: 22, ...}, ..., {...}],\n",
       " [{px: -0.403, py: -0.134, pz: 24.3, E: 24.3, pdg: -211, ...}, ..., {...}],\n",
       " [{px: -0.586, py: 0.0048, pz: 29.7, E: 29.7, pdg: 211, ...}, ..., {...}],\n",
       " [{px: -37.2, py: -5.69, pz: -325, E: 327, pdg: 14, is_final: True, ...}, ...],\n",
       " [{px: -0.901, py: -5.37, pz: 38.1, E: 38.5, pdg: 13, is_final: ..., ...}, ...],\n",
       " [{px: 4.26, py: -0.934, pz: 26.9, E: 27.3, pdg: -11, is_final: ..., ...}, ...],\n",
       " ...,\n",
       " [{px: -0.201, py: -0.558, pz: 145, E: 145, pdg: 2212, ...}, {...}, ..., {...}],\n",
       " [{px: -0.408, py: 0.176, pz: 265, E: 265, pdg: -211, is_final: ..., ...}, ...],\n",
       " [{px: 0.622, py: -0.282, pz: -0.715, E: 0.999, pdg: -211, ...}, ..., {...}],\n",
       " [{px: -14.8, py: 9.17, pz: 1.03e+03, E: 1.03e+03, pdg: 16, ...}, ..., {...}],\n",
       " [{px: 0.462, py: 0.657, pz: -176, E: 176, pdg: 211, is_final: True, ...}, ...],\n",
       " [{px: 3.33, py: -4.89, pz: -300, E: 300, pdg: 11, is_final: True, ...}, ...],\n",
       " [{px: -34.3, py: 7.52, pz: -27.4, E: 44.5, pdg: 16, is_final: True, ...}, ...],\n",
       " [{px: 0.0616, py: -0.0277, pz: 0.929, E: 0.942, pdg: -211, ...}, ..., {...}],\n",
       " [{px: 0.82, py: 3.98, pz: 2.1, E: 4.57, pdg: 11, is_final: True, ...}, ...]]\n",
       "-------------------------------------------------------------------------------------------------------------------------------------------------------------------\n",
       "backend: cpu\n",
       "nbytes: 30.4 MB\n",
       "type: 500 * var * Momentum4D[\n",
       "    px: float64,\n",
       "    py: float64,\n",
       "    pz: float64,\n",
       "    E: float64,\n",
       "    pdg: int64,\n",
       "    is_final: bool,\n",
       "    mother_list: var * int64\n",
       "]</pre>"
      ],
      "text/plain": [
       "<Array [[{px: -0.728, py: ..., ...}, ...], ...] type='500 * var * Momentum4...'>"
      ]
     },
     "execution_count": 52,
     "metadata": {},
     "output_type": "execute_result"
    }
   ],
   "source": [
    "particles"
   ]
  },
  {
   "cell_type": "code",
   "execution_count": 103,
   "metadata": {},
   "outputs": [
    {
     "data": {
      "text/html": [
       "<pre>-----------------------------------------------------------------------------------------\n",
       "backend: cpu\n",
       "nbytes: 0 B\n",
       "type: 0 * Momentum4D[\n",
       "    px: float64,\n",
       "    py: float64,\n",
       "    pz: float64,\n",
       "    E: float64\n",
       "]</pre>"
      ],
      "text/plain": [
       "<Array [] type='0 * Momentum4D[px: float64, py: float64, pz: float64, E: fl...'>"
      ]
     },
     "execution_count": 103,
     "metadata": {},
     "output_type": "execute_result"
    }
   ],
   "source": [
    "jets.inclusive_jets(min_pt=10)"
   ]
  },
  {
   "cell_type": "code",
   "execution_count": 104,
   "metadata": {},
   "outputs": [
    {
     "data": {
      "text/html": [
       "<pre>-----------------------------------------------------------------------------------------------------------------------------------------------------------------\n",
       "backend: cpu\n",
       "nbytes: 29.4 MB\n",
       "type: 0 * var * Momentum4D[\n",
       "    px: float64,\n",
       "    py: float64,\n",
       "    pz: float64,\n",
       "    E: float64,\n",
       "    pdg: int64,\n",
       "    is_final: bool,\n",
       "    mother_list: var * int64\n",
       "]</pre>"
      ],
      "text/plain": [
       "<Array [] type='0 * var * Momentum4D[px: float64, py: float64, pz: float64,...'>"
      ]
     },
     "execution_count": 104,
     "metadata": {},
     "output_type": "execute_result"
    }
   ],
   "source": [
    "jets.constituents(min_pt=10)"
   ]
  },
  {
   "cell_type": "code",
   "execution_count": 92,
   "metadata": {},
   "outputs": [
    {
     "data": {
      "text/plain": [
       "np.float64(68.63297148911091)"
      ]
     },
     "execution_count": 92,
     "metadata": {},
     "output_type": "execute_result"
    }
   ],
   "source": [
    "ak.sum(jets.constituents(min_pt=10)[0][0]['E'])"
   ]
  },
  {
   "cell_type": "code",
   "execution_count": 41,
   "metadata": {},
   "outputs": [
    {
     "name": "stdout",
     "output_type": "stream",
     "text": [
      "hi 25 2\n",
      "hi 34 2\n",
      "hi 36 2\n",
      "hi 43 2\n",
      "hi 44 4\n",
      "hi 46 2\n",
      "hi 52 2\n",
      "hi 58 2\n",
      "hi 59 2\n",
      "hi 63 2\n",
      "hi 64 4\n",
      "hi 69 2\n",
      "hi 72 2\n",
      "hi 74 2\n",
      "hi 75 2\n",
      "hi 78 2\n",
      "hi 82 4\n",
      "hi 84 2\n",
      "hi 86 2\n",
      "hi 87 2\n",
      "hi 90 2\n",
      "hi 91 3\n",
      "hi 93 3\n",
      "hi 94 3\n",
      "hi 95 2\n",
      "hi 96 2\n",
      "hi 97 2\n",
      "hi 98 2\n",
      "hi 99 2\n",
      "hi 100 5\n",
      "hi 102 2\n",
      "hi 103 2\n",
      "hi 104 2\n",
      "hi 107 6\n",
      "hi 108 3\n",
      "hi 110 9\n",
      "hi 111 7\n",
      "hi 112 2\n",
      "hi 113 3\n",
      "hi 114 3\n",
      "hi 115 6\n",
      "hi 116 6\n",
      "hi 117 10\n",
      "hi 118 5\n",
      "hi 119 9\n"
     ]
    },
    {
     "ename": "IndexError",
     "evalue": "cannot slice ListOffsetArray (of length 120) with 120",
     "output_type": "error",
     "traceback": [
      "\u001b[31m---------------------------------------------------------------------------\u001b[39m",
      "\u001b[31mIndexError\u001b[39m                                Traceback (most recent call last)",
      "\u001b[36mCell\u001b[39m\u001b[36m \u001b[39m\u001b[32mIn[41]\u001b[39m\u001b[32m, line 2\u001b[39m\n\u001b[32m      1\u001b[39m \u001b[38;5;28;01mfor\u001b[39;00m i \u001b[38;5;129;01min\u001b[39;00m \u001b[38;5;28mrange\u001b[39m(\u001b[38;5;28mlen\u001b[39m(jets.constituents())):\n\u001b[32m----> \u001b[39m\u001b[32m2\u001b[39m     \u001b[38;5;28;01mif\u001b[39;00m \u001b[38;5;28mlen\u001b[39m(\u001b[43mjets\u001b[49m\u001b[43m.\u001b[49m\u001b[43mconstituents\u001b[49m\u001b[43m(\u001b[49m\u001b[43m)\u001b[49m\u001b[43m[\u001b[49m\u001b[32;43m0\u001b[39;49m\u001b[43m]\u001b[49m\u001b[43m[\u001b[49m\u001b[43mi\u001b[49m\u001b[43m]\u001b[49m) > \u001b[32m1\u001b[39m:\n\u001b[32m      3\u001b[39m         \u001b[38;5;28mprint\u001b[39m(\u001b[33m'\u001b[39m\u001b[33mhi\u001b[39m\u001b[33m'\u001b[39m, i, \u001b[38;5;28mlen\u001b[39m(jets.constituents()[\u001b[32m0\u001b[39m][i]))\n",
      "\u001b[36mFile \u001b[39m\u001b[32m~/repos/z_plus_hf/.venv/lib/python3.12/site-packages/awkward/highlevel.py:1105\u001b[39m, in \u001b[36mArray.__getitem__\u001b[39m\u001b[34m(self, where)\u001b[39m\n\u001b[32m    676\u001b[39m \u001b[38;5;28;01mdef\u001b[39;00m\u001b[38;5;250m \u001b[39m\u001b[34m__getitem__\u001b[39m(\u001b[38;5;28mself\u001b[39m, where):\n\u001b[32m    677\u001b[39m \u001b[38;5;250m    \u001b[39m\u001b[33;03m\"\"\"\u001b[39;00m\n\u001b[32m    678\u001b[39m \u001b[33;03m    Args:\u001b[39;00m\n\u001b[32m    679\u001b[39m \u001b[33;03m        where (many types supported; see below): Index of positions to\u001b[39;00m\n\u001b[32m   (...)\u001b[39m\u001b[32m   1103\u001b[39m \u001b[33;03m    have the same dimension as the array being indexed.\u001b[39;00m\n\u001b[32m   1104\u001b[39m \u001b[33;03m    \"\"\"\u001b[39;00m\n\u001b[32m-> \u001b[39m\u001b[32m1105\u001b[39m     \u001b[38;5;28;01mwith\u001b[39;00m ak._errors.SlicingErrorContext(\u001b[38;5;28mself\u001b[39m, where):\n\u001b[32m   1106\u001b[39m         \u001b[38;5;66;03m# Handle named axis\u001b[39;00m\n\u001b[32m   1107\u001b[39m         (_, ndim) = \u001b[38;5;28mself\u001b[39m._layout.minmax_depth\n\u001b[32m   1108\u001b[39m         named_axis = _get_named_axis(\u001b[38;5;28mself\u001b[39m)\n",
      "\u001b[36mFile \u001b[39m\u001b[32m~/repos/z_plus_hf/.venv/lib/python3.12/site-packages/awkward/_errors.py:80\u001b[39m, in \u001b[36mErrorContext.__exit__\u001b[39m\u001b[34m(self, exception_type, exception_value, traceback)\u001b[39m\n\u001b[32m     78\u001b[39m     \u001b[38;5;28mself\u001b[39m._slate.\u001b[34m__dict__\u001b[39m.clear()\n\u001b[32m     79\u001b[39m     \u001b[38;5;66;03m# Handle caught exception\u001b[39;00m\n\u001b[32m---> \u001b[39m\u001b[32m80\u001b[39m     \u001b[38;5;28;01mraise\u001b[39;00m \u001b[38;5;28mself\u001b[39m.decorate_exception(exception_type, exception_value)\n\u001b[32m     81\u001b[39m \u001b[38;5;28;01melse\u001b[39;00m:\n\u001b[32m     82\u001b[39m     \u001b[38;5;66;03m# Step out of the way so that another ErrorContext can become primary.\u001b[39;00m\n\u001b[32m     83\u001b[39m     \u001b[38;5;28;01mif\u001b[39;00m \u001b[38;5;28mself\u001b[39m.primary() \u001b[38;5;129;01mis\u001b[39;00m \u001b[38;5;28mself\u001b[39m:\n",
      "\u001b[36mFile \u001b[39m\u001b[32m~/repos/z_plus_hf/.venv/lib/python3.12/site-packages/awkward/highlevel.py:1113\u001b[39m, in \u001b[36mArray.__getitem__\u001b[39m\u001b[34m(self, where)\u001b[39m\n\u001b[32m   1109\u001b[39m where = _normalize_named_slice(named_axis, where, ndim)\n\u001b[32m   1111\u001b[39m NamedAxis.mapping = named_axis\n\u001b[32m-> \u001b[39m\u001b[32m1113\u001b[39m indexed_layout = prepare_layout(\u001b[38;5;28;43mself\u001b[39;49m\u001b[43m.\u001b[49m\u001b[43m_layout\u001b[49m\u001b[43m.\u001b[49m\u001b[43m_getitem\u001b[49m\u001b[43m(\u001b[49m\u001b[43mwhere\u001b[49m\u001b[43m,\u001b[49m\u001b[43m \u001b[49m\u001b[43mNamedAxis\u001b[49m\u001b[43m)\u001b[49m)\n\u001b[32m   1115\u001b[39m \u001b[38;5;28;01mif\u001b[39;00m NamedAxis.mapping:\n\u001b[32m   1116\u001b[39m     \u001b[38;5;28;01mreturn\u001b[39;00m ak.operations.ak_with_named_axis._impl(\n\u001b[32m   1117\u001b[39m         indexed_layout,\n\u001b[32m   1118\u001b[39m         named_axis=NamedAxis.mapping,\n\u001b[32m   (...)\u001b[39m\u001b[32m   1121\u001b[39m         attrs=\u001b[38;5;28mself\u001b[39m._attrs,\n\u001b[32m   1122\u001b[39m     )\n",
      "\u001b[36mFile \u001b[39m\u001b[32m~/repos/z_plus_hf/.venv/lib/python3.12/site-packages/awkward/contents/content.py:538\u001b[39m, in \u001b[36mContent._getitem\u001b[39m\u001b[34m(self, where, named_axis)\u001b[39m\n\u001b[32m    533\u001b[39m \u001b[38;5;28;01mif\u001b[39;00m is_integer_like(where):\n\u001b[32m    534\u001b[39m     \u001b[38;5;66;03m# propagate named_axis to output\u001b[39;00m\n\u001b[32m    535\u001b[39m     named_axis.mapping = _remove_named_axis(\n\u001b[32m    536\u001b[39m         named_axis.mapping, where, \u001b[38;5;28mself\u001b[39m.purelist_depth\n\u001b[32m    537\u001b[39m     )\n\u001b[32m--> \u001b[39m\u001b[32m538\u001b[39m     \u001b[38;5;28;01mreturn\u001b[39;00m \u001b[38;5;28;43mself\u001b[39;49m\u001b[43m.\u001b[49m\u001b[43m_getitem_at\u001b[49m\u001b[43m(\u001b[49m\u001b[43mak\u001b[49m\u001b[43m.\u001b[49m\u001b[43m_slicing\u001b[49m\u001b[43m.\u001b[49m\u001b[43mnormalize_integer_like\u001b[49m\u001b[43m(\u001b[49m\u001b[43mwhere\u001b[49m\u001b[43m)\u001b[49m\u001b[43m)\u001b[49m\n\u001b[32m    540\u001b[39m \u001b[38;5;28;01melif\u001b[39;00m \u001b[38;5;28misinstance\u001b[39m(where, \u001b[38;5;28mslice\u001b[39m) \u001b[38;5;129;01mand\u001b[39;00m where.step \u001b[38;5;129;01mis\u001b[39;00m \u001b[38;5;28;01mNone\u001b[39;00m:\n\u001b[32m    541\u001b[39m     \u001b[38;5;66;03m# Ensure that start, stop are non-negative!\u001b[39;00m\n\u001b[32m    542\u001b[39m     start, stop, _, _ = \u001b[38;5;28mself\u001b[39m._backend.index_nplike.derive_slice_for_length(\n\u001b[32m    543\u001b[39m         normalize_slice(where, nplike=\u001b[38;5;28mself\u001b[39m._backend.index_nplike), \u001b[38;5;28mself\u001b[39m.length\n\u001b[32m    544\u001b[39m     )\n",
      "\u001b[36mFile \u001b[39m\u001b[32m~/repos/z_plus_hf/.venv/lib/python3.12/site-packages/awkward/contents/listoffsetarray.py:337\u001b[39m, in \u001b[36mListOffsetArray._getitem_at\u001b[39m\u001b[34m(self, where)\u001b[39m\n\u001b[32m    331\u001b[39m \u001b[38;5;66;03m# Validate `where`\u001b[39;00m\n\u001b[32m    332\u001b[39m \u001b[38;5;28;01mif\u001b[39;00m \u001b[38;5;129;01mnot\u001b[39;00m (\n\u001b[32m    333\u001b[39m     is_unknown_scalar(where)\n\u001b[32m    334\u001b[39m     \u001b[38;5;129;01mor\u001b[39;00m \u001b[38;5;28mself\u001b[39m.length \u001b[38;5;129;01mis\u001b[39;00m unknown_length\n\u001b[32m    335\u001b[39m     \u001b[38;5;129;01mor\u001b[39;00m (\u001b[32m0\u001b[39m <= where < \u001b[38;5;28mself\u001b[39m.length)\n\u001b[32m    336\u001b[39m ):\n\u001b[32m--> \u001b[39m\u001b[32m337\u001b[39m     \u001b[38;5;28;01mraise\u001b[39;00m ak._errors.index_error(\u001b[38;5;28mself\u001b[39m, where)\n\u001b[32m    338\u001b[39m start, stop = \u001b[38;5;28mself\u001b[39m._offsets[where], \u001b[38;5;28mself\u001b[39m._offsets[where + \u001b[32m1\u001b[39m]\n\u001b[32m    339\u001b[39m \u001b[38;5;28;01mreturn\u001b[39;00m \u001b[38;5;28mself\u001b[39m._content._getitem_range(start, stop)\n",
      "\u001b[31mIndexError\u001b[39m: cannot slice ListOffsetArray (of length 120) with 120",
      "\nThis error occurred while attempting to slice\n\n    <Array [[{px: 0.00659, py: ..., ...}], ...] type='120 * var * {px: floa...'>\n\nwith\n\n    120"
     ]
    }
   ],
   "source": [
    "for i in range(len(jets.constituents())):\n",
    "    if len(jets.constituents()[0][i]) > 1:\n",
    "        print('hi', i, len(jets.constituents()[0][i]))"
   ]
  },
  {
   "cell_type": "code",
   "execution_count": 47,
   "metadata": {},
   "outputs": [],
   "source": [
    "events_zipped = ak.zip(\n",
    "                {\n",
    "                    'px': events['px'],\n",
    "                    'py': events['py'],\n",
    "                    'pz': events['pz'],\n",
    "                    'E': events['E'],\n",
    "                    'pdg': events['pdg'],\n",
    "                    'is_final': events['is_final'],\n",
    "                    'mother_list': events['mother_list'],\n",
    "                }, \n",
    "                depth_limit=2,\n",
    "                with_name = 'Momentum4D',\n",
    "            )"
   ]
  },
  {
   "cell_type": "code",
   "execution_count": 48,
   "metadata": {},
   "outputs": [],
   "source": [
    "particles = events_zipped[events_zipped['is_final']]"
   ]
  },
  {
   "cell_type": "code",
   "execution_count": null,
   "metadata": {},
   "outputs": [],
   "source": [
    "# https://stackoverflow.com/questions/72834275/using-awkward-array-with-zip-unzip-with-two-different-physics-objects"
   ]
  },
  {
   "cell_type": "code",
   "execution_count": 3,
   "metadata": {},
   "outputs": [],
   "source": [
    "def mass(pairs, left_mass, right_mass):\n",
    "    left, right = ak.unzip(pairs)\n",
    "    left_energy = np.sqrt(left.px**2 + left.py**2 + left.pz**2 + left_mass**2)\n",
    "    right_energy = np.sqrt(right.px**2 + right.py**2 + right.pz**2 + right_mass**2)\n",
    "    return np.sqrt((left_energy + right_energy)**2 -\n",
    "                   (left.px + right.px)**2 -\n",
    "                   (left.py + right.py)**2 -\n",
    "                   (left.pz + right.pz)**2)\n",
    "\n",
    "def opposite(pairs):\n",
    "    left, right = ak.unzip(pairs)\n",
    "    return pairs[left.pdg == -right.pdg]\n",
    "\n",
    "def get_dimuon_invariant_mass(events_zipped):\n",
    "    muon_filter = (events_zipped['pdg'] == 13) & (events_zipped['is_final'])\n",
    "    muons = events_zipped[muon_filter]\n",
    "\n",
    "    anti_muon_filter = (events_zipped['pdg'] == -13) & (events_zipped['is_final'])\n",
    "    anti_muons = events_zipped[anti_muon_filter]\n",
    "    \n",
    "    pairs = ak.cartesian([muons, anti_muons])\n",
    "    \n",
    "    # inv_mass = hist.Hist(hist.axis.Regular(40, 0, 100, name='temp dimuon invariant mass'))\n",
    "    # inv_mass.fill(ak.flatten(mass(pairs, 0.1056583755, 0.1056583755)))\n",
    "    \n",
    "    return ak.flatten(mass(pairs, 0.1056583755, 0.1056583755))"
   ]
  },
  {
   "cell_type": "code",
   "execution_count": 16,
   "metadata": {},
   "outputs": [
    {
     "ename": "NameError",
     "evalue": "name 'hist' is not defined",
     "output_type": "error",
     "traceback": [
      "\u001b[31m---------------------------------------------------------------------------\u001b[39m",
      "\u001b[31mNameError\u001b[39m                                 Traceback (most recent call last)",
      "\u001b[36mCell\u001b[39m\u001b[36m \u001b[39m\u001b[32mIn[16]\u001b[39m\u001b[32m, line 3\u001b[39m\n\u001b[32m      1\u001b[39m NUM_RUNS = \u001b[32m4\u001b[39m\n\u001b[32m      2\u001b[39m RAW_DATA_DIRS = [\u001b[33mf\u001b[39m\u001b[33m'\u001b[39m\u001b[33m/Users/ravikoka/repos/z_plus_hf/feasibility/data/multi_test/run\u001b[39m\u001b[38;5;132;01m{\u001b[39;00mi\u001b[38;5;132;01m}\u001b[39;00m\u001b[33m/\u001b[39m\u001b[33m'\u001b[39m \u001b[38;5;28;01mfor\u001b[39;00m i \u001b[38;5;129;01min\u001b[39;00m \u001b[38;5;28mrange\u001b[39m(NUM_RUNS)]\n\u001b[32m----> \u001b[39m\u001b[32m3\u001b[39m inv_mass_dist = \u001b[43mhist\u001b[49m.Hist(hist.axis.Regular(\u001b[32m1000\u001b[39m, \u001b[32m0\u001b[39m, \u001b[32m100\u001b[39m, name=\u001b[33m'\u001b[39m\u001b[33mdimuon invariant mass\u001b[39m\u001b[33m'\u001b[39m))\n\u001b[32m      5\u001b[39m \u001b[38;5;28;01mfor\u001b[39;00m \u001b[38;5;28mdir\u001b[39m \u001b[38;5;129;01min\u001b[39;00m RAW_DATA_DIRS:\n\u001b[32m      6\u001b[39m     \u001b[38;5;28;01mfor\u001b[39;00m file \u001b[38;5;129;01min\u001b[39;00m os.listdir(\u001b[38;5;28mdir\u001b[39m):\n",
      "\u001b[31mNameError\u001b[39m: name 'hist' is not defined"
     ]
    }
   ],
   "source": [
    "NUM_RUNS = 4\n",
    "RAW_DATA_DIRS = [f'/Users/ravikoka/repos/z_plus_hf/feasibility/data/multi_test/run{i}/' for i in range(NUM_RUNS)]\n",
    "inv_mass_dist = hist.Hist(hist.axis.Regular(1000, 0, 100, name='dimuon invariant mass'))\n",
    "\n",
    "for dir in RAW_DATA_DIRS:\n",
    "    for file in os.listdir(dir):\n",
    "    \n",
    "        with open(dir + file, 'rb') as in_file:\n",
    "            events, sig, err = pkl.load(in_file)\n",
    "            \n",
    "            events_zipped = ak.zip(\n",
    "                {\n",
    "                    'px': events['px'],\n",
    "                    'py': events['py'],\n",
    "                    'pz': events['pz'],\n",
    "                    \n",
    "                    'pdg': events['pdg'],\n",
    "                    'is_final': events['is_final'],\n",
    "                    'mother_list': events['mother_list'],\n",
    "                }, \n",
    "                depth_limit=2\n",
    "            )\n",
    "        \n",
    "            inv_mass_dist.fill(get_dimuon_invariant_mass(events_zipped))"
   ]
  },
  {
   "cell_type": "code",
   "execution_count": 8,
   "metadata": {},
   "outputs": [
    {
     "data": {
      "image/png": "[encoded data removed]",
      "text/plain": [
       "<Figure size 1000x1000 with 1 Axes>"
      ]
     },
     "metadata": {},
     "output_type": "display_data"
    }
   ],
   "source": [
    "Z_MASS = 91.1876\n",
    "J_PSI_MASS = 3.096916\n",
    "UPSILON_MASS = 9.46030\n",
    "PHI_MASS = 1.019461\n",
    "NEUTRAL_RHO_MASS = 0.77526\n",
    "CHARGED_RHO_MASS = 0.77511\n",
    "ETA_MASS = 0.547862\n",
    "\n",
    "\n",
    "fig, ax = plt.subplots(1)\n",
    "hep.histplot(inv_mass_dist, ax=ax)\n",
    "ax.vlines([Z_MASS, J_PSI_MASS, UPSILON_MASS, NEUTRAL_RHO_MASS, CHARGED_RHO_MASS, PHI_MASS,  ETA_MASS], ymin=0, ymax=np.max(inv_mass_dist), colors='r')\n",
    "ax.set_yscale('log')\n",
    "ax.set_xscale('log')"
   ]
  },
  {
   "cell_type": "code",
   "execution_count": 156,
   "metadata": {},
   "outputs": [],
   "source": [
    "RAW_DATA_DIR = '/Users/ravikoka/repos/z_plus_hf/feasibility/data/multi/run0/'\n",
    "\n",
    "inv_mass_dist = hist.Hist(hist.axis.Regular(40, 0, 100, name='dimuon invariant mass'))\n",
    "for file in os.listdir(RAW_DATA_DIR):\n",
    "    \n",
    "    with open(RAW_DATA_DIR + file, 'rb') as in_file:\n",
    "        events, sig, err = pkl.load(in_file)\n",
    "        \n",
    "        events_zipped = ak.zip(\n",
    "            {\n",
    "                'px': events['px'],\n",
    "                'py': events['py'],\n",
    "                'pz': events['pz'],\n",
    "                'pdg': events['pdg'],\n",
    "                'is_final': events['is_final'],\n",
    "                'mother_list': events['mother_list'],\n",
    "            }, \n",
    "            depth_limit=2\n",
    "        )\n",
    "        \n",
    "        inv_mass_dist.fill(get_dimuon_invariant_mass(events_zipped))\n",
    "        #inv_mass += "
   ]
  },
  {
   "cell_type": "code",
   "execution_count": 5,
   "metadata": {},
   "outputs": [
    {
     "data": {
      "text/plain": [
       "[StairsArtists(stairs=<matplotlib.patches.StepPatch object at 0x137b9f680>, errorbar=<ErrorbarContainer object of 3 artists>, legend_artist=<ErrorbarContainer object of 3 artists>)]"
      ]
     },
     "execution_count": 5,
     "metadata": {},
     "output_type": "execute_result"
    },
    {
     "data": {
      "image/png": "[encoded data removed]",
      "text/plain": [
       "<Figure size 1000x1000 with 1 Axes>"
      ]
     },
     "metadata": {},
     "output_type": "display_data"
    }
   ],
   "source": [
    "hep.histplot(inv_mass_dist)"
   ]
  },
  {
   "cell_type": "code",
   "execution_count": 72,
   "metadata": {},
   "outputs": [
    {
     "data": {
      "text/html": [
       "<pre>[[{px: 0, py: 0, pz: 2.51e+03, pdg: 2212, is_final: False, ...}, ..., {...}],\n",
       " [{px: 0, py: 0, pz: 2.51e+03, pdg: 2212, is_final: False, ...}, ..., {...}],\n",
       " [{px: 0, py: 0, pz: 2.51e+03, pdg: 2212, is_final: False, ...}, ..., {...}],\n",
       " [{px: 0, py: 0, pz: 2.51e+03, pdg: 2212, is_final: False, ...}, ..., {...}],\n",
       " [{px: 0, py: 0, pz: 2.51e+03, pdg: 2212, is_final: False, ...}, ..., {...}],\n",
       " [{px: 0, py: 0, pz: 2.51e+03, pdg: 2212, is_final: False, ...}, ..., {...}],\n",
       " [{px: 0, py: 0, pz: 2.51e+03, pdg: 2212, is_final: False, ...}, ..., {...}],\n",
       " [{px: 0, py: 0, pz: 2.51e+03, pdg: 2212, is_final: False, ...}, ..., {...}],\n",
       " [{px: 0, py: 0, pz: 2.51e+03, pdg: 2212, is_final: False, ...}, ..., {...}],\n",
       " [{px: 0, py: 0, pz: 2.51e+03, pdg: 2212, is_final: False, ...}, ..., {...}],\n",
       " ...,\n",
       " [{px: 0, py: 0, pz: 2.51e+03, pdg: 2212, is_final: False, ...}, ..., {...}],\n",
       " [{px: 0, py: 0, pz: 2.51e+03, pdg: 2212, is_final: False, ...}, ..., {...}],\n",
       " [{px: 0, py: 0, pz: 2.51e+03, pdg: 2212, is_final: False, ...}, ..., {...}],\n",
       " [{px: 0, py: 0, pz: 2.51e+03, pdg: 2212, is_final: False, ...}, ..., {...}],\n",
       " [{px: 0, py: 0, pz: 2.51e+03, pdg: 2212, is_final: False, ...}, ..., {...}],\n",
       " [{px: 0, py: 0, pz: 2.51e+03, pdg: 2212, is_final: False, ...}, ..., {...}],\n",
       " [{px: 0, py: 0, pz: 2.51e+03, pdg: 2212, is_final: False, ...}, ..., {...}],\n",
       " [{px: 0, py: 0, pz: 2.51e+03, pdg: 2212, is_final: False, ...}, ..., {...}],\n",
       " [{px: 0, py: 0, pz: 2.51e+03, pdg: 2212, is_final: False, ...}, ..., {...}]]\n",
       "-----------------------------------------------------------------------------\n",
       "type: 500 * var * {\n",
       "    px: float64,\n",
       "    py: float64,\n",
       "    pz: float64,\n",
       "    pdg: int64,\n",
       "    is_final: bool,\n",
       "    mother_list: var * int64\n",
       "}</pre>"
      ],
      "text/plain": [
       "<Array [[{px: 0, py: 0, ...}, ..., {...}], ...] type='500 * var * {px: floa...'>"
      ]
     },
     "execution_count": 72,
     "metadata": {},
     "output_type": "execute_result"
    }
   ],
   "source": [
    "events_zipped = ak.zip(\n",
    "    {\n",
    "        'px': events['px'],\n",
    "        'py': events['py'],\n",
    "        'pz': events['pz'],\n",
    "        'pdg': events['pdg'],\n",
    "        'is_final': events['is_final'],\n",
    "        'mother_list': events['mother_list'],\n",
    "    }, \n",
    "    depth_limit=2\n",
    ")\n",
    "events_zipped"
   ]
  },
  {
   "cell_type": "code",
   "execution_count": 127,
   "metadata": {},
   "outputs": [],
   "source": [
    "muon_filter = (events_zipped['pdg'] == 13) & (events_zipped['is_final'])\n",
    "muons = events_zipped[muon_filter]\n",
    "\n",
    "anti_muon_filter = (events_zipped['pdg'] == -13) & (events_zipped['is_final'])\n",
    "anti_muons = events_zipped[anti_muon_filter]\n",
    "#events_zipped[0]"
   ]
  },
  {
   "cell_type": "code",
   "execution_count": 128,
   "metadata": {},
   "outputs": [],
   "source": []
  },
  {
   "cell_type": "code",
   "execution_count": 129,
   "metadata": {},
   "outputs": [],
   "source": [
    "pairs = ak.cartesian([muons, anti_muons])"
   ]
  },
  {
   "cell_type": "code",
   "execution_count": 131,
   "metadata": {},
   "outputs": [
    {
     "data": {
      "text/html": [
       "<pre>[({px: 2.87, py: 4.72, pz: 487, ...}, {px: -2.82, ...}),\n",
       " ({px: 0.0109, py: -0.101, ...}, {px: 0.198, ...}),\n",
       " ({px: -2.7, py: -1.98, pz: ..., ...}, {px: 0.0545, ...}),\n",
       " ({px: 5.9, py: -29.1, pz: -231, ...}, {px: ..., ...}),\n",
       " ({px: -2.28, py: -1.68, pz: ..., ...}, {px: -4.23, ...}),\n",
       " ({px: 0.998, py: -2.15, pz: ..., ...}, {px: -6.35, ...}),\n",
       " ({px: 0.0466, py: -0.255, ...}, {px: -6.35, ...}),\n",
       " ({px: -3.2, py: -2.54, pz: 1.13, ...}, {px: -1.63, ...}),\n",
       " ({px: -0.264, py: -2.44, ...}, {px: -3.12, ...}),\n",
       " ({px: 1.52, py: 0.11, pz: ..., ...}, {px: -0.307, ...}),\n",
       " ...,\n",
       " ({px: 2.82, py: 0.691, pz: ..., ...}, {px: -5.67, ...}),\n",
       " ({px: -3.24, py: 2.22, pz: 22.8, ...}, {px: 2.35, ...}),\n",
       " ({px: -4.21, py: 7.41, pz: 45.8, ...}, {px: 2.45, ...}),\n",
       " ({px: -0.633, py: -7.24, ...}, {px: 5.86, ...}),\n",
       " ({px: 0.808, py: -5.06, pz: ..., ...}, {px: -1.9, ...}),\n",
       " ({px: -1.81, py: 1.52, pz: ..., ...}, {px: 2.44, ...}),\n",
       " ({px: -0.462, py: -0.404, ...}, {px: -2.77, ...}),\n",
       " ({px: -0.22, py: 0.263, pz: ..., ...}, {px: ..., ...}),\n",
       " ({px: 1.92, py: -7.37, pz: 75.4, ...}, {px: -0.159, ...})]\n",
       "-----------------------------------------------------------\n",
       "type: 32 * (\n",
       "    {\n",
       "        px: float64,\n",
       "        py: float64,\n",
       "        pz: float64,\n",
       "        pdg: int64,\n",
       "        is_final: bool,\n",
       "        mother_list: var * int64\n",
       "    },\n",
       "    {\n",
       "        px: float64,\n",
       "        py: float64,\n",
       "        pz: float64,\n",
       "        pdg: int64,\n",
       "        is_final: bool,\n",
       "        mother_list: var * int64\n",
       "    }\n",
       ")</pre>"
      ],
      "text/plain": [
       "<Array [({...}, {...}), ..., ({...}, ..., ...)] type='32 * ({px: float64, p...'>"
      ]
     },
     "execution_count": 131,
     "metadata": {},
     "output_type": "execute_result"
    }
   ],
   "source": [
    "ak.flatten(pairs)"
   ]
  },
  {
   "cell_type": "code",
   "execution_count": 132,
   "metadata": {},
   "outputs": [
    {
     "data": {
      "text/html": [
       "<pre>[11.9,\n",
       " 0.277,\n",
       " 20.4,\n",
       " 39.7,\n",
       " 18,\n",
       " 10.6,\n",
       " 12.9,\n",
       " 18.8,\n",
       " 11.7,\n",
       " 1.77,\n",
       " ...,\n",
       " 10.3,\n",
       " 13.4,\n",
       " 11.5,\n",
       " 14.9,\n",
       " 14.1,\n",
       " 13.5,\n",
       " 2.14,\n",
       " 0.283,\n",
       " 20]\n",
       "------------------\n",
       "type: 32 * float64</pre>"
      ],
      "text/plain": [
       "<Array [11.9, 0.277, 20.4, 39.7, ..., 2.14, 0.283, 20] type='32 * float64'>"
      ]
     },
     "execution_count": 132,
     "metadata": {},
     "output_type": "execute_result"
    }
   ],
   "source": [
    "ak.flatten(mass(pairs, 0.1056583755, 0.1056583755))"
   ]
  },
  {
   "cell_type": "code",
   "execution_count": 142,
   "metadata": {},
   "outputs": [
    {
     "data": {
      "text/plain": [
       "[StairsArtists(stairs=<matplotlib.patches.StepPatch object at 0x1770847d0>, errorbar=<ErrorbarContainer object of 3 artists>, legend_artist=<ErrorbarContainer object of 3 artists>)]"
      ]
     },
     "execution_count": 142,
     "metadata": {},
     "output_type": "execute_result"
    },
    {
     "data": {
      "image/png": "[encoded data removed]",
      "text/plain": [
       "<Figure size 1000x1000 with 1 Axes>"
      ]
     },
     "metadata": {},
     "output_type": "display_data"
    }
   ],
   "source": [
    "inv_mass = hist.Hist(hist.axis.Regular(40, 0, 100, name='dimuon invariant mass'))\n",
    "inv_mass.fill(ak.flatten(mass(pairs, 0.1056583755, 0.1056583755)))\n",
    "hep.histplot(inv_mass)"
   ]
  },
  {
   "cell_type": "code",
   "execution_count": 79,
   "metadata": {},
   "outputs": [
    {
     "data": {
      "text/plain": [
       "{np.int64(-2212),\n",
       " np.int64(-2112),\n",
       " np.int64(-321),\n",
       " np.int64(-211),\n",
       " np.int64(-16),\n",
       " np.int64(-14),\n",
       " np.int64(-13),\n",
       " np.int64(-12),\n",
       " np.int64(-11),\n",
       " np.int64(11),\n",
       " np.int64(12),\n",
       " np.int64(13),\n",
       " np.int64(14),\n",
       " np.int64(16),\n",
       " np.int64(22),\n",
       " np.int64(130),\n",
       " np.int64(211),\n",
       " np.int64(321),\n",
       " np.int64(2112),\n",
       " np.int64(2212)}"
      ]
     },
     "execution_count": 79,
     "metadata": {},
     "output_type": "execute_result"
    }
   ],
   "source": [
    "events_zipped['is_final']\n",
    "set(ak.flatten(events_zipped[events_zipped['is_final']]['pdg']))"
   ]
  },
  {
   "cell_type": "code",
   "execution_count": 143,
   "metadata": {},
   "outputs": [],
   "source": [
    "RAW_DATA_DIR = '/Users/ravikoka/repos/z_plus_hf/feasibility/data/multi_test/run0/'\n",
    "\n",
    "Z_counter = 0\n",
    "W_counter = 0\n",
    "\n",
    "events_w_Z = ak.Array([])\n",
    "for file in os.listdir(RAW_DATA_DIR):\n",
    "    \n",
    "    with open(RAW_DATA_DIR+ file, 'rb') as in_file:\n",
    "        events, sig, err = pkl.load(in_file)\n",
    "        \n",
    "        z_counts = np.sum(events['pdg'] == 23)\n",
    "        W_counts = np.sum(events['pdg'] == abs(24))\n",
    "        \n",
    "        if z_counts > 0:\n",
    "            contains_Z = ak.any(events['pdg']==23, axis=1)\n",
    "            events_w_Z = ak.concatenate([events_w_Z, events[contains_Z]])\n",
    "        \n",
    "        Z_counter += z_counts\n",
    "        \n",
    "        W_counter += W_counts"
   ]
  },
  {
   "cell_type": "code",
   "execution_count": 146,
   "metadata": {},
   "outputs": [
    {
     "data": {
      "text/plain": [
       "np.int64(0)"
      ]
     },
     "execution_count": 146,
     "metadata": {},
     "output_type": "execute_result"
    }
   ],
   "source": [
    "np.sum(ak.any((events['pdg']==23) & (events['pdg']==13), axis=1))"
   ]
  },
  {
   "cell_type": "code",
   "execution_count": 28,
   "metadata": {},
   "outputs": [
    {
     "data": {
      "text/plain": [
       "np.int64(905)"
      ]
     },
     "execution_count": 28,
     "metadata": {},
     "output_type": "execute_result"
    }
   ],
   "source": [
    "W_counter"
   ]
  },
  {
   "cell_type": "code",
   "execution_count": 29,
   "metadata": {},
   "outputs": [
    {
     "data": {
      "text/plain": [
       "np.int64(905)"
      ]
     },
     "execution_count": 29,
     "metadata": {},
     "output_type": "execute_result"
    }
   ],
   "source": [
    "W_counter"
   ]
  },
  {
   "cell_type": "code",
   "execution_count": 68,
   "metadata": {},
   "outputs": [
    {
     "data": {
      "text/plain": [
       "np.int64(974)"
      ]
     },
     "execution_count": 68,
     "metadata": {},
     "output_type": "execute_result"
    }
   ],
   "source": [
    "Z_counter"
   ]
  },
  {
   "cell_type": "code",
   "execution_count": 53,
   "metadata": {},
   "outputs": [],
   "source": [
    "contains_muon = ak.any(abs(events['pdg'])==13, axis=1)\n",
    "events_w_muons = events[contains_muon]"
   ]
  },
  {
   "cell_type": "code",
   "execution_count": 55,
   "metadata": {},
   "outputs": [
    {
     "data": {
      "text/html": [
       "<pre>[[2212, 2212, 1, -2, -24, 21, 1, 21, 1, ..., 211, -211, 22, 22, 22, 22, 22, 22],\n",
       " [2212, 2212, -1, 2, 24, 21, 2, 24, 1, ..., 22, 22, 22, 22, 22, 22, 22, 22, 22],\n",
       " [2212, 2212, -1, 2, 24, -1, 2, 24, 21, ..., 22, 22, 22, 22, 22, 22, 22, 22],\n",
       " [2212, 2212, -2, 1, -24, -2, 21, -24, ..., 22, 22, 22, 22, 2212, -211, 22, 22],\n",
       " [2212, 2212, -1, 2, 24, -1, 2, 24, 21, ..., 22, 22, 22, 22, 22, 22, 22, 22],\n",
       " [2212, 2212, 1, -1, 23, 21, 21, 21, 21, ..., 111, 111, 22, 22, 22, 22, 22, 22],\n",
       " [2212, 2212, -2, 1, -24, -2, 1, -24, 21, ..., 22, 22, 22, 22, 22, 22, 22, 22],\n",
       " [2212, 2212, 1, -2, -24, 1, 21, -24, 2, ..., 22, 22, 22, 22, 22, 22, 22, 22],\n",
       " [2212, 2212, 2, -2, 23, 21, 21, 21, 21, ..., 22, 22, 22, 22, 22, 22, 22, 22],\n",
       " [2212, 2212, 4, -3, 24, 21, -3, 24, ..., 22, 22, 22, 22, 22, 22, 321, -211],\n",
       " ...,\n",
       " [2212, 2212, -4, 3, -24, 21, 3, -24, 4, ..., 22, 22, 22, 22, 22, 22, 22, 22],\n",
       " [2212, 2212, -2, 2, 23, 21, 21, 21, ..., 310, 22, 22, 22, 22, 130, 211, -211],\n",
       " [2212, 2212, 2, -2, 23, 21, 21, 21, ..., 22, 22, 211, -211, 22, 22, 22, 22],\n",
       " [2212, 2212, -2, 2, 23, 21, 2, 23, 2, ..., 22, 22, 111, 111, 22, 22, 22, 22],\n",
       " [2212, 2212, -1, 2, 24, -1, 2, 24, 21, ..., 22, 22, 22, 22, 22, 22, 22, 22],\n",
       " [2212, 2212, -3, 2, 24, 21, 2, 24, 3, ..., 22, 22, 22, 22, 22, 22, 22, 22, 22],\n",
       " [2212, 2212, 2, -1, 24, 2, 21, 24, 1, ..., 22, 22, 22, 22, 22, 22, 22, 22, 22],\n",
       " [2212, 2212, 2, -2, 23, 2, 21, 23, 2, ..., 22, 22, 22, 22, 22, 22, 22, 22, 22],\n",
       " [2212, 2212, 1, -2, -24, 1, 21, -24, 2, ..., 22, 22, 22, 22, 22, 22, 22, 22]]\n",
       "--------------------------------------------------------------------------------\n",
       "type: 126 * var * int64</pre>"
      ],
      "text/plain": [
       "<Array [[2212, 2212, 1, -2, ..., 22, 22, 22, 22], ...] type='126 * var * int64'>"
      ]
     },
     "execution_count": 55,
     "metadata": {},
     "output_type": "execute_result"
    }
   ],
   "source": [
    "events_w_muons[]"
   ]
  },
  {
   "cell_type": "code",
   "execution_count": 41,
   "metadata": {},
   "outputs": [
    {
     "data": {
      "text/html": [
       "<pre>[True,\n",
       " True,\n",
       " True,\n",
       " True,\n",
       " True,\n",
       " True,\n",
       " True,\n",
       " True,\n",
       " True,\n",
       " True,\n",
       " ...,\n",
       " True,\n",
       " True,\n",
       " True,\n",
       " True,\n",
       " True,\n",
       " True,\n",
       " True,\n",
       " True,\n",
       " True]\n",
       "----------------\n",
       "type: 194 * bool</pre>"
      ],
      "text/plain": [
       "<Array [True, True, True, True, ..., True, True, True, True] type='194 * bool'>"
      ]
     },
     "execution_count": 41,
     "metadata": {},
     "output_type": "execute_result"
    }
   ],
   "source": [
    "ak.any(events_w_Z['pdg']==23, axis=1)"
   ]
  },
  {
   "cell_type": "code",
   "execution_count": 42,
   "metadata": {},
   "outputs": [],
   "source": [
    "events_zipped = ak.zip(\n",
    "    {\n",
    "        'px': events_w_Z['px'],\n",
    "        'py': events_w_Z['py'],\n",
    "        'pz': events_w_Z['pz'],\n",
    "        'pdg': events_w_Z['pdg'],\n",
    "        'mother_list': events_w_Z['mother_list'],\n",
    "    }, \n",
    "    depth_limit=2\n",
    ")"
   ]
  },
  {
   "cell_type": "code",
   "execution_count": 43,
   "metadata": {},
   "outputs": [
    {
     "data": {
      "text/html": [
       "<pre>[[{px: 0, py: 0, pz: 2.51e+03, pdg: 2212, mother_list: []}, {...}, ..., {...}],\n",
       " [{px: 0, py: 0, pz: 2.51e+03, pdg: 2212, mother_list: []}, {...}, ..., {...}],\n",
       " [{px: 0, py: 0, pz: 2.51e+03, pdg: 2212, mother_list: []}, {...}, ..., {...}],\n",
       " [{px: 0, py: 0, pz: 2.51e+03, pdg: 2212, mother_list: []}, {...}, ..., {...}],\n",
       " [{px: 0, py: 0, pz: 2.51e+03, pdg: 2212, mother_list: []}, {...}, ..., {...}],\n",
       " [{px: 0, py: 0, pz: 2.51e+03, pdg: 2212, mother_list: []}, {...}, ..., {...}],\n",
       " [{px: 0, py: 0, pz: 2.51e+03, pdg: 2212, mother_list: []}, {...}, ..., {...}],\n",
       " [{px: 0, py: 0, pz: 2.51e+03, pdg: 2212, mother_list: []}, {...}, ..., {...}],\n",
       " [{px: 0, py: 0, pz: 2.51e+03, pdg: 2212, mother_list: []}, {...}, ..., {...}],\n",
       " [{px: 0, py: 0, pz: 2.51e+03, pdg: 2212, mother_list: []}, {...}, ..., {...}],\n",
       " ...,\n",
       " [{px: 0, py: 0, pz: 2.51e+03, pdg: 2212, mother_list: []}, {...}, ..., {...}],\n",
       " [{px: 0, py: 0, pz: 2.51e+03, pdg: 2212, mother_list: []}, {...}, ..., {...}],\n",
       " [{px: 0, py: 0, pz: 2.51e+03, pdg: 2212, mother_list: []}, {...}, ..., {...}],\n",
       " [{px: 0, py: 0, pz: 2.51e+03, pdg: 2212, mother_list: []}, {...}, ..., {...}],\n",
       " [{px: 0, py: 0, pz: 2.51e+03, pdg: 2212, mother_list: []}, {...}, ..., {...}],\n",
       " [{px: 0, py: 0, pz: 2.51e+03, pdg: 2212, mother_list: []}, {...}, ..., {...}],\n",
       " [{px: 0, py: 0, pz: 2.51e+03, pdg: 2212, mother_list: []}, {...}, ..., {...}],\n",
       " [{px: 0, py: 0, pz: 2.51e+03, pdg: 2212, mother_list: []}, {...}, ..., {...}],\n",
       " [{px: 0, py: 0, pz: 2.51e+03, pdg: 2212, mother_list: []}, {...}, ..., {...}]]\n",
       "-------------------------------------------------------------------------------\n",
       "type: 194 * var * {\n",
       "    px: float64,\n",
       "    py: float64,\n",
       "    pz: float64,\n",
       "    pdg: int64,\n",
       "    mother_list: var * int64\n",
       "}</pre>"
      ],
      "text/plain": [
       "<Array [[{px: 0, py: 0, ...}, ..., {...}], ...] type='194 * var * {px: floa...'>"
      ]
     },
     "execution_count": 43,
     "metadata": {},
     "output_type": "execute_result"
    }
   ],
   "source": [
    "events_zipped"
   ]
  },
  {
   "cell_type": "code",
   "execution_count": 44,
   "metadata": {},
   "outputs": [
    {
     "data": {
      "text/html": [
       "<pre>[False,\n",
       " False,\n",
       " False,\n",
       " False,\n",
       " False,\n",
       " True,\n",
       " False,\n",
       " False,\n",
       " False,\n",
       " False,\n",
       " ...,\n",
       " False,\n",
       " False,\n",
       " False,\n",
       " True,\n",
       " False,\n",
       " False,\n",
       " False,\n",
       " False,\n",
       " False]\n",
       "----------------\n",
       "type: 194 * bool</pre>"
      ],
      "text/plain": [
       "<Array [False, False, False, False, ..., False, False, False] type='194 * bool'>"
      ]
     },
     "execution_count": 44,
     "metadata": {},
     "output_type": "execute_result"
    }
   ],
   "source": [
    "contains_b = ak.any(events_zipped['pdg']==5, axis=1)\n",
    "contains_b"
   ]
  },
  {
   "cell_type": "code",
   "execution_count": 45,
   "metadata": {},
   "outputs": [
    {
     "data": {
      "text/html": [
       "<pre>[[{px: 0, py: 0, pz: 2.51e+03, pdg: 2212, mother_list: []}, {...}, ..., {...}],\n",
       " [{px: 0, py: 0, pz: 2.51e+03, pdg: 2212, mother_list: []}, {...}, ..., {...}],\n",
       " [{px: 0, py: 0, pz: 2.51e+03, pdg: 2212, mother_list: []}, {...}, ..., {...}],\n",
       " [{px: 0, py: 0, pz: 2.51e+03, pdg: 2212, mother_list: []}, {...}, ..., {...}],\n",
       " [{px: 0, py: 0, pz: 2.51e+03, pdg: 2212, mother_list: []}, {...}, ..., {...}],\n",
       " [{px: 0, py: 0, pz: 2.51e+03, pdg: 2212, mother_list: []}, {...}, ..., {...}],\n",
       " [{px: 0, py: 0, pz: 2.51e+03, pdg: 2212, mother_list: []}, {...}, ..., {...}],\n",
       " [{px: 0, py: 0, pz: 2.51e+03, pdg: 2212, mother_list: []}, {...}, ..., {...}],\n",
       " [{px: 0, py: 0, pz: 2.51e+03, pdg: 2212, mother_list: []}, {...}, ..., {...}],\n",
       " [{px: 0, py: 0, pz: 2.51e+03, pdg: 2212, mother_list: []}, {...}, ..., {...}],\n",
       " ...,\n",
       " [{px: 0, py: 0, pz: 2.51e+03, pdg: 2212, mother_list: []}, {...}, ..., {...}],\n",
       " [{px: 0, py: 0, pz: 2.51e+03, pdg: 2212, mother_list: []}, {...}, ..., {...}],\n",
       " [{px: 0, py: 0, pz: 2.51e+03, pdg: 2212, mother_list: []}, {...}, ..., {...}],\n",
       " [{px: 0, py: 0, pz: 2.51e+03, pdg: 2212, mother_list: []}, {...}, ..., {...}],\n",
       " [{px: 0, py: 0, pz: 2.51e+03, pdg: 2212, mother_list: []}, {...}, ..., {...}],\n",
       " [{px: 0, py: 0, pz: 2.51e+03, pdg: 2212, mother_list: []}, {...}, ..., {...}],\n",
       " [{px: 0, py: 0, pz: 2.51e+03, pdg: 2212, mother_list: []}, {...}, ..., {...}],\n",
       " [{px: 0, py: 0, pz: 2.51e+03, pdg: 2212, mother_list: []}, {...}, ..., {...}],\n",
       " [{px: 0, py: 0, pz: 2.51e+03, pdg: 2212, mother_list: []}, {...}, ..., {...}]]\n",
       "-------------------------------------------------------------------------------\n",
       "type: 27 * var * {\n",
       "    px: float64,\n",
       "    py: float64,\n",
       "    pz: float64,\n",
       "    pdg: int64,\n",
       "    mother_list: var * int64\n",
       "}</pre>"
      ],
      "text/plain": [
       "<Array [[{px: 0, py: 0, ...}, ..., {...}], ...] type='27 * var * {px: float...'>"
      ]
     },
     "execution_count": 45,
     "metadata": {},
     "output_type": "execute_result"
    }
   ],
   "source": [
    "events_w_Z_and_b = events_zipped[contains_b]\n",
    "events_w_Z_and_b"
   ]
  },
  {
   "cell_type": "code",
   "execution_count": 46,
   "metadata": {},
   "outputs": [
    {
     "name": "stdout",
     "output_type": "stream",
     "text": [
      "particle num 3, b quark\n",
      "particle num 13, b quark\n",
      "particle num 21, b quark\n",
      "particle num 28, b quark\n",
      "particle num 32, b quark\n",
      "particle num 43, b quark\n",
      "particle num 54, b quark\n",
      "particle num 85, b quark\n",
      "particle num 978, b quark\n",
      "particle num 980, b quark\n",
      "particle num 1000, b quark\n",
      "particle num 2138, b quark\n",
      "particle num 2140, b quark\n",
      "particle num 2154, b quark\n",
      "particle num 2187, b quark\n",
      "particle num 2455, b quark\n",
      "particle num 2459, b quark\n",
      "particle num 2462, b quark\n",
      "particle num 2465, b quark\n",
      "particle num 2493, b quark\n",
      "particle num 3196, b quark\n",
      "particle num 3200, b quark\n",
      "particle num 3201, b quark\n",
      "particle num 3255, b quark\n",
      "particle num 3887, b quark\n",
      "particle num 3908, b quark\n",
      "particle num 3925, b quark\n",
      "particle num 3940, b quark\n",
      "particle num 4020, b quark\n",
      "particle num 4127, b quark\n",
      "particle num 4224, b quark\n",
      "particle num 4706, b quark\n",
      "particle num 4710, b quark\n",
      "particle num 4716, b quark\n",
      "particle num 4717, b quark\n",
      "particle num 4739, b quark\n",
      "particle num 4997, b quark\n",
      "particle num 5002, b quark\n",
      "particle num 5111, b quark\n",
      "particle num 5229, b quark\n",
      "particle num 5251, b quark\n",
      "particle num 5278, b quark\n",
      "particle num 5375, b quark\n",
      "particle num 5443, b quark\n",
      "particle num 5445, b quark\n",
      "particle num 5456, b quark\n",
      "particle num 5459, b quark\n",
      "particle num 5482, b quark\n",
      "particle num 5492, b quark\n",
      "particle num 6333, b quark\n",
      "particle num 6343, b quark\n",
      "particle num 6390, b quark\n",
      "particle num 6406, b quark\n",
      "particle num 6414, b quark\n",
      "particle num 6567, b quark\n",
      "particle num 6672, b quark\n",
      "particle num 7703, b quark\n",
      "particle num 7707, b quark\n",
      "particle num 7716, b quark\n",
      "particle num 7910, b quark\n",
      "particle num 9120, b quark\n",
      "particle num 9122, b quark\n",
      "particle num 9127, b quark\n",
      "particle num 9137, b quark\n",
      "particle num 9886, b quark\n",
      "particle num 9888, b quark\n",
      "particle num 9896, b quark\n",
      "particle num 9921, b quark\n",
      "particle num 10305, b quark\n",
      "particle num 10307, b quark\n",
      "particle num 10310, b quark\n",
      "particle num 10336, b quark\n",
      "particle num 10791, b quark\n",
      "particle num 10801, b quark\n",
      "particle num 11074, b quark\n",
      "particle num 11312, b quark\n",
      "particle num 12166, b quark\n",
      "particle num 12170, b quark\n",
      "particle num 12179, b quark\n",
      "particle num 12182, b quark\n",
      "particle num 12189, b quark\n",
      "particle num 12201, b quark\n",
      "particle num 13023, b quark\n",
      "particle num 13027, b quark\n",
      "particle num 13030, b quark\n",
      "particle num 13097, b quark\n",
      "particle num 13622, b quark\n",
      "particle num 13633, b quark\n",
      "particle num 13638, b quark\n",
      "particle num 13662, b quark\n",
      "particle num 13670, b quark\n",
      "particle num 13680, b quark\n",
      "particle num 13763, b quark\n",
      "particle num 13857, b quark\n",
      "particle num 13964, b quark\n",
      "particle num 14833, b quark\n",
      "particle num 15834, b quark\n",
      "particle num 15836, b quark\n",
      "particle num 15844, b quark\n",
      "particle num 15853, b quark\n",
      "particle num 15873, b quark\n",
      "particle num 15881, b quark\n",
      "particle num 16504, b quark\n",
      "particle num 16507, b quark\n",
      "particle num 16510, b quark\n",
      "particle num 16514, b quark\n",
      "particle num 16516, b quark\n",
      "particle num 16522, b quark\n",
      "particle num 16529, b quark\n",
      "particle num 16537, b quark\n",
      "particle num 16549, b quark\n",
      "particle num 16575, b quark\n",
      "particle num 16622, b quark\n",
      "particle num 17136, b quark\n",
      "particle num 17140, b quark\n",
      "particle num 17143, b quark\n",
      "particle num 17175, b quark\n",
      "particle num 17939, b quark\n",
      "particle num 18811, b quark\n",
      "particle num 19956, b quark\n",
      "particle num 19960, b quark\n",
      "particle num 19963, b quark\n",
      "particle num 19966, b quark\n",
      "particle num 20005, b quark\n",
      "particle num 20971, b quark\n",
      "particle num 20973, b quark\n",
      "particle num 20976, b quark\n",
      "particle num 20984, b quark\n",
      "particle num 20996, b quark\n",
      "particle num 21002, b quark\n",
      "particle num 21009, b quark\n",
      "particle num 21033, b quark\n",
      "particle num 21792, b quark\n",
      "particle num 21796, b quark\n",
      "particle num 22211, b quark\n",
      "particle num 22214, b quark\n",
      "particle num 22216, b quark\n",
      "particle num 22218, b quark\n",
      "particle num 22220, b quark\n",
      "particle num 22223, b quark\n",
      "particle num 22225, b quark\n",
      "particle num 22229, b quark\n",
      "particle num 22231, b quark\n",
      "particle num 22238, b quark\n",
      "particle num 22390, b quark\n",
      "particle num 22564, b quark\n"
     ]
    }
   ],
   "source": [
    "#events_w_Z_and_b['pdg'] == 5\n",
    "\n",
    "for i, pdg in enumerate(ak.flatten(events_w_Z_and_b['pdg'])):\n",
    "    if pdg == 5:\n",
    "        print(f'particle num {i}, b quark')"
   ]
  },
  {
   "cell_type": "code",
   "execution_count": 37,
   "metadata": {},
   "outputs": [
    {
     "data": {
      "text/plain": [
       "np.int64(146)"
      ]
     },
     "execution_count": 37,
     "metadata": {},
     "output_type": "execute_result"
    }
   ],
   "source": [
    "np.sum(events_zipped['pdg'] == 5)"
   ]
  },
  {
   "cell_type": "code",
   "execution_count": 47,
   "metadata": {},
   "outputs": [
    {
     "data": {
      "text/html": [
       "<pre>[[{px: 0, py: 0, pz: -36.7, pdg: 23, mother_list: [3, ...]}, {...}, ..., {...}],\n",
       " [{px: 0, py: 0, pz: -116, pdg: 23, mother_list: [3, ...]}, {...}, ..., {...}],\n",
       " [{px: 0, py: 0, pz: -157, pdg: 23, mother_list: [3, ...]}, {...}, {...}],\n",
       " [{px: 0, py: 0, pz: -51.4, pdg: 23, mother_list: [3, ...]}, {...}, ..., {...}],\n",
       " [{px: 0, py: 0, pz: 476, pdg: 23, mother_list: [3, ...]}, ..., {px: ..., ...}],\n",
       " [{px: 0, py: 0, pz: -217, pdg: 23, mother_list: [3, ...]}, {...}, ..., {...}],\n",
       " [{px: 0, py: 0, pz: 93.2, pdg: 23, mother_list: [3, ...]}, {...}, ..., {...}],\n",
       " [{px: 0, py: 0, pz: 407, pdg: 23, mother_list: [3, ...]}, ..., {px: ..., ...}],\n",
       " [{px: 0, py: 0, pz: -26.3, pdg: 23, mother_list: [3, ...]}, {...}, {...}],\n",
       " [{px: 0, py: 0, pz: -133, pdg: 23, mother_list: [3, ...]}, {...}, ..., {...}],\n",
       " ...,\n",
       " [{px: 0, py: 0, pz: -209, pdg: 23, mother_list: [3, ...]}, {...}, ..., {...}],\n",
       " [{px: 0, py: 0, pz: -223, pdg: 23, mother_list: [3, ...]}, {...}, {...}],\n",
       " [{px: 0, py: 0, pz: 668, pdg: 23, mother_list: [3, ...]}, ..., {px: ..., ...}],\n",
       " [{px: 0, py: 0, pz: -95.9, pdg: 23, mother_list: [3, ...]}, {...}, ..., {...}],\n",
       " [{px: 0, py: 0, pz: 71.9, pdg: 23, mother_list: [3, ...]}, {...}, ..., {...}],\n",
       " [{px: 0, py: 0, pz: -36.3, pdg: 23, mother_list: [3, ...]}, {...}, ..., {...}],\n",
       " [{px: 0, py: 0, pz: 972, pdg: 23, mother_list: [3, ...]}, ..., {px: ..., ...}],\n",
       " [{px: 0, py: 0, pz: -57.8, pdg: 23, mother_list: [3, ...]}, {...}, ..., {...}],\n",
       " [{px: 0, py: 0, pz: 114, pdg: 23, mother_list: [3, ...]}, ..., {px: ..., ...}]]\n",
       "--------------------------------------------------------------------------------\n",
       "type: 194 * var * {\n",
       "    px: float64,\n",
       "    py: float64,\n",
       "    pz: float64,\n",
       "    pdg: int64,\n",
       "    mother_list: var * int64\n",
       "}</pre>"
      ],
      "text/plain": [
       "<Array [[{px: 0, py: 0, ...}, ..., {...}], ...] type='194 * var * {px: floa...'>"
      ]
     },
     "execution_count": 47,
     "metadata": {},
     "output_type": "execute_result"
    }
   ],
   "source": [
    "Z_bosons = events_zipped[events_zipped['pdg'] == 23]\n",
    "Z_bosons"
   ]
  },
  {
   "cell_type": "code",
   "execution_count": 48,
   "metadata": {},
   "outputs": [],
   "source": [
    "prompt_Z_bosons = Z_bosons[:, 0]"
   ]
  },
  {
   "cell_type": "code",
   "execution_count": 49,
   "metadata": {},
   "outputs": [
    {
     "data": {
      "text/html": [
       "<html>\n",
       "<div style=\"display:flex; align-items:center;\">\n",
       "<div style=\"width:290px;\">\n",
       "<svg xmlns=\"http://www.w3.org/2000/svg\" viewBox=\"-10 -105 270 120\">\n",
       "<line x1=\"-5\" y1=\"0\" x2=\"255\" y2=\"0\" style=\"fill:none;stroke-width:2;stroke:currentColor\"/>\n",
       "<text text-anchor=\"middle\" x=\"0\" y=\"15\" style=\"fill:currentColor;\">\n",
       "0\n",
       "</text>\n",
       "<text text-anchor=\"middle\" x=\"250\" y=\"15\" style=\"fill:currentColor;\">\n",
       "100\n",
       "</text>\n",
       "<text text-anchor=\"middle\" x=\"125.0\" y=\"15\" style=\"fill:currentColor;\">\n",
       "Z0 pt\n",
       "</text>\n",
       "<polyline points=\"  0,0   0,-100 4.16667,-100 4.16667,-11.6 8.33333,-11.6 8.33333,-7.14 12.5,-7.14 12.5,-10.7 16.6667,-10.7 16.6667,-7.14 20.8333,-7.14 20.8333,-8.93  25,-8.93  25,-5.36 29.1667,-5.36 29.1667,-8.48 33.3333,-8.48 33.3333,-7.59 37.5,-7.59 37.5,-2.68 41.6667,-2.68 41.6667,-3.12 45.8333,-3.12 45.8333,-3.12  50,-3.12  50,-5.36 54.1667,-5.36 54.1667,-4.91 58.3333,-4.91 58.3333,-3.57 62.5,-3.57 62.5,-2.23 66.6667,-2.23 66.6667,-2.68 70.8333,-2.68 70.8333,-5.8  75,-5.8  75,-3.13 79.1667,-3.13 79.1667,-3.57 83.3333,-3.57 83.3333,-3.12 87.5,-3.12 87.5,-4.02 91.6667,-4.02 91.6667,-4.91 95.8333,-4.91 95.8333,-2.23 100,-2.23 100,-2.68 104.167,-2.68 104.167,-3.13 108.333,-3.13 108.333,-3.13 112.5,-3.13 112.5,-1.34 116.667,-1.34 116.667,-2.68 120.833,-2.68 120.833,-3.13 125,-3.13 125,-1.79 129.167,-1.79 129.167,-3.13 133.333,-3.13 133.333,-1.79 137.5,-1.79 137.5,-1.79 141.667,-1.79 141.667,-3.12 145.833,-3.12 145.833,-1.79 150,-1.79 150,-0.446 154.167,-0.446 154.167,-4.46 158.333,-4.46 158.333,-1.79 162.5,-1.79 162.5,-2.23 166.667,-2.23 166.667,-1.79 170.833,-1.79 170.833,-0.893 175,-0.893 175,-1.34 179.167,-1.34 179.167,-1.79 183.333,-1.79 183.333,-1.34 187.5,-1.34 187.5,-0.893 191.667,-0.893 191.667,-1.34 195.833,-1.34 195.833,-0.893 200,-0.893 200,-2.68 204.167,-2.68 204.167,-0.893 208.333,-0.893 208.333,-0.446 212.5,-0.446 212.5,-0.446 216.667,-0.446 216.667,-2.23 220.833,-2.23 220.833,-0.446 225,-0.446 225,-0.446 229.167,-0.446 229.167,-0.446 233.333,-0.446 233.333,-1.34 237.5,-1.34 237.5,-0.893 241.667,-0.893 241.667,-0.893 245.833,-0.893 245.833,-0.446 250,-0.446 250,0\" style=\"fill:none; stroke:currentColor;\"/>\n",
       "</svg>\n",
       "</div>\n",
       "<div style=\"flex=grow:1;\">\n",
       "Regular(60, 0, 100, name='Z0 pt')<br/>\n",
       "<hr style=\"margin-top:.2em; margin-bottom:.2em;\"/>\n",
       "Double() Σ=631.0 <em>(974.0 with flow)</em>\n",
       "\n",
       "</div>\n",
       "</div>\n",
       "</html>"
      ],
      "text/plain": [
       "Hist(Regular(60, 0, 100, name='Z0 pt'), storage=Double()) # Sum: 631.0 (974.0 with flow)"
      ]
     },
     "execution_count": 49,
     "metadata": {},
     "output_type": "execute_result"
    }
   ],
   "source": [
    "pt_hist = hist.Hist(hist.axis.Regular(60, 0, 100, name='Z0 pt'))\n",
    "pt_hist.fill(ak.flatten(Z_bosons['px']**2) + ak.flatten(Z_bosons['py']**2))"
   ]
  },
  {
   "cell_type": "markdown",
   "metadata": {},
   "source": [
    "# old"
   ]
  },
  {
   "cell_type": "code",
   "execution_count": 43,
   "metadata": {},
   "outputs": [
    {
     "data": {
      "text/html": [
       "<pre>[{px: [0, 0, 0, ..., 0.00891, 0.107], py: [0, ..., -0.173], pz: [...], ...},\n",
       " {px: [0, 0, 0, ..., 0.0328, -0.0743], py: [0, ...], pz: [...], E: [...], ...},\n",
       " {px: [0, 0, 0, ..., -0.642, -0.225], py: [0, ..., -1.32], pz: [...], ...},\n",
       " {px: [0, 0, 0, ..., -0.0888, -0.0278], py: [0, ...], pz: [...], E: [...], ...},\n",
       " {px: [0, 0, 0, ..., 0.0211, -0.00145], py: [0, ...], pz: [...], E: [...], ...},\n",
       " {px: [0, 0, 0, ..., -0.0577, 0.00832], py: [0, ...], pz: [...], E: [...], ...},\n",
       " {px: [0, 0, 0, ..., -0.455, -0.331], py: [0, ..., 0.0452], pz: [...], ...},\n",
       " {px: [0, 0, 0, ..., -0.0408, -0.12], py: [0, ..., -0.168], pz: [...], ...},\n",
       " {px: [0, 0, 0, ..., 0.0304, -0.0718], py: [0, ...], pz: [...], E: [...], ...},\n",
       " {px: [0, 0, 0, ..., 0.0825, -0.0541], py: [0, ...], pz: [...], E: [...], ...},\n",
       " ...,\n",
       " {px: [0, 0, 0, ..., 0.0157, -0.0238], py: [0, ...], pz: [...], E: [...], ...},\n",
       " {px: [0, 0, 0, ..., 0.0571, -0.0711], py: [0, ...], pz: [...], E: [...], ...},\n",
       " {px: [0, 0, 0, ..., 0.055, 0.0243], py: [0, ..., -0.319], pz: [...], ...},\n",
       " {px: [0, 0, 0, ..., -0.0375, 0.077], py: [0, ...], pz: [...], E: [...], ...},\n",
       " {px: [0, 0, 0, ..., -0.576, -0.82], py: [0, ..., -0.404], pz: [...], ...},\n",
       " {px: [0, 0, 0, ..., -0.212, -0.0742], py: [0, ..., 0.195], pz: [...], ...},\n",
       " {px: [0, 0, 0, ..., -0.248, 0.146], py: [0, ...], pz: [...], E: [...], ...},\n",
       " {px: [0, 0, 0, ..., -0.0622, 0.0643], py: [0, ...], pz: [...], E: [...], ...},\n",
       " {px: [0, 0, 0, ..., 0.0349, 0.196], py: [0, ...], pz: [...], E: [...], ...}]\n",
       "--------------------------------------------------------------------------------\n",
       "type: 500 * {\n",
       "    px: var * float64,\n",
       "    py: var * float64,\n",
       "    pz: var * float64,\n",
       "    E: var * float64,\n",
       "    pdg: var * int64,\n",
       "    gen_status: var * int64,\n",
       "    mother_list: var * var * int64,\n",
       "    daughter_list: var * var * int64,\n",
       "    is_final: var * bool\n",
       "}</pre>"
      ],
      "text/plain": [
       "<Array [{px: [0, ...], py: [...], ...}, ...] type='500 * {px: var * float64...'>"
      ]
     },
     "execution_count": 43,
     "metadata": {},
     "output_type": "execute_result"
    }
   ],
   "source": [
    "temp"
   ]
  },
  {
   "cell_type": "code",
   "execution_count": 44,
   "metadata": {},
   "outputs": [
    {
     "data": {
      "text/html": [
       "<pre>[False,\n",
       " False,\n",
       " False,\n",
       " False,\n",
       " False,\n",
       " False,\n",
       " False,\n",
       " False,\n",
       " False,\n",
       " False,\n",
       " ...,\n",
       " False,\n",
       " False,\n",
       " False,\n",
       " False,\n",
       " False,\n",
       " False,\n",
       " False,\n",
       " False,\n",
       " False]\n",
       "----------------\n",
       "type: 500 * bool</pre>"
      ],
      "text/plain": [
       "<Array [False, False, False, False, ..., False, False, False] type='500 * bool'>"
      ]
     },
     "execution_count": 44,
     "metadata": {},
     "output_type": "execute_result"
    }
   ],
   "source": [
    "any = ak.any(temp['pdg']==23, axis=1)\n",
    "any"
   ]
  },
  {
   "cell_type": "code",
   "execution_count": 45,
   "metadata": {},
   "outputs": [],
   "source": [
    "events_w_Z = temp[any]"
   ]
  },
  {
   "cell_type": "code",
   "execution_count": 79,
   "metadata": {},
   "outputs": [],
   "source": [
    "eee = events_w_Z['mother_list'] == events_zipped['mother_list']"
   ]
  },
  {
   "cell_type": "code",
   "execution_count": 80,
   "metadata": {},
   "outputs": [
    {
     "data": {
      "text/plain": [
       "np.int64(0)"
      ]
     },
     "execution_count": 80,
     "metadata": {},
     "output_type": "execute_result"
    }
   ],
   "source": [
    "np.sum(~eee)"
   ]
  },
  {
   "cell_type": "code",
   "execution_count": 73,
   "metadata": {},
   "outputs": [],
   "source": [
    "events_zipped = ak.zip(\n",
    "    {\n",
    "        'px': events_w_Z['px'],\n",
    "        'py': events_w_Z['py'],\n",
    "        'pz': events_w_Z['pz'],\n",
    "        'pdg': events_w_Z['pdg'],\n",
    "        'mother_list': events_w_Z['mother_list'],\n",
    "    }, \n",
    "    depth_limit=1\n",
    ")"
   ]
  },
  {
   "cell_type": "code",
   "execution_count": 76,
   "metadata": {},
   "outputs": [
    {
     "data": {
      "text/html": [
       "<pre>[[[], [], [6], [7], [3, 4], [59], ..., [1320], [1321], [1321], [1324], [1324]]]\n",
       "-------------------------------------------------------------------------------\n",
       "type: 1 * var * var * int64</pre>"
      ],
      "text/plain": [
       "<Array [[[], [], [6], ..., [1324], [1324]]] type='1 * var * var * int64'>"
      ]
     },
     "execution_count": 76,
     "metadata": {},
     "output_type": "execute_result"
    }
   ],
   "source": [
    "events_zipped['mother_list']"
   ]
  },
  {
   "cell_type": "code",
   "execution_count": 53,
   "metadata": {},
   "outputs": [
    {
     "name": "stdout",
     "output_type": "stream",
     "text": [
      "[2212, 2212, 1, -1, 23, 1, -1, 23, 21, ..., 111, 22, 22, 310, 22, 22, 211, -211]\n"
     ]
    }
   ],
   "source": [
    "print(ak.flatten(events_w_Z['pdg']))"
   ]
  },
  {
   "cell_type": "code",
   "execution_count": 48,
   "metadata": {},
   "outputs": [
    {
     "data": {
      "text/html": [
       "<pre>[[23, 23, 23, 23, 23]]\n",
       "----------------------\n",
       "type: 1 * var * int64</pre>"
      ],
      "text/plain": [
       "<Array [[23, 23, 23, 23, 23]] type='1 * var * int64'>"
      ]
     },
     "execution_count": 48,
     "metadata": {},
     "output_type": "execute_result"
    }
   ],
   "source": [
    "events_w_Z['pdg'][events_w_Z['pdg'] == 23]"
   ]
  },
  {
   "cell_type": "code",
   "execution_count": 49,
   "metadata": {},
   "outputs": [
    {
     "data": {
      "text/html": [
       "<pre>[[1.29e+03, 1.17e+03, 1.17e+03, 1.17e+03, 1.17e+03]]\n",
       "----------------------------------------------------\n",
       "type: 1 * var * float64</pre>"
      ],
      "text/plain": [
       "<Array [[1.29e+03, 1.17e+03, ..., 1.17e+03, 1.17e+03]] type='1 * var * float64'>"
      ]
     },
     "execution_count": 49,
     "metadata": {},
     "output_type": "execute_result"
    }
   ],
   "source": [
    "events_w_Z['pz'][events_w_Z['pdg'] == 23]"
   ]
  },
  {
   "cell_type": "code",
   "execution_count": 50,
   "metadata": {},
   "outputs": [
    {
     "data": {
      "text/html": [
       "<pre>[[[3, 4], [5], [8], [61], [116]]]\n",
       "---------------------------------\n",
       "type: 1 * var * var * int64</pre>"
      ],
      "text/plain": [
       "<Array [[[3, 4], [5], [8], [61], [116]]] type='1 * var * var * int64'>"
      ]
     },
     "execution_count": 50,
     "metadata": {},
     "output_type": "execute_result"
    }
   ],
   "source": [
    "events_w_Z['mother_list'][events_w_Z['pdg'] == 23]"
   ]
  },
  {
   "cell_type": "code",
   "execution_count": 37,
   "metadata": {},
   "outputs": [
    {
     "data": {
      "text/plain": [
       "np.int64(5)"
      ]
     },
     "execution_count": 37,
     "metadata": {},
     "output_type": "execute_result"
    }
   ],
   "source": [
    "np.sum(temp[any]['pdg'] == 23)"
   ]
  },
  {
   "cell_type": "code",
   "execution_count": 27,
   "metadata": {},
   "outputs": [
    {
     "data": {
      "text/html": [
       "<pre>[{px: [], py: [], pz: [], E: [], pdg: [], gen_status: [], ...},\n",
       " {px: [], py: [], pz: [], E: [], pdg: [], gen_status: [], ...},\n",
       " {px: [], py: [], pz: [], E: [], pdg: [], gen_status: [], ...},\n",
       " {px: [], py: [], pz: [], E: [], pdg: [], gen_status: [], ...},\n",
       " {px: [], py: [], pz: [], E: [], pdg: [], gen_status: [], ...},\n",
       " {px: [], py: [], pz: [], E: [], pdg: [], gen_status: [], ...},\n",
       " {px: [], py: [], pz: [], E: [], pdg: [], gen_status: [], ...},\n",
       " {px: [], py: [], pz: [], E: [], pdg: [], gen_status: [], ...},\n",
       " {px: [], py: [], pz: [], E: [], pdg: [], gen_status: [], ...},\n",
       " {px: [], py: [], pz: [], E: [], pdg: [], gen_status: [], ...},\n",
       " ...,\n",
       " {px: [], py: [], pz: [], E: [], pdg: [], gen_status: [], ...},\n",
       " {px: [], py: [], pz: [], E: [], pdg: [], gen_status: [], ...},\n",
       " {px: [], py: [], pz: [], E: [], pdg: [], gen_status: [], ...},\n",
       " {px: [], py: [], pz: [], E: [], pdg: [], gen_status: [], ...},\n",
       " {px: [], py: [], pz: [], E: [], pdg: [], gen_status: [], ...},\n",
       " {px: [], py: [], pz: [], E: [], pdg: [], gen_status: [], ...},\n",
       " {px: [], py: [], pz: [], E: [], pdg: [], gen_status: [], ...},\n",
       " {px: [], py: [], pz: [], E: [], pdg: [], gen_status: [], ...},\n",
       " {px: [], py: [], pz: [], E: [], pdg: [], gen_status: [], ...}]\n",
       "---------------------------------------------------------------\n",
       "type: 500 * {\n",
       "    px: var * float64,\n",
       "    py: var * float64,\n",
       "    pz: var * float64,\n",
       "    E: var * float64,\n",
       "    pdg: var * int64,\n",
       "    gen_status: var * int64,\n",
       "    mother_list: var * var * int64,\n",
       "    daughter_list: var * var * int64,\n",
       "    is_final: var * bool\n",
       "}</pre>"
      ],
      "text/plain": [
       "<Array [{px: [], py: [], pz: [], ...}, ...] type='500 * {px: var * float64,...'>"
      ]
     },
     "execution_count": 27,
     "metadata": {},
     "output_type": "execute_result"
    }
   ],
   "source": [
    "condition = temp['pdg'] == 23\n",
    "temp[condition]\n",
    "#ak.where(condition, temp, None)\n",
    "#temp[condition]"
   ]
  },
  {
   "cell_type": "code",
   "execution_count": 24,
   "metadata": {},
   "outputs": [
    {
     "data": {
      "text/html": [
       "<pre>[23,\n",
       " 23,\n",
       " 23,\n",
       " 23,\n",
       " 23]\n",
       "---------------\n",
       "type: 5 * int64</pre>"
      ],
      "text/plain": [
       "<Array [23, 23, 23, 23, 23] type='5 * int64'>"
      ]
     },
     "execution_count": 24,
     "metadata": {},
     "output_type": "execute_result"
    }
   ],
   "source": [
    "ak.flatten(temp['pdg'][temp['pdg'] == 23])"
   ]
  },
  {
   "cell_type": "code",
   "execution_count": 25,
   "metadata": {},
   "outputs": [
    {
     "data": {
      "text/html": [
       "<pre>[2214,\n",
       " 3312,\n",
       " 3322,\n",
       " 3212,\n",
       " 3212,\n",
       " 3312,\n",
       " 3122,\n",
       " 3122,\n",
       " 20213,\n",
       " 3212,\n",
       " ...,\n",
       " 3322,\n",
       " 3222,\n",
       " 3322,\n",
       " 3222,\n",
       " 3224,\n",
       " 3322,\n",
       " 3224,\n",
       " 3322,\n",
       " 3312]\n",
       "------------------\n",
       "type: 500 * ?int64</pre>"
      ],
      "text/plain": [
       "<Array [2214, 3312, 3322, 3212, ..., 3224, 3322, 3312] type='500 * ?int64'>"
      ]
     },
     "execution_count": 25,
     "metadata": {},
     "output_type": "execute_result"
    }
   ],
   "source": [
    "ak.max(temp['pdg'], axis=1)"
   ]
  },
  {
   "cell_type": "code",
   "execution_count": 6,
   "metadata": {},
   "outputs": [
    {
     "data": {
      "text/plain": [
       "np.int64(67)"
      ]
     },
     "execution_count": 6,
     "metadata": {},
     "output_type": "execute_result"
    }
   ],
   "source": [
    "Z_counter"
   ]
  }
 ],
 "metadata": {
  "kernelspec": {
   "display_name": "zphf",
   "language": "python",
   "name": "python3"
  },
  "language_info": {
   "codemirror_mode": {
    "name": "ipython",
    "version": 3
   },
   "file_extension": ".py",
   "mimetype": "text/x-python",
   "name": "python",
   "nbconvert_exporter": "python",
   "pygments_lexer": "ipython3",
   "version": "3.12.7"
  }
 },
 "nbformat": 4,
 "nbformat_minor": 2
}
