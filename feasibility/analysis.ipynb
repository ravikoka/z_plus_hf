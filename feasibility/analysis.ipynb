{
 "cells": [
  {
   "cell_type": "code",
   "execution_count": 2,
   "metadata": {},
   "outputs": [],
   "source": [
    "import awkward as ak\n",
    "import numpy as np\n",
    "import pickle as pkl\n",
    "import hist \n",
    "import matplotlib.pyplot as plt\n",
    "import uproot\n",
    "\n",
    "import os\n",
    "from numba import njit"
   ]
  },
  {
   "cell_type": "code",
   "execution_count": 9,
   "metadata": {},
   "outputs": [],
   "source": [
    "RAW_DATA_DIR = '/Users/ravikoka/repos/z_plus_hf/feasibility/data/multi/run1/'\n",
    "\n",
    "Z_counter = 0\n",
    "W_counter = 0\n",
    "\n",
    "events_w_Z = ak.Array([])\n",
    "for file in os.listdir(RAW_DATA_DIR):\n",
    "    \n",
    "    with open(RAW_DATA_DIR+ file, 'rb') as in_file:\n",
    "        events = pkl.load(in_file)\n",
    "        \n",
    "        z_counts = np.sum(events['pdg'] == 23)\n",
    "        W_counts = np.sum(events['pdg'] == abs(24))\n",
    "        \n",
    "        if z_counts > 0:\n",
    "            #temp = events\n",
    "            \n",
    "            contains_Z = ak.any(events['pdg']==23, axis=1)\n",
    "            events_w_Z = ak.concatenate([events_w_Z, events[contains_Z]])\n",
    "        \n",
    "        Z_counter += z_counts\n",
    "        \n",
    "        W_counter += W_counts"
   ]
  },
  {
   "cell_type": "code",
   "execution_count": 10,
   "metadata": {},
   "outputs": [
    {
     "data": {
      "text/html": [
       "<pre>[{px: [0, 0, 0, ..., -0.967, -0.421], py: [0, ..., -0.272], pz: [...], ...},\n",
       " {px: [0, 0, 0, ..., 0.0277, 0.0262], py: [0, ...], pz: [...], E: [...], ...},\n",
       " {px: [0, 0, 0, ..., -0.0805, 0.029], py: [0, ...], pz: [...], E: [...], ...},\n",
       " {px: [0, 0, 0, ..., -0.0899, 0.00784], py: [0, ...], pz: [...], E: [...], ...},\n",
       " {px: [0, 0, 0, ..., -0.125, 0.0287], py: [0, ...], pz: [...], E: [...], ...},\n",
       " {px: [0, 0, 0, ..., 0.0132, -0.0598], py: [0, ...], pz: [...], E: [...], ...},\n",
       " {px: [0, 0, 0, ..., 0.14, 0.483], py: [0, 0, ..., -1.2], pz: [...], ...},\n",
       " {px: [0, 0, 0, ..., -0.028, 0.0578], py: [0, ..., -0.264], pz: [...], ...},\n",
       " {px: [0, 0, 0, ..., 0.0737, 0.00437], py: [0, ...], pz: [...], E: [...], ...},\n",
       " {px: [0, 0, 0, ..., 0.329, -0.0081], py: [0, ...], pz: [...], E: [...], ...},\n",
       " ...,\n",
       " {px: [0, 0, 0, ..., 0.0381, 0.213], py: [0, ..., 0.157], pz: [...], ...},\n",
       " {px: [0, 0, 0, ..., -0.232, -0.416], py: [0, ...], pz: [...], E: [...], ...},\n",
       " {px: [0, 0, 0, ..., -0.0885, -0.307], py: [0, ..., 0.371], pz: [...], ...},\n",
       " {px: [0, 0, 0, ..., -0.0507, 0.0578], py: [0, ...], pz: [...], E: [...], ...},\n",
       " {px: [0, 0, 0, ..., 0.689, 0.000755], py: [0, ...], pz: [...], E: [...], ...},\n",
       " {px: [0, 0, 0, ..., -0.0274, 0.0737], py: [0, ...], pz: [...], E: [...], ...},\n",
       " {px: [0, 0, 0, ..., -0.000511, -0.0739], py: [0, ...], pz: [...], E: ..., ...},\n",
       " {px: [0, 0, 0, ..., 0.0514, 0.065], py: [0, ..., 0.0267], pz: [...], ...},\n",
       " {px: [0, 0, 0, ..., -0.242, 0.00401], py: [0, ..., 0.13], pz: [...], ...}]\n",
       "--------------------------------------------------------------------------------\n",
       "type: 500 * {\n",
       "    px: var * float64,\n",
       "    py: var * float64,\n",
       "    pz: var * float64,\n",
       "    E: var * float64,\n",
       "    pdg: var * int64,\n",
       "    gen_status: var * int64,\n",
       "    mother_list: var * var * int64,\n",
       "    daughter_list: var * var * int64,\n",
       "    is_final: var * bool\n",
       "}</pre>"
      ],
      "text/plain": [
       "<Array [{px: [0, ...], py: [...], ...}, ...] type='500 * {px: var * float64...'>"
      ]
     },
     "execution_count": 10,
     "metadata": {},
     "output_type": "execute_result"
    }
   ],
   "source": [
    "events"
   ]
  },
  {
   "cell_type": "code",
   "execution_count": 6,
   "metadata": {},
   "outputs": [
    {
     "data": {
      "text/plain": [
       "np.int64(0)"
      ]
     },
     "execution_count": 6,
     "metadata": {},
     "output_type": "execute_result"
    }
   ],
   "source": [
    "W_counter"
   ]
  },
  {
   "cell_type": "code",
   "execution_count": 7,
   "metadata": {},
   "outputs": [
    {
     "data": {
      "text/plain": [
       "np.int64(0)"
      ]
     },
     "execution_count": 7,
     "metadata": {},
     "output_type": "execute_result"
    }
   ],
   "source": [
    "W_counter"
   ]
  },
  {
   "cell_type": "code",
   "execution_count": 8,
   "metadata": {},
   "outputs": [
    {
     "data": {
      "text/plain": [
       "np.int64(0)"
      ]
     },
     "execution_count": 8,
     "metadata": {},
     "output_type": "execute_result"
    }
   ],
   "source": [
    "Z_counter"
   ]
  },
  {
   "cell_type": "code",
   "execution_count": 84,
   "metadata": {},
   "outputs": [
    {
     "data": {
      "text/html": [
       "<pre>[True,\n",
       " True,\n",
       " True,\n",
       " True,\n",
       " True,\n",
       " True,\n",
       " True,\n",
       " True,\n",
       " True,\n",
       " True,\n",
       " True]\n",
       "---------------\n",
       "type: 11 * bool</pre>"
      ],
      "text/plain": [
       "<Array [True, True, True, True, ..., True, True, True, True] type='11 * bool'>"
      ]
     },
     "execution_count": 84,
     "metadata": {},
     "output_type": "execute_result"
    }
   ],
   "source": [
    "ak.any(events_w_Z['pdg']==23, axis=1)"
   ]
  },
  {
   "cell_type": "code",
   "execution_count": 91,
   "metadata": {},
   "outputs": [],
   "source": [
    "events_zipped = ak.zip(\n",
    "    {\n",
    "        'px': events_w_Z['px'],\n",
    "        'py': events_w_Z['py'],\n",
    "        'pz': events_w_Z['pz'],\n",
    "        'pdg': events_w_Z['pdg'],\n",
    "        'mother_list': events_w_Z['mother_list'],\n",
    "    }, \n",
    "    depth_limit=2\n",
    ")"
   ]
  },
  {
   "cell_type": "code",
   "execution_count": 92,
   "metadata": {},
   "outputs": [
    {
     "data": {
      "text/html": [
       "<pre>[[{px: 0, py: 0, pz: 6.8e+03, pdg: 2212, mother_list: []}, ..., {px: ..., ...}],\n",
       " [{px: 0, py: 0, pz: 6.8e+03, pdg: 2212, mother_list: []}, ..., {px: ..., ...}],\n",
       " [{px: 0, py: 0, pz: 6.8e+03, pdg: 2212, mother_list: []}, ..., {px: ..., ...}],\n",
       " [{px: 0, py: 0, pz: 6.8e+03, pdg: 2212, mother_list: []}, ..., {px: ..., ...}],\n",
       " [{px: 0, py: 0, pz: 6.8e+03, pdg: 2212, mother_list: []}, ..., {px: ..., ...}],\n",
       " [{px: 0, py: 0, pz: 6.8e+03, pdg: 2212, mother_list: []}, ..., {px: ..., ...}],\n",
       " [{px: 0, py: 0, pz: 6.8e+03, pdg: 2212, mother_list: []}, ..., {px: ..., ...}],\n",
       " [{px: 0, py: 0, pz: 6.8e+03, pdg: 2212, mother_list: []}, ..., {px: ..., ...}],\n",
       " [{px: 0, py: 0, pz: 6.8e+03, pdg: 2212, mother_list: []}, ..., {px: ..., ...}],\n",
       " [{px: 0, py: 0, pz: 6.8e+03, pdg: 2212, mother_list: []}, ..., {px: ..., ...}],\n",
       " [{px: 0, py: 0, pz: 6.8e+03, pdg: 2212, mother_list: []}, ..., {px: ..., ...}]]\n",
       "--------------------------------------------------------------------------------\n",
       "type: 11 * var * {\n",
       "    px: float64,\n",
       "    py: float64,\n",
       "    pz: float64,\n",
       "    pdg: int64,\n",
       "    mother_list: var * int64\n",
       "}</pre>"
      ],
      "text/plain": [
       "<Array [[{px: 0, py: 0, ...}, ..., {...}], ...] type='11 * var * {px: float...'>"
      ]
     },
     "execution_count": 92,
     "metadata": {},
     "output_type": "execute_result"
    }
   ],
   "source": [
    "events_zipped"
   ]
  },
  {
   "cell_type": "code",
   "execution_count": 105,
   "metadata": {},
   "outputs": [
    {
     "data": {
      "text/html": [
       "<pre>[False,\n",
       " False,\n",
       " False,\n",
       " False,\n",
       " False,\n",
       " False,\n",
       " False,\n",
       " False,\n",
       " False,\n",
       " False,\n",
       " True]\n",
       "---------------\n",
       "type: 11 * bool</pre>"
      ],
      "text/plain": [
       "<Array [False, False, False, False, ..., False, False, True] type='11 * bool'>"
      ]
     },
     "execution_count": 105,
     "metadata": {},
     "output_type": "execute_result"
    }
   ],
   "source": [
    "contains_b = ak.any(events_zipped['pdg']==5, axis=1)\n",
    "contains_b"
   ]
  },
  {
   "cell_type": "code",
   "execution_count": 107,
   "metadata": {},
   "outputs": [
    {
     "data": {
      "text/html": [
       "<pre>[[{px: 0, py: 0, pz: 6.8e+03, pdg: 2212, mother_list: []}, ..., {px: ..., ...}]]\n",
       "--------------------------------------------------------------------------------\n",
       "type: 1 * var * {\n",
       "    px: float64,\n",
       "    py: float64,\n",
       "    pz: float64,\n",
       "    pdg: int64,\n",
       "    mother_list: var * int64\n",
       "}</pre>"
      ],
      "text/plain": [
       "<Array [[{px: 0, py: 0, pz: ..., ...}, ...]] type='1 * var * {px: float64, ...'>"
      ]
     },
     "execution_count": 107,
     "metadata": {},
     "output_type": "execute_result"
    }
   ],
   "source": [
    "events_w_Z_and_b = events_zipped[contains_b]\n",
    "events_w_Z_and_b"
   ]
  },
  {
   "cell_type": "code",
   "execution_count": 115,
   "metadata": {},
   "outputs": [
    {
     "name": "stdout",
     "output_type": "stream",
     "text": [
      "particle num 566, b quark\n",
      "particle num 568, b quark\n",
      "particle num 573, b quark\n",
      "particle num 577, b quark\n",
      "particle num 792, b quark\n"
     ]
    }
   ],
   "source": [
    "#events_w_Z_and_b['pdg'] == 5\n",
    "\n",
    "for i, pdg in enumerate(ak.flatten(events_w_Z_and_b['pdg'])):\n",
    "    if pdg == 5:\n",
    "        print(f'particle num {i}, b quark')"
   ]
  },
  {
   "cell_type": "code",
   "execution_count": 102,
   "metadata": {},
   "outputs": [
    {
     "data": {
      "text/plain": [
       "np.int64(5)"
      ]
     },
     "execution_count": 102,
     "metadata": {},
     "output_type": "execute_result"
    }
   ],
   "source": [
    "np.sum(events_zipped['pdg'] == 5)"
   ]
  },
  {
   "cell_type": "code",
   "execution_count": 95,
   "metadata": {},
   "outputs": [
    {
     "data": {
      "text/html": [
       "<pre>[[{px: -58.7, py: -41.1, pz: 122, pdg: 23, mother_list: [...]}, ..., {...}],\n",
       " [{px: 0, py: 0, pz: -247, pdg: 23, mother_list: [3, ...]}, {...}, ..., {...}],\n",
       " [{px: 0, py: 0, pz: 1.15e+03, pdg: 23, mother_list: [...]}, {...}, ..., {...}],\n",
       " [{px: 0, py: 0, pz: -223, pdg: 23, mother_list: [3, ...]}, {...}, ..., {...}],\n",
       " [{px: 0, py: 0, pz: 66.8, pdg: 23, mother_list: [3, ...]}, {...}, ..., {...}],\n",
       " [{px: 0, py: 0, pz: -172, pdg: 23, mother_list: [3, ...]}, {...}, ..., {...}],\n",
       " [{px: 0, py: 0, pz: 99.2, pdg: 23, mother_list: [3, ...]}, {...}, ..., {...}],\n",
       " [{px: 0, py: 0, pz: 2.72e+03, pdg: 23, mother_list: [...]}, {...}, ..., {...}],\n",
       " [{px: 0, py: 0, pz: -818, pdg: 23, mother_list: [3, ...]}, {...}, ..., {...}],\n",
       " [{px: 52.9, py: -4.96, pz: -476, pdg: 23, mother_list: [...]}, ..., {...}],\n",
       " [{px: 0, py: 0, pz: 1.29e+03, pdg: 23, mother_list: [...]}, {...}, ..., {...}]]\n",
       "--------------------------------------------------------------------------------\n",
       "type: 11 * var * {\n",
       "    px: float64,\n",
       "    py: float64,\n",
       "    pz: float64,\n",
       "    pdg: int64,\n",
       "    mother_list: var * int64\n",
       "}</pre>"
      ],
      "text/plain": [
       "<Array [[{px: -58.7, py: ..., ...}, ...], ...] type='11 * var * {px: float6...'>"
      ]
     },
     "execution_count": 95,
     "metadata": {},
     "output_type": "execute_result"
    }
   ],
   "source": [
    "Z_bosons = events_zipped[events_zipped['pdg'] == 23]\n",
    "Z_bosons"
   ]
  },
  {
   "cell_type": "code",
   "execution_count": 97,
   "metadata": {},
   "outputs": [],
   "source": [
    "prompt_Z_bosons = Z_bosons[:, 0]"
   ]
  },
  {
   "cell_type": "code",
   "execution_count": 100,
   "metadata": {},
   "outputs": [
    {
     "data": {
      "text/html": [
       "<html>\n",
       "<div style=\"display:flex; align-items:center;\">\n",
       "<div style=\"width:290px;\">\n",
       "<svg xmlns=\"http://www.w3.org/2000/svg\" viewBox=\"-10 -105 270 120\">\n",
       "<line x1=\"-5\" y1=\"0\" x2=\"255\" y2=\"0\" style=\"fill:none;stroke-width:2;stroke:currentColor\"/>\n",
       "<text text-anchor=\"middle\" x=\"0\" y=\"15\" style=\"fill:currentColor;\">\n",
       "0\n",
       "</text>\n",
       "<text text-anchor=\"middle\" x=\"250\" y=\"15\" style=\"fill:currentColor;\">\n",
       "100\n",
       "</text>\n",
       "<text text-anchor=\"middle\" x=\"125.0\" y=\"15\" style=\"fill:currentColor;\">\n",
       "Z0 pt\n",
       "</text>\n",
       "<polyline points=\"  0,0   0,-100 4.16667,-100 4.16667,-10 8.33333,-10 8.33333,-0 12.5,-0 12.5,-0 16.6667,-0 16.6667,-10 20.8333,-10 20.8333,-10  25,-10  25,-10 29.1667,-10 29.1667,-0 33.3333,-0 33.3333,-20 37.5,-20 37.5,-0 41.6667,-0 41.6667,-0 45.8333,-0 45.8333,-0  50,-0  50,-0 54.1667,-0 54.1667,-10 58.3333,-10 58.3333,-0 62.5,-0 62.5,-0 66.6667,-0 66.6667,-10 70.8333,-10 70.8333,-50  75,-50  75,-0 79.1667,-0 79.1667,-0 83.3333,-0 83.3333,-0 87.5,-0 87.5,-0 91.6667,-0 91.6667,-10 95.8333,-10 95.8333,-10 100,-10 100,-0 104.167,-0 104.167,-0 108.333,-0 108.333,-0 112.5,-0 112.5,-0 116.667,-0 116.667,-0 120.833,-0 120.833,-0 125,-0 125,-0 129.167,-0 129.167,-0 133.333,-0 133.333,-0 137.5,-0 137.5,-0 141.667,-0 141.667,-0 145.833,-0 145.833,-0 150,-0 150,-0 154.167,-0 154.167,-0 158.333,-0 158.333,-0 162.5,-0 162.5,-0 166.667,-0 166.667,-0 170.833,-0 170.833,-0 175,-0 175,-0 179.167,-0 179.167,-0 183.333,-0 183.333,-10 187.5,-10 187.5,-0 191.667,-0 191.667,-10 195.833,-10 195.833,-0 200,-0 200,-0 204.167,-0 204.167,-0 208.333,-0 208.333,-0 212.5,-0 212.5,-0 216.667,-0 216.667,-0 220.833,-0 220.833,-0 225,-0 225,-0 229.167,-0 229.167,-0 233.333,-0 233.333,-0 237.5,-0 237.5,-0 241.667,-0 241.667,-0 245.833,-0 245.833,-0 250,-0 250,0\" style=\"fill:none; stroke:currentColor;\"/>\n",
       "</svg>\n",
       "</div>\n",
       "<div style=\"flex=grow:1;\">\n",
       "Regular(60, 0, 100, name='Z0 pt')<br/>\n",
       "<hr style=\"margin-top:.2em; margin-bottom:.2em;\"/>\n",
       "Double() Σ=27.0 <em>(67.0 with flow)</em>\n",
       "\n",
       "</div>\n",
       "</div>\n",
       "</html>"
      ],
      "text/plain": [
       "Hist(Regular(60, 0, 100, name='Z0 pt'), storage=Double()) # Sum: 27.0 (67.0 with flow)"
      ]
     },
     "execution_count": 100,
     "metadata": {},
     "output_type": "execute_result"
    }
   ],
   "source": [
    "pt_hist = hist.Hist(hist.axis.Regular(60, 0, 100, name='Z0 pt'))\n",
    "pt_hist.fill(ak.flatten(Z_bosons['px']**2) + ak.flatten(Z_bosons['py']**2))"
   ]
  },
  {
   "cell_type": "markdown",
   "metadata": {},
   "source": [
    "# old"
   ]
  },
  {
   "cell_type": "code",
   "execution_count": 43,
   "metadata": {},
   "outputs": [
    {
     "data": {
      "text/html": [
       "<pre>[{px: [0, 0, 0, ..., 0.00891, 0.107], py: [0, ..., -0.173], pz: [...], ...},\n",
       " {px: [0, 0, 0, ..., 0.0328, -0.0743], py: [0, ...], pz: [...], E: [...], ...},\n",
       " {px: [0, 0, 0, ..., -0.642, -0.225], py: [0, ..., -1.32], pz: [...], ...},\n",
       " {px: [0, 0, 0, ..., -0.0888, -0.0278], py: [0, ...], pz: [...], E: [...], ...},\n",
       " {px: [0, 0, 0, ..., 0.0211, -0.00145], py: [0, ...], pz: [...], E: [...], ...},\n",
       " {px: [0, 0, 0, ..., -0.0577, 0.00832], py: [0, ...], pz: [...], E: [...], ...},\n",
       " {px: [0, 0, 0, ..., -0.455, -0.331], py: [0, ..., 0.0452], pz: [...], ...},\n",
       " {px: [0, 0, 0, ..., -0.0408, -0.12], py: [0, ..., -0.168], pz: [...], ...},\n",
       " {px: [0, 0, 0, ..., 0.0304, -0.0718], py: [0, ...], pz: [...], E: [...], ...},\n",
       " {px: [0, 0, 0, ..., 0.0825, -0.0541], py: [0, ...], pz: [...], E: [...], ...},\n",
       " ...,\n",
       " {px: [0, 0, 0, ..., 0.0157, -0.0238], py: [0, ...], pz: [...], E: [...], ...},\n",
       " {px: [0, 0, 0, ..., 0.0571, -0.0711], py: [0, ...], pz: [...], E: [...], ...},\n",
       " {px: [0, 0, 0, ..., 0.055, 0.0243], py: [0, ..., -0.319], pz: [...], ...},\n",
       " {px: [0, 0, 0, ..., -0.0375, 0.077], py: [0, ...], pz: [...], E: [...], ...},\n",
       " {px: [0, 0, 0, ..., -0.576, -0.82], py: [0, ..., -0.404], pz: [...], ...},\n",
       " {px: [0, 0, 0, ..., -0.212, -0.0742], py: [0, ..., 0.195], pz: [...], ...},\n",
       " {px: [0, 0, 0, ..., -0.248, 0.146], py: [0, ...], pz: [...], E: [...], ...},\n",
       " {px: [0, 0, 0, ..., -0.0622, 0.0643], py: [0, ...], pz: [...], E: [...], ...},\n",
       " {px: [0, 0, 0, ..., 0.0349, 0.196], py: [0, ...], pz: [...], E: [...], ...}]\n",
       "--------------------------------------------------------------------------------\n",
       "type: 500 * {\n",
       "    px: var * float64,\n",
       "    py: var * float64,\n",
       "    pz: var * float64,\n",
       "    E: var * float64,\n",
       "    pdg: var * int64,\n",
       "    gen_status: var * int64,\n",
       "    mother_list: var * var * int64,\n",
       "    daughter_list: var * var * int64,\n",
       "    is_final: var * bool\n",
       "}</pre>"
      ],
      "text/plain": [
       "<Array [{px: [0, ...], py: [...], ...}, ...] type='500 * {px: var * float64...'>"
      ]
     },
     "execution_count": 43,
     "metadata": {},
     "output_type": "execute_result"
    }
   ],
   "source": [
    "temp"
   ]
  },
  {
   "cell_type": "code",
   "execution_count": 44,
   "metadata": {},
   "outputs": [
    {
     "data": {
      "text/html": [
       "<pre>[False,\n",
       " False,\n",
       " False,\n",
       " False,\n",
       " False,\n",
       " False,\n",
       " False,\n",
       " False,\n",
       " False,\n",
       " False,\n",
       " ...,\n",
       " False,\n",
       " False,\n",
       " False,\n",
       " False,\n",
       " False,\n",
       " False,\n",
       " False,\n",
       " False,\n",
       " False]\n",
       "----------------\n",
       "type: 500 * bool</pre>"
      ],
      "text/plain": [
       "<Array [False, False, False, False, ..., False, False, False] type='500 * bool'>"
      ]
     },
     "execution_count": 44,
     "metadata": {},
     "output_type": "execute_result"
    }
   ],
   "source": [
    "any = ak.any(temp['pdg']==23, axis=1)\n",
    "any"
   ]
  },
  {
   "cell_type": "code",
   "execution_count": 45,
   "metadata": {},
   "outputs": [],
   "source": [
    "events_w_Z = temp[any]"
   ]
  },
  {
   "cell_type": "code",
   "execution_count": 79,
   "metadata": {},
   "outputs": [],
   "source": [
    "eee = events_w_Z['mother_list'] == events_zipped['mother_list']"
   ]
  },
  {
   "cell_type": "code",
   "execution_count": 80,
   "metadata": {},
   "outputs": [
    {
     "data": {
      "text/plain": [
       "np.int64(0)"
      ]
     },
     "execution_count": 80,
     "metadata": {},
     "output_type": "execute_result"
    }
   ],
   "source": [
    "np.sum(~eee)"
   ]
  },
  {
   "cell_type": "code",
   "execution_count": 73,
   "metadata": {},
   "outputs": [],
   "source": [
    "events_zipped = ak.zip(\n",
    "    {\n",
    "        'px': events_w_Z['px'],\n",
    "        'py': events_w_Z['py'],\n",
    "        'pz': events_w_Z['pz'],\n",
    "        'pdg': events_w_Z['pdg'],\n",
    "        'mother_list': events_w_Z['mother_list'],\n",
    "    }, \n",
    "    depth_limit=1\n",
    ")"
   ]
  },
  {
   "cell_type": "code",
   "execution_count": 76,
   "metadata": {},
   "outputs": [
    {
     "data": {
      "text/html": [
       "<pre>[[[], [], [6], [7], [3, 4], [59], ..., [1320], [1321], [1321], [1324], [1324]]]\n",
       "-------------------------------------------------------------------------------\n",
       "type: 1 * var * var * int64</pre>"
      ],
      "text/plain": [
       "<Array [[[], [], [6], ..., [1324], [1324]]] type='1 * var * var * int64'>"
      ]
     },
     "execution_count": 76,
     "metadata": {},
     "output_type": "execute_result"
    }
   ],
   "source": [
    "events_zipped['mother_list']"
   ]
  },
  {
   "cell_type": "code",
   "execution_count": 53,
   "metadata": {},
   "outputs": [
    {
     "name": "stdout",
     "output_type": "stream",
     "text": [
      "[2212, 2212, 1, -1, 23, 1, -1, 23, 21, ..., 111, 22, 22, 310, 22, 22, 211, -211]\n"
     ]
    }
   ],
   "source": [
    "print(ak.flatten(events_w_Z['pdg']))"
   ]
  },
  {
   "cell_type": "code",
   "execution_count": 48,
   "metadata": {},
   "outputs": [
    {
     "data": {
      "text/html": [
       "<pre>[[23, 23, 23, 23, 23]]\n",
       "----------------------\n",
       "type: 1 * var * int64</pre>"
      ],
      "text/plain": [
       "<Array [[23, 23, 23, 23, 23]] type='1 * var * int64'>"
      ]
     },
     "execution_count": 48,
     "metadata": {},
     "output_type": "execute_result"
    }
   ],
   "source": [
    "events_w_Z['pdg'][events_w_Z['pdg'] == 23]"
   ]
  },
  {
   "cell_type": "code",
   "execution_count": 49,
   "metadata": {},
   "outputs": [
    {
     "data": {
      "text/html": [
       "<pre>[[1.29e+03, 1.17e+03, 1.17e+03, 1.17e+03, 1.17e+03]]\n",
       "----------------------------------------------------\n",
       "type: 1 * var * float64</pre>"
      ],
      "text/plain": [
       "<Array [[1.29e+03, 1.17e+03, ..., 1.17e+03, 1.17e+03]] type='1 * var * float64'>"
      ]
     },
     "execution_count": 49,
     "metadata": {},
     "output_type": "execute_result"
    }
   ],
   "source": [
    "events_w_Z['pz'][events_w_Z['pdg'] == 23]"
   ]
  },
  {
   "cell_type": "code",
   "execution_count": 50,
   "metadata": {},
   "outputs": [
    {
     "data": {
      "text/html": [
       "<pre>[[[3, 4], [5], [8], [61], [116]]]\n",
       "---------------------------------\n",
       "type: 1 * var * var * int64</pre>"
      ],
      "text/plain": [
       "<Array [[[3, 4], [5], [8], [61], [116]]] type='1 * var * var * int64'>"
      ]
     },
     "execution_count": 50,
     "metadata": {},
     "output_type": "execute_result"
    }
   ],
   "source": [
    "events_w_Z['mother_list'][events_w_Z['pdg'] == 23]"
   ]
  },
  {
   "cell_type": "code",
   "execution_count": 37,
   "metadata": {},
   "outputs": [
    {
     "data": {
      "text/plain": [
       "np.int64(5)"
      ]
     },
     "execution_count": 37,
     "metadata": {},
     "output_type": "execute_result"
    }
   ],
   "source": [
    "np.sum(temp[any]['pdg'] == 23)"
   ]
  },
  {
   "cell_type": "code",
   "execution_count": 27,
   "metadata": {},
   "outputs": [
    {
     "data": {
      "text/html": [
       "<pre>[{px: [], py: [], pz: [], E: [], pdg: [], gen_status: [], ...},\n",
       " {px: [], py: [], pz: [], E: [], pdg: [], gen_status: [], ...},\n",
       " {px: [], py: [], pz: [], E: [], pdg: [], gen_status: [], ...},\n",
       " {px: [], py: [], pz: [], E: [], pdg: [], gen_status: [], ...},\n",
       " {px: [], py: [], pz: [], E: [], pdg: [], gen_status: [], ...},\n",
       " {px: [], py: [], pz: [], E: [], pdg: [], gen_status: [], ...},\n",
       " {px: [], py: [], pz: [], E: [], pdg: [], gen_status: [], ...},\n",
       " {px: [], py: [], pz: [], E: [], pdg: [], gen_status: [], ...},\n",
       " {px: [], py: [], pz: [], E: [], pdg: [], gen_status: [], ...},\n",
       " {px: [], py: [], pz: [], E: [], pdg: [], gen_status: [], ...},\n",
       " ...,\n",
       " {px: [], py: [], pz: [], E: [], pdg: [], gen_status: [], ...},\n",
       " {px: [], py: [], pz: [], E: [], pdg: [], gen_status: [], ...},\n",
       " {px: [], py: [], pz: [], E: [], pdg: [], gen_status: [], ...},\n",
       " {px: [], py: [], pz: [], E: [], pdg: [], gen_status: [], ...},\n",
       " {px: [], py: [], pz: [], E: [], pdg: [], gen_status: [], ...},\n",
       " {px: [], py: [], pz: [], E: [], pdg: [], gen_status: [], ...},\n",
       " {px: [], py: [], pz: [], E: [], pdg: [], gen_status: [], ...},\n",
       " {px: [], py: [], pz: [], E: [], pdg: [], gen_status: [], ...},\n",
       " {px: [], py: [], pz: [], E: [], pdg: [], gen_status: [], ...}]\n",
       "---------------------------------------------------------------\n",
       "type: 500 * {\n",
       "    px: var * float64,\n",
       "    py: var * float64,\n",
       "    pz: var * float64,\n",
       "    E: var * float64,\n",
       "    pdg: var * int64,\n",
       "    gen_status: var * int64,\n",
       "    mother_list: var * var * int64,\n",
       "    daughter_list: var * var * int64,\n",
       "    is_final: var * bool\n",
       "}</pre>"
      ],
      "text/plain": [
       "<Array [{px: [], py: [], pz: [], ...}, ...] type='500 * {px: var * float64,...'>"
      ]
     },
     "execution_count": 27,
     "metadata": {},
     "output_type": "execute_result"
    }
   ],
   "source": [
    "condition = temp['pdg'] == 23\n",
    "temp[condition]\n",
    "#ak.where(condition, temp, None)\n",
    "#temp[condition]"
   ]
  },
  {
   "cell_type": "code",
   "execution_count": 24,
   "metadata": {},
   "outputs": [
    {
     "data": {
      "text/html": [
       "<pre>[23,\n",
       " 23,\n",
       " 23,\n",
       " 23,\n",
       " 23]\n",
       "---------------\n",
       "type: 5 * int64</pre>"
      ],
      "text/plain": [
       "<Array [23, 23, 23, 23, 23] type='5 * int64'>"
      ]
     },
     "execution_count": 24,
     "metadata": {},
     "output_type": "execute_result"
    }
   ],
   "source": [
    "ak.flatten(temp['pdg'][temp['pdg'] == 23])"
   ]
  },
  {
   "cell_type": "code",
   "execution_count": 25,
   "metadata": {},
   "outputs": [
    {
     "data": {
      "text/html": [
       "<pre>[2214,\n",
       " 3312,\n",
       " 3322,\n",
       " 3212,\n",
       " 3212,\n",
       " 3312,\n",
       " 3122,\n",
       " 3122,\n",
       " 20213,\n",
       " 3212,\n",
       " ...,\n",
       " 3322,\n",
       " 3222,\n",
       " 3322,\n",
       " 3222,\n",
       " 3224,\n",
       " 3322,\n",
       " 3224,\n",
       " 3322,\n",
       " 3312]\n",
       "------------------\n",
       "type: 500 * ?int64</pre>"
      ],
      "text/plain": [
       "<Array [2214, 3312, 3322, 3212, ..., 3224, 3322, 3312] type='500 * ?int64'>"
      ]
     },
     "execution_count": 25,
     "metadata": {},
     "output_type": "execute_result"
    }
   ],
   "source": [
    "ak.max(temp['pdg'], axis=1)"
   ]
  },
  {
   "cell_type": "code",
   "execution_count": 6,
   "metadata": {},
   "outputs": [
    {
     "data": {
      "text/plain": [
       "np.int64(67)"
      ]
     },
     "execution_count": 6,
     "metadata": {},
     "output_type": "execute_result"
    }
   ],
   "source": [
    "Z_counter"
   ]
  }
 ],
 "metadata": {
  "kernelspec": {
   "display_name": "zphf",
   "language": "python",
   "name": "python3"
  },
  "language_info": {
   "codemirror_mode": {
    "name": "ipython",
    "version": 3
   },
   "file_extension": ".py",
   "mimetype": "text/x-python",
   "name": "python",
   "nbconvert_exporter": "python",
   "pygments_lexer": "ipython3",
   "version": "3.12.7"
  }
 },
 "nbformat": 4,
 "nbformat_minor": 2
}
