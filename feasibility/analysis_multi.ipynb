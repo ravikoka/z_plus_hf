{
 "cells": [
  {
   "cell_type": "code",
   "execution_count": 4,
   "metadata": {},
   "outputs": [],
   "source": [
    "import awkward as ak\n",
    "import numpy as np\n",
    "import pickle as pkl\n",
    "import hist \n",
    "import matplotlib.pyplot as plt\n",
    "import uproot\n",
    "\n",
    "import os\n",
    "from numba import njit"
   ]
  },
  {
   "cell_type": "markdown",
   "metadata": {},
   "source": [
    "Ultimate goal: implement multiprocessing for analyzing data. \n",
    "\n",
    "Structure: have a main function that does analysis, creating histograms and counting Z's. I can then have a separate process for each run of the event generator, which in principle will give me a 4x speed-up. \n",
    "\n",
    "For each run, I will need to process the data in batches. This should be fine so long as we aren't doing any mixed event corrections, which we aren't yet. Those would need a separate implementation."
   ]
  },
  {
   "cell_type": "code",
   "execution_count": 8,
   "metadata": {},
   "outputs": [],
   "source": [
    "def process_events(parent_data_dir, run_num):\n",
    "    Z_counter = 0\n",
    "    W_counter = 0\n",
    "\n",
    "    events_w_Z = ak.Array([])\n",
    "    \n",
    "    run_data_dir = parent_data_dir + f'run{run_num}/' \n",
    "    for file in os.listdir(run_data_dir):\n",
    "        \n",
    "        with open(run_data_dir + file, 'rb') as in_file:\n",
    "            events = pkl.load(in_file)\n",
    "            \n",
    "            z_counts = np.sum(events['pdg'] == 23)\n",
    "            W_counts = np.sum(events['pdg'] == abs(24))\n",
    "            \n",
    "            if z_counts > 0:\n",
    "                \n",
    "                contains_Z = ak.any(events['pdg']==23, axis=1)\n",
    "                events_w_Z = ak.concatenate([events_w_Z, events[contains_Z]])\n",
    "            \n",
    "            Z_counter += z_counts\n",
    "            W_counter += W_counts\n",
    "            \n",
    "    print(Z_counter, W_counter)"
   ]
  },
  {
   "cell_type": "code",
   "execution_count": 9,
   "metadata": {},
   "outputs": [
    {
     "name": "stdout",
     "output_type": "stream",
     "text": [
      "0 0\n"
     ]
    }
   ],
   "source": [
    "RAW_DATA_DIR = '/Users/ravikoka/repos/z_plus_hf/feasibility/data/multi/'\n",
    "process_events(RAW_DATA_DIR, 1)"
   ]
  }
 ],
 "metadata": {
  "kernelspec": {
   "display_name": "zphf",
   "language": "python",
   "name": "python3"
  },
  "language_info": {
   "codemirror_mode": {
    "name": "ipython",
    "version": 3
   },
   "file_extension": ".py",
   "mimetype": "text/x-python",
   "name": "python",
   "nbconvert_exporter": "python",
   "pygments_lexer": "ipython3",
   "version": "3.12.7"
  }
 },
 "nbformat": 4,
 "nbformat_minor": 2
}
