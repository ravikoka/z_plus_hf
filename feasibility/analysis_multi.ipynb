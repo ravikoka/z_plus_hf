{
 "cells": [
  {
   "cell_type": "code",
   "execution_count": 35,
   "metadata": {},
   "outputs": [],
   "source": [
    "import awkward as ak\n",
    "import numpy as np\n",
    "import pickle as pkl\n",
    "import hist \n",
    "import matplotlib.pyplot as plt\n",
    "import uproot\n",
    "\n",
    "import os\n",
    "from numba import njit\n",
    "\n",
    "import mplhep as hep"
   ]
  },
  {
   "cell_type": "code",
   "execution_count": 15,
   "metadata": {},
   "outputs": [],
   "source": [
    "hep.style.use('CMS')"
   ]
  },
  {
   "cell_type": "code",
   "execution_count": 2,
   "metadata": {},
   "outputs": [
    {
     "data": {
      "text/plain": [
       "236860161341377533497318985914273181444"
      ]
     },
     "execution_count": 2,
     "metadata": {},
     "output_type": "execute_result"
    }
   ],
   "source": [
    "import secrets\n",
    "secrets.randbits(128)"
   ]
  },
  {
   "cell_type": "code",
   "execution_count": 3,
   "metadata": {},
   "outputs": [
    {
     "name": "stdout",
     "output_type": "stream",
     "text": [
      "[Generator(PCG64) at 0x1504ED540, Generator(PCG64) at 0x1504ED460, Generator(PCG64) at 0x1504ED380, Generator(PCG64) at 0x1504ED9A0]\n"
     ]
    }
   ],
   "source": [
    "seed = 157787644118040162645699200457491913582\n",
    "parent_rng = np.random.default_rng(seed)\n",
    "child_rngs = parent_rng.spawn(4)\n",
    "print(child_rngs)"
   ]
  },
  {
   "cell_type": "code",
   "execution_count": 4,
   "metadata": {},
   "outputs": [],
   "source": [
    "uniform = [parent_rng.random() for _ in range(10000)]\n",
    "front = uniform[:5000]\n",
    "back = uniform[5000:]\n",
    "\n",
    "delta_hist = hist.Hist(hist.axis.Regular(30, 0, 30, name='deltas'))\n",
    "\n",
    "delta = []\n",
    "for f in front:\n",
    "    for b in back:\n",
    "        delta.append(f-b)\n",
    "        delta_hist.fill(f-b)"
   ]
  },
  {
   "cell_type": "code",
   "execution_count": null,
   "metadata": {},
   "outputs": [],
   "source": []
  },
  {
   "cell_type": "code",
   "execution_count": 24,
   "metadata": {},
   "outputs": [
    {
     "name": "stdout",
     "output_type": "stream",
     "text": [
      "[3, 5, 8, 7, 1, 6, 2, 5, 1, 6, 9]\n",
      "[4, 9, 2, 7, 3, 9, 9, 4, 6, 8, 1]\n",
      "[2, 4, 6, 7, 1, 8, 2, 1, 6, 4, 6]\n",
      "[2, 7, 6, 8, 4, 7, 2, 4, 6, 2, 2]\n"
     ]
    }
   ],
   "source": [
    "for rng in child_rngs:\n",
    "    print([rng.integers(1, 10, dtype=int) for _ in range(11)])"
   ]
  },
  {
   "cell_type": "code",
   "execution_count": 25,
   "metadata": {},
   "outputs": [
    {
     "data": {
      "text/plain": [
       "[SeedSequence(\n",
       "     entropy=157787644118040162645699200457491913582,\n",
       "     spawn_key=(0,),\n",
       " ),\n",
       " SeedSequence(\n",
       "     entropy=157787644118040162645699200457491913582,\n",
       "     spawn_key=(1,),\n",
       " ),\n",
       " SeedSequence(\n",
       "     entropy=157787644118040162645699200457491913582,\n",
       "     spawn_key=(2,),\n",
       " ),\n",
       " SeedSequence(\n",
       "     entropy=157787644118040162645699200457491913582,\n",
       "     spawn_key=(3,),\n",
       " )]"
      ]
     },
     "execution_count": 25,
     "metadata": {},
     "output_type": "execute_result"
    }
   ],
   "source": [
    "seed = 157787644118040162645699200457491913582\n",
    "ss = np.random.SeedSequence(seed)\n",
    "child_seeds = ss.spawn(4)\n",
    "child_seeds"
   ]
  },
  {
   "cell_type": "code",
   "execution_count": 26,
   "metadata": {},
   "outputs": [
    {
     "data": {
      "text/plain": [
       "[Generator(PCG64) at 0x138BF91C0,\n",
       " Generator(PCG64) at 0x138BF97E0,\n",
       " Generator(PCG64) at 0x138BF98C0,\n",
       " Generator(PCG64) at 0x13FA5EF80]"
      ]
     },
     "execution_count": 26,
     "metadata": {},
     "output_type": "execute_result"
    }
   ],
   "source": [
    "streams = [np.random.default_rng(s) for s in child_seeds]\n",
    "streams"
   ]
  },
  {
   "cell_type": "code",
   "execution_count": 27,
   "metadata": {},
   "outputs": [
    {
     "name": "stdout",
     "output_type": "stream",
     "text": [
      "[3, 5, 8, 7, 1, 6, 2, 5, 1, 6, 9]\n",
      "[4, 9, 2, 7, 3, 9, 9, 4, 6, 8, 1]\n",
      "[2, 4, 6, 7, 1, 8, 2, 1, 6, 4, 6]\n",
      "[2, 7, 6, 8, 4, 7, 2, 4, 6, 2, 2]\n"
     ]
    }
   ],
   "source": [
    "for rng in streams:\n",
    "    print([rng.integers(1, 10, dtype=int) for _ in range(11)])"
   ]
  },
  {
   "cell_type": "markdown",
   "metadata": {},
   "source": [
    "Ultimate goal: implement multiprocessing for analyzing data. \n",
    "\n",
    "Structure: have a main function that does analysis, creating histograms and counting Z's. I can then have a separate process for each run of the event generator, which in principle will give me a 4x speed-up. \n",
    "\n",
    "For each run, I will need to process the data in batches. This should be fine so long as we aren't doing any mixed event corrections, which we aren't yet. Those would need a separate implementation."
   ]
  },
  {
   "cell_type": "code",
   "execution_count": 38,
   "metadata": {},
   "outputs": [],
   "source": [
    "\n",
    "def process_events(parent_data_dir, run_num):\n",
    "    pt_all_hist = hist.Hist(hist.axis.Regular(30, 0, 30, name='pt all'))\n",
    "    \n",
    "    Z_counter = 0\n",
    "    W_counter = 0\n",
    "\n",
    "    events_w_Z = ak.Array([])\n",
    "    \n",
    "    run_data_dir = parent_data_dir + f'run{run_num}/' \n",
    "    for file in os.listdir(run_data_dir):\n",
    "        \n",
    "        with open(run_data_dir + file, 'rb') as in_file:\n",
    "            events = pkl.load(in_file)\n",
    "            \n",
    "            z_counts = np.sum(events['pdg'] == 23)\n",
    "            W_counts = np.sum(events['pdg'] == abs(24))\n",
    "            \n",
    "            pt_all_hist.fill(np.sqrt(ak.flatten(events['px'])**2 + ak.flatten(events['py'])**2))\n",
    "            \n",
    "            if z_counts > 0:\n",
    "                \n",
    "                contains_Z = ak.any(events['pdg']==23, axis=1)\n",
    "                events_w_Z = ak.concatenate([events_w_Z, events[contains_Z]])\n",
    "                \n",
    "            \n",
    "            Z_counter += z_counts\n",
    "            W_counter += W_counts\n",
    "            \n",
    "    print(Z_counter, W_counter)\n",
    "    \n",
    "    return pt_all_hist, events_w_Z"
   ]
  },
  {
   "cell_type": "code",
   "execution_count": 18,
   "metadata": {},
   "outputs": [
    {
     "name": "stdout",
     "output_type": "stream",
     "text": [
      "0 0\n"
     ]
    }
   ],
   "source": [
    "RAW_DATA_DIR = '/Users/ravikoka/repos/z_plus_hf/feasibility/data/multi/'\n",
    "pt_all_hist, events_w_Z = process_events(RAW_DATA_DIR, 0)"
   ]
  },
  {
   "cell_type": "code",
   "execution_count": 24,
   "metadata": {},
   "outputs": [
    {
     "data": {
      "image/png": "[encoded data removed]",
      "text/plain": [
       "<Figure size 1000x1000 with 1 Axes>"
      ]
     },
     "metadata": {},
     "output_type": "display_data"
    }
   ],
   "source": [
    "fig, ax = plt.subplots()\n",
    "hep.histplot(pt_all_hist, yerr=True, ax=ax)\n",
    "\n",
    "ax.set_yscale('log')"
   ]
  },
  {
   "cell_type": "code",
   "execution_count": 9,
   "metadata": {},
   "outputs": [
    {
     "data": {
      "text/html": [
       "<pre>[{px: [0, 0, 0, ..., 0.000803, 0.0738], py: [0, ...], pz: [...], E: [...], ...},\n",
       " {px: [0, 0, 0, ..., -0.016, 0.181], py: [0, ..., 0.0816], pz: [...], ...},\n",
       " {px: [0, 0, 0, ..., -0.371, -0.293], py: [0, ..., -0.295], pz: [...], ...}]\n",
       "--------------------------------------------------------------------------------\n",
       "type: 3 * {\n",
       "    px: var * float64,\n",
       "    py: var * float64,\n",
       "    pz: var * float64,\n",
       "    E: var * float64,\n",
       "    pdg: var * int64,\n",
       "    gen_status: var * int64,\n",
       "    mother_list: var * var * int64,\n",
       "    daughter_list: var * var * int64,\n",
       "    is_final: var * bool\n",
       "}</pre>"
      ],
      "text/plain": [
       "<Array [{px: [0, ...], py: [...], ...}, ...] type='3 * {px: var * float64, ...'>"
      ]
     },
     "execution_count": 9,
     "metadata": {},
     "output_type": "execute_result"
    }
   ],
   "source": [
    "events_w_Z"
   ]
  },
  {
   "cell_type": "code",
   "execution_count": 36,
   "metadata": {},
   "outputs": [
    {
     "name": "stdout",
     "output_type": "stream",
     "text": [
      "129221.4420587132\n",
      "130655.69813089291\n",
      "----------------\n",
      "1.06049346490429 -0.04849593416401438 361.46171461532157\n",
      "1023841.0265611301\n",
      "1104661.2566337697\n",
      "1105122.9048954155\n",
      "1105934.565127867\n",
      "----------------\n",
      "12.216433573441407 31.328476296465343 -1051.096499114879\n",
      "256815.06637800534\n",
      "232776.2110104718\n",
      "237666.6701282392\n",
      "238144.3372116737\n",
      "235438.89596004307\n",
      "235377.18984996693\n",
      "----------------\n",
      "17.400452965986837 45.66422483340056 -482.68954065414556\n"
     ]
    }
   ],
   "source": [
    "Z_bosons = events_w_Z[events_w_Z['pdg'] == 23]\n",
    "pt_Z_bosons = hist.Hist(hist.axis.Regular(30, 0, 30, name='pt Z0'))\n",
    "\n",
    "for event in Z_bosons:\n",
    "    #px, py, pz = event['px'][0], event['py'][0], event['pz'][0]\n",
    "    for px, py, pz in zip(event['px'], event['py'], event['pz']):\n",
    "        print(px**2 + py**2 + pz**2)\n",
    "    print('----------------')\n",
    "    \n",
    "    print(px, py, pz)"
   ]
  },
  {
   "cell_type": "code",
   "execution_count": 42,
   "metadata": {},
   "outputs": [
    {
     "name": "stdout",
     "output_type": "stream",
     "text": [
      "7 0\n",
      "0 0\n",
      "6 0\n",
      "0 0\n"
     ]
    }
   ],
   "source": [
    "RAW_DATA_DIR = '/Users/ravikoka/repos/z_plus_hf/feasibility/data/multi/'\n",
    "p1, z1 = process_events(RAW_DATA_DIR, 0)\n",
    "p2, z2 = process_events(RAW_DATA_DIR, 1)\n",
    "p3, z3 = process_events(RAW_DATA_DIR, 2)\n",
    "p4, z4 = process_events(RAW_DATA_DIR, 3)"
   ]
  }
 ],
 "metadata": {
  "kernelspec": {
   "display_name": "zphf",
   "language": "python",
   "name": "python3"
  },
  "language_info": {
   "codemirror_mode": {
    "name": "ipython",
    "version": 3
   },
   "file_extension": ".py",
   "mimetype": "text/x-python",
   "name": "python",
   "nbconvert_exporter": "python",
   "pygments_lexer": "ipython3",
   "version": "3.12.7"
  }
 },
 "nbformat": 4,
 "nbformat_minor": 2
}
